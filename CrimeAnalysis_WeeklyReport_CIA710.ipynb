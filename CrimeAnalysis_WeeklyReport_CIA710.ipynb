{
 "cells": [
  {
   "cell_type": "markdown",
   "id": "611b66db",
   "metadata": {},
   "source": [
    "## Import Libraries and Plugins"
   ]
  },
  {
   "cell_type": "code",
   "execution_count": 4,
   "id": "373fb07f",
   "metadata": {},
   "outputs": [],
   "source": [
    "import folium\n",
    "from folium import plugins\n",
    "from folium import Map, CircleMarker, Vega, Popup\n",
    "from folium.plugins import MarkerCluster\n",
    "from folium import IFrame\n",
    "from folium.plugins import FloatImage\n",
    "from flask import Flask\n",
    "from vega_datasets import data\n",
    "import os\n",
    "import math\n",
    "import branca\n",
    "import ipywidgets\n",
    "import ipywidgets as widgets\n",
    "from ipywidgets import interact, interact_manual\n",
    "import numpy as np\n",
    "import numpy.ma as ma\n",
    "import pandas as pd\n",
    "import base64\n",
    "import json\n",
    "import requests\n",
    "import matplotlib.pyplot as plt\n",
    "import vincent\n",
    "import vega\n",
    "import altair\n",
    "import altair as alt\n",
    "import plotly.express as px\n",
    "import plotly.io as pio\n"
   ]
  },
  {
   "cell_type": "markdown",
   "id": "05ded2c4",
   "metadata": {},
   "source": [
    "## Import Excel File  with Data"
   ]
  },
  {
   "cell_type": "code",
   "execution_count": 8,
   "id": "f0afe577",
   "metadata": {},
   "outputs": [],
   "source": [
    "    df = pd.read_excel(r'C:\\Users\\16476\\Desktop\\20221121_JNDivision42_IZ.xlsx')"
   ]
  },
  {
   "cell_type": "markdown",
   "id": "9e798b04",
   "metadata": {},
   "source": [
    "## Strip the data frame as a subset of only the first 71 columns"
   ]
  },
  {
   "cell_type": "code",
   "execution_count": 14,
   "id": "fc845b3e",
   "metadata": {
    "scrolled": false
   },
   "outputs": [],
   "source": [
    "df.columns = df.columns.str.strip()\n",
    "subset_of_df = df.sample(n = 71)"
   ]
  },
  {
   "cell_type": "markdown",
   "id": "f1739c21",
   "metadata": {},
   "source": [
    "## Create a Folium map with specified zoom/control scale"
   ]
  },
  {
   "cell_type": "code",
   "execution_count": 15,
   "id": "e6573cfc",
   "metadata": {},
   "outputs": [],
   "source": [
    "mapa = folium.Map(location=[subset_of_df['Latitude'].mean(), subset_of_df['Longitude'].mean()],\n",
    "                     zoom_start = 10, control_scale = True) "
   ]
  },
  {
   "cell_type": "markdown",
   "id": "41145fa0",
   "metadata": {},
   "source": [
    "# Create a For loop to iterate through the subset dataframe with coordinates to plot as markers"
   ]
  },
  {
   "cell_type": "code",
   "execution_count": 20,
   "id": "ea64e574",
   "metadata": {
    "scrolled": false
   },
   "outputs": [],
   "source": [
    "for row in subset_of_df.itertuples():\n",
    "    \n",
    "    mapa.add_child(folium.Marker(location = [row.Latitude, row.Longitude]))"
   ]
  },
  {
   "cell_type": "code",
   "execution_count": 21,
   "id": "79a62ab8",
   "metadata": {},
   "outputs": [],
   "source": [
    "mapa = folium.Map(location = [subset_of_df['Latitude'].mean(), subset_of_df['Longitude'].mean()],\n",
    "                     zoom_start = 8.25, control_scale = True)"
   ]
  },
  {
   "cell_type": "code",
   "execution_count": 22,
   "id": "f49f8a98",
   "metadata": {},
   "outputs": [],
   "source": [
    "mc = MarkerCluster()"
   ]
  },
  {
   "cell_type": "code",
   "execution_count": 23,
   "id": "2e60499f",
   "metadata": {},
   "outputs": [],
   "source": [
    "for row in subset_of_df.itertuples():\n",
    "    mc.add_child(folium.Marker(location = [row.Latitude, row.Longitude]))"
   ]
  },
  {
   "cell_type": "code",
   "execution_count": 24,
   "id": "34f561e8",
   "metadata": {
    "scrolled": true
   },
   "outputs": [
    {
     "data": {
      "text/html": [
       "<div style=\"width:100%;\"><div style=\"position:relative;width:100%;height:0;padding-bottom:60%;\"><span style=\"color:#565656\">Make this Notebook Trusted to load map: File -> Trust Notebook</span><iframe srcdoc=\"&lt;!DOCTYPE html&gt;\n",
       "&lt;head&gt;    \n",
       "    &lt;meta http-equiv=&quot;content-type&quot; content=&quot;text/html; charset=UTF-8&quot; /&gt;\n",
       "    \n",
       "        &lt;script&gt;\n",
       "            L_NO_TOUCH = false;\n",
       "            L_DISABLE_3D = false;\n",
       "        &lt;/script&gt;\n",
       "    \n",
       "    &lt;style&gt;html, body {width: 100%;height: 100%;margin: 0;padding: 0;}&lt;/style&gt;\n",
       "    &lt;style&gt;#map {position:absolute;top:0;bottom:0;right:0;left:0;}&lt;/style&gt;\n",
       "    &lt;script src=&quot;https://cdn.jsdelivr.net/npm/leaflet@1.6.0/dist/leaflet.js&quot;&gt;&lt;/script&gt;\n",
       "    &lt;script src=&quot;https://code.jquery.com/jquery-1.12.4.min.js&quot;&gt;&lt;/script&gt;\n",
       "    &lt;script src=&quot;https://maxcdn.bootstrapcdn.com/bootstrap/3.2.0/js/bootstrap.min.js&quot;&gt;&lt;/script&gt;\n",
       "    &lt;script src=&quot;https://cdnjs.cloudflare.com/ajax/libs/Leaflet.awesome-markers/2.0.2/leaflet.awesome-markers.js&quot;&gt;&lt;/script&gt;\n",
       "    &lt;link rel=&quot;stylesheet&quot; href=&quot;https://cdn.jsdelivr.net/npm/leaflet@1.6.0/dist/leaflet.css&quot;/&gt;\n",
       "    &lt;link rel=&quot;stylesheet&quot; href=&quot;https://maxcdn.bootstrapcdn.com/bootstrap/3.2.0/css/bootstrap.min.css&quot;/&gt;\n",
       "    &lt;link rel=&quot;stylesheet&quot; href=&quot;https://maxcdn.bootstrapcdn.com/bootstrap/3.2.0/css/bootstrap-theme.min.css&quot;/&gt;\n",
       "    &lt;link rel=&quot;stylesheet&quot; href=&quot;https://maxcdn.bootstrapcdn.com/font-awesome/4.6.3/css/font-awesome.min.css&quot;/&gt;\n",
       "    &lt;link rel=&quot;stylesheet&quot; href=&quot;https://cdnjs.cloudflare.com/ajax/libs/Leaflet.awesome-markers/2.0.2/leaflet.awesome-markers.css&quot;/&gt;\n",
       "    &lt;link rel=&quot;stylesheet&quot; href=&quot;https://cdn.jsdelivr.net/gh/python-visualization/folium/folium/templates/leaflet.awesome.rotate.min.css&quot;/&gt;\n",
       "    \n",
       "            &lt;meta name=&quot;viewport&quot; content=&quot;width=device-width,\n",
       "                initial-scale=1.0, maximum-scale=1.0, user-scalable=no&quot; /&gt;\n",
       "            &lt;style&gt;\n",
       "                #map_828f2e256265eb6ffed1541eb1494930 {\n",
       "                    position: relative;\n",
       "                    width: 100.0%;\n",
       "                    height: 100.0%;\n",
       "                    left: 0.0%;\n",
       "                    top: 0.0%;\n",
       "                }\n",
       "            &lt;/style&gt;\n",
       "        \n",
       "    &lt;script src=&quot;https://cdnjs.cloudflare.com/ajax/libs/leaflet.markercluster/1.1.0/leaflet.markercluster.js&quot;&gt;&lt;/script&gt;\n",
       "    &lt;link rel=&quot;stylesheet&quot; href=&quot;https://cdnjs.cloudflare.com/ajax/libs/leaflet.markercluster/1.1.0/MarkerCluster.css&quot;/&gt;\n",
       "    &lt;link rel=&quot;stylesheet&quot; href=&quot;https://cdnjs.cloudflare.com/ajax/libs/leaflet.markercluster/1.1.0/MarkerCluster.Default.css&quot;/&gt;\n",
       "&lt;/head&gt;\n",
       "&lt;body&gt;    \n",
       "    \n",
       "            &lt;div class=&quot;folium-map&quot; id=&quot;map_828f2e256265eb6ffed1541eb1494930&quot; &gt;&lt;/div&gt;\n",
       "        \n",
       "&lt;/body&gt;\n",
       "&lt;script&gt;    \n",
       "    \n",
       "            var map_828f2e256265eb6ffed1541eb1494930 = L.map(\n",
       "                &quot;map_828f2e256265eb6ffed1541eb1494930&quot;,\n",
       "                {\n",
       "                    center: [43.188443959436626, -78.14645033746476],\n",
       "                    crs: L.CRS.EPSG3857,\n",
       "                    zoom: 8.25,\n",
       "                    zoomControl: true,\n",
       "                    preferCanvas: false,\n",
       "                }\n",
       "            );\n",
       "            L.control.scale().addTo(map_828f2e256265eb6ffed1541eb1494930);\n",
       "\n",
       "            \n",
       "\n",
       "        \n",
       "    \n",
       "            var tile_layer_b24370b4ab801fd613fb4f8157f28a0f = L.tileLayer(\n",
       "                &quot;https://{s}.tile.openstreetmap.org/{z}/{x}/{y}.png&quot;,\n",
       "                {&quot;attribution&quot;: &quot;Data by \\u0026copy; \\u003ca href=\\&quot;http://openstreetmap.org\\&quot;\\u003eOpenStreetMap\\u003c/a\\u003e, under \\u003ca href=\\&quot;http://www.openstreetmap.org/copyright\\&quot;\\u003eODbL\\u003c/a\\u003e.&quot;, &quot;detectRetina&quot;: false, &quot;maxNativeZoom&quot;: 18, &quot;maxZoom&quot;: 18, &quot;minZoom&quot;: 0, &quot;noWrap&quot;: false, &quot;opacity&quot;: 1, &quot;subdomains&quot;: &quot;abc&quot;, &quot;tms&quot;: false}\n",
       "            ).addTo(map_828f2e256265eb6ffed1541eb1494930);\n",
       "        \n",
       "    \n",
       "            var marker_cluster_40b355c1636a91a79367c2a14d982b75 = L.markerClusterGroup(\n",
       "                {}\n",
       "            );\n",
       "            map_828f2e256265eb6ffed1541eb1494930.addLayer(marker_cluster_40b355c1636a91a79367c2a14d982b75);\n",
       "        \n",
       "    \n",
       "            var marker_83985b6ec0c351da7d77c429d8345ffb = L.marker(\n",
       "                [43.80802563, -79.26646318],\n",
       "                {}\n",
       "            ).addTo(marker_cluster_40b355c1636a91a79367c2a14d982b75);\n",
       "        \n",
       "    \n",
       "            var marker_dcde35c8205dcf2aeeabb19109e12ca1 = L.marker(\n",
       "                [43.8064972, -79.20292936],\n",
       "                {}\n",
       "            ).addTo(marker_cluster_40b355c1636a91a79367c2a14d982b75);\n",
       "        \n",
       "    \n",
       "            var marker_87f389b69eee2a2dbb09d2e748c4f720 = L.marker(\n",
       "                [43.8277671, -79.28287689],\n",
       "                {}\n",
       "            ).addTo(marker_cluster_40b355c1636a91a79367c2a14d982b75);\n",
       "        \n",
       "    \n",
       "            var marker_d19d154b1193d98d9503bc61cb45a571 = L.marker(\n",
       "                [43.77947414, -79.282022],\n",
       "                {}\n",
       "            ).addTo(marker_cluster_40b355c1636a91a79367c2a14d982b75);\n",
       "        \n",
       "    \n",
       "            var marker_768323c315b93a94837713f04329de0b = L.marker(\n",
       "                [43.79745349, -79.23959007],\n",
       "                {}\n",
       "            ).addTo(marker_cluster_40b355c1636a91a79367c2a14d982b75);\n",
       "        \n",
       "    \n",
       "            var marker_0484fd9a31bb2ba1ea92b583b5514697 = L.marker(\n",
       "                [43.8034483, -79.22411468],\n",
       "                {}\n",
       "            ).addTo(marker_cluster_40b355c1636a91a79367c2a14d982b75);\n",
       "        \n",
       "    \n",
       "            var marker_db35d8ebf63248696c8551f2d85d6b2c = L.marker(\n",
       "                [43.83314501, -79.27267837],\n",
       "                {}\n",
       "            ).addTo(marker_cluster_40b355c1636a91a79367c2a14d982b75);\n",
       "        \n",
       "    \n",
       "            var marker_f2f7d41376582e1ed75058d92508f9be = L.marker(\n",
       "                [43.77774265, -79.32412896],\n",
       "                {}\n",
       "            ).addTo(marker_cluster_40b355c1636a91a79367c2a14d982b75);\n",
       "        \n",
       "    \n",
       "            var marker_09710dffec843a60f3eee571d59c444c = L.marker(\n",
       "                [43.79817569, -79.33308972],\n",
       "                {}\n",
       "            ).addTo(marker_cluster_40b355c1636a91a79367c2a14d982b75);\n",
       "        \n",
       "    \n",
       "            var marker_0009906fe111da7e06020e157dd5d602 = L.marker(\n",
       "                [43.79812068, -79.21762405],\n",
       "                {}\n",
       "            ).addTo(marker_cluster_40b355c1636a91a79367c2a14d982b75);\n",
       "        \n",
       "    \n",
       "            var marker_6e8889ab61353478d14066ecf6f3551c = L.marker(\n",
       "                [43.79599554, -79.32858033],\n",
       "                {}\n",
       "            ).addTo(marker_cluster_40b355c1636a91a79367c2a14d982b75);\n",
       "        \n",
       "    \n",
       "            var marker_00cc120c712e5d969632bc03f9adc124 = L.marker(\n",
       "                [43.81309467, -79.31315038],\n",
       "                {}\n",
       "            ).addTo(marker_cluster_40b355c1636a91a79367c2a14d982b75);\n",
       "        \n",
       "    \n",
       "            var marker_594bbfeaab3954beb4bef4dc487c96f9 = L.marker(\n",
       "                [43.81250714, -79.26097479],\n",
       "                {}\n",
       "            ).addTo(marker_cluster_40b355c1636a91a79367c2a14d982b75);\n",
       "        \n",
       "    \n",
       "            var marker_c34c393350f7653a5754b3a65d7448bf = L.marker(\n",
       "                [43.80554404, -79.26852554],\n",
       "                {}\n",
       "            ).addTo(marker_cluster_40b355c1636a91a79367c2a14d982b75);\n",
       "        \n",
       "    \n",
       "            var marker_14e7c1b54dd6ec1fe346a791b288beb3 = L.marker(\n",
       "                [43.8052773, -79.29879406],\n",
       "                {}\n",
       "            ).addTo(marker_cluster_40b355c1636a91a79367c2a14d982b75);\n",
       "        \n",
       "    \n",
       "            var marker_d912eb22efa89879c94f647142a7b5ba = L.marker(\n",
       "                [43.80655871, -79.22590049],\n",
       "                {}\n",
       "            ).addTo(marker_cluster_40b355c1636a91a79367c2a14d982b75);\n",
       "        \n",
       "    \n",
       "            var marker_669f0dad97f6e764e56d6e3d5b975323 = L.marker(\n",
       "                [43.80769696, -79.17385249],\n",
       "                {}\n",
       "            ).addTo(marker_cluster_40b355c1636a91a79367c2a14d982b75);\n",
       "        \n",
       "    \n",
       "            var marker_1a958d5d91fd8a03931d3e7ce75dcbf9 = L.marker(\n",
       "                [43.83314501, -79.27267837],\n",
       "                {}\n",
       "            ).addTo(marker_cluster_40b355c1636a91a79367c2a14d982b75);\n",
       "        \n",
       "    \n",
       "            var marker_9676c42863fb3d7481929f6d327f133c = L.marker(\n",
       "                [43.80126782, -79.29655576],\n",
       "                {}\n",
       "            ).addTo(marker_cluster_40b355c1636a91a79367c2a14d982b75);\n",
       "        \n",
       "    \n",
       "            var marker_f2ed6349d0f07eb86da8535283a1a8a8 = L.marker(\n",
       "                [43.80917229, -79.22161652],\n",
       "                {}\n",
       "            ).addTo(marker_cluster_40b355c1636a91a79367c2a14d982b75);\n",
       "        \n",
       "    \n",
       "            var marker_a25576728e7a356f4b13b9d1b7322dd7 = L.marker(\n",
       "                [43.82190391, -79.22212911],\n",
       "                {}\n",
       "            ).addTo(marker_cluster_40b355c1636a91a79367c2a14d982b75);\n",
       "        \n",
       "    \n",
       "            var marker_2702289a98cd7d17b08e9bdf29c65b5c = L.marker(\n",
       "                [43.79654156, -79.2863368],\n",
       "                {}\n",
       "            ).addTo(marker_cluster_40b355c1636a91a79367c2a14d982b75);\n",
       "        \n",
       "    \n",
       "            var marker_35d39b27291e7f18c6c0465306112257 = L.marker(\n",
       "                [43.82673042, -79.25183193],\n",
       "                {}\n",
       "            ).addTo(marker_cluster_40b355c1636a91a79367c2a14d982b75);\n",
       "        \n",
       "    \n",
       "            var marker_caa1da937b4c23b1ac356b8e7e1b3f4f = L.marker(\n",
       "                [43.81969637, -79.22102932],\n",
       "                {}\n",
       "            ).addTo(marker_cluster_40b355c1636a91a79367c2a14d982b75);\n",
       "        \n",
       "    \n",
       "            var marker_6673521532722852d892160dc14c13f8 = L.marker(\n",
       "                [43.77787789, -79.28268],\n",
       "                {}\n",
       "            ).addTo(marker_cluster_40b355c1636a91a79367c2a14d982b75);\n",
       "        \n",
       "    \n",
       "            var marker_91eabb8a8673de97f39e8300bc868d9c = L.marker(\n",
       "                [43.79206024, -79.25977154],\n",
       "                {}\n",
       "            ).addTo(marker_cluster_40b355c1636a91a79367c2a14d982b75);\n",
       "        \n",
       "    \n",
       "            var marker_c3faead1560517b2cd5c5c7c7fa2abfb = L.marker(\n",
       "                [43.8240048, -79.21444316],\n",
       "                {}\n",
       "            ).addTo(marker_cluster_40b355c1636a91a79367c2a14d982b75);\n",
       "        \n",
       "    \n",
       "            var marker_fcdf50d76b18b8d14dd3373101aed6b3 = L.marker(\n",
       "                [43.82934133, -79.22802495],\n",
       "                {}\n",
       "            ).addTo(marker_cluster_40b355c1636a91a79367c2a14d982b75);\n",
       "        \n",
       "    \n",
       "            var marker_25c68bf6d66db02ed73d027ec5a5ab6a = L.marker(\n",
       "                [43.79745349, -79.23959007],\n",
       "                {}\n",
       "            ).addTo(marker_cluster_40b355c1636a91a79367c2a14d982b75);\n",
       "        \n",
       "    \n",
       "            var marker_96bab82c1df6042a721f802da1e5c43c = L.marker(\n",
       "                [43.80639973, -79.33731502],\n",
       "                {}\n",
       "            ).addTo(marker_cluster_40b355c1636a91a79367c2a14d982b75);\n",
       "        \n",
       "    \n",
       "            var marker_b2aa82b4c7ce3010a134c13ecf7a59d6 = L.marker(\n",
       "                [43.82366983, -79.27206482],\n",
       "                {}\n",
       "            ).addTo(marker_cluster_40b355c1636a91a79367c2a14d982b75);\n",
       "        \n",
       "    \n",
       "            var marker_44f6e1243d5421feca227855da4e1d1a = L.marker(\n",
       "                [43.80557764, -79.22088214],\n",
       "                {}\n",
       "            ).addTo(marker_cluster_40b355c1636a91a79367c2a14d982b75);\n",
       "        \n",
       "    \n",
       "            var marker_13f283e29b82f2019e4de2731d7c1913 = L.marker(\n",
       "                [43.78359438, -79.2993063],\n",
       "                {}\n",
       "            ).addTo(marker_cluster_40b355c1636a91a79367c2a14d982b75);\n",
       "        \n",
       "    \n",
       "            var marker_6f89784da292398a46f106e709a02705 = L.marker(\n",
       "                [43.79817569, -79.33308972],\n",
       "                {}\n",
       "            ).addTo(marker_cluster_40b355c1636a91a79367c2a14d982b75);\n",
       "        \n",
       "    \n",
       "            var marker_69aeeb1ad3adf8a01cf968da1a7783ee = L.marker(\n",
       "                [43.8161436, -79.32249872],\n",
       "                {}\n",
       "            ).addTo(marker_cluster_40b355c1636a91a79367c2a14d982b75);\n",
       "        \n",
       "    \n",
       "            var marker_43af16546d5f0ee3f9c11d8b43343978 = L.marker(\n",
       "                [43.81997185, -79.29806178],\n",
       "                {}\n",
       "            ).addTo(marker_cluster_40b355c1636a91a79367c2a14d982b75);\n",
       "        \n",
       "    \n",
       "            var marker_85e0130b81474c2377c746a7d0ef4230 = L.marker(\n",
       "                [43.83314501, -79.27267837],\n",
       "                {}\n",
       "            ).addTo(marker_cluster_40b355c1636a91a79367c2a14d982b75);\n",
       "        \n",
       "    \n",
       "            var marker_6f10a620660829708856e2408a90c40c = L.marker(\n",
       "                [43.81198024, -79.22671389],\n",
       "                {}\n",
       "            ).addTo(marker_cluster_40b355c1636a91a79367c2a14d982b75);\n",
       "        \n",
       "    \n",
       "            var marker_092cab9445b075af659b3d8a51610e0d = L.marker(\n",
       "                [43.81052487, -79.26723759],\n",
       "                {}\n",
       "            ).addTo(marker_cluster_40b355c1636a91a79367c2a14d982b75);\n",
       "        \n",
       "    \n",
       "            var marker_33f0efa01a00e54942a2b6d44de65c56 = L.marker(\n",
       "                [43.80382626, -79.26048563],\n",
       "                {}\n",
       "            ).addTo(marker_cluster_40b355c1636a91a79367c2a14d982b75);\n",
       "        \n",
       "    \n",
       "            var marker_887308a6f0216b7963ac7b68e2a94b1c = L.marker(\n",
       "                [43.81204642, -79.31304467],\n",
       "                {}\n",
       "            ).addTo(marker_cluster_40b355c1636a91a79367c2a14d982b75);\n",
       "        \n",
       "    \n",
       "            var marker_91e9807862df0b8b6a86bc3e08bc02fe = L.marker(\n",
       "                [43.81309467, -79.31315038],\n",
       "                {}\n",
       "            ).addTo(marker_cluster_40b355c1636a91a79367c2a14d982b75);\n",
       "        \n",
       "    \n",
       "            var marker_76cdbb921fc8ed3a875c599eb4dbb364 = L.marker(\n",
       "                [43.83055551, -79.23438461],\n",
       "                {}\n",
       "            ).addTo(marker_cluster_40b355c1636a91a79367c2a14d982b75);\n",
       "        \n",
       "    \n",
       "            var marker_998cc540d2d405ad27ac47ab60b0a5cc = L.marker(\n",
       "                [43.81132969, -79.23176131],\n",
       "                {}\n",
       "            ).addTo(marker_cluster_40b355c1636a91a79367c2a14d982b75);\n",
       "        \n",
       "    \n",
       "            var marker_f6099f44b46c4a34aabba108466bf84c = L.marker(\n",
       "                [43.80497476, -79.18656682],\n",
       "                {}\n",
       "            ).addTo(marker_cluster_40b355c1636a91a79367c2a14d982b75);\n",
       "        \n",
       "    \n",
       "            var marker_7e79d59d2057d689fe1e0f682531ca5c = L.marker(\n",
       "                [43.81812104, -79.31330976],\n",
       "                {}\n",
       "            ).addTo(marker_cluster_40b355c1636a91a79367c2a14d982b75);\n",
       "        \n",
       "    \n",
       "            var marker_d76ed4debc87efa179365654b1fd8c43 = L.marker(\n",
       "                [43.79977004, -79.14778111],\n",
       "                {}\n",
       "            ).addTo(marker_cluster_40b355c1636a91a79367c2a14d982b75);\n",
       "        \n",
       "    \n",
       "            var marker_4c7b8d7c1887442570cd5d1c298122bd = L.marker(\n",
       "                [43.8034483, -79.22411468],\n",
       "                {}\n",
       "            ).addTo(marker_cluster_40b355c1636a91a79367c2a14d982b75);\n",
       "        \n",
       "    \n",
       "            var marker_ed302b9eade8276da14674d4c9c410bc = L.marker(\n",
       "                [43.80917229, -79.22161652],\n",
       "                {}\n",
       "            ).addTo(marker_cluster_40b355c1636a91a79367c2a14d982b75);\n",
       "        \n",
       "    \n",
       "            var marker_4f86dca3d50a9274b42b4f41d07298d2 = L.marker(\n",
       "                [43.77774265, -79.32412896],\n",
       "                {}\n",
       "            ).addTo(marker_cluster_40b355c1636a91a79367c2a14d982b75);\n",
       "        \n",
       "    \n",
       "            var marker_7d6bfc5fc987f52c265a2c498f79cc5e = L.marker(\n",
       "                [43.81277197, -79.20753714],\n",
       "                {}\n",
       "            ).addTo(marker_cluster_40b355c1636a91a79367c2a14d982b75);\n",
       "        \n",
       "    \n",
       "            var marker_3d62bd49f3ab99523ee6ea7efa0b37b3 = L.marker(\n",
       "                [43.80040851, -79.15618224],\n",
       "                {}\n",
       "            ).addTo(marker_cluster_40b355c1636a91a79367c2a14d982b75);\n",
       "        \n",
       "    \n",
       "            var marker_66e2d2c89f2c42cb3b6debd0d53117a0 = L.marker(\n",
       "                [43.77947414, -79.282022],\n",
       "                {}\n",
       "            ).addTo(marker_cluster_40b355c1636a91a79367c2a14d982b75);\n",
       "        \n",
       "    \n",
       "            var marker_e91d90423ef8b90936e9aa1f41e60be9 = L.marker(\n",
       "                [43.77787789, -79.28268],\n",
       "                {}\n",
       "            ).addTo(marker_cluster_40b355c1636a91a79367c2a14d982b75);\n",
       "        \n",
       "    \n",
       "            var marker_61f1960b812296371afc00e70a5db12f = L.marker(\n",
       "                [43.79586858, -79.30780077],\n",
       "                {}\n",
       "            ).addTo(marker_cluster_40b355c1636a91a79367c2a14d982b75);\n",
       "        \n",
       "    \n",
       "            var marker_536c17391ba2f50db9152420b117926c = L.marker(\n",
       "                [43.80871964, -79.23133],\n",
       "                {}\n",
       "            ).addTo(marker_cluster_40b355c1636a91a79367c2a14d982b75);\n",
       "        \n",
       "    \n",
       "            var marker_cb9e52544a0be37ebf6811b98da02251 = L.marker(\n",
       "                [43.78105385, -79.29806468],\n",
       "                {}\n",
       "            ).addTo(marker_cluster_40b355c1636a91a79367c2a14d982b75);\n",
       "        \n",
       "    \n",
       "            var marker_01c2659ddf5e2447b01f7f11b5effeed = L.marker(\n",
       "                [43.78359438, -79.2993063],\n",
       "                {}\n",
       "            ).addTo(marker_cluster_40b355c1636a91a79367c2a14d982b75);\n",
       "        \n",
       "    \n",
       "            var marker_b2ba7beea006c8c6a65777d4b828707a = L.marker(\n",
       "                [43.81811244, -79.32104828],\n",
       "                {}\n",
       "            ).addTo(marker_cluster_40b355c1636a91a79367c2a14d982b75);\n",
       "        \n",
       "    \n",
       "            var marker_ea153ff207ee717c50d21b7d9603b690 = L.marker(\n",
       "                [43.8161436, -79.32249872],\n",
       "                {}\n",
       "            ).addTo(marker_cluster_40b355c1636a91a79367c2a14d982b75);\n",
       "        \n",
       "    \n",
       "            var marker_b3dbc5631ee4575dd95d8cca76dfb272 = L.marker(\n",
       "                [43.82470927, -79.22949368],\n",
       "                {}\n",
       "            ).addTo(marker_cluster_40b355c1636a91a79367c2a14d982b75);\n",
       "        \n",
       "    \n",
       "            var marker_10c22f765a2cdce56cf295c4f72aff53 = L.marker(\n",
       "                [43.78886777, -79.24006927],\n",
       "                {}\n",
       "            ).addTo(marker_cluster_40b355c1636a91a79367c2a14d982b75);\n",
       "        \n",
       "    \n",
       "            var marker_a979b0cfad65e8afe5b0001f004f127a = L.marker(\n",
       "                [43.81277197, -79.20753714],\n",
       "                {}\n",
       "            ).addTo(marker_cluster_40b355c1636a91a79367c2a14d982b75);\n",
       "        \n",
       "    \n",
       "            var marker_43f6bcb9e7cf8e0774b7ca260b4c5df1 = L.marker(\n",
       "                [43.7821167, -79.29342081],\n",
       "                {}\n",
       "            ).addTo(marker_cluster_40b355c1636a91a79367c2a14d982b75);\n",
       "        \n",
       "    \n",
       "            var marker_0d8731d03c32046baa53d822e1a9ad9d = L.marker(\n",
       "                [43.81420853, -79.20975826],\n",
       "                {}\n",
       "            ).addTo(marker_cluster_40b355c1636a91a79367c2a14d982b75);\n",
       "        \n",
       "    \n",
       "            var marker_0d3a9091d1e6250e565dedc8d8e5f6fa = L.marker(\n",
       "                [43.77774265, -79.32412896],\n",
       "                {}\n",
       "            ).addTo(marker_cluster_40b355c1636a91a79367c2a14d982b75);\n",
       "        \n",
       "    \n",
       "            var marker_8a998e7422901513b5023a394d977bfe = L.marker(\n",
       "                [43.80639973, -79.33731502],\n",
       "                {}\n",
       "            ).addTo(marker_cluster_40b355c1636a91a79367c2a14d982b75);\n",
       "        \n",
       "    \n",
       "            var marker_010dd857d320f3a3ba6263225cbaed59 = L.marker(\n",
       "                [43.82470927, -79.22949368],\n",
       "                {}\n",
       "            ).addTo(marker_cluster_40b355c1636a91a79367c2a14d982b75);\n",
       "        \n",
       "    \n",
       "            var marker_d96c0819dc0c35c5d6caf6a141d8b885 = L.marker(\n",
       "                [43.78410474, -79.24158853],\n",
       "                {}\n",
       "            ).addTo(marker_cluster_40b355c1636a91a79367c2a14d982b75);\n",
       "        \n",
       "    \n",
       "            var marker_d92d39568f0cbe14c592fb434cebb62d = L.marker(\n",
       "                [0.0, 0.0],\n",
       "                {}\n",
       "            ).addTo(marker_cluster_40b355c1636a91a79367c2a14d982b75);\n",
       "        \n",
       "    \n",
       "            var marker_cb1568160b22dad7e1c65b9b279d6016 = L.marker(\n",
       "                [43.79088164, -79.24452279],\n",
       "                {}\n",
       "            ).addTo(marker_cluster_40b355c1636a91a79367c2a14d982b75);\n",
       "        \n",
       "&lt;/script&gt;\" style=\"position:absolute;width:100%;height:100%;left:0;top:0;border:none !important;\" allowfullscreen webkitallowfullscreen mozallowfullscreen></iframe></div></div>"
      ],
      "text/plain": [
       "<folium.folium.Map at 0x1d4974d0e20>"
      ]
     },
     "execution_count": 24,
     "metadata": {},
     "output_type": "execute_result"
    }
   ],
   "source": [
    "mapa.add_child(mc)"
   ]
  },
  {
   "cell_type": "markdown",
   "id": "2e05eefd",
   "metadata": {},
   "source": [
    "# Add extra layers to the map with drawing tools and a specified AntPath"
   ]
  },
  {
   "cell_type": "code",
   "execution_count": 25,
   "id": "a5323d0c",
   "metadata": {},
   "outputs": [
    {
     "data": {
      "text/plain": [
       "<folium.plugins.fullscreen.Fullscreen at 0x1d4cb699640>"
      ]
     },
     "execution_count": 25,
     "metadata": {},
     "output_type": "execute_result"
    }
   ],
   "source": [
    "route_start_end = [[43.795101646361296, -79.34323678683093], [43.81986424497797, -79.21818208801368]]\n",
    "plugins.AntPath(route_start_end).add_to(mapa)\n",
    "\n",
    "folium.raster_layers.TileLayer('Open Street Map').add_to(mapa)\n",
    "folium.raster_layers.TileLayer('Stamen Terrain').add_to(mapa)\n",
    "folium.raster_layers.TileLayer('Stamen Toner').add_to(mapa)\n",
    "folium.raster_layers.TileLayer('Stamen Watercolor').add_to(mapa)\n",
    "folium.raster_layers.TileLayer('CartoDB Positron').add_to(mapa)\n",
    "folium.raster_layers.TileLayer('CartoDB Dark_Matter').add_to(mapa)\n",
    "\n",
    "minimap = plugins.MiniMap(toggle_display = True)\n",
    "mapa.add_child(minimap)\n",
    "draw = plugins.Draw(export = True)\n",
    "draw.add_to(mapa)\n",
    "folium.LayerControl().add_to(mapa)\n",
    "plugins.Fullscreen(position = 'topright').add_to(mapa)"
   ]
  },
  {
   "cell_type": "code",
   "execution_count": 26,
   "id": "ed244c76",
   "metadata": {},
   "outputs": [
    {
     "data": {
      "text/html": [
       "<div style=\"width:100%;\"><div style=\"position:relative;width:100%;height:0;padding-bottom:60%;\"><span style=\"color:#565656\">Make this Notebook Trusted to load map: File -> Trust Notebook</span><iframe srcdoc=\"&lt;!DOCTYPE html&gt;\n",
       "&lt;head&gt;    \n",
       "    &lt;meta http-equiv=&quot;content-type&quot; content=&quot;text/html; charset=UTF-8&quot; /&gt;\n",
       "    \n",
       "        &lt;script&gt;\n",
       "            L_NO_TOUCH = false;\n",
       "            L_DISABLE_3D = false;\n",
       "        &lt;/script&gt;\n",
       "    \n",
       "    &lt;style&gt;html, body {width: 100%;height: 100%;margin: 0;padding: 0;}&lt;/style&gt;\n",
       "    &lt;style&gt;#map {position:absolute;top:0;bottom:0;right:0;left:0;}&lt;/style&gt;\n",
       "    &lt;script src=&quot;https://cdn.jsdelivr.net/npm/leaflet@1.6.0/dist/leaflet.js&quot;&gt;&lt;/script&gt;\n",
       "    &lt;script src=&quot;https://code.jquery.com/jquery-1.12.4.min.js&quot;&gt;&lt;/script&gt;\n",
       "    &lt;script src=&quot;https://maxcdn.bootstrapcdn.com/bootstrap/3.2.0/js/bootstrap.min.js&quot;&gt;&lt;/script&gt;\n",
       "    &lt;script src=&quot;https://cdnjs.cloudflare.com/ajax/libs/Leaflet.awesome-markers/2.0.2/leaflet.awesome-markers.js&quot;&gt;&lt;/script&gt;\n",
       "    &lt;link rel=&quot;stylesheet&quot; href=&quot;https://cdn.jsdelivr.net/npm/leaflet@1.6.0/dist/leaflet.css&quot;/&gt;\n",
       "    &lt;link rel=&quot;stylesheet&quot; href=&quot;https://maxcdn.bootstrapcdn.com/bootstrap/3.2.0/css/bootstrap.min.css&quot;/&gt;\n",
       "    &lt;link rel=&quot;stylesheet&quot; href=&quot;https://maxcdn.bootstrapcdn.com/bootstrap/3.2.0/css/bootstrap-theme.min.css&quot;/&gt;\n",
       "    &lt;link rel=&quot;stylesheet&quot; href=&quot;https://maxcdn.bootstrapcdn.com/font-awesome/4.6.3/css/font-awesome.min.css&quot;/&gt;\n",
       "    &lt;link rel=&quot;stylesheet&quot; href=&quot;https://cdnjs.cloudflare.com/ajax/libs/Leaflet.awesome-markers/2.0.2/leaflet.awesome-markers.css&quot;/&gt;\n",
       "    &lt;link rel=&quot;stylesheet&quot; href=&quot;https://cdn.jsdelivr.net/gh/python-visualization/folium/folium/templates/leaflet.awesome.rotate.min.css&quot;/&gt;\n",
       "    \n",
       "            &lt;meta name=&quot;viewport&quot; content=&quot;width=device-width,\n",
       "                initial-scale=1.0, maximum-scale=1.0, user-scalable=no&quot; /&gt;\n",
       "            &lt;style&gt;\n",
       "                #map_828f2e256265eb6ffed1541eb1494930 {\n",
       "                    position: relative;\n",
       "                    width: 100.0%;\n",
       "                    height: 100.0%;\n",
       "                    left: 0.0%;\n",
       "                    top: 0.0%;\n",
       "                }\n",
       "            &lt;/style&gt;\n",
       "        \n",
       "    &lt;script src=&quot;https://cdnjs.cloudflare.com/ajax/libs/leaflet.markercluster/1.1.0/leaflet.markercluster.js&quot;&gt;&lt;/script&gt;\n",
       "    &lt;link rel=&quot;stylesheet&quot; href=&quot;https://cdnjs.cloudflare.com/ajax/libs/leaflet.markercluster/1.1.0/MarkerCluster.css&quot;/&gt;\n",
       "    &lt;link rel=&quot;stylesheet&quot; href=&quot;https://cdnjs.cloudflare.com/ajax/libs/leaflet.markercluster/1.1.0/MarkerCluster.Default.css&quot;/&gt;\n",
       "    &lt;script src=&quot;https://cdn.jsdelivr.net/npm/leaflet-ant-path@1.1.2/dist/leaflet-ant-path.min.js&quot;&gt;&lt;/script&gt;\n",
       "    &lt;script src=&quot;https://cdnjs.cloudflare.com/ajax/libs/leaflet-minimap/3.6.1/Control.MiniMap.js&quot;&gt;&lt;/script&gt;\n",
       "    &lt;link rel=&quot;stylesheet&quot; href=&quot;https://cdnjs.cloudflare.com/ajax/libs/leaflet-minimap/3.6.1/Control.MiniMap.css&quot;/&gt;\n",
       "    &lt;script src=&quot;https://cdnjs.cloudflare.com/ajax/libs/leaflet.draw/1.0.2/leaflet.draw.js&quot;&gt;&lt;/script&gt;\n",
       "    &lt;link rel=&quot;stylesheet&quot; href=&quot;https://cdnjs.cloudflare.com/ajax/libs/leaflet.draw/1.0.2/leaflet.draw.css&quot;/&gt;\n",
       "    \n",
       "            &lt;style&gt;\n",
       "                #export {\n",
       "                    position: absolute;\n",
       "                    top: 5px;\n",
       "                    right: 10px;\n",
       "                    z-index: 999;\n",
       "                    background: white;\n",
       "                    color: black;\n",
       "                    padding: 6px;\n",
       "                    border-radius: 4px;\n",
       "                    font-family: &#x27;Helvetica Neue&#x27;;\n",
       "                    cursor: pointer;\n",
       "                    font-size: 12px;\n",
       "                    text-decoration: none;\n",
       "                    top: 90px;\n",
       "                }\n",
       "            &lt;/style&gt;\n",
       "        \n",
       "    &lt;script src=&quot;https://cdnjs.cloudflare.com/ajax/libs/leaflet.fullscreen/1.4.2/Control.FullScreen.min.js&quot;&gt;&lt;/script&gt;\n",
       "    &lt;link rel=&quot;stylesheet&quot; href=&quot;https://cdnjs.cloudflare.com/ajax/libs/leaflet.fullscreen/1.4.2/Control.FullScreen.min.css&quot;/&gt;\n",
       "&lt;/head&gt;\n",
       "&lt;body&gt;    \n",
       "    \n",
       "            &lt;div class=&quot;folium-map&quot; id=&quot;map_828f2e256265eb6ffed1541eb1494930&quot; &gt;&lt;/div&gt;\n",
       "        \n",
       "    &lt;a href=&#x27;#&#x27; id=&#x27;export&#x27;&gt;Export&lt;/a&gt;\n",
       "&lt;/body&gt;\n",
       "&lt;script&gt;    \n",
       "    \n",
       "            var map_828f2e256265eb6ffed1541eb1494930 = L.map(\n",
       "                &quot;map_828f2e256265eb6ffed1541eb1494930&quot;,\n",
       "                {\n",
       "                    center: [43.188443959436626, -78.14645033746476],\n",
       "                    crs: L.CRS.EPSG3857,\n",
       "                    zoom: 8.25,\n",
       "                    zoomControl: true,\n",
       "                    preferCanvas: false,\n",
       "                }\n",
       "            );\n",
       "            L.control.scale().addTo(map_828f2e256265eb6ffed1541eb1494930);\n",
       "\n",
       "            \n",
       "\n",
       "        \n",
       "    \n",
       "            var tile_layer_b24370b4ab801fd613fb4f8157f28a0f = L.tileLayer(\n",
       "                &quot;https://{s}.tile.openstreetmap.org/{z}/{x}/{y}.png&quot;,\n",
       "                {&quot;attribution&quot;: &quot;Data by \\u0026copy; \\u003ca href=\\&quot;http://openstreetmap.org\\&quot;\\u003eOpenStreetMap\\u003c/a\\u003e, under \\u003ca href=\\&quot;http://www.openstreetmap.org/copyright\\&quot;\\u003eODbL\\u003c/a\\u003e.&quot;, &quot;detectRetina&quot;: false, &quot;maxNativeZoom&quot;: 18, &quot;maxZoom&quot;: 18, &quot;minZoom&quot;: 0, &quot;noWrap&quot;: false, &quot;opacity&quot;: 1, &quot;subdomains&quot;: &quot;abc&quot;, &quot;tms&quot;: false}\n",
       "            ).addTo(map_828f2e256265eb6ffed1541eb1494930);\n",
       "        \n",
       "    \n",
       "            var marker_cluster_40b355c1636a91a79367c2a14d982b75 = L.markerClusterGroup(\n",
       "                {}\n",
       "            );\n",
       "            map_828f2e256265eb6ffed1541eb1494930.addLayer(marker_cluster_40b355c1636a91a79367c2a14d982b75);\n",
       "        \n",
       "    \n",
       "            var marker_83985b6ec0c351da7d77c429d8345ffb = L.marker(\n",
       "                [43.80802563, -79.26646318],\n",
       "                {}\n",
       "            ).addTo(marker_cluster_40b355c1636a91a79367c2a14d982b75);\n",
       "        \n",
       "    \n",
       "            var marker_dcde35c8205dcf2aeeabb19109e12ca1 = L.marker(\n",
       "                [43.8064972, -79.20292936],\n",
       "                {}\n",
       "            ).addTo(marker_cluster_40b355c1636a91a79367c2a14d982b75);\n",
       "        \n",
       "    \n",
       "            var marker_87f389b69eee2a2dbb09d2e748c4f720 = L.marker(\n",
       "                [43.8277671, -79.28287689],\n",
       "                {}\n",
       "            ).addTo(marker_cluster_40b355c1636a91a79367c2a14d982b75);\n",
       "        \n",
       "    \n",
       "            var marker_d19d154b1193d98d9503bc61cb45a571 = L.marker(\n",
       "                [43.77947414, -79.282022],\n",
       "                {}\n",
       "            ).addTo(marker_cluster_40b355c1636a91a79367c2a14d982b75);\n",
       "        \n",
       "    \n",
       "            var marker_768323c315b93a94837713f04329de0b = L.marker(\n",
       "                [43.79745349, -79.23959007],\n",
       "                {}\n",
       "            ).addTo(marker_cluster_40b355c1636a91a79367c2a14d982b75);\n",
       "        \n",
       "    \n",
       "            var marker_0484fd9a31bb2ba1ea92b583b5514697 = L.marker(\n",
       "                [43.8034483, -79.22411468],\n",
       "                {}\n",
       "            ).addTo(marker_cluster_40b355c1636a91a79367c2a14d982b75);\n",
       "        \n",
       "    \n",
       "            var marker_db35d8ebf63248696c8551f2d85d6b2c = L.marker(\n",
       "                [43.83314501, -79.27267837],\n",
       "                {}\n",
       "            ).addTo(marker_cluster_40b355c1636a91a79367c2a14d982b75);\n",
       "        \n",
       "    \n",
       "            var marker_f2f7d41376582e1ed75058d92508f9be = L.marker(\n",
       "                [43.77774265, -79.32412896],\n",
       "                {}\n",
       "            ).addTo(marker_cluster_40b355c1636a91a79367c2a14d982b75);\n",
       "        \n",
       "    \n",
       "            var marker_09710dffec843a60f3eee571d59c444c = L.marker(\n",
       "                [43.79817569, -79.33308972],\n",
       "                {}\n",
       "            ).addTo(marker_cluster_40b355c1636a91a79367c2a14d982b75);\n",
       "        \n",
       "    \n",
       "            var marker_0009906fe111da7e06020e157dd5d602 = L.marker(\n",
       "                [43.79812068, -79.21762405],\n",
       "                {}\n",
       "            ).addTo(marker_cluster_40b355c1636a91a79367c2a14d982b75);\n",
       "        \n",
       "    \n",
       "            var marker_6e8889ab61353478d14066ecf6f3551c = L.marker(\n",
       "                [43.79599554, -79.32858033],\n",
       "                {}\n",
       "            ).addTo(marker_cluster_40b355c1636a91a79367c2a14d982b75);\n",
       "        \n",
       "    \n",
       "            var marker_00cc120c712e5d969632bc03f9adc124 = L.marker(\n",
       "                [43.81309467, -79.31315038],\n",
       "                {}\n",
       "            ).addTo(marker_cluster_40b355c1636a91a79367c2a14d982b75);\n",
       "        \n",
       "    \n",
       "            var marker_594bbfeaab3954beb4bef4dc487c96f9 = L.marker(\n",
       "                [43.81250714, -79.26097479],\n",
       "                {}\n",
       "            ).addTo(marker_cluster_40b355c1636a91a79367c2a14d982b75);\n",
       "        \n",
       "    \n",
       "            var marker_c34c393350f7653a5754b3a65d7448bf = L.marker(\n",
       "                [43.80554404, -79.26852554],\n",
       "                {}\n",
       "            ).addTo(marker_cluster_40b355c1636a91a79367c2a14d982b75);\n",
       "        \n",
       "    \n",
       "            var marker_14e7c1b54dd6ec1fe346a791b288beb3 = L.marker(\n",
       "                [43.8052773, -79.29879406],\n",
       "                {}\n",
       "            ).addTo(marker_cluster_40b355c1636a91a79367c2a14d982b75);\n",
       "        \n",
       "    \n",
       "            var marker_d912eb22efa89879c94f647142a7b5ba = L.marker(\n",
       "                [43.80655871, -79.22590049],\n",
       "                {}\n",
       "            ).addTo(marker_cluster_40b355c1636a91a79367c2a14d982b75);\n",
       "        \n",
       "    \n",
       "            var marker_669f0dad97f6e764e56d6e3d5b975323 = L.marker(\n",
       "                [43.80769696, -79.17385249],\n",
       "                {}\n",
       "            ).addTo(marker_cluster_40b355c1636a91a79367c2a14d982b75);\n",
       "        \n",
       "    \n",
       "            var marker_1a958d5d91fd8a03931d3e7ce75dcbf9 = L.marker(\n",
       "                [43.83314501, -79.27267837],\n",
       "                {}\n",
       "            ).addTo(marker_cluster_40b355c1636a91a79367c2a14d982b75);\n",
       "        \n",
       "    \n",
       "            var marker_9676c42863fb3d7481929f6d327f133c = L.marker(\n",
       "                [43.80126782, -79.29655576],\n",
       "                {}\n",
       "            ).addTo(marker_cluster_40b355c1636a91a79367c2a14d982b75);\n",
       "        \n",
       "    \n",
       "            var marker_f2ed6349d0f07eb86da8535283a1a8a8 = L.marker(\n",
       "                [43.80917229, -79.22161652],\n",
       "                {}\n",
       "            ).addTo(marker_cluster_40b355c1636a91a79367c2a14d982b75);\n",
       "        \n",
       "    \n",
       "            var marker_a25576728e7a356f4b13b9d1b7322dd7 = L.marker(\n",
       "                [43.82190391, -79.22212911],\n",
       "                {}\n",
       "            ).addTo(marker_cluster_40b355c1636a91a79367c2a14d982b75);\n",
       "        \n",
       "    \n",
       "            var marker_2702289a98cd7d17b08e9bdf29c65b5c = L.marker(\n",
       "                [43.79654156, -79.2863368],\n",
       "                {}\n",
       "            ).addTo(marker_cluster_40b355c1636a91a79367c2a14d982b75);\n",
       "        \n",
       "    \n",
       "            var marker_35d39b27291e7f18c6c0465306112257 = L.marker(\n",
       "                [43.82673042, -79.25183193],\n",
       "                {}\n",
       "            ).addTo(marker_cluster_40b355c1636a91a79367c2a14d982b75);\n",
       "        \n",
       "    \n",
       "            var marker_caa1da937b4c23b1ac356b8e7e1b3f4f = L.marker(\n",
       "                [43.81969637, -79.22102932],\n",
       "                {}\n",
       "            ).addTo(marker_cluster_40b355c1636a91a79367c2a14d982b75);\n",
       "        \n",
       "    \n",
       "            var marker_6673521532722852d892160dc14c13f8 = L.marker(\n",
       "                [43.77787789, -79.28268],\n",
       "                {}\n",
       "            ).addTo(marker_cluster_40b355c1636a91a79367c2a14d982b75);\n",
       "        \n",
       "    \n",
       "            var marker_91eabb8a8673de97f39e8300bc868d9c = L.marker(\n",
       "                [43.79206024, -79.25977154],\n",
       "                {}\n",
       "            ).addTo(marker_cluster_40b355c1636a91a79367c2a14d982b75);\n",
       "        \n",
       "    \n",
       "            var marker_c3faead1560517b2cd5c5c7c7fa2abfb = L.marker(\n",
       "                [43.8240048, -79.21444316],\n",
       "                {}\n",
       "            ).addTo(marker_cluster_40b355c1636a91a79367c2a14d982b75);\n",
       "        \n",
       "    \n",
       "            var marker_fcdf50d76b18b8d14dd3373101aed6b3 = L.marker(\n",
       "                [43.82934133, -79.22802495],\n",
       "                {}\n",
       "            ).addTo(marker_cluster_40b355c1636a91a79367c2a14d982b75);\n",
       "        \n",
       "    \n",
       "            var marker_25c68bf6d66db02ed73d027ec5a5ab6a = L.marker(\n",
       "                [43.79745349, -79.23959007],\n",
       "                {}\n",
       "            ).addTo(marker_cluster_40b355c1636a91a79367c2a14d982b75);\n",
       "        \n",
       "    \n",
       "            var marker_96bab82c1df6042a721f802da1e5c43c = L.marker(\n",
       "                [43.80639973, -79.33731502],\n",
       "                {}\n",
       "            ).addTo(marker_cluster_40b355c1636a91a79367c2a14d982b75);\n",
       "        \n",
       "    \n",
       "            var marker_b2aa82b4c7ce3010a134c13ecf7a59d6 = L.marker(\n",
       "                [43.82366983, -79.27206482],\n",
       "                {}\n",
       "            ).addTo(marker_cluster_40b355c1636a91a79367c2a14d982b75);\n",
       "        \n",
       "    \n",
       "            var marker_44f6e1243d5421feca227855da4e1d1a = L.marker(\n",
       "                [43.80557764, -79.22088214],\n",
       "                {}\n",
       "            ).addTo(marker_cluster_40b355c1636a91a79367c2a14d982b75);\n",
       "        \n",
       "    \n",
       "            var marker_13f283e29b82f2019e4de2731d7c1913 = L.marker(\n",
       "                [43.78359438, -79.2993063],\n",
       "                {}\n",
       "            ).addTo(marker_cluster_40b355c1636a91a79367c2a14d982b75);\n",
       "        \n",
       "    \n",
       "            var marker_6f89784da292398a46f106e709a02705 = L.marker(\n",
       "                [43.79817569, -79.33308972],\n",
       "                {}\n",
       "            ).addTo(marker_cluster_40b355c1636a91a79367c2a14d982b75);\n",
       "        \n",
       "    \n",
       "            var marker_69aeeb1ad3adf8a01cf968da1a7783ee = L.marker(\n",
       "                [43.8161436, -79.32249872],\n",
       "                {}\n",
       "            ).addTo(marker_cluster_40b355c1636a91a79367c2a14d982b75);\n",
       "        \n",
       "    \n",
       "            var marker_43af16546d5f0ee3f9c11d8b43343978 = L.marker(\n",
       "                [43.81997185, -79.29806178],\n",
       "                {}\n",
       "            ).addTo(marker_cluster_40b355c1636a91a79367c2a14d982b75);\n",
       "        \n",
       "    \n",
       "            var marker_85e0130b81474c2377c746a7d0ef4230 = L.marker(\n",
       "                [43.83314501, -79.27267837],\n",
       "                {}\n",
       "            ).addTo(marker_cluster_40b355c1636a91a79367c2a14d982b75);\n",
       "        \n",
       "    \n",
       "            var marker_6f10a620660829708856e2408a90c40c = L.marker(\n",
       "                [43.81198024, -79.22671389],\n",
       "                {}\n",
       "            ).addTo(marker_cluster_40b355c1636a91a79367c2a14d982b75);\n",
       "        \n",
       "    \n",
       "            var marker_092cab9445b075af659b3d8a51610e0d = L.marker(\n",
       "                [43.81052487, -79.26723759],\n",
       "                {}\n",
       "            ).addTo(marker_cluster_40b355c1636a91a79367c2a14d982b75);\n",
       "        \n",
       "    \n",
       "            var marker_33f0efa01a00e54942a2b6d44de65c56 = L.marker(\n",
       "                [43.80382626, -79.26048563],\n",
       "                {}\n",
       "            ).addTo(marker_cluster_40b355c1636a91a79367c2a14d982b75);\n",
       "        \n",
       "    \n",
       "            var marker_887308a6f0216b7963ac7b68e2a94b1c = L.marker(\n",
       "                [43.81204642, -79.31304467],\n",
       "                {}\n",
       "            ).addTo(marker_cluster_40b355c1636a91a79367c2a14d982b75);\n",
       "        \n",
       "    \n",
       "            var marker_91e9807862df0b8b6a86bc3e08bc02fe = L.marker(\n",
       "                [43.81309467, -79.31315038],\n",
       "                {}\n",
       "            ).addTo(marker_cluster_40b355c1636a91a79367c2a14d982b75);\n",
       "        \n",
       "    \n",
       "            var marker_76cdbb921fc8ed3a875c599eb4dbb364 = L.marker(\n",
       "                [43.83055551, -79.23438461],\n",
       "                {}\n",
       "            ).addTo(marker_cluster_40b355c1636a91a79367c2a14d982b75);\n",
       "        \n",
       "    \n",
       "            var marker_998cc540d2d405ad27ac47ab60b0a5cc = L.marker(\n",
       "                [43.81132969, -79.23176131],\n",
       "                {}\n",
       "            ).addTo(marker_cluster_40b355c1636a91a79367c2a14d982b75);\n",
       "        \n",
       "    \n",
       "            var marker_f6099f44b46c4a34aabba108466bf84c = L.marker(\n",
       "                [43.80497476, -79.18656682],\n",
       "                {}\n",
       "            ).addTo(marker_cluster_40b355c1636a91a79367c2a14d982b75);\n",
       "        \n",
       "    \n",
       "            var marker_7e79d59d2057d689fe1e0f682531ca5c = L.marker(\n",
       "                [43.81812104, -79.31330976],\n",
       "                {}\n",
       "            ).addTo(marker_cluster_40b355c1636a91a79367c2a14d982b75);\n",
       "        \n",
       "    \n",
       "            var marker_d76ed4debc87efa179365654b1fd8c43 = L.marker(\n",
       "                [43.79977004, -79.14778111],\n",
       "                {}\n",
       "            ).addTo(marker_cluster_40b355c1636a91a79367c2a14d982b75);\n",
       "        \n",
       "    \n",
       "            var marker_4c7b8d7c1887442570cd5d1c298122bd = L.marker(\n",
       "                [43.8034483, -79.22411468],\n",
       "                {}\n",
       "            ).addTo(marker_cluster_40b355c1636a91a79367c2a14d982b75);\n",
       "        \n",
       "    \n",
       "            var marker_ed302b9eade8276da14674d4c9c410bc = L.marker(\n",
       "                [43.80917229, -79.22161652],\n",
       "                {}\n",
       "            ).addTo(marker_cluster_40b355c1636a91a79367c2a14d982b75);\n",
       "        \n",
       "    \n",
       "            var marker_4f86dca3d50a9274b42b4f41d07298d2 = L.marker(\n",
       "                [43.77774265, -79.32412896],\n",
       "                {}\n",
       "            ).addTo(marker_cluster_40b355c1636a91a79367c2a14d982b75);\n",
       "        \n",
       "    \n",
       "            var marker_7d6bfc5fc987f52c265a2c498f79cc5e = L.marker(\n",
       "                [43.81277197, -79.20753714],\n",
       "                {}\n",
       "            ).addTo(marker_cluster_40b355c1636a91a79367c2a14d982b75);\n",
       "        \n",
       "    \n",
       "            var marker_3d62bd49f3ab99523ee6ea7efa0b37b3 = L.marker(\n",
       "                [43.80040851, -79.15618224],\n",
       "                {}\n",
       "            ).addTo(marker_cluster_40b355c1636a91a79367c2a14d982b75);\n",
       "        \n",
       "    \n",
       "            var marker_66e2d2c89f2c42cb3b6debd0d53117a0 = L.marker(\n",
       "                [43.77947414, -79.282022],\n",
       "                {}\n",
       "            ).addTo(marker_cluster_40b355c1636a91a79367c2a14d982b75);\n",
       "        \n",
       "    \n",
       "            var marker_e91d90423ef8b90936e9aa1f41e60be9 = L.marker(\n",
       "                [43.77787789, -79.28268],\n",
       "                {}\n",
       "            ).addTo(marker_cluster_40b355c1636a91a79367c2a14d982b75);\n",
       "        \n",
       "    \n",
       "            var marker_61f1960b812296371afc00e70a5db12f = L.marker(\n",
       "                [43.79586858, -79.30780077],\n",
       "                {}\n",
       "            ).addTo(marker_cluster_40b355c1636a91a79367c2a14d982b75);\n",
       "        \n",
       "    \n",
       "            var marker_536c17391ba2f50db9152420b117926c = L.marker(\n",
       "                [43.80871964, -79.23133],\n",
       "                {}\n",
       "            ).addTo(marker_cluster_40b355c1636a91a79367c2a14d982b75);\n",
       "        \n",
       "    \n",
       "            var marker_cb9e52544a0be37ebf6811b98da02251 = L.marker(\n",
       "                [43.78105385, -79.29806468],\n",
       "                {}\n",
       "            ).addTo(marker_cluster_40b355c1636a91a79367c2a14d982b75);\n",
       "        \n",
       "    \n",
       "            var marker_01c2659ddf5e2447b01f7f11b5effeed = L.marker(\n",
       "                [43.78359438, -79.2993063],\n",
       "                {}\n",
       "            ).addTo(marker_cluster_40b355c1636a91a79367c2a14d982b75);\n",
       "        \n",
       "    \n",
       "            var marker_b2ba7beea006c8c6a65777d4b828707a = L.marker(\n",
       "                [43.81811244, -79.32104828],\n",
       "                {}\n",
       "            ).addTo(marker_cluster_40b355c1636a91a79367c2a14d982b75);\n",
       "        \n",
       "    \n",
       "            var marker_ea153ff207ee717c50d21b7d9603b690 = L.marker(\n",
       "                [43.8161436, -79.32249872],\n",
       "                {}\n",
       "            ).addTo(marker_cluster_40b355c1636a91a79367c2a14d982b75);\n",
       "        \n",
       "    \n",
       "            var marker_b3dbc5631ee4575dd95d8cca76dfb272 = L.marker(\n",
       "                [43.82470927, -79.22949368],\n",
       "                {}\n",
       "            ).addTo(marker_cluster_40b355c1636a91a79367c2a14d982b75);\n",
       "        \n",
       "    \n",
       "            var marker_10c22f765a2cdce56cf295c4f72aff53 = L.marker(\n",
       "                [43.78886777, -79.24006927],\n",
       "                {}\n",
       "            ).addTo(marker_cluster_40b355c1636a91a79367c2a14d982b75);\n",
       "        \n",
       "    \n",
       "            var marker_a979b0cfad65e8afe5b0001f004f127a = L.marker(\n",
       "                [43.81277197, -79.20753714],\n",
       "                {}\n",
       "            ).addTo(marker_cluster_40b355c1636a91a79367c2a14d982b75);\n",
       "        \n",
       "    \n",
       "            var marker_43f6bcb9e7cf8e0774b7ca260b4c5df1 = L.marker(\n",
       "                [43.7821167, -79.29342081],\n",
       "                {}\n",
       "            ).addTo(marker_cluster_40b355c1636a91a79367c2a14d982b75);\n",
       "        \n",
       "    \n",
       "            var marker_0d8731d03c32046baa53d822e1a9ad9d = L.marker(\n",
       "                [43.81420853, -79.20975826],\n",
       "                {}\n",
       "            ).addTo(marker_cluster_40b355c1636a91a79367c2a14d982b75);\n",
       "        \n",
       "    \n",
       "            var marker_0d3a9091d1e6250e565dedc8d8e5f6fa = L.marker(\n",
       "                [43.77774265, -79.32412896],\n",
       "                {}\n",
       "            ).addTo(marker_cluster_40b355c1636a91a79367c2a14d982b75);\n",
       "        \n",
       "    \n",
       "            var marker_8a998e7422901513b5023a394d977bfe = L.marker(\n",
       "                [43.80639973, -79.33731502],\n",
       "                {}\n",
       "            ).addTo(marker_cluster_40b355c1636a91a79367c2a14d982b75);\n",
       "        \n",
       "    \n",
       "            var marker_010dd857d320f3a3ba6263225cbaed59 = L.marker(\n",
       "                [43.82470927, -79.22949368],\n",
       "                {}\n",
       "            ).addTo(marker_cluster_40b355c1636a91a79367c2a14d982b75);\n",
       "        \n",
       "    \n",
       "            var marker_d96c0819dc0c35c5d6caf6a141d8b885 = L.marker(\n",
       "                [43.78410474, -79.24158853],\n",
       "                {}\n",
       "            ).addTo(marker_cluster_40b355c1636a91a79367c2a14d982b75);\n",
       "        \n",
       "    \n",
       "            var marker_d92d39568f0cbe14c592fb434cebb62d = L.marker(\n",
       "                [0.0, 0.0],\n",
       "                {}\n",
       "            ).addTo(marker_cluster_40b355c1636a91a79367c2a14d982b75);\n",
       "        \n",
       "    \n",
       "            var marker_cb1568160b22dad7e1c65b9b279d6016 = L.marker(\n",
       "                [43.79088164, -79.24452279],\n",
       "                {}\n",
       "            ).addTo(marker_cluster_40b355c1636a91a79367c2a14d982b75);\n",
       "        \n",
       "    \n",
       "            ant_path_bcec8ae422284cb6a8437279a9efdcc0 = L.polyline.antPath(\n",
       "              [[43.795101646361296, -79.34323678683093], [43.81986424497797, -79.21818208801368]],\n",
       "              {&quot;bubblingMouseEvents&quot;: true, &quot;color&quot;: &quot;#0000FF&quot;, &quot;dashArray&quot;: [10, 20], &quot;dashOffset&quot;: null, &quot;delay&quot;: 400, &quot;fill&quot;: false, &quot;fillColor&quot;: &quot;#3388ff&quot;, &quot;fillOpacity&quot;: 0.2, &quot;fillRule&quot;: &quot;evenodd&quot;, &quot;hardwareAcceleration&quot;: false, &quot;lineCap&quot;: &quot;round&quot;, &quot;lineJoin&quot;: &quot;round&quot;, &quot;noClip&quot;: false, &quot;opacity&quot;: 0.5, &quot;paused&quot;: false, &quot;pulseColor&quot;: &quot;#FFFFFF&quot;, &quot;reverse&quot;: false, &quot;smoothFactor&quot;: 1.0, &quot;stroke&quot;: true, &quot;weight&quot;: 5}\n",
       "        ).addTo(map_828f2e256265eb6ffed1541eb1494930);\n",
       "        \n",
       "    \n",
       "            var tile_layer_dc04e572c93f85473406edee8462015a = L.tileLayer(\n",
       "                &quot;https://{s}.tile.openstreetmap.org/{z}/{x}/{y}.png&quot;,\n",
       "                {&quot;attribution&quot;: &quot;Data by \\u0026copy; \\u003ca href=\\&quot;http://openstreetmap.org\\&quot;\\u003eOpenStreetMap\\u003c/a\\u003e, under \\u003ca href=\\&quot;http://www.openstreetmap.org/copyright\\&quot;\\u003eODbL\\u003c/a\\u003e.&quot;, &quot;detectRetina&quot;: false, &quot;maxNativeZoom&quot;: 18, &quot;maxZoom&quot;: 18, &quot;minZoom&quot;: 0, &quot;noWrap&quot;: false, &quot;opacity&quot;: 1, &quot;subdomains&quot;: &quot;abc&quot;, &quot;tms&quot;: false}\n",
       "            ).addTo(map_828f2e256265eb6ffed1541eb1494930);\n",
       "        \n",
       "    \n",
       "            var tile_layer_a148c8f99b2f24626718be8a9eab9b87 = L.tileLayer(\n",
       "                &quot;https://stamen-tiles-{s}.a.ssl.fastly.net/terrain/{z}/{x}/{y}.jpg&quot;,\n",
       "                {&quot;attribution&quot;: &quot;Map tiles by \\u003ca href=\\&quot;http://stamen.com\\&quot;\\u003eStamen Design\\u003c/a\\u003e, under \\u003ca href=\\&quot;http://creativecommons.org/licenses/by/3.0\\&quot;\\u003eCC BY 3.0\\u003c/a\\u003e. Data by \\u0026copy; \\u003ca href=\\&quot;http://openstreetmap.org\\&quot;\\u003eOpenStreetMap\\u003c/a\\u003e, under \\u003ca href=\\&quot;http://creativecommons.org/licenses/by-sa/3.0\\&quot;\\u003eCC BY SA\\u003c/a\\u003e.&quot;, &quot;detectRetina&quot;: false, &quot;maxNativeZoom&quot;: 18, &quot;maxZoom&quot;: 18, &quot;minZoom&quot;: 0, &quot;noWrap&quot;: false, &quot;opacity&quot;: 1, &quot;subdomains&quot;: &quot;abc&quot;, &quot;tms&quot;: false}\n",
       "            ).addTo(map_828f2e256265eb6ffed1541eb1494930);\n",
       "        \n",
       "    \n",
       "            var tile_layer_2366e312981990d15de2a3149eb63102 = L.tileLayer(\n",
       "                &quot;https://stamen-tiles-{s}.a.ssl.fastly.net/toner/{z}/{x}/{y}.png&quot;,\n",
       "                {&quot;attribution&quot;: &quot;Map tiles by \\u003ca href=\\&quot;http://stamen.com\\&quot;\\u003eStamen Design\\u003c/a\\u003e, under \\u003ca href=\\&quot;http://creativecommons.org/licenses/by/3.0\\&quot;\\u003eCC BY 3.0\\u003c/a\\u003e. Data by \\u0026copy; \\u003ca href=\\&quot;http://openstreetmap.org\\&quot;\\u003eOpenStreetMap\\u003c/a\\u003e, under \\u003ca href=\\&quot;http://www.openstreetmap.org/copyright\\&quot;\\u003eODbL\\u003c/a\\u003e.&quot;, &quot;detectRetina&quot;: false, &quot;maxNativeZoom&quot;: 18, &quot;maxZoom&quot;: 18, &quot;minZoom&quot;: 0, &quot;noWrap&quot;: false, &quot;opacity&quot;: 1, &quot;subdomains&quot;: &quot;abc&quot;, &quot;tms&quot;: false}\n",
       "            ).addTo(map_828f2e256265eb6ffed1541eb1494930);\n",
       "        \n",
       "    \n",
       "            var tile_layer_80b5736e06dad688d54df037e9edea62 = L.tileLayer(\n",
       "                &quot;https://stamen-tiles-{s}.a.ssl.fastly.net/watercolor/{z}/{x}/{y}.jpg&quot;,\n",
       "                {&quot;attribution&quot;: &quot;Map tiles by \\u003ca href=\\&quot;http://stamen.com\\&quot;\\u003eStamen Design\\u003c/a\\u003e, under \\u003ca href=\\&quot;http://creativecommons.org/licenses/by/3.0\\&quot;\\u003eCC BY 3.0\\u003c/a\\u003e. Data by \\u0026copy; \\u003ca href=\\&quot;http://openstreetmap.org\\&quot;\\u003eOpenStreetMap\\u003c/a\\u003e, under \\u003ca href=\\&quot;http://creativecommons.org/licenses/by-sa/3.0\\&quot;\\u003eCC BY SA\\u003c/a\\u003e.&quot;, &quot;detectRetina&quot;: false, &quot;maxNativeZoom&quot;: 18, &quot;maxZoom&quot;: 18, &quot;minZoom&quot;: 0, &quot;noWrap&quot;: false, &quot;opacity&quot;: 1, &quot;subdomains&quot;: &quot;abc&quot;, &quot;tms&quot;: false}\n",
       "            ).addTo(map_828f2e256265eb6ffed1541eb1494930);\n",
       "        \n",
       "    \n",
       "            var tile_layer_1d13edcc50e4818fb05598b44f32a69a = L.tileLayer(\n",
       "                &quot;https://cartodb-basemaps-{s}.global.ssl.fastly.net/light_all/{z}/{x}/{y}.png&quot;,\n",
       "                {&quot;attribution&quot;: &quot;\\u0026copy; \\u003ca href=\\&quot;http://www.openstreetmap.org/copyright\\&quot;\\u003eOpenStreetMap\\u003c/a\\u003e contributors \\u0026copy; \\u003ca href=\\&quot;http://cartodb.com/attributions\\&quot;\\u003eCartoDB\\u003c/a\\u003e, CartoDB \\u003ca href =\\&quot;http://cartodb.com/attributions\\&quot;\\u003eattributions\\u003c/a\\u003e&quot;, &quot;detectRetina&quot;: false, &quot;maxNativeZoom&quot;: 18, &quot;maxZoom&quot;: 18, &quot;minZoom&quot;: 0, &quot;noWrap&quot;: false, &quot;opacity&quot;: 1, &quot;subdomains&quot;: &quot;abc&quot;, &quot;tms&quot;: false}\n",
       "            ).addTo(map_828f2e256265eb6ffed1541eb1494930);\n",
       "        \n",
       "    \n",
       "            var tile_layer_27d2d0300f0481df5865fe9c40f853b9 = L.tileLayer(\n",
       "                &quot;https://cartodb-basemaps-{s}.global.ssl.fastly.net/dark_all/{z}/{x}/{y}.png&quot;,\n",
       "                {&quot;attribution&quot;: &quot;\\u0026copy; \\u003ca href=\\&quot;http://www.openstreetmap.org/copyright\\&quot;\\u003eOpenStreetMap\\u003c/a\\u003e contributors \\u0026copy; \\u003ca href=\\&quot;http://cartodb.com/attributions\\&quot;\\u003eCartoDB\\u003c/a\\u003e, CartoDB \\u003ca href =\\&quot;http://cartodb.com/attributions\\&quot;\\u003eattributions\\u003c/a\\u003e&quot;, &quot;detectRetina&quot;: false, &quot;maxNativeZoom&quot;: 18, &quot;maxZoom&quot;: 18, &quot;minZoom&quot;: 0, &quot;noWrap&quot;: false, &quot;opacity&quot;: 1, &quot;subdomains&quot;: &quot;abc&quot;, &quot;tms&quot;: false}\n",
       "            ).addTo(map_828f2e256265eb6ffed1541eb1494930);\n",
       "        \n",
       "    \n",
       "            var tile_layer_c0a5e75aab1b069ecac205a76a86b41f = L.tileLayer(\n",
       "                &quot;https://{s}.tile.openstreetmap.org/{z}/{x}/{y}.png&quot;,\n",
       "                {&quot;attribution&quot;: &quot;Data by \\u0026copy; \\u003ca href=\\&quot;http://openstreetmap.org\\&quot;\\u003eOpenStreetMap\\u003c/a\\u003e, under \\u003ca href=\\&quot;http://www.openstreetmap.org/copyright\\&quot;\\u003eODbL\\u003c/a\\u003e.&quot;, &quot;detectRetina&quot;: false, &quot;maxNativeZoom&quot;: 18, &quot;maxZoom&quot;: 18, &quot;minZoom&quot;: 0, &quot;noWrap&quot;: false, &quot;opacity&quot;: 1, &quot;subdomains&quot;: &quot;abc&quot;, &quot;tms&quot;: false}\n",
       "            );\n",
       "            var mini_map_5f22118ec92500b0c28d097b232edb6f = new L.Control.MiniMap(\n",
       "                tile_layer_c0a5e75aab1b069ecac205a76a86b41f,\n",
       "                {&quot;autoToggleDisplay&quot;: false, &quot;centerFixed&quot;: false, &quot;collapsedHeight&quot;: 25, &quot;collapsedWidth&quot;: 25, &quot;height&quot;: 150, &quot;minimized&quot;: false, &quot;position&quot;: &quot;bottomright&quot;, &quot;toggleDisplay&quot;: true, &quot;width&quot;: 150, &quot;zoomAnimation&quot;: false, &quot;zoomLevelOffset&quot;: -5}\n",
       "            );\n",
       "            map_828f2e256265eb6ffed1541eb1494930.addControl(mini_map_5f22118ec92500b0c28d097b232edb6f);\n",
       "        \n",
       "    \n",
       "            var options = {\n",
       "              position: &quot;topleft&quot;,\n",
       "              draw: {},\n",
       "              edit: {},\n",
       "            }\n",
       "            // FeatureGroup is to store editable layers.\n",
       "            var drawnItems = new L.featureGroup().addTo(\n",
       "                map_828f2e256265eb6ffed1541eb1494930\n",
       "            );\n",
       "            options.edit.featureGroup = drawnItems;\n",
       "            var draw_control_c7cca023e539d96a01a30490ea757076 = new L.Control.Draw(\n",
       "                options\n",
       "            ).addTo( map_828f2e256265eb6ffed1541eb1494930 );\n",
       "            map_828f2e256265eb6ffed1541eb1494930.on(L.Draw.Event.CREATED, function(e) {\n",
       "                var layer = e.layer,\n",
       "                    type = e.layerType;\n",
       "                var coords = JSON.stringify(layer.toGeoJSON());\n",
       "                layer.on(&#x27;click&#x27;, function() {\n",
       "                    alert(coords);\n",
       "                    console.log(coords);\n",
       "                });\n",
       "                drawnItems.addLayer(layer);\n",
       "             });\n",
       "            map_828f2e256265eb6ffed1541eb1494930.on(&#x27;draw:created&#x27;, function(e) {\n",
       "                drawnItems.addLayer(e.layer);\n",
       "            });\n",
       "            \n",
       "            document.getElementById(&#x27;export&#x27;).onclick = function(e) {\n",
       "                var data = drawnItems.toGeoJSON();\n",
       "                var convertedData = &#x27;text/json;charset=utf-8,&#x27;\n",
       "                    + encodeURIComponent(JSON.stringify(data));\n",
       "                document.getElementById(&#x27;export&#x27;).setAttribute(\n",
       "                    &#x27;href&#x27;, &#x27;data:&#x27; + convertedData\n",
       "                );\n",
       "                document.getElementById(&#x27;export&#x27;).setAttribute(\n",
       "                    &#x27;download&#x27;, &quot;data.geojson&quot;\n",
       "                );\n",
       "            }\n",
       "            \n",
       "        \n",
       "    \n",
       "            var layer_control_8381e1b128806b23b28d26dc05d06ca8 = {\n",
       "                base_layers : {\n",
       "                    &quot;openstreetmap&quot; : tile_layer_dc04e572c93f85473406edee8462015a,\n",
       "                    &quot;stamenterrain&quot; : tile_layer_a148c8f99b2f24626718be8a9eab9b87,\n",
       "                    &quot;stamentoner&quot; : tile_layer_2366e312981990d15de2a3149eb63102,\n",
       "                    &quot;stamenwatercolor&quot; : tile_layer_80b5736e06dad688d54df037e9edea62,\n",
       "                    &quot;cartodbpositron&quot; : tile_layer_1d13edcc50e4818fb05598b44f32a69a,\n",
       "                    &quot;cartodbdark_matter&quot; : tile_layer_27d2d0300f0481df5865fe9c40f853b9,\n",
       "                },\n",
       "                overlays :  {\n",
       "                    &quot;macro_element_40b355c1636a91a79367c2a14d982b75&quot; : marker_cluster_40b355c1636a91a79367c2a14d982b75,\n",
       "                },\n",
       "            };\n",
       "            L.control.layers(\n",
       "                layer_control_8381e1b128806b23b28d26dc05d06ca8.base_layers,\n",
       "                layer_control_8381e1b128806b23b28d26dc05d06ca8.overlays,\n",
       "                {&quot;autoZIndex&quot;: true, &quot;collapsed&quot;: true, &quot;position&quot;: &quot;topright&quot;}\n",
       "            ).addTo(map_828f2e256265eb6ffed1541eb1494930);\n",
       "            tile_layer_a148c8f99b2f24626718be8a9eab9b87.remove();\n",
       "            tile_layer_2366e312981990d15de2a3149eb63102.remove();\n",
       "            tile_layer_80b5736e06dad688d54df037e9edea62.remove();\n",
       "            tile_layer_1d13edcc50e4818fb05598b44f32a69a.remove();\n",
       "            tile_layer_27d2d0300f0481df5865fe9c40f853b9.remove();\n",
       "        \n",
       "    \n",
       "            L.control.fullscreen(\n",
       "                {&quot;forceSeparateButton&quot;: false, &quot;position&quot;: &quot;topright&quot;, &quot;title&quot;: &quot;Full Screen&quot;, &quot;titleCancel&quot;: &quot;Exit Full Screen&quot;}\n",
       "            ).addTo(map_828f2e256265eb6ffed1541eb1494930);\n",
       "        \n",
       "&lt;/script&gt;\" style=\"position:absolute;width:100%;height:100%;left:0;top:0;border:none !important;\" allowfullscreen webkitallowfullscreen mozallowfullscreen></iframe></div></div>"
      ],
      "text/plain": [
       "<folium.folium.Map at 0x1d4974d0e20>"
      ]
     },
     "execution_count": 26,
     "metadata": {},
     "output_type": "execute_result"
    }
   ],
   "source": [
    "mapa"
   ]
  },
  {
   "cell_type": "markdown",
   "id": "54321785",
   "metadata": {},
   "source": [
    "# Create data frames for the specific Excel tabs within the Excel file"
   ]
  },
  {
   "cell_type": "code",
   "execution_count": 54,
   "id": "1ab7bc8c",
   "metadata": {},
   "outputs": [],
   "source": [
    "df2 = pd.read_excel(r'C:\\Users\\16476\\Desktop\\20221121_DataDivision42JN_IZ.xlsx', sheet_name = 'Agincourt North')\n",
    "df3 = pd.read_excel(r'C:\\Users\\16476\\Desktop\\20221121_DataDivision42JN_IZ.xlsx', sheet_name = 'Agincourt South-Malvern West')\n",
    "df4 = pd.read_excel(r'C:\\Users\\16476\\Desktop\\20221121_DataDivision42JN_IZ.xlsx', sheet_name = 'LAmoreaux')\n",
    "df5 = pd.read_excel(r'C:\\Users\\16476\\Desktop\\20221121_DataDivision42JN_IZ.xlsx', sheet_name = 'Malvern')\n",
    "df6 = pd.read_excel(r'C:\\Users\\16476\\Desktop\\20221121_DataDivision42JN_IZ.xlsx', sheet_name = 'Milliken')\n",
    "df7 = pd.read_excel(r'C:\\Users\\16476\\Desktop\\20221121_DataDivision42JN_IZ.xlsx', sheet_name = 'NSA')\n",
    "df8 = pd.read_excel(r'C:\\Users\\16476\\Desktop\\20221121_DataDivision42JN_IZ.xlsx', sheet_name = 'Rouge')\n",
    "df9 = pd.read_excel(r'C:\\Users\\16476\\Desktop\\20221121_DataDivision42JN_IZ.xlsx', sheet_name = 'Steeles')\n",
    "df10 = pd.read_excel(r'C:\\Users\\16476\\Desktop\\20221121_DataDivision42JN_IZ.xlsx', sheet_name = 'Tam OShanter-Sullivan')\n",
    "df11 = pd.read_excel(r'C:\\Users\\16476\\Desktop\\20221121_DataDivision42JN_IZ.xlsx', sheet_name = 'Week1')\n",
    "df12 = pd.read_excel(r'C:\\Users\\16476\\Desktop\\20221121_DataDivision42JN_IZ.xlsx', sheet_name = 'Week2')\n",
    "df13 = pd.read_excel(r'C:\\Users\\16476\\Desktop\\20221121_DataDivision42JN_IZ.xlsx', sheet_name = 'PieChartWeek1')\n",
    "df14 = pd.read_excel(r'C:\\Users\\16476\\Desktop\\20221121_DataDivision42JN_IZ.xlsx', sheet_name = 'PieChartWeek2')"
   ]
  },
  {
   "cell_type": "markdown",
   "id": "5e109f2a",
   "metadata": {},
   "source": [
    "# Create bar charts for the specific neighbourhoods in Toronto Police Service Division 42 with counts of Major Crime Indicators "
   ]
  },
  {
   "cell_type": "code",
   "execution_count": 55,
   "id": "3d438b4b",
   "metadata": {},
   "outputs": [
    {
     "data": {
      "application/vnd.plotly.v1+json": {
       "config": {
        "plotlyServerURL": "https://plot.ly"
       },
       "data": [
        {
         "alignmentgroup": "True",
         "hovertemplate": "DOW=Monday<br>MCI=%{text}<br>Count=%{y}<extra></extra>",
         "legendgroup": "Monday",
         "marker": {
          "color": "#1F77B4",
          "opacity": 0.9,
          "pattern": {
           "shape": ""
          }
         },
         "name": "Monday",
         "offsetgroup": "Monday",
         "orientation": "v",
         "showlegend": true,
         "text": [
          "Assault",
          "Auto Theft",
          "Break and Enter",
          "Robbery",
          "Theft Over"
         ],
         "textposition": "auto",
         "type": "bar",
         "x": [
          "Assault",
          "Auto Theft",
          "Break and Enter",
          "Robbery",
          "Theft Over"
         ],
         "xaxis": "x",
         "y": [
          0,
          0,
          0,
          0,
          0
         ],
         "yaxis": "y"
        }
       ],
       "frames": [
        {
         "data": [
          {
           "alignmentgroup": "True",
           "hovertemplate": "DOW=Monday<br>MCI=%{text}<br>Count=%{y}<extra></extra>",
           "legendgroup": "Monday",
           "marker": {
            "color": "#1F77B4",
            "opacity": 0.9,
            "pattern": {
             "shape": ""
            }
           },
           "name": "Monday",
           "offsetgroup": "Monday",
           "orientation": "v",
           "showlegend": true,
           "text": [
            "Assault",
            "Auto Theft",
            "Break and Enter",
            "Robbery",
            "Theft Over"
           ],
           "textposition": "auto",
           "type": "bar",
           "x": [
            "Assault",
            "Auto Theft",
            "Break and Enter",
            "Robbery",
            "Theft Over"
           ],
           "xaxis": "x",
           "y": [
            0,
            0,
            0,
            0,
            0
           ],
           "yaxis": "y"
          }
         ],
         "name": "Monday"
        },
        {
         "data": [
          {
           "alignmentgroup": "True",
           "hovertemplate": "DOW=Tuesday<br>MCI=%{text}<br>Count=%{y}<extra></extra>",
           "legendgroup": "Tuesday",
           "marker": {
            "color": "#FF7F0E",
            "opacity": 0.9,
            "pattern": {
             "shape": ""
            }
           },
           "name": "Tuesday",
           "offsetgroup": "Tuesday",
           "orientation": "v",
           "showlegend": true,
           "text": [
            "Assault",
            "Auto Theft",
            "Break and Enter",
            "Robbery",
            "Theft Over"
           ],
           "textposition": "auto",
           "type": "bar",
           "x": [
            "Assault",
            "Auto Theft",
            "Break and Enter",
            "Robbery",
            "Theft Over"
           ],
           "xaxis": "x",
           "y": [
            0,
            1,
            0,
            0,
            0
           ],
           "yaxis": "y"
          }
         ],
         "name": "Tuesday"
        },
        {
         "data": [
          {
           "alignmentgroup": "True",
           "hovertemplate": "DOW=Wednesday<br>MCI=%{text}<br>Count=%{y}<extra></extra>",
           "legendgroup": "Wednesday",
           "marker": {
            "color": "#2CA02C",
            "opacity": 0.9,
            "pattern": {
             "shape": ""
            }
           },
           "name": "Wednesday",
           "offsetgroup": "Wednesday",
           "orientation": "v",
           "showlegend": true,
           "text": [
            "Assault",
            "Auto Theft",
            "Break and Enter",
            "Robbery",
            "Theft Over"
           ],
           "textposition": "auto",
           "type": "bar",
           "x": [
            "Assault",
            "Auto Theft",
            "Break and Enter",
            "Robbery",
            "Theft Over"
           ],
           "xaxis": "x",
           "y": [
            3,
            0,
            0,
            0,
            0
           ],
           "yaxis": "y"
          }
         ],
         "name": "Wednesday"
        },
        {
         "data": [
          {
           "alignmentgroup": "True",
           "hovertemplate": "DOW=Thursday<br>MCI=%{text}<br>Count=%{y}<extra></extra>",
           "legendgroup": "Thursday",
           "marker": {
            "color": "#D62728",
            "opacity": 0.9,
            "pattern": {
             "shape": ""
            }
           },
           "name": "Thursday",
           "offsetgroup": "Thursday",
           "orientation": "v",
           "showlegend": true,
           "text": [
            "Assault",
            "Auto Theft",
            "Break and Enter",
            "Robbery",
            "Theft Over"
           ],
           "textposition": "auto",
           "type": "bar",
           "x": [
            "Assault",
            "Auto Theft",
            "Break and Enter",
            "Robbery",
            "Theft Over"
           ],
           "xaxis": "x",
           "y": [
            0,
            0,
            0,
            0,
            0
           ],
           "yaxis": "y"
          }
         ],
         "name": "Thursday"
        },
        {
         "data": [
          {
           "alignmentgroup": "True",
           "hovertemplate": "DOW=Friday<br>MCI=%{text}<br>Count=%{y}<extra></extra>",
           "legendgroup": "Friday",
           "marker": {
            "color": "#9467BD",
            "opacity": 0.9,
            "pattern": {
             "shape": ""
            }
           },
           "name": "Friday",
           "offsetgroup": "Friday",
           "orientation": "v",
           "showlegend": true,
           "text": [
            "Assault",
            "Auto Theft",
            "Break and Enter",
            "Robbery",
            "Theft Over"
           ],
           "textposition": "auto",
           "type": "bar",
           "x": [
            "Assault",
            "Auto Theft",
            "Break and Enter",
            "Robbery",
            "Theft Over"
           ],
           "xaxis": "x",
           "y": [
            0,
            0,
            0,
            0,
            0
           ],
           "yaxis": "y"
          }
         ],
         "name": "Friday"
        },
        {
         "data": [
          {
           "alignmentgroup": "True",
           "hovertemplate": "DOW=Saturday<br>MCI=%{text}<br>Count=%{y}<extra></extra>",
           "legendgroup": "Saturday",
           "marker": {
            "color": "#8C564B",
            "opacity": 0.9,
            "pattern": {
             "shape": ""
            }
           },
           "name": "Saturday",
           "offsetgroup": "Saturday",
           "orientation": "v",
           "showlegend": true,
           "text": [
            "Assault",
            "Auto Theft",
            "Break and Enter",
            "Robbery",
            "Theft Over"
           ],
           "textposition": "auto",
           "type": "bar",
           "x": [
            "Assault",
            "Auto Theft",
            "Break and Enter",
            "Robbery",
            "Theft Over"
           ],
           "xaxis": "x",
           "y": [
            0,
            0,
            1,
            0,
            0
           ],
           "yaxis": "y"
          }
         ],
         "name": "Saturday"
        },
        {
         "data": [
          {
           "alignmentgroup": "True",
           "hovertemplate": "DOW=Sunday<br>MCI=%{text}<br>Count=%{y}<extra></extra>",
           "legendgroup": "Sunday",
           "marker": {
            "color": "#E377C2",
            "opacity": 0.9,
            "pattern": {
             "shape": ""
            }
           },
           "name": "Sunday",
           "offsetgroup": "Sunday",
           "orientation": "v",
           "showlegend": true,
           "text": [
            "Assault",
            "Auto Theft",
            "Break and Enter",
            "Robbery",
            "Theft Over"
           ],
           "textposition": "auto",
           "type": "bar",
           "x": [
            "Assault",
            "Auto Theft",
            "Break and Enter",
            "Robbery",
            "Theft Over"
           ],
           "xaxis": "x",
           "y": [
            0,
            0,
            0,
            0,
            0
           ],
           "yaxis": "y"
          }
         ],
         "name": "Sunday"
        }
       ],
       "layout": {
        "barmode": "group",
        "height": 720,
        "legend": {
         "title": {
          "text": "DOW"
         },
         "tracegroupgap": 0
        },
        "sliders": [
         {
          "active": 0,
          "currentvalue": {
           "prefix": "DOW="
          },
          "len": 0.9,
          "pad": {
           "b": 10,
           "t": 60
          },
          "steps": [
           {
            "args": [
             [
              "Monday"
             ],
             {
              "frame": {
               "duration": 0,
               "redraw": true
              },
              "fromcurrent": true,
              "mode": "immediate",
              "transition": {
               "duration": 0,
               "easing": "linear"
              }
             }
            ],
            "label": "Monday",
            "method": "animate"
           },
           {
            "args": [
             [
              "Tuesday"
             ],
             {
              "frame": {
               "duration": 0,
               "redraw": true
              },
              "fromcurrent": true,
              "mode": "immediate",
              "transition": {
               "duration": 0,
               "easing": "linear"
              }
             }
            ],
            "label": "Tuesday",
            "method": "animate"
           },
           {
            "args": [
             [
              "Wednesday"
             ],
             {
              "frame": {
               "duration": 0,
               "redraw": true
              },
              "fromcurrent": true,
              "mode": "immediate",
              "transition": {
               "duration": 0,
               "easing": "linear"
              }
             }
            ],
            "label": "Wednesday",
            "method": "animate"
           },
           {
            "args": [
             [
              "Thursday"
             ],
             {
              "frame": {
               "duration": 0,
               "redraw": true
              },
              "fromcurrent": true,
              "mode": "immediate",
              "transition": {
               "duration": 0,
               "easing": "linear"
              }
             }
            ],
            "label": "Thursday",
            "method": "animate"
           },
           {
            "args": [
             [
              "Friday"
             ],
             {
              "frame": {
               "duration": 0,
               "redraw": true
              },
              "fromcurrent": true,
              "mode": "immediate",
              "transition": {
               "duration": 0,
               "easing": "linear"
              }
             }
            ],
            "label": "Friday",
            "method": "animate"
           },
           {
            "args": [
             [
              "Saturday"
             ],
             {
              "frame": {
               "duration": 0,
               "redraw": true
              },
              "fromcurrent": true,
              "mode": "immediate",
              "transition": {
               "duration": 0,
               "easing": "linear"
              }
             }
            ],
            "label": "Saturday",
            "method": "animate"
           },
           {
            "args": [
             [
              "Sunday"
             ],
             {
              "frame": {
               "duration": 0,
               "redraw": true
              },
              "fromcurrent": true,
              "mode": "immediate",
              "transition": {
               "duration": 0,
               "easing": "linear"
              }
             }
            ],
            "label": "Sunday",
            "method": "animate"
           }
          ],
          "x": 0.1,
          "xanchor": "left",
          "y": 0,
          "yanchor": "top"
         }
        ],
        "template": {
         "data": {
          "pie": [
           {
            "automargin": true,
            "type": "pie"
           }
          ]
         },
         "layout": {
          "xaxis": {
           "showgrid": true,
           "title": {
            "standoff": 15
           }
          },
          "yaxis": {
           "showgrid": true,
           "title": {
            "standoff": 15
           }
          }
         }
        },
        "title": {
         "text": "Agincourt North Major Crime Indicators"
        },
        "updatemenus": [
         {
          "buttons": [
           {
            "args": [
             null,
             {
              "frame": {
               "duration": 1000,
               "redraw": true
              },
              "fromcurrent": true,
              "mode": "immediate",
              "transition": {
               "duration": 500,
               "easing": "linear"
              }
             }
            ],
            "label": "&#9654;",
            "method": "animate"
           },
           {
            "args": [
             [
              null
             ],
             {
              "frame": {
               "duration": 0,
               "redraw": true
              },
              "fromcurrent": true,
              "mode": "immediate",
              "transition": {
               "duration": 0,
               "easing": "linear"
              }
             }
            ],
            "label": "&#9724;",
            "method": "animate"
           }
          ],
          "direction": "left",
          "pad": {
           "r": 10,
           "t": 70
          },
          "showactive": false,
          "type": "buttons",
          "x": 0.1,
          "xanchor": "right",
          "y": 0,
          "yanchor": "top"
         }
        ],
        "width": 1400,
        "xaxis": {
         "anchor": "y",
         "domain": [
          0,
          1
         ],
         "title": {
          "text": "MCI"
         }
        },
        "yaxis": {
         "anchor": "x",
         "domain": [
          0,
          1
         ],
         "range": [
          0,
          35
         ],
         "title": {
          "text": "Count"
         }
        }
       }
      },
      "text/html": [
       "<div>                            <div id=\"e9bc4715-46a0-4d06-bed4-d28be81658d5\" class=\"plotly-graph-div\" style=\"height:720px; width:1400px;\"></div>            <script type=\"text/javascript\">                require([\"plotly\"], function(Plotly) {                    window.PLOTLYENV=window.PLOTLYENV || {};                                    if (document.getElementById(\"e9bc4715-46a0-4d06-bed4-d28be81658d5\")) {                    Plotly.newPlot(                        \"e9bc4715-46a0-4d06-bed4-d28be81658d5\",                        [{\"alignmentgroup\":\"True\",\"hovertemplate\":\"DOW=Monday<br>MCI=%{text}<br>Count=%{y}<extra></extra>\",\"legendgroup\":\"Monday\",\"marker\":{\"color\":\"#1F77B4\",\"opacity\":0.9,\"pattern\":{\"shape\":\"\"}},\"name\":\"Monday\",\"offsetgroup\":\"Monday\",\"orientation\":\"v\",\"showlegend\":true,\"text\":[\"Assault\",\"Auto Theft\",\"Break and Enter\",\"Robbery\",\"Theft Over\"],\"textposition\":\"auto\",\"x\":[\"Assault\",\"Auto Theft\",\"Break and Enter\",\"Robbery\",\"Theft Over\"],\"xaxis\":\"x\",\"y\":[0,0,0,0,0],\"yaxis\":\"y\",\"type\":\"bar\"}],                        {\"template\":{\"data\":{\"pie\":[{\"automargin\":true,\"type\":\"pie\"}]},\"layout\":{\"xaxis\":{\"showgrid\":true,\"title\":{\"standoff\":15}},\"yaxis\":{\"showgrid\":true,\"title\":{\"standoff\":15}}}},\"xaxis\":{\"anchor\":\"y\",\"domain\":[0.0,1.0],\"title\":{\"text\":\"MCI\"}},\"yaxis\":{\"anchor\":\"x\",\"domain\":[0.0,1.0],\"title\":{\"text\":\"Count\"},\"range\":[0,35]},\"legend\":{\"title\":{\"text\":\"DOW\"},\"tracegroupgap\":0},\"title\":{\"text\":\"Agincourt North Major Crime Indicators\"},\"barmode\":\"group\",\"height\":720,\"width\":1400,\"updatemenus\":[{\"buttons\":[{\"args\":[null,{\"frame\":{\"duration\":1000,\"redraw\":true},\"mode\":\"immediate\",\"fromcurrent\":true,\"transition\":{\"duration\":500,\"easing\":\"linear\"}}],\"label\":\"&#9654;\",\"method\":\"animate\"},{\"args\":[[null],{\"frame\":{\"duration\":0,\"redraw\":true},\"mode\":\"immediate\",\"fromcurrent\":true,\"transition\":{\"duration\":0,\"easing\":\"linear\"}}],\"label\":\"&#9724;\",\"method\":\"animate\"}],\"direction\":\"left\",\"pad\":{\"r\":10,\"t\":70},\"showactive\":false,\"type\":\"buttons\",\"x\":0.1,\"xanchor\":\"right\",\"y\":0,\"yanchor\":\"top\"}],\"sliders\":[{\"active\":0,\"currentvalue\":{\"prefix\":\"DOW=\"},\"len\":0.9,\"pad\":{\"b\":10,\"t\":60},\"steps\":[{\"args\":[[\"Monday\"],{\"frame\":{\"duration\":0,\"redraw\":true},\"mode\":\"immediate\",\"fromcurrent\":true,\"transition\":{\"duration\":0,\"easing\":\"linear\"}}],\"label\":\"Monday\",\"method\":\"animate\"},{\"args\":[[\"Tuesday\"],{\"frame\":{\"duration\":0,\"redraw\":true},\"mode\":\"immediate\",\"fromcurrent\":true,\"transition\":{\"duration\":0,\"easing\":\"linear\"}}],\"label\":\"Tuesday\",\"method\":\"animate\"},{\"args\":[[\"Wednesday\"],{\"frame\":{\"duration\":0,\"redraw\":true},\"mode\":\"immediate\",\"fromcurrent\":true,\"transition\":{\"duration\":0,\"easing\":\"linear\"}}],\"label\":\"Wednesday\",\"method\":\"animate\"},{\"args\":[[\"Thursday\"],{\"frame\":{\"duration\":0,\"redraw\":true},\"mode\":\"immediate\",\"fromcurrent\":true,\"transition\":{\"duration\":0,\"easing\":\"linear\"}}],\"label\":\"Thursday\",\"method\":\"animate\"},{\"args\":[[\"Friday\"],{\"frame\":{\"duration\":0,\"redraw\":true},\"mode\":\"immediate\",\"fromcurrent\":true,\"transition\":{\"duration\":0,\"easing\":\"linear\"}}],\"label\":\"Friday\",\"method\":\"animate\"},{\"args\":[[\"Saturday\"],{\"frame\":{\"duration\":0,\"redraw\":true},\"mode\":\"immediate\",\"fromcurrent\":true,\"transition\":{\"duration\":0,\"easing\":\"linear\"}}],\"label\":\"Saturday\",\"method\":\"animate\"},{\"args\":[[\"Sunday\"],{\"frame\":{\"duration\":0,\"redraw\":true},\"mode\":\"immediate\",\"fromcurrent\":true,\"transition\":{\"duration\":0,\"easing\":\"linear\"}}],\"label\":\"Sunday\",\"method\":\"animate\"}],\"x\":0.1,\"xanchor\":\"left\",\"y\":0,\"yanchor\":\"top\"}]},                        {\"responsive\": true}                    ).then(function(){\n",
       "                            Plotly.addFrames('e9bc4715-46a0-4d06-bed4-d28be81658d5', [{\"data\":[{\"alignmentgroup\":\"True\",\"hovertemplate\":\"DOW=Monday<br>MCI=%{text}<br>Count=%{y}<extra></extra>\",\"legendgroup\":\"Monday\",\"marker\":{\"color\":\"#1F77B4\",\"opacity\":0.9,\"pattern\":{\"shape\":\"\"}},\"name\":\"Monday\",\"offsetgroup\":\"Monday\",\"orientation\":\"v\",\"showlegend\":true,\"text\":[\"Assault\",\"Auto Theft\",\"Break and Enter\",\"Robbery\",\"Theft Over\"],\"textposition\":\"auto\",\"x\":[\"Assault\",\"Auto Theft\",\"Break and Enter\",\"Robbery\",\"Theft Over\"],\"xaxis\":\"x\",\"y\":[0,0,0,0,0],\"yaxis\":\"y\",\"type\":\"bar\"}],\"name\":\"Monday\"},{\"data\":[{\"alignmentgroup\":\"True\",\"hovertemplate\":\"DOW=Tuesday<br>MCI=%{text}<br>Count=%{y}<extra></extra>\",\"legendgroup\":\"Tuesday\",\"marker\":{\"color\":\"#FF7F0E\",\"opacity\":0.9,\"pattern\":{\"shape\":\"\"}},\"name\":\"Tuesday\",\"offsetgroup\":\"Tuesday\",\"orientation\":\"v\",\"showlegend\":true,\"text\":[\"Assault\",\"Auto Theft\",\"Break and Enter\",\"Robbery\",\"Theft Over\"],\"textposition\":\"auto\",\"x\":[\"Assault\",\"Auto Theft\",\"Break and Enter\",\"Robbery\",\"Theft Over\"],\"xaxis\":\"x\",\"y\":[0,1,0,0,0],\"yaxis\":\"y\",\"type\":\"bar\"}],\"name\":\"Tuesday\"},{\"data\":[{\"alignmentgroup\":\"True\",\"hovertemplate\":\"DOW=Wednesday<br>MCI=%{text}<br>Count=%{y}<extra></extra>\",\"legendgroup\":\"Wednesday\",\"marker\":{\"color\":\"#2CA02C\",\"opacity\":0.9,\"pattern\":{\"shape\":\"\"}},\"name\":\"Wednesday\",\"offsetgroup\":\"Wednesday\",\"orientation\":\"v\",\"showlegend\":true,\"text\":[\"Assault\",\"Auto Theft\",\"Break and Enter\",\"Robbery\",\"Theft Over\"],\"textposition\":\"auto\",\"x\":[\"Assault\",\"Auto Theft\",\"Break and Enter\",\"Robbery\",\"Theft Over\"],\"xaxis\":\"x\",\"y\":[3,0,0,0,0],\"yaxis\":\"y\",\"type\":\"bar\"}],\"name\":\"Wednesday\"},{\"data\":[{\"alignmentgroup\":\"True\",\"hovertemplate\":\"DOW=Thursday<br>MCI=%{text}<br>Count=%{y}<extra></extra>\",\"legendgroup\":\"Thursday\",\"marker\":{\"color\":\"#D62728\",\"opacity\":0.9,\"pattern\":{\"shape\":\"\"}},\"name\":\"Thursday\",\"offsetgroup\":\"Thursday\",\"orientation\":\"v\",\"showlegend\":true,\"text\":[\"Assault\",\"Auto Theft\",\"Break and Enter\",\"Robbery\",\"Theft Over\"],\"textposition\":\"auto\",\"x\":[\"Assault\",\"Auto Theft\",\"Break and Enter\",\"Robbery\",\"Theft Over\"],\"xaxis\":\"x\",\"y\":[0,0,0,0,0],\"yaxis\":\"y\",\"type\":\"bar\"}],\"name\":\"Thursday\"},{\"data\":[{\"alignmentgroup\":\"True\",\"hovertemplate\":\"DOW=Friday<br>MCI=%{text}<br>Count=%{y}<extra></extra>\",\"legendgroup\":\"Friday\",\"marker\":{\"color\":\"#9467BD\",\"opacity\":0.9,\"pattern\":{\"shape\":\"\"}},\"name\":\"Friday\",\"offsetgroup\":\"Friday\",\"orientation\":\"v\",\"showlegend\":true,\"text\":[\"Assault\",\"Auto Theft\",\"Break and Enter\",\"Robbery\",\"Theft Over\"],\"textposition\":\"auto\",\"x\":[\"Assault\",\"Auto Theft\",\"Break and Enter\",\"Robbery\",\"Theft Over\"],\"xaxis\":\"x\",\"y\":[0,0,0,0,0],\"yaxis\":\"y\",\"type\":\"bar\"}],\"name\":\"Friday\"},{\"data\":[{\"alignmentgroup\":\"True\",\"hovertemplate\":\"DOW=Saturday<br>MCI=%{text}<br>Count=%{y}<extra></extra>\",\"legendgroup\":\"Saturday\",\"marker\":{\"color\":\"#8C564B\",\"opacity\":0.9,\"pattern\":{\"shape\":\"\"}},\"name\":\"Saturday\",\"offsetgroup\":\"Saturday\",\"orientation\":\"v\",\"showlegend\":true,\"text\":[\"Assault\",\"Auto Theft\",\"Break and Enter\",\"Robbery\",\"Theft Over\"],\"textposition\":\"auto\",\"x\":[\"Assault\",\"Auto Theft\",\"Break and Enter\",\"Robbery\",\"Theft Over\"],\"xaxis\":\"x\",\"y\":[0,0,1,0,0],\"yaxis\":\"y\",\"type\":\"bar\"}],\"name\":\"Saturday\"},{\"data\":[{\"alignmentgroup\":\"True\",\"hovertemplate\":\"DOW=Sunday<br>MCI=%{text}<br>Count=%{y}<extra></extra>\",\"legendgroup\":\"Sunday\",\"marker\":{\"color\":\"#E377C2\",\"opacity\":0.9,\"pattern\":{\"shape\":\"\"}},\"name\":\"Sunday\",\"offsetgroup\":\"Sunday\",\"orientation\":\"v\",\"showlegend\":true,\"text\":[\"Assault\",\"Auto Theft\",\"Break and Enter\",\"Robbery\",\"Theft Over\"],\"textposition\":\"auto\",\"x\":[\"Assault\",\"Auto Theft\",\"Break and Enter\",\"Robbery\",\"Theft Over\"],\"xaxis\":\"x\",\"y\":[0,0,0,0,0],\"yaxis\":\"y\",\"type\":\"bar\"}],\"name\":\"Sunday\"}]);\n",
       "                        }).then(function(){\n",
       "                            \n",
       "var gd = document.getElementById('e9bc4715-46a0-4d06-bed4-d28be81658d5');\n",
       "var x = new MutationObserver(function (mutations, observer) {{\n",
       "        var display = window.getComputedStyle(gd).display;\n",
       "        if (!display || display === 'none') {{\n",
       "            console.log([gd, 'removed!']);\n",
       "            Plotly.purge(gd);\n",
       "            observer.disconnect();\n",
       "        }}\n",
       "}});\n",
       "\n",
       "// Listen for the removal of the full notebook cells\n",
       "var notebookContainer = gd.closest('#notebook-container');\n",
       "if (notebookContainer) {{\n",
       "    x.observe(notebookContainer, {childList: true});\n",
       "}}\n",
       "\n",
       "// Listen for the clearing of the current output cell\n",
       "var outputEl = gd.closest('.output');\n",
       "if (outputEl) {{\n",
       "    x.observe(outputEl, {childList: true});\n",
       "}}\n",
       "\n",
       "                        })                };                });            </script>        </div>"
      ]
     },
     "metadata": {},
     "output_type": "display_data"
    }
   ],
   "source": [
    "barchart1 = px.bar(\n",
    "    data_frame = df2,\n",
    "    x = \"MCI\",\n",
    "    y = \"Count\",\n",
    "    color = 'DOW',\n",
    "    text = 'MCI',\n",
    "    title = 'Agincourt North Major Crime Indicators',\n",
    "    width = 1400,\n",
    "    height = 720,\n",
    "    opacity = 0.9,\n",
    "    orientation = 'v',\n",
    "    barmode = 'group',\n",
    "    template = 'gridon',\n",
    "    \n",
    "    animation_frame = 'DOW',\n",
    "    range_y = [0,35],\n",
    "   \n",
    ")\n",
    "\n",
    "barchart1.layout.updatemenus[0].buttons[0].args[1]['frame']['duration'] = 1000\n",
    "barchart1.layout.updatemenus[0].buttons[0].args[1]['transition']['duration'] = 500\n",
    "\n",
    "barchart1.show()"
   ]
  },
  {
   "cell_type": "code",
   "execution_count": 56,
   "id": "453350bf",
   "metadata": {},
   "outputs": [
    {
     "data": {
      "application/vnd.plotly.v1+json": {
       "config": {
        "plotlyServerURL": "https://plot.ly"
       },
       "data": [
        {
         "alignmentgroup": "True",
         "hovertemplate": "DOW=Monday<br>MCI=%{text}<br>Count=%{y}<extra></extra>",
         "legendgroup": "Monday",
         "marker": {
          "color": "#1F77B4",
          "opacity": 0.9,
          "pattern": {
           "shape": ""
          }
         },
         "name": "Monday",
         "offsetgroup": "Monday",
         "orientation": "v",
         "showlegend": true,
         "text": [
          "Assault",
          "Auto Theft",
          "Break and Enter",
          "Robbery",
          "Theft Over"
         ],
         "textposition": "auto",
         "type": "bar",
         "x": [
          "Assault",
          "Auto Theft",
          "Break and Enter",
          "Robbery",
          "Theft Over"
         ],
         "xaxis": "x",
         "y": [
          1,
          0,
          0,
          0,
          0
         ],
         "yaxis": "y"
        }
       ],
       "frames": [
        {
         "data": [
          {
           "alignmentgroup": "True",
           "hovertemplate": "DOW=Monday<br>MCI=%{text}<br>Count=%{y}<extra></extra>",
           "legendgroup": "Monday",
           "marker": {
            "color": "#1F77B4",
            "opacity": 0.9,
            "pattern": {
             "shape": ""
            }
           },
           "name": "Monday",
           "offsetgroup": "Monday",
           "orientation": "v",
           "showlegend": true,
           "text": [
            "Assault",
            "Auto Theft",
            "Break and Enter",
            "Robbery",
            "Theft Over"
           ],
           "textposition": "auto",
           "type": "bar",
           "x": [
            "Assault",
            "Auto Theft",
            "Break and Enter",
            "Robbery",
            "Theft Over"
           ],
           "xaxis": "x",
           "y": [
            1,
            0,
            0,
            0,
            0
           ],
           "yaxis": "y"
          }
         ],
         "name": "Monday"
        },
        {
         "data": [
          {
           "alignmentgroup": "True",
           "hovertemplate": "DOW=Tuesday<br>MCI=%{text}<br>Count=%{y}<extra></extra>",
           "legendgroup": "Tuesday",
           "marker": {
            "color": "#FF7F0E",
            "opacity": 0.9,
            "pattern": {
             "shape": ""
            }
           },
           "name": "Tuesday",
           "offsetgroup": "Tuesday",
           "orientation": "v",
           "showlegend": true,
           "text": [
            "Assault",
            "Auto Theft",
            "Break and Enter",
            "Robbery",
            "Theft Over"
           ],
           "textposition": "auto",
           "type": "bar",
           "x": [
            "Assault",
            "Auto Theft",
            "Break and Enter",
            "Robbery",
            "Theft Over"
           ],
           "xaxis": "x",
           "y": [
            1,
            0,
            0,
            0,
            0
           ],
           "yaxis": "y"
          }
         ],
         "name": "Tuesday"
        },
        {
         "data": [
          {
           "alignmentgroup": "True",
           "hovertemplate": "DOW=Wednesday<br>MCI=%{text}<br>Count=%{y}<extra></extra>",
           "legendgroup": "Wednesday",
           "marker": {
            "color": "#2CA02C",
            "opacity": 0.9,
            "pattern": {
             "shape": ""
            }
           },
           "name": "Wednesday",
           "offsetgroup": "Wednesday",
           "orientation": "v",
           "showlegend": true,
           "text": [
            "Assault",
            "Auto Theft",
            "Break and Enter",
            "Robbery",
            "Theft Over"
           ],
           "textposition": "auto",
           "type": "bar",
           "x": [
            "Assault",
            "Auto Theft",
            "Break and Enter",
            "Robbery",
            "Theft Over"
           ],
           "xaxis": "x",
           "y": [
            0,
            0,
            0,
            0,
            0
           ],
           "yaxis": "y"
          }
         ],
         "name": "Wednesday"
        },
        {
         "data": [
          {
           "alignmentgroup": "True",
           "hovertemplate": "DOW=Thursday<br>MCI=%{text}<br>Count=%{y}<extra></extra>",
           "legendgroup": "Thursday",
           "marker": {
            "color": "#D62728",
            "opacity": 0.9,
            "pattern": {
             "shape": ""
            }
           },
           "name": "Thursday",
           "offsetgroup": "Thursday",
           "orientation": "v",
           "showlegend": true,
           "text": [
            "Assault",
            "Auto Theft",
            "Break and Enter",
            "Robbery",
            "Theft Over"
           ],
           "textposition": "auto",
           "type": "bar",
           "x": [
            "Assault",
            "Auto Theft",
            "Break and Enter",
            "Robbery",
            "Theft Over"
           ],
           "xaxis": "x",
           "y": [
            1,
            1,
            0,
            0,
            0
           ],
           "yaxis": "y"
          }
         ],
         "name": "Thursday"
        },
        {
         "data": [
          {
           "alignmentgroup": "True",
           "hovertemplate": "DOW=Friday<br>MCI=%{text}<br>Count=%{y}<extra></extra>",
           "legendgroup": "Friday",
           "marker": {
            "color": "#9467BD",
            "opacity": 0.9,
            "pattern": {
             "shape": ""
            }
           },
           "name": "Friday",
           "offsetgroup": "Friday",
           "orientation": "v",
           "showlegend": true,
           "text": [
            "Assault",
            "Auto Theft",
            "Break and Enter",
            "Robbery",
            "Theft Over"
           ],
           "textposition": "auto",
           "type": "bar",
           "x": [
            "Assault",
            "Auto Theft",
            "Break and Enter",
            "Robbery",
            "Theft Over"
           ],
           "xaxis": "x",
           "y": [
            0,
            0,
            0,
            0,
            0
           ],
           "yaxis": "y"
          }
         ],
         "name": "Friday"
        },
        {
         "data": [
          {
           "alignmentgroup": "True",
           "hovertemplate": "DOW=Saturday<br>MCI=%{text}<br>Count=%{y}<extra></extra>",
           "legendgroup": "Saturday",
           "marker": {
            "color": "#8C564B",
            "opacity": 0.9,
            "pattern": {
             "shape": ""
            }
           },
           "name": "Saturday",
           "offsetgroup": "Saturday",
           "orientation": "v",
           "showlegend": true,
           "text": [
            "Assault",
            "Auto Theft",
            "Break and Enter",
            "Robbery",
            "Theft Over"
           ],
           "textposition": "auto",
           "type": "bar",
           "x": [
            "Assault",
            "Auto Theft",
            "Break and Enter",
            "Robbery",
            "Theft Over"
           ],
           "xaxis": "x",
           "y": [
            2,
            0,
            0,
            0,
            0
           ],
           "yaxis": "y"
          }
         ],
         "name": "Saturday"
        },
        {
         "data": [
          {
           "alignmentgroup": "True",
           "hovertemplate": "DOW=Sunday<br>MCI=%{text}<br>Count=%{y}<extra></extra>",
           "legendgroup": "Sunday",
           "marker": {
            "color": "#E377C2",
            "opacity": 0.9,
            "pattern": {
             "shape": ""
            }
           },
           "name": "Sunday",
           "offsetgroup": "Sunday",
           "orientation": "v",
           "showlegend": true,
           "text": [
            "Assault",
            "Auto Theft",
            "Break and Enter",
            "Robbery",
            "Theft Over"
           ],
           "textposition": "auto",
           "type": "bar",
           "x": [
            "Assault",
            "Auto Theft",
            "Break and Enter",
            "Robbery",
            "Theft Over"
           ],
           "xaxis": "x",
           "y": [
            1,
            0,
            0,
            1,
            0
           ],
           "yaxis": "y"
          }
         ],
         "name": "Sunday"
        }
       ],
       "layout": {
        "barmode": "group",
        "height": 720,
        "legend": {
         "title": {
          "text": "DOW"
         },
         "tracegroupgap": 0
        },
        "sliders": [
         {
          "active": 0,
          "currentvalue": {
           "prefix": "DOW="
          },
          "len": 0.9,
          "pad": {
           "b": 10,
           "t": 60
          },
          "steps": [
           {
            "args": [
             [
              "Monday"
             ],
             {
              "frame": {
               "duration": 0,
               "redraw": true
              },
              "fromcurrent": true,
              "mode": "immediate",
              "transition": {
               "duration": 0,
               "easing": "linear"
              }
             }
            ],
            "label": "Monday",
            "method": "animate"
           },
           {
            "args": [
             [
              "Tuesday"
             ],
             {
              "frame": {
               "duration": 0,
               "redraw": true
              },
              "fromcurrent": true,
              "mode": "immediate",
              "transition": {
               "duration": 0,
               "easing": "linear"
              }
             }
            ],
            "label": "Tuesday",
            "method": "animate"
           },
           {
            "args": [
             [
              "Wednesday"
             ],
             {
              "frame": {
               "duration": 0,
               "redraw": true
              },
              "fromcurrent": true,
              "mode": "immediate",
              "transition": {
               "duration": 0,
               "easing": "linear"
              }
             }
            ],
            "label": "Wednesday",
            "method": "animate"
           },
           {
            "args": [
             [
              "Thursday"
             ],
             {
              "frame": {
               "duration": 0,
               "redraw": true
              },
              "fromcurrent": true,
              "mode": "immediate",
              "transition": {
               "duration": 0,
               "easing": "linear"
              }
             }
            ],
            "label": "Thursday",
            "method": "animate"
           },
           {
            "args": [
             [
              "Friday"
             ],
             {
              "frame": {
               "duration": 0,
               "redraw": true
              },
              "fromcurrent": true,
              "mode": "immediate",
              "transition": {
               "duration": 0,
               "easing": "linear"
              }
             }
            ],
            "label": "Friday",
            "method": "animate"
           },
           {
            "args": [
             [
              "Saturday"
             ],
             {
              "frame": {
               "duration": 0,
               "redraw": true
              },
              "fromcurrent": true,
              "mode": "immediate",
              "transition": {
               "duration": 0,
               "easing": "linear"
              }
             }
            ],
            "label": "Saturday",
            "method": "animate"
           },
           {
            "args": [
             [
              "Sunday"
             ],
             {
              "frame": {
               "duration": 0,
               "redraw": true
              },
              "fromcurrent": true,
              "mode": "immediate",
              "transition": {
               "duration": 0,
               "easing": "linear"
              }
             }
            ],
            "label": "Sunday",
            "method": "animate"
           }
          ],
          "x": 0.1,
          "xanchor": "left",
          "y": 0,
          "yanchor": "top"
         }
        ],
        "template": {
         "data": {
          "pie": [
           {
            "automargin": true,
            "type": "pie"
           }
          ]
         },
         "layout": {
          "xaxis": {
           "showgrid": true,
           "title": {
            "standoff": 15
           }
          },
          "yaxis": {
           "showgrid": true,
           "title": {
            "standoff": 15
           }
          }
         }
        },
        "title": {
         "text": "Agincourt South-Malvern West Major Crime Indicators"
        },
        "updatemenus": [
         {
          "buttons": [
           {
            "args": [
             null,
             {
              "frame": {
               "duration": 1000,
               "redraw": true
              },
              "fromcurrent": true,
              "mode": "immediate",
              "transition": {
               "duration": 500,
               "easing": "linear"
              }
             }
            ],
            "label": "&#9654;",
            "method": "animate"
           },
           {
            "args": [
             [
              null
             ],
             {
              "frame": {
               "duration": 0,
               "redraw": true
              },
              "fromcurrent": true,
              "mode": "immediate",
              "transition": {
               "duration": 0,
               "easing": "linear"
              }
             }
            ],
            "label": "&#9724;",
            "method": "animate"
           }
          ],
          "direction": "left",
          "pad": {
           "r": 10,
           "t": 70
          },
          "showactive": false,
          "type": "buttons",
          "x": 0.1,
          "xanchor": "right",
          "y": 0,
          "yanchor": "top"
         }
        ],
        "width": 1400,
        "xaxis": {
         "anchor": "y",
         "domain": [
          0,
          1
         ],
         "title": {
          "text": "MCI"
         }
        },
        "yaxis": {
         "anchor": "x",
         "domain": [
          0,
          1
         ],
         "range": [
          0,
          35
         ],
         "title": {
          "text": "Count"
         }
        }
       }
      },
      "text/html": [
       "<div>                            <div id=\"08d965a1-173f-4f27-a2be-afa8588a4779\" class=\"plotly-graph-div\" style=\"height:720px; width:1400px;\"></div>            <script type=\"text/javascript\">                require([\"plotly\"], function(Plotly) {                    window.PLOTLYENV=window.PLOTLYENV || {};                                    if (document.getElementById(\"08d965a1-173f-4f27-a2be-afa8588a4779\")) {                    Plotly.newPlot(                        \"08d965a1-173f-4f27-a2be-afa8588a4779\",                        [{\"alignmentgroup\":\"True\",\"hovertemplate\":\"DOW=Monday<br>MCI=%{text}<br>Count=%{y}<extra></extra>\",\"legendgroup\":\"Monday\",\"marker\":{\"color\":\"#1F77B4\",\"opacity\":0.9,\"pattern\":{\"shape\":\"\"}},\"name\":\"Monday\",\"offsetgroup\":\"Monday\",\"orientation\":\"v\",\"showlegend\":true,\"text\":[\"Assault\",\"Auto Theft\",\"Break and Enter\",\"Robbery\",\"Theft Over\"],\"textposition\":\"auto\",\"x\":[\"Assault\",\"Auto Theft\",\"Break and Enter\",\"Robbery\",\"Theft Over\"],\"xaxis\":\"x\",\"y\":[1,0,0,0,0],\"yaxis\":\"y\",\"type\":\"bar\"}],                        {\"template\":{\"data\":{\"pie\":[{\"automargin\":true,\"type\":\"pie\"}]},\"layout\":{\"xaxis\":{\"showgrid\":true,\"title\":{\"standoff\":15}},\"yaxis\":{\"showgrid\":true,\"title\":{\"standoff\":15}}}},\"xaxis\":{\"anchor\":\"y\",\"domain\":[0.0,1.0],\"title\":{\"text\":\"MCI\"}},\"yaxis\":{\"anchor\":\"x\",\"domain\":[0.0,1.0],\"title\":{\"text\":\"Count\"},\"range\":[0,35]},\"legend\":{\"title\":{\"text\":\"DOW\"},\"tracegroupgap\":0},\"title\":{\"text\":\"Agincourt South-Malvern West Major Crime Indicators\"},\"barmode\":\"group\",\"height\":720,\"width\":1400,\"updatemenus\":[{\"buttons\":[{\"args\":[null,{\"frame\":{\"duration\":1000,\"redraw\":true},\"mode\":\"immediate\",\"fromcurrent\":true,\"transition\":{\"duration\":500,\"easing\":\"linear\"}}],\"label\":\"&#9654;\",\"method\":\"animate\"},{\"args\":[[null],{\"frame\":{\"duration\":0,\"redraw\":true},\"mode\":\"immediate\",\"fromcurrent\":true,\"transition\":{\"duration\":0,\"easing\":\"linear\"}}],\"label\":\"&#9724;\",\"method\":\"animate\"}],\"direction\":\"left\",\"pad\":{\"r\":10,\"t\":70},\"showactive\":false,\"type\":\"buttons\",\"x\":0.1,\"xanchor\":\"right\",\"y\":0,\"yanchor\":\"top\"}],\"sliders\":[{\"active\":0,\"currentvalue\":{\"prefix\":\"DOW=\"},\"len\":0.9,\"pad\":{\"b\":10,\"t\":60},\"steps\":[{\"args\":[[\"Monday\"],{\"frame\":{\"duration\":0,\"redraw\":true},\"mode\":\"immediate\",\"fromcurrent\":true,\"transition\":{\"duration\":0,\"easing\":\"linear\"}}],\"label\":\"Monday\",\"method\":\"animate\"},{\"args\":[[\"Tuesday\"],{\"frame\":{\"duration\":0,\"redraw\":true},\"mode\":\"immediate\",\"fromcurrent\":true,\"transition\":{\"duration\":0,\"easing\":\"linear\"}}],\"label\":\"Tuesday\",\"method\":\"animate\"},{\"args\":[[\"Wednesday\"],{\"frame\":{\"duration\":0,\"redraw\":true},\"mode\":\"immediate\",\"fromcurrent\":true,\"transition\":{\"duration\":0,\"easing\":\"linear\"}}],\"label\":\"Wednesday\",\"method\":\"animate\"},{\"args\":[[\"Thursday\"],{\"frame\":{\"duration\":0,\"redraw\":true},\"mode\":\"immediate\",\"fromcurrent\":true,\"transition\":{\"duration\":0,\"easing\":\"linear\"}}],\"label\":\"Thursday\",\"method\":\"animate\"},{\"args\":[[\"Friday\"],{\"frame\":{\"duration\":0,\"redraw\":true},\"mode\":\"immediate\",\"fromcurrent\":true,\"transition\":{\"duration\":0,\"easing\":\"linear\"}}],\"label\":\"Friday\",\"method\":\"animate\"},{\"args\":[[\"Saturday\"],{\"frame\":{\"duration\":0,\"redraw\":true},\"mode\":\"immediate\",\"fromcurrent\":true,\"transition\":{\"duration\":0,\"easing\":\"linear\"}}],\"label\":\"Saturday\",\"method\":\"animate\"},{\"args\":[[\"Sunday\"],{\"frame\":{\"duration\":0,\"redraw\":true},\"mode\":\"immediate\",\"fromcurrent\":true,\"transition\":{\"duration\":0,\"easing\":\"linear\"}}],\"label\":\"Sunday\",\"method\":\"animate\"}],\"x\":0.1,\"xanchor\":\"left\",\"y\":0,\"yanchor\":\"top\"}]},                        {\"responsive\": true}                    ).then(function(){\n",
       "                            Plotly.addFrames('08d965a1-173f-4f27-a2be-afa8588a4779', [{\"data\":[{\"alignmentgroup\":\"True\",\"hovertemplate\":\"DOW=Monday<br>MCI=%{text}<br>Count=%{y}<extra></extra>\",\"legendgroup\":\"Monday\",\"marker\":{\"color\":\"#1F77B4\",\"opacity\":0.9,\"pattern\":{\"shape\":\"\"}},\"name\":\"Monday\",\"offsetgroup\":\"Monday\",\"orientation\":\"v\",\"showlegend\":true,\"text\":[\"Assault\",\"Auto Theft\",\"Break and Enter\",\"Robbery\",\"Theft Over\"],\"textposition\":\"auto\",\"x\":[\"Assault\",\"Auto Theft\",\"Break and Enter\",\"Robbery\",\"Theft Over\"],\"xaxis\":\"x\",\"y\":[1,0,0,0,0],\"yaxis\":\"y\",\"type\":\"bar\"}],\"name\":\"Monday\"},{\"data\":[{\"alignmentgroup\":\"True\",\"hovertemplate\":\"DOW=Tuesday<br>MCI=%{text}<br>Count=%{y}<extra></extra>\",\"legendgroup\":\"Tuesday\",\"marker\":{\"color\":\"#FF7F0E\",\"opacity\":0.9,\"pattern\":{\"shape\":\"\"}},\"name\":\"Tuesday\",\"offsetgroup\":\"Tuesday\",\"orientation\":\"v\",\"showlegend\":true,\"text\":[\"Assault\",\"Auto Theft\",\"Break and Enter\",\"Robbery\",\"Theft Over\"],\"textposition\":\"auto\",\"x\":[\"Assault\",\"Auto Theft\",\"Break and Enter\",\"Robbery\",\"Theft Over\"],\"xaxis\":\"x\",\"y\":[1,0,0,0,0],\"yaxis\":\"y\",\"type\":\"bar\"}],\"name\":\"Tuesday\"},{\"data\":[{\"alignmentgroup\":\"True\",\"hovertemplate\":\"DOW=Wednesday<br>MCI=%{text}<br>Count=%{y}<extra></extra>\",\"legendgroup\":\"Wednesday\",\"marker\":{\"color\":\"#2CA02C\",\"opacity\":0.9,\"pattern\":{\"shape\":\"\"}},\"name\":\"Wednesday\",\"offsetgroup\":\"Wednesday\",\"orientation\":\"v\",\"showlegend\":true,\"text\":[\"Assault\",\"Auto Theft\",\"Break and Enter\",\"Robbery\",\"Theft Over\"],\"textposition\":\"auto\",\"x\":[\"Assault\",\"Auto Theft\",\"Break and Enter\",\"Robbery\",\"Theft Over\"],\"xaxis\":\"x\",\"y\":[0,0,0,0,0],\"yaxis\":\"y\",\"type\":\"bar\"}],\"name\":\"Wednesday\"},{\"data\":[{\"alignmentgroup\":\"True\",\"hovertemplate\":\"DOW=Thursday<br>MCI=%{text}<br>Count=%{y}<extra></extra>\",\"legendgroup\":\"Thursday\",\"marker\":{\"color\":\"#D62728\",\"opacity\":0.9,\"pattern\":{\"shape\":\"\"}},\"name\":\"Thursday\",\"offsetgroup\":\"Thursday\",\"orientation\":\"v\",\"showlegend\":true,\"text\":[\"Assault\",\"Auto Theft\",\"Break and Enter\",\"Robbery\",\"Theft Over\"],\"textposition\":\"auto\",\"x\":[\"Assault\",\"Auto Theft\",\"Break and Enter\",\"Robbery\",\"Theft Over\"],\"xaxis\":\"x\",\"y\":[1,1,0,0,0],\"yaxis\":\"y\",\"type\":\"bar\"}],\"name\":\"Thursday\"},{\"data\":[{\"alignmentgroup\":\"True\",\"hovertemplate\":\"DOW=Friday<br>MCI=%{text}<br>Count=%{y}<extra></extra>\",\"legendgroup\":\"Friday\",\"marker\":{\"color\":\"#9467BD\",\"opacity\":0.9,\"pattern\":{\"shape\":\"\"}},\"name\":\"Friday\",\"offsetgroup\":\"Friday\",\"orientation\":\"v\",\"showlegend\":true,\"text\":[\"Assault\",\"Auto Theft\",\"Break and Enter\",\"Robbery\",\"Theft Over\"],\"textposition\":\"auto\",\"x\":[\"Assault\",\"Auto Theft\",\"Break and Enter\",\"Robbery\",\"Theft Over\"],\"xaxis\":\"x\",\"y\":[0,0,0,0,0],\"yaxis\":\"y\",\"type\":\"bar\"}],\"name\":\"Friday\"},{\"data\":[{\"alignmentgroup\":\"True\",\"hovertemplate\":\"DOW=Saturday<br>MCI=%{text}<br>Count=%{y}<extra></extra>\",\"legendgroup\":\"Saturday\",\"marker\":{\"color\":\"#8C564B\",\"opacity\":0.9,\"pattern\":{\"shape\":\"\"}},\"name\":\"Saturday\",\"offsetgroup\":\"Saturday\",\"orientation\":\"v\",\"showlegend\":true,\"text\":[\"Assault\",\"Auto Theft\",\"Break and Enter\",\"Robbery\",\"Theft Over\"],\"textposition\":\"auto\",\"x\":[\"Assault\",\"Auto Theft\",\"Break and Enter\",\"Robbery\",\"Theft Over\"],\"xaxis\":\"x\",\"y\":[2,0,0,0,0],\"yaxis\":\"y\",\"type\":\"bar\"}],\"name\":\"Saturday\"},{\"data\":[{\"alignmentgroup\":\"True\",\"hovertemplate\":\"DOW=Sunday<br>MCI=%{text}<br>Count=%{y}<extra></extra>\",\"legendgroup\":\"Sunday\",\"marker\":{\"color\":\"#E377C2\",\"opacity\":0.9,\"pattern\":{\"shape\":\"\"}},\"name\":\"Sunday\",\"offsetgroup\":\"Sunday\",\"orientation\":\"v\",\"showlegend\":true,\"text\":[\"Assault\",\"Auto Theft\",\"Break and Enter\",\"Robbery\",\"Theft Over\"],\"textposition\":\"auto\",\"x\":[\"Assault\",\"Auto Theft\",\"Break and Enter\",\"Robbery\",\"Theft Over\"],\"xaxis\":\"x\",\"y\":[1,0,0,1,0],\"yaxis\":\"y\",\"type\":\"bar\"}],\"name\":\"Sunday\"}]);\n",
       "                        }).then(function(){\n",
       "                            \n",
       "var gd = document.getElementById('08d965a1-173f-4f27-a2be-afa8588a4779');\n",
       "var x = new MutationObserver(function (mutations, observer) {{\n",
       "        var display = window.getComputedStyle(gd).display;\n",
       "        if (!display || display === 'none') {{\n",
       "            console.log([gd, 'removed!']);\n",
       "            Plotly.purge(gd);\n",
       "            observer.disconnect();\n",
       "        }}\n",
       "}});\n",
       "\n",
       "// Listen for the removal of the full notebook cells\n",
       "var notebookContainer = gd.closest('#notebook-container');\n",
       "if (notebookContainer) {{\n",
       "    x.observe(notebookContainer, {childList: true});\n",
       "}}\n",
       "\n",
       "// Listen for the clearing of the current output cell\n",
       "var outputEl = gd.closest('.output');\n",
       "if (outputEl) {{\n",
       "    x.observe(outputEl, {childList: true});\n",
       "}}\n",
       "\n",
       "                        })                };                });            </script>        </div>"
      ]
     },
     "metadata": {},
     "output_type": "display_data"
    }
   ],
   "source": [
    "barchart2 = px.bar(\n",
    "    data_frame = df3,\n",
    "    x = \"MCI\",\n",
    "    y = \"Count\",\n",
    "    color = 'DOW',\n",
    "    text = 'MCI',\n",
    "    title = 'Agincourt South-Malvern West Major Crime Indicators',\n",
    "    width = 1400,\n",
    "    height = 720,\n",
    "    opacity = 0.9,\n",
    "    orientation = 'v',\n",
    "    barmode = 'group',\n",
    "    template = 'gridon',\n",
    "    \n",
    "    animation_frame = 'DOW',\n",
    "    range_y = [0,35],\n",
    "   \n",
    ")\n",
    "\n",
    "barchart2.layout.updatemenus[0].buttons[0].args[1]['frame']['duration'] = 1000\n",
    "barchart2.layout.updatemenus[0].buttons[0].args[1]['transition']['duration'] = 500\n",
    "\n",
    "barchart2.show()"
   ]
  },
  {
   "cell_type": "code",
   "execution_count": 57,
   "id": "f317dbd2",
   "metadata": {},
   "outputs": [
    {
     "data": {
      "application/vnd.plotly.v1+json": {
       "config": {
        "plotlyServerURL": "https://plot.ly"
       },
       "data": [
        {
         "alignmentgroup": "True",
         "hovertemplate": "DOW=Monday<br>MCI=%{text}<br>Count=%{y}<extra></extra>",
         "legendgroup": "Monday",
         "marker": {
          "color": "#1F77B4",
          "opacity": 0.9,
          "pattern": {
           "shape": ""
          }
         },
         "name": "Monday",
         "offsetgroup": "Monday",
         "orientation": "v",
         "showlegend": true,
         "text": [
          "Assault",
          "Auto Theft",
          "Break and Enter",
          "Robbery",
          "Theft Over"
         ],
         "textposition": "auto",
         "type": "bar",
         "x": [
          "Assault",
          "Auto Theft",
          "Break and Enter",
          "Robbery",
          "Theft Over"
         ],
         "xaxis": "x",
         "y": [
          2,
          0,
          0,
          1,
          0
         ],
         "yaxis": "y"
        }
       ],
       "frames": [
        {
         "data": [
          {
           "alignmentgroup": "True",
           "hovertemplate": "DOW=Monday<br>MCI=%{text}<br>Count=%{y}<extra></extra>",
           "legendgroup": "Monday",
           "marker": {
            "color": "#1F77B4",
            "opacity": 0.9,
            "pattern": {
             "shape": ""
            }
           },
           "name": "Monday",
           "offsetgroup": "Monday",
           "orientation": "v",
           "showlegend": true,
           "text": [
            "Assault",
            "Auto Theft",
            "Break and Enter",
            "Robbery",
            "Theft Over"
           ],
           "textposition": "auto",
           "type": "bar",
           "x": [
            "Assault",
            "Auto Theft",
            "Break and Enter",
            "Robbery",
            "Theft Over"
           ],
           "xaxis": "x",
           "y": [
            2,
            0,
            0,
            1,
            0
           ],
           "yaxis": "y"
          }
         ],
         "name": "Monday"
        },
        {
         "data": [
          {
           "alignmentgroup": "True",
           "hovertemplate": "DOW=Tuesday<br>MCI=%{text}<br>Count=%{y}<extra></extra>",
           "legendgroup": "Tuesday",
           "marker": {
            "color": "#FF7F0E",
            "opacity": 0.9,
            "pattern": {
             "shape": ""
            }
           },
           "name": "Tuesday",
           "offsetgroup": "Tuesday",
           "orientation": "v",
           "showlegend": true,
           "text": [
            "Assault",
            "Auto Theft",
            "Break and Enter",
            "Robbery",
            "Theft Over"
           ],
           "textposition": "auto",
           "type": "bar",
           "x": [
            "Assault",
            "Auto Theft",
            "Break and Enter",
            "Robbery",
            "Theft Over"
           ],
           "xaxis": "x",
           "y": [
            0,
            1,
            0,
            0,
            0
           ],
           "yaxis": "y"
          }
         ],
         "name": "Tuesday"
        },
        {
         "data": [
          {
           "alignmentgroup": "True",
           "hovertemplate": "DOW=Wednesday<br>MCI=%{text}<br>Count=%{y}<extra></extra>",
           "legendgroup": "Wednesday",
           "marker": {
            "color": "#2CA02C",
            "opacity": 0.9,
            "pattern": {
             "shape": ""
            }
           },
           "name": "Wednesday",
           "offsetgroup": "Wednesday",
           "orientation": "v",
           "showlegend": true,
           "text": [
            "Assault",
            "Auto Theft",
            "Break and Enter",
            "Robbery",
            "Theft Over"
           ],
           "textposition": "auto",
           "type": "bar",
           "x": [
            "Assault",
            "Auto Theft",
            "Break and Enter",
            "Robbery",
            "Theft Over"
           ],
           "xaxis": "x",
           "y": [
            0,
            0,
            0,
            0,
            0
           ],
           "yaxis": "y"
          }
         ],
         "name": "Wednesday"
        },
        {
         "data": [
          {
           "alignmentgroup": "True",
           "hovertemplate": "DOW=Thursday<br>MCI=%{text}<br>Count=%{y}<extra></extra>",
           "legendgroup": "Thursday",
           "marker": {
            "color": "#D62728",
            "opacity": 0.9,
            "pattern": {
             "shape": ""
            }
           },
           "name": "Thursday",
           "offsetgroup": "Thursday",
           "orientation": "v",
           "showlegend": true,
           "text": [
            "Assault",
            "Auto Theft",
            "Break and Enter",
            "Robbery",
            "Theft Over"
           ],
           "textposition": "auto",
           "type": "bar",
           "x": [
            "Assault",
            "Auto Theft",
            "Break and Enter",
            "Robbery",
            "Theft Over"
           ],
           "xaxis": "x",
           "y": [
            0,
            0,
            0,
            0,
            0
           ],
           "yaxis": "y"
          }
         ],
         "name": "Thursday"
        },
        {
         "data": [
          {
           "alignmentgroup": "True",
           "hovertemplate": "DOW=Friday<br>MCI=%{text}<br>Count=%{y}<extra></extra>",
           "legendgroup": "Friday",
           "marker": {
            "color": "#9467BD",
            "opacity": 0.9,
            "pattern": {
             "shape": ""
            }
           },
           "name": "Friday",
           "offsetgroup": "Friday",
           "orientation": "v",
           "showlegend": true,
           "text": [
            "Assault",
            "Auto Theft",
            "Break and Enter",
            "Robbery",
            "Theft Over"
           ],
           "textposition": "auto",
           "type": "bar",
           "x": [
            "Assault",
            "Auto Theft",
            "Break and Enter",
            "Robbery",
            "Theft Over"
           ],
           "xaxis": "x",
           "y": [
            0,
            0,
            0,
            0,
            0
           ],
           "yaxis": "y"
          }
         ],
         "name": "Friday"
        },
        {
         "data": [
          {
           "alignmentgroup": "True",
           "hovertemplate": "DOW=Saturday<br>MCI=%{text}<br>Count=%{y}<extra></extra>",
           "legendgroup": "Saturday",
           "marker": {
            "color": "#8C564B",
            "opacity": 0.9,
            "pattern": {
             "shape": ""
            }
           },
           "name": "Saturday",
           "offsetgroup": "Saturday",
           "orientation": "v",
           "showlegend": true,
           "text": [
            "Assault",
            "Auto Theft",
            "Break and Enter",
            "Robbery",
            "Theft Over"
           ],
           "textposition": "auto",
           "type": "bar",
           "x": [
            "Assault",
            "Auto Theft",
            "Break and Enter",
            "Robbery",
            "Theft Over"
           ],
           "xaxis": "x",
           "y": [
            3,
            0,
            0,
            0,
            0
           ],
           "yaxis": "y"
          }
         ],
         "name": "Saturday"
        },
        {
         "data": [
          {
           "alignmentgroup": "True",
           "hovertemplate": "DOW=Sunday<br>MCI=%{text}<br>Count=%{y}<extra></extra>",
           "legendgroup": "Sunday",
           "marker": {
            "color": "#E377C2",
            "opacity": 0.9,
            "pattern": {
             "shape": ""
            }
           },
           "name": "Sunday",
           "offsetgroup": "Sunday",
           "orientation": "v",
           "showlegend": true,
           "text": [
            "Assault",
            "Auto Theft",
            "Break and Enter",
            "Robbery",
            "Theft Over"
           ],
           "textposition": "auto",
           "type": "bar",
           "x": [
            "Assault",
            "Auto Theft",
            "Break and Enter",
            "Robbery",
            "Theft Over"
           ],
           "xaxis": "x",
           "y": [
            2,
            0,
            0,
            0,
            0
           ],
           "yaxis": "y"
          }
         ],
         "name": "Sunday"
        }
       ],
       "layout": {
        "barmode": "group",
        "height": 720,
        "legend": {
         "title": {
          "text": "DOW"
         },
         "tracegroupgap": 0
        },
        "sliders": [
         {
          "active": 0,
          "currentvalue": {
           "prefix": "DOW="
          },
          "len": 0.9,
          "pad": {
           "b": 10,
           "t": 60
          },
          "steps": [
           {
            "args": [
             [
              "Monday"
             ],
             {
              "frame": {
               "duration": 0,
               "redraw": true
              },
              "fromcurrent": true,
              "mode": "immediate",
              "transition": {
               "duration": 0,
               "easing": "linear"
              }
             }
            ],
            "label": "Monday",
            "method": "animate"
           },
           {
            "args": [
             [
              "Tuesday"
             ],
             {
              "frame": {
               "duration": 0,
               "redraw": true
              },
              "fromcurrent": true,
              "mode": "immediate",
              "transition": {
               "duration": 0,
               "easing": "linear"
              }
             }
            ],
            "label": "Tuesday",
            "method": "animate"
           },
           {
            "args": [
             [
              "Wednesday"
             ],
             {
              "frame": {
               "duration": 0,
               "redraw": true
              },
              "fromcurrent": true,
              "mode": "immediate",
              "transition": {
               "duration": 0,
               "easing": "linear"
              }
             }
            ],
            "label": "Wednesday",
            "method": "animate"
           },
           {
            "args": [
             [
              "Thursday"
             ],
             {
              "frame": {
               "duration": 0,
               "redraw": true
              },
              "fromcurrent": true,
              "mode": "immediate",
              "transition": {
               "duration": 0,
               "easing": "linear"
              }
             }
            ],
            "label": "Thursday",
            "method": "animate"
           },
           {
            "args": [
             [
              "Friday"
             ],
             {
              "frame": {
               "duration": 0,
               "redraw": true
              },
              "fromcurrent": true,
              "mode": "immediate",
              "transition": {
               "duration": 0,
               "easing": "linear"
              }
             }
            ],
            "label": "Friday",
            "method": "animate"
           },
           {
            "args": [
             [
              "Saturday"
             ],
             {
              "frame": {
               "duration": 0,
               "redraw": true
              },
              "fromcurrent": true,
              "mode": "immediate",
              "transition": {
               "duration": 0,
               "easing": "linear"
              }
             }
            ],
            "label": "Saturday",
            "method": "animate"
           },
           {
            "args": [
             [
              "Sunday"
             ],
             {
              "frame": {
               "duration": 0,
               "redraw": true
              },
              "fromcurrent": true,
              "mode": "immediate",
              "transition": {
               "duration": 0,
               "easing": "linear"
              }
             }
            ],
            "label": "Sunday",
            "method": "animate"
           }
          ],
          "x": 0.1,
          "xanchor": "left",
          "y": 0,
          "yanchor": "top"
         }
        ],
        "template": {
         "data": {
          "pie": [
           {
            "automargin": true,
            "type": "pie"
           }
          ]
         },
         "layout": {
          "xaxis": {
           "showgrid": true,
           "title": {
            "standoff": 15
           }
          },
          "yaxis": {
           "showgrid": true,
           "title": {
            "standoff": 15
           }
          }
         }
        },
        "title": {
         "text": "LAmoreaux Major Crime Indicators"
        },
        "updatemenus": [
         {
          "buttons": [
           {
            "args": [
             null,
             {
              "frame": {
               "duration": 1000,
               "redraw": true
              },
              "fromcurrent": true,
              "mode": "immediate",
              "transition": {
               "duration": 500,
               "easing": "linear"
              }
             }
            ],
            "label": "&#9654;",
            "method": "animate"
           },
           {
            "args": [
             [
              null
             ],
             {
              "frame": {
               "duration": 0,
               "redraw": true
              },
              "fromcurrent": true,
              "mode": "immediate",
              "transition": {
               "duration": 0,
               "easing": "linear"
              }
             }
            ],
            "label": "&#9724;",
            "method": "animate"
           }
          ],
          "direction": "left",
          "pad": {
           "r": 10,
           "t": 70
          },
          "showactive": false,
          "type": "buttons",
          "x": 0.1,
          "xanchor": "right",
          "y": 0,
          "yanchor": "top"
         }
        ],
        "width": 1400,
        "xaxis": {
         "anchor": "y",
         "domain": [
          0,
          1
         ],
         "title": {
          "text": "MCI"
         }
        },
        "yaxis": {
         "anchor": "x",
         "domain": [
          0,
          1
         ],
         "range": [
          0,
          35
         ],
         "title": {
          "text": "Count"
         }
        }
       }
      },
      "text/html": [
       "<div>                            <div id=\"8e660fe0-9600-4ee9-856f-242f8c3394ee\" class=\"plotly-graph-div\" style=\"height:720px; width:1400px;\"></div>            <script type=\"text/javascript\">                require([\"plotly\"], function(Plotly) {                    window.PLOTLYENV=window.PLOTLYENV || {};                                    if (document.getElementById(\"8e660fe0-9600-4ee9-856f-242f8c3394ee\")) {                    Plotly.newPlot(                        \"8e660fe0-9600-4ee9-856f-242f8c3394ee\",                        [{\"alignmentgroup\":\"True\",\"hovertemplate\":\"DOW=Monday<br>MCI=%{text}<br>Count=%{y}<extra></extra>\",\"legendgroup\":\"Monday\",\"marker\":{\"color\":\"#1F77B4\",\"opacity\":0.9,\"pattern\":{\"shape\":\"\"}},\"name\":\"Monday\",\"offsetgroup\":\"Monday\",\"orientation\":\"v\",\"showlegend\":true,\"text\":[\"Assault\",\"Auto Theft\",\"Break and Enter\",\"Robbery\",\"Theft Over\"],\"textposition\":\"auto\",\"x\":[\"Assault\",\"Auto Theft\",\"Break and Enter\",\"Robbery\",\"Theft Over\"],\"xaxis\":\"x\",\"y\":[2,0,0,1,0],\"yaxis\":\"y\",\"type\":\"bar\"}],                        {\"template\":{\"data\":{\"pie\":[{\"automargin\":true,\"type\":\"pie\"}]},\"layout\":{\"xaxis\":{\"showgrid\":true,\"title\":{\"standoff\":15}},\"yaxis\":{\"showgrid\":true,\"title\":{\"standoff\":15}}}},\"xaxis\":{\"anchor\":\"y\",\"domain\":[0.0,1.0],\"title\":{\"text\":\"MCI\"}},\"yaxis\":{\"anchor\":\"x\",\"domain\":[0.0,1.0],\"title\":{\"text\":\"Count\"},\"range\":[0,35]},\"legend\":{\"title\":{\"text\":\"DOW\"},\"tracegroupgap\":0},\"title\":{\"text\":\"LAmoreaux Major Crime Indicators\"},\"barmode\":\"group\",\"height\":720,\"width\":1400,\"updatemenus\":[{\"buttons\":[{\"args\":[null,{\"frame\":{\"duration\":1000,\"redraw\":true},\"mode\":\"immediate\",\"fromcurrent\":true,\"transition\":{\"duration\":500,\"easing\":\"linear\"}}],\"label\":\"&#9654;\",\"method\":\"animate\"},{\"args\":[[null],{\"frame\":{\"duration\":0,\"redraw\":true},\"mode\":\"immediate\",\"fromcurrent\":true,\"transition\":{\"duration\":0,\"easing\":\"linear\"}}],\"label\":\"&#9724;\",\"method\":\"animate\"}],\"direction\":\"left\",\"pad\":{\"r\":10,\"t\":70},\"showactive\":false,\"type\":\"buttons\",\"x\":0.1,\"xanchor\":\"right\",\"y\":0,\"yanchor\":\"top\"}],\"sliders\":[{\"active\":0,\"currentvalue\":{\"prefix\":\"DOW=\"},\"len\":0.9,\"pad\":{\"b\":10,\"t\":60},\"steps\":[{\"args\":[[\"Monday\"],{\"frame\":{\"duration\":0,\"redraw\":true},\"mode\":\"immediate\",\"fromcurrent\":true,\"transition\":{\"duration\":0,\"easing\":\"linear\"}}],\"label\":\"Monday\",\"method\":\"animate\"},{\"args\":[[\"Tuesday\"],{\"frame\":{\"duration\":0,\"redraw\":true},\"mode\":\"immediate\",\"fromcurrent\":true,\"transition\":{\"duration\":0,\"easing\":\"linear\"}}],\"label\":\"Tuesday\",\"method\":\"animate\"},{\"args\":[[\"Wednesday\"],{\"frame\":{\"duration\":0,\"redraw\":true},\"mode\":\"immediate\",\"fromcurrent\":true,\"transition\":{\"duration\":0,\"easing\":\"linear\"}}],\"label\":\"Wednesday\",\"method\":\"animate\"},{\"args\":[[\"Thursday\"],{\"frame\":{\"duration\":0,\"redraw\":true},\"mode\":\"immediate\",\"fromcurrent\":true,\"transition\":{\"duration\":0,\"easing\":\"linear\"}}],\"label\":\"Thursday\",\"method\":\"animate\"},{\"args\":[[\"Friday\"],{\"frame\":{\"duration\":0,\"redraw\":true},\"mode\":\"immediate\",\"fromcurrent\":true,\"transition\":{\"duration\":0,\"easing\":\"linear\"}}],\"label\":\"Friday\",\"method\":\"animate\"},{\"args\":[[\"Saturday\"],{\"frame\":{\"duration\":0,\"redraw\":true},\"mode\":\"immediate\",\"fromcurrent\":true,\"transition\":{\"duration\":0,\"easing\":\"linear\"}}],\"label\":\"Saturday\",\"method\":\"animate\"},{\"args\":[[\"Sunday\"],{\"frame\":{\"duration\":0,\"redraw\":true},\"mode\":\"immediate\",\"fromcurrent\":true,\"transition\":{\"duration\":0,\"easing\":\"linear\"}}],\"label\":\"Sunday\",\"method\":\"animate\"}],\"x\":0.1,\"xanchor\":\"left\",\"y\":0,\"yanchor\":\"top\"}]},                        {\"responsive\": true}                    ).then(function(){\n",
       "                            Plotly.addFrames('8e660fe0-9600-4ee9-856f-242f8c3394ee', [{\"data\":[{\"alignmentgroup\":\"True\",\"hovertemplate\":\"DOW=Monday<br>MCI=%{text}<br>Count=%{y}<extra></extra>\",\"legendgroup\":\"Monday\",\"marker\":{\"color\":\"#1F77B4\",\"opacity\":0.9,\"pattern\":{\"shape\":\"\"}},\"name\":\"Monday\",\"offsetgroup\":\"Monday\",\"orientation\":\"v\",\"showlegend\":true,\"text\":[\"Assault\",\"Auto Theft\",\"Break and Enter\",\"Robbery\",\"Theft Over\"],\"textposition\":\"auto\",\"x\":[\"Assault\",\"Auto Theft\",\"Break and Enter\",\"Robbery\",\"Theft Over\"],\"xaxis\":\"x\",\"y\":[2,0,0,1,0],\"yaxis\":\"y\",\"type\":\"bar\"}],\"name\":\"Monday\"},{\"data\":[{\"alignmentgroup\":\"True\",\"hovertemplate\":\"DOW=Tuesday<br>MCI=%{text}<br>Count=%{y}<extra></extra>\",\"legendgroup\":\"Tuesday\",\"marker\":{\"color\":\"#FF7F0E\",\"opacity\":0.9,\"pattern\":{\"shape\":\"\"}},\"name\":\"Tuesday\",\"offsetgroup\":\"Tuesday\",\"orientation\":\"v\",\"showlegend\":true,\"text\":[\"Assault\",\"Auto Theft\",\"Break and Enter\",\"Robbery\",\"Theft Over\"],\"textposition\":\"auto\",\"x\":[\"Assault\",\"Auto Theft\",\"Break and Enter\",\"Robbery\",\"Theft Over\"],\"xaxis\":\"x\",\"y\":[0,1,0,0,0],\"yaxis\":\"y\",\"type\":\"bar\"}],\"name\":\"Tuesday\"},{\"data\":[{\"alignmentgroup\":\"True\",\"hovertemplate\":\"DOW=Wednesday<br>MCI=%{text}<br>Count=%{y}<extra></extra>\",\"legendgroup\":\"Wednesday\",\"marker\":{\"color\":\"#2CA02C\",\"opacity\":0.9,\"pattern\":{\"shape\":\"\"}},\"name\":\"Wednesday\",\"offsetgroup\":\"Wednesday\",\"orientation\":\"v\",\"showlegend\":true,\"text\":[\"Assault\",\"Auto Theft\",\"Break and Enter\",\"Robbery\",\"Theft Over\"],\"textposition\":\"auto\",\"x\":[\"Assault\",\"Auto Theft\",\"Break and Enter\",\"Robbery\",\"Theft Over\"],\"xaxis\":\"x\",\"y\":[0,0,0,0,0],\"yaxis\":\"y\",\"type\":\"bar\"}],\"name\":\"Wednesday\"},{\"data\":[{\"alignmentgroup\":\"True\",\"hovertemplate\":\"DOW=Thursday<br>MCI=%{text}<br>Count=%{y}<extra></extra>\",\"legendgroup\":\"Thursday\",\"marker\":{\"color\":\"#D62728\",\"opacity\":0.9,\"pattern\":{\"shape\":\"\"}},\"name\":\"Thursday\",\"offsetgroup\":\"Thursday\",\"orientation\":\"v\",\"showlegend\":true,\"text\":[\"Assault\",\"Auto Theft\",\"Break and Enter\",\"Robbery\",\"Theft Over\"],\"textposition\":\"auto\",\"x\":[\"Assault\",\"Auto Theft\",\"Break and Enter\",\"Robbery\",\"Theft Over\"],\"xaxis\":\"x\",\"y\":[0,0,0,0,0],\"yaxis\":\"y\",\"type\":\"bar\"}],\"name\":\"Thursday\"},{\"data\":[{\"alignmentgroup\":\"True\",\"hovertemplate\":\"DOW=Friday<br>MCI=%{text}<br>Count=%{y}<extra></extra>\",\"legendgroup\":\"Friday\",\"marker\":{\"color\":\"#9467BD\",\"opacity\":0.9,\"pattern\":{\"shape\":\"\"}},\"name\":\"Friday\",\"offsetgroup\":\"Friday\",\"orientation\":\"v\",\"showlegend\":true,\"text\":[\"Assault\",\"Auto Theft\",\"Break and Enter\",\"Robbery\",\"Theft Over\"],\"textposition\":\"auto\",\"x\":[\"Assault\",\"Auto Theft\",\"Break and Enter\",\"Robbery\",\"Theft Over\"],\"xaxis\":\"x\",\"y\":[0,0,0,0,0],\"yaxis\":\"y\",\"type\":\"bar\"}],\"name\":\"Friday\"},{\"data\":[{\"alignmentgroup\":\"True\",\"hovertemplate\":\"DOW=Saturday<br>MCI=%{text}<br>Count=%{y}<extra></extra>\",\"legendgroup\":\"Saturday\",\"marker\":{\"color\":\"#8C564B\",\"opacity\":0.9,\"pattern\":{\"shape\":\"\"}},\"name\":\"Saturday\",\"offsetgroup\":\"Saturday\",\"orientation\":\"v\",\"showlegend\":true,\"text\":[\"Assault\",\"Auto Theft\",\"Break and Enter\",\"Robbery\",\"Theft Over\"],\"textposition\":\"auto\",\"x\":[\"Assault\",\"Auto Theft\",\"Break and Enter\",\"Robbery\",\"Theft Over\"],\"xaxis\":\"x\",\"y\":[3,0,0,0,0],\"yaxis\":\"y\",\"type\":\"bar\"}],\"name\":\"Saturday\"},{\"data\":[{\"alignmentgroup\":\"True\",\"hovertemplate\":\"DOW=Sunday<br>MCI=%{text}<br>Count=%{y}<extra></extra>\",\"legendgroup\":\"Sunday\",\"marker\":{\"color\":\"#E377C2\",\"opacity\":0.9,\"pattern\":{\"shape\":\"\"}},\"name\":\"Sunday\",\"offsetgroup\":\"Sunday\",\"orientation\":\"v\",\"showlegend\":true,\"text\":[\"Assault\",\"Auto Theft\",\"Break and Enter\",\"Robbery\",\"Theft Over\"],\"textposition\":\"auto\",\"x\":[\"Assault\",\"Auto Theft\",\"Break and Enter\",\"Robbery\",\"Theft Over\"],\"xaxis\":\"x\",\"y\":[2,0,0,0,0],\"yaxis\":\"y\",\"type\":\"bar\"}],\"name\":\"Sunday\"}]);\n",
       "                        }).then(function(){\n",
       "                            \n",
       "var gd = document.getElementById('8e660fe0-9600-4ee9-856f-242f8c3394ee');\n",
       "var x = new MutationObserver(function (mutations, observer) {{\n",
       "        var display = window.getComputedStyle(gd).display;\n",
       "        if (!display || display === 'none') {{\n",
       "            console.log([gd, 'removed!']);\n",
       "            Plotly.purge(gd);\n",
       "            observer.disconnect();\n",
       "        }}\n",
       "}});\n",
       "\n",
       "// Listen for the removal of the full notebook cells\n",
       "var notebookContainer = gd.closest('#notebook-container');\n",
       "if (notebookContainer) {{\n",
       "    x.observe(notebookContainer, {childList: true});\n",
       "}}\n",
       "\n",
       "// Listen for the clearing of the current output cell\n",
       "var outputEl = gd.closest('.output');\n",
       "if (outputEl) {{\n",
       "    x.observe(outputEl, {childList: true});\n",
       "}}\n",
       "\n",
       "                        })                };                });            </script>        </div>"
      ]
     },
     "metadata": {},
     "output_type": "display_data"
    }
   ],
   "source": [
    "barchart3 = px.bar(\n",
    "    data_frame = df4,\n",
    "    x = \"MCI\",\n",
    "    y = \"Count\",\n",
    "    color = 'DOW',\n",
    "    text = 'MCI',\n",
    "    title = 'LAmoreaux Major Crime Indicators',\n",
    "    width = 1400,\n",
    "    height = 720,\n",
    "    opacity = 0.9,\n",
    "    orientation = 'v',\n",
    "    barmode = 'group',\n",
    "    template = 'gridon',\n",
    "    \n",
    "    animation_frame = 'DOW',\n",
    "    range_y = [0,35],\n",
    "   \n",
    ")\n",
    "\n",
    "barchart3.layout.updatemenus[0].buttons[0].args[1]['frame']['duration'] = 1000\n",
    "barchart3.layout.updatemenus[0].buttons[0].args[1]['transition']['duration'] = 500\n",
    "\n",
    "barchart3.show()"
   ]
  },
  {
   "cell_type": "code",
   "execution_count": 58,
   "id": "9ef82135",
   "metadata": {},
   "outputs": [
    {
     "data": {
      "application/vnd.plotly.v1+json": {
       "config": {
        "plotlyServerURL": "https://plot.ly"
       },
       "data": [
        {
         "alignmentgroup": "True",
         "hovertemplate": "DOW=Monday<br>MCI=%{text}<br>Count=%{y}<extra></extra>",
         "legendgroup": "Monday",
         "marker": {
          "color": "#1F77B4",
          "opacity": 0.9,
          "pattern": {
           "shape": ""
          }
         },
         "name": "Monday",
         "offsetgroup": "Monday",
         "orientation": "v",
         "showlegend": true,
         "text": [
          "Assault",
          "Auto Theft",
          "Break and Enter",
          "Robbery",
          "Theft Over"
         ],
         "textposition": "auto",
         "type": "bar",
         "x": [
          "Assault",
          "Auto Theft",
          "Break and Enter",
          "Robbery",
          "Theft Over"
         ],
         "xaxis": "x",
         "y": [
          0,
          0,
          0,
          0,
          0
         ],
         "yaxis": "y"
        }
       ],
       "frames": [
        {
         "data": [
          {
           "alignmentgroup": "True",
           "hovertemplate": "DOW=Monday<br>MCI=%{text}<br>Count=%{y}<extra></extra>",
           "legendgroup": "Monday",
           "marker": {
            "color": "#1F77B4",
            "opacity": 0.9,
            "pattern": {
             "shape": ""
            }
           },
           "name": "Monday",
           "offsetgroup": "Monday",
           "orientation": "v",
           "showlegend": true,
           "text": [
            "Assault",
            "Auto Theft",
            "Break and Enter",
            "Robbery",
            "Theft Over"
           ],
           "textposition": "auto",
           "type": "bar",
           "x": [
            "Assault",
            "Auto Theft",
            "Break and Enter",
            "Robbery",
            "Theft Over"
           ],
           "xaxis": "x",
           "y": [
            0,
            0,
            0,
            0,
            0
           ],
           "yaxis": "y"
          }
         ],
         "name": "Monday"
        },
        {
         "data": [
          {
           "alignmentgroup": "True",
           "hovertemplate": "DOW=Tuesday<br>MCI=%{text}<br>Count=%{y}<extra></extra>",
           "legendgroup": "Tuesday",
           "marker": {
            "color": "#FF7F0E",
            "opacity": 0.9,
            "pattern": {
             "shape": ""
            }
           },
           "name": "Tuesday",
           "offsetgroup": "Tuesday",
           "orientation": "v",
           "showlegend": true,
           "text": [
            "Assault",
            "Auto Theft",
            "Break and Enter",
            "Robbery",
            "Theft Over"
           ],
           "textposition": "auto",
           "type": "bar",
           "x": [
            "Assault",
            "Auto Theft",
            "Break and Enter",
            "Robbery",
            "Theft Over"
           ],
           "xaxis": "x",
           "y": [
            2,
            2,
            0,
            1,
            0
           ],
           "yaxis": "y"
          }
         ],
         "name": "Tuesday"
        },
        {
         "data": [
          {
           "alignmentgroup": "True",
           "hovertemplate": "DOW=Wednesday<br>MCI=%{text}<br>Count=%{y}<extra></extra>",
           "legendgroup": "Wednesday",
           "marker": {
            "color": "#2CA02C",
            "opacity": 0.9,
            "pattern": {
             "shape": ""
            }
           },
           "name": "Wednesday",
           "offsetgroup": "Wednesday",
           "orientation": "v",
           "showlegend": true,
           "text": [
            "Assault",
            "Auto Theft",
            "Break and Enter",
            "Robbery",
            "Theft Over"
           ],
           "textposition": "auto",
           "type": "bar",
           "x": [
            "Assault",
            "Auto Theft",
            "Break and Enter",
            "Robbery",
            "Theft Over"
           ],
           "xaxis": "x",
           "y": [
            0,
            5,
            0,
            1,
            0
           ],
           "yaxis": "y"
          }
         ],
         "name": "Wednesday"
        },
        {
         "data": [
          {
           "alignmentgroup": "True",
           "hovertemplate": "DOW=Thursday<br>MCI=%{text}<br>Count=%{y}<extra></extra>",
           "legendgroup": "Thursday",
           "marker": {
            "color": "#D62728",
            "opacity": 0.9,
            "pattern": {
             "shape": ""
            }
           },
           "name": "Thursday",
           "offsetgroup": "Thursday",
           "orientation": "v",
           "showlegend": true,
           "text": [
            "Assault",
            "Auto Theft",
            "Break and Enter",
            "Robbery",
            "Theft Over"
           ],
           "textposition": "auto",
           "type": "bar",
           "x": [
            "Assault",
            "Auto Theft",
            "Break and Enter",
            "Robbery",
            "Theft Over"
           ],
           "xaxis": "x",
           "y": [
            0,
            3,
            0,
            0,
            0
           ],
           "yaxis": "y"
          }
         ],
         "name": "Thursday"
        },
        {
         "data": [
          {
           "alignmentgroup": "True",
           "hovertemplate": "DOW=Friday<br>MCI=%{text}<br>Count=%{y}<extra></extra>",
           "legendgroup": "Friday",
           "marker": {
            "color": "#9467BD",
            "opacity": 0.9,
            "pattern": {
             "shape": ""
            }
           },
           "name": "Friday",
           "offsetgroup": "Friday",
           "orientation": "v",
           "showlegend": true,
           "text": [
            "Assault",
            "Auto Theft",
            "Break and Enter",
            "Robbery",
            "Theft Over"
           ],
           "textposition": "auto",
           "type": "bar",
           "x": [
            "Assault",
            "Auto Theft",
            "Break and Enter",
            "Robbery",
            "Theft Over"
           ],
           "xaxis": "x",
           "y": [
            1,
            0,
            0,
            0,
            0
           ],
           "yaxis": "y"
          }
         ],
         "name": "Friday"
        },
        {
         "data": [
          {
           "alignmentgroup": "True",
           "hovertemplate": "DOW=Saturday<br>MCI=%{text}<br>Count=%{y}<extra></extra>",
           "legendgroup": "Saturday",
           "marker": {
            "color": "#8C564B",
            "opacity": 0.9,
            "pattern": {
             "shape": ""
            }
           },
           "name": "Saturday",
           "offsetgroup": "Saturday",
           "orientation": "v",
           "showlegend": true,
           "text": [
            "Assault",
            "Auto Theft",
            "Break and Enter",
            "Robbery",
            "Theft Over"
           ],
           "textposition": "auto",
           "type": "bar",
           "x": [
            "Assault",
            "Auto Theft",
            "Break and Enter",
            "Robbery",
            "Theft Over"
           ],
           "xaxis": "x",
           "y": [
            0,
            0,
            0,
            0,
            0
           ],
           "yaxis": "y"
          }
         ],
         "name": "Saturday"
        },
        {
         "data": [
          {
           "alignmentgroup": "True",
           "hovertemplate": "DOW=Sunday<br>MCI=%{text}<br>Count=%{y}<extra></extra>",
           "legendgroup": "Sunday",
           "marker": {
            "color": "#E377C2",
            "opacity": 0.9,
            "pattern": {
             "shape": ""
            }
           },
           "name": "Sunday",
           "offsetgroup": "Sunday",
           "orientation": "v",
           "showlegend": true,
           "text": [
            "Assault",
            "Auto Theft",
            "Break and Enter",
            "Robbery",
            "Theft Over"
           ],
           "textposition": "auto",
           "type": "bar",
           "x": [
            "Assault",
            "Auto Theft",
            "Break and Enter",
            "Robbery",
            "Theft Over"
           ],
           "xaxis": "x",
           "y": [
            1,
            0,
            0,
            0,
            0
           ],
           "yaxis": "y"
          }
         ],
         "name": "Sunday"
        }
       ],
       "layout": {
        "barmode": "group",
        "height": 720,
        "legend": {
         "title": {
          "text": "DOW"
         },
         "tracegroupgap": 0
        },
        "sliders": [
         {
          "active": 0,
          "currentvalue": {
           "prefix": "DOW="
          },
          "len": 0.9,
          "pad": {
           "b": 10,
           "t": 60
          },
          "steps": [
           {
            "args": [
             [
              "Monday"
             ],
             {
              "frame": {
               "duration": 0,
               "redraw": true
              },
              "fromcurrent": true,
              "mode": "immediate",
              "transition": {
               "duration": 0,
               "easing": "linear"
              }
             }
            ],
            "label": "Monday",
            "method": "animate"
           },
           {
            "args": [
             [
              "Tuesday"
             ],
             {
              "frame": {
               "duration": 0,
               "redraw": true
              },
              "fromcurrent": true,
              "mode": "immediate",
              "transition": {
               "duration": 0,
               "easing": "linear"
              }
             }
            ],
            "label": "Tuesday",
            "method": "animate"
           },
           {
            "args": [
             [
              "Wednesday"
             ],
             {
              "frame": {
               "duration": 0,
               "redraw": true
              },
              "fromcurrent": true,
              "mode": "immediate",
              "transition": {
               "duration": 0,
               "easing": "linear"
              }
             }
            ],
            "label": "Wednesday",
            "method": "animate"
           },
           {
            "args": [
             [
              "Thursday"
             ],
             {
              "frame": {
               "duration": 0,
               "redraw": true
              },
              "fromcurrent": true,
              "mode": "immediate",
              "transition": {
               "duration": 0,
               "easing": "linear"
              }
             }
            ],
            "label": "Thursday",
            "method": "animate"
           },
           {
            "args": [
             [
              "Friday"
             ],
             {
              "frame": {
               "duration": 0,
               "redraw": true
              },
              "fromcurrent": true,
              "mode": "immediate",
              "transition": {
               "duration": 0,
               "easing": "linear"
              }
             }
            ],
            "label": "Friday",
            "method": "animate"
           },
           {
            "args": [
             [
              "Saturday"
             ],
             {
              "frame": {
               "duration": 0,
               "redraw": true
              },
              "fromcurrent": true,
              "mode": "immediate",
              "transition": {
               "duration": 0,
               "easing": "linear"
              }
             }
            ],
            "label": "Saturday",
            "method": "animate"
           },
           {
            "args": [
             [
              "Sunday"
             ],
             {
              "frame": {
               "duration": 0,
               "redraw": true
              },
              "fromcurrent": true,
              "mode": "immediate",
              "transition": {
               "duration": 0,
               "easing": "linear"
              }
             }
            ],
            "label": "Sunday",
            "method": "animate"
           }
          ],
          "x": 0.1,
          "xanchor": "left",
          "y": 0,
          "yanchor": "top"
         }
        ],
        "template": {
         "data": {
          "pie": [
           {
            "automargin": true,
            "type": "pie"
           }
          ]
         },
         "layout": {
          "xaxis": {
           "showgrid": true,
           "title": {
            "standoff": 15
           }
          },
          "yaxis": {
           "showgrid": true,
           "title": {
            "standoff": 15
           }
          }
         }
        },
        "title": {
         "text": "Malvern Major Crime Indicators"
        },
        "updatemenus": [
         {
          "buttons": [
           {
            "args": [
             null,
             {
              "frame": {
               "duration": 1000,
               "redraw": true
              },
              "fromcurrent": true,
              "mode": "immediate",
              "transition": {
               "duration": 500,
               "easing": "linear"
              }
             }
            ],
            "label": "&#9654;",
            "method": "animate"
           },
           {
            "args": [
             [
              null
             ],
             {
              "frame": {
               "duration": 0,
               "redraw": true
              },
              "fromcurrent": true,
              "mode": "immediate",
              "transition": {
               "duration": 0,
               "easing": "linear"
              }
             }
            ],
            "label": "&#9724;",
            "method": "animate"
           }
          ],
          "direction": "left",
          "pad": {
           "r": 10,
           "t": 70
          },
          "showactive": false,
          "type": "buttons",
          "x": 0.1,
          "xanchor": "right",
          "y": 0,
          "yanchor": "top"
         }
        ],
        "width": 1400,
        "xaxis": {
         "anchor": "y",
         "domain": [
          0,
          1
         ],
         "title": {
          "text": "MCI"
         }
        },
        "yaxis": {
         "anchor": "x",
         "domain": [
          0,
          1
         ],
         "range": [
          0,
          35
         ],
         "title": {
          "text": "Count"
         }
        }
       }
      },
      "text/html": [
       "<div>                            <div id=\"2eae7b1e-6a20-4394-8af8-fe5c556041ae\" class=\"plotly-graph-div\" style=\"height:720px; width:1400px;\"></div>            <script type=\"text/javascript\">                require([\"plotly\"], function(Plotly) {                    window.PLOTLYENV=window.PLOTLYENV || {};                                    if (document.getElementById(\"2eae7b1e-6a20-4394-8af8-fe5c556041ae\")) {                    Plotly.newPlot(                        \"2eae7b1e-6a20-4394-8af8-fe5c556041ae\",                        [{\"alignmentgroup\":\"True\",\"hovertemplate\":\"DOW=Monday<br>MCI=%{text}<br>Count=%{y}<extra></extra>\",\"legendgroup\":\"Monday\",\"marker\":{\"color\":\"#1F77B4\",\"opacity\":0.9,\"pattern\":{\"shape\":\"\"}},\"name\":\"Monday\",\"offsetgroup\":\"Monday\",\"orientation\":\"v\",\"showlegend\":true,\"text\":[\"Assault\",\"Auto Theft\",\"Break and Enter\",\"Robbery\",\"Theft Over\"],\"textposition\":\"auto\",\"x\":[\"Assault\",\"Auto Theft\",\"Break and Enter\",\"Robbery\",\"Theft Over\"],\"xaxis\":\"x\",\"y\":[0,0,0,0,0],\"yaxis\":\"y\",\"type\":\"bar\"}],                        {\"template\":{\"data\":{\"pie\":[{\"automargin\":true,\"type\":\"pie\"}]},\"layout\":{\"xaxis\":{\"showgrid\":true,\"title\":{\"standoff\":15}},\"yaxis\":{\"showgrid\":true,\"title\":{\"standoff\":15}}}},\"xaxis\":{\"anchor\":\"y\",\"domain\":[0.0,1.0],\"title\":{\"text\":\"MCI\"}},\"yaxis\":{\"anchor\":\"x\",\"domain\":[0.0,1.0],\"title\":{\"text\":\"Count\"},\"range\":[0,35]},\"legend\":{\"title\":{\"text\":\"DOW\"},\"tracegroupgap\":0},\"title\":{\"text\":\"Malvern Major Crime Indicators\"},\"barmode\":\"group\",\"height\":720,\"width\":1400,\"updatemenus\":[{\"buttons\":[{\"args\":[null,{\"frame\":{\"duration\":1000,\"redraw\":true},\"mode\":\"immediate\",\"fromcurrent\":true,\"transition\":{\"duration\":500,\"easing\":\"linear\"}}],\"label\":\"&#9654;\",\"method\":\"animate\"},{\"args\":[[null],{\"frame\":{\"duration\":0,\"redraw\":true},\"mode\":\"immediate\",\"fromcurrent\":true,\"transition\":{\"duration\":0,\"easing\":\"linear\"}}],\"label\":\"&#9724;\",\"method\":\"animate\"}],\"direction\":\"left\",\"pad\":{\"r\":10,\"t\":70},\"showactive\":false,\"type\":\"buttons\",\"x\":0.1,\"xanchor\":\"right\",\"y\":0,\"yanchor\":\"top\"}],\"sliders\":[{\"active\":0,\"currentvalue\":{\"prefix\":\"DOW=\"},\"len\":0.9,\"pad\":{\"b\":10,\"t\":60},\"steps\":[{\"args\":[[\"Monday\"],{\"frame\":{\"duration\":0,\"redraw\":true},\"mode\":\"immediate\",\"fromcurrent\":true,\"transition\":{\"duration\":0,\"easing\":\"linear\"}}],\"label\":\"Monday\",\"method\":\"animate\"},{\"args\":[[\"Tuesday\"],{\"frame\":{\"duration\":0,\"redraw\":true},\"mode\":\"immediate\",\"fromcurrent\":true,\"transition\":{\"duration\":0,\"easing\":\"linear\"}}],\"label\":\"Tuesday\",\"method\":\"animate\"},{\"args\":[[\"Wednesday\"],{\"frame\":{\"duration\":0,\"redraw\":true},\"mode\":\"immediate\",\"fromcurrent\":true,\"transition\":{\"duration\":0,\"easing\":\"linear\"}}],\"label\":\"Wednesday\",\"method\":\"animate\"},{\"args\":[[\"Thursday\"],{\"frame\":{\"duration\":0,\"redraw\":true},\"mode\":\"immediate\",\"fromcurrent\":true,\"transition\":{\"duration\":0,\"easing\":\"linear\"}}],\"label\":\"Thursday\",\"method\":\"animate\"},{\"args\":[[\"Friday\"],{\"frame\":{\"duration\":0,\"redraw\":true},\"mode\":\"immediate\",\"fromcurrent\":true,\"transition\":{\"duration\":0,\"easing\":\"linear\"}}],\"label\":\"Friday\",\"method\":\"animate\"},{\"args\":[[\"Saturday\"],{\"frame\":{\"duration\":0,\"redraw\":true},\"mode\":\"immediate\",\"fromcurrent\":true,\"transition\":{\"duration\":0,\"easing\":\"linear\"}}],\"label\":\"Saturday\",\"method\":\"animate\"},{\"args\":[[\"Sunday\"],{\"frame\":{\"duration\":0,\"redraw\":true},\"mode\":\"immediate\",\"fromcurrent\":true,\"transition\":{\"duration\":0,\"easing\":\"linear\"}}],\"label\":\"Sunday\",\"method\":\"animate\"}],\"x\":0.1,\"xanchor\":\"left\",\"y\":0,\"yanchor\":\"top\"}]},                        {\"responsive\": true}                    ).then(function(){\n",
       "                            Plotly.addFrames('2eae7b1e-6a20-4394-8af8-fe5c556041ae', [{\"data\":[{\"alignmentgroup\":\"True\",\"hovertemplate\":\"DOW=Monday<br>MCI=%{text}<br>Count=%{y}<extra></extra>\",\"legendgroup\":\"Monday\",\"marker\":{\"color\":\"#1F77B4\",\"opacity\":0.9,\"pattern\":{\"shape\":\"\"}},\"name\":\"Monday\",\"offsetgroup\":\"Monday\",\"orientation\":\"v\",\"showlegend\":true,\"text\":[\"Assault\",\"Auto Theft\",\"Break and Enter\",\"Robbery\",\"Theft Over\"],\"textposition\":\"auto\",\"x\":[\"Assault\",\"Auto Theft\",\"Break and Enter\",\"Robbery\",\"Theft Over\"],\"xaxis\":\"x\",\"y\":[0,0,0,0,0],\"yaxis\":\"y\",\"type\":\"bar\"}],\"name\":\"Monday\"},{\"data\":[{\"alignmentgroup\":\"True\",\"hovertemplate\":\"DOW=Tuesday<br>MCI=%{text}<br>Count=%{y}<extra></extra>\",\"legendgroup\":\"Tuesday\",\"marker\":{\"color\":\"#FF7F0E\",\"opacity\":0.9,\"pattern\":{\"shape\":\"\"}},\"name\":\"Tuesday\",\"offsetgroup\":\"Tuesday\",\"orientation\":\"v\",\"showlegend\":true,\"text\":[\"Assault\",\"Auto Theft\",\"Break and Enter\",\"Robbery\",\"Theft Over\"],\"textposition\":\"auto\",\"x\":[\"Assault\",\"Auto Theft\",\"Break and Enter\",\"Robbery\",\"Theft Over\"],\"xaxis\":\"x\",\"y\":[2,2,0,1,0],\"yaxis\":\"y\",\"type\":\"bar\"}],\"name\":\"Tuesday\"},{\"data\":[{\"alignmentgroup\":\"True\",\"hovertemplate\":\"DOW=Wednesday<br>MCI=%{text}<br>Count=%{y}<extra></extra>\",\"legendgroup\":\"Wednesday\",\"marker\":{\"color\":\"#2CA02C\",\"opacity\":0.9,\"pattern\":{\"shape\":\"\"}},\"name\":\"Wednesday\",\"offsetgroup\":\"Wednesday\",\"orientation\":\"v\",\"showlegend\":true,\"text\":[\"Assault\",\"Auto Theft\",\"Break and Enter\",\"Robbery\",\"Theft Over\"],\"textposition\":\"auto\",\"x\":[\"Assault\",\"Auto Theft\",\"Break and Enter\",\"Robbery\",\"Theft Over\"],\"xaxis\":\"x\",\"y\":[0,5,0,1,0],\"yaxis\":\"y\",\"type\":\"bar\"}],\"name\":\"Wednesday\"},{\"data\":[{\"alignmentgroup\":\"True\",\"hovertemplate\":\"DOW=Thursday<br>MCI=%{text}<br>Count=%{y}<extra></extra>\",\"legendgroup\":\"Thursday\",\"marker\":{\"color\":\"#D62728\",\"opacity\":0.9,\"pattern\":{\"shape\":\"\"}},\"name\":\"Thursday\",\"offsetgroup\":\"Thursday\",\"orientation\":\"v\",\"showlegend\":true,\"text\":[\"Assault\",\"Auto Theft\",\"Break and Enter\",\"Robbery\",\"Theft Over\"],\"textposition\":\"auto\",\"x\":[\"Assault\",\"Auto Theft\",\"Break and Enter\",\"Robbery\",\"Theft Over\"],\"xaxis\":\"x\",\"y\":[0,3,0,0,0],\"yaxis\":\"y\",\"type\":\"bar\"}],\"name\":\"Thursday\"},{\"data\":[{\"alignmentgroup\":\"True\",\"hovertemplate\":\"DOW=Friday<br>MCI=%{text}<br>Count=%{y}<extra></extra>\",\"legendgroup\":\"Friday\",\"marker\":{\"color\":\"#9467BD\",\"opacity\":0.9,\"pattern\":{\"shape\":\"\"}},\"name\":\"Friday\",\"offsetgroup\":\"Friday\",\"orientation\":\"v\",\"showlegend\":true,\"text\":[\"Assault\",\"Auto Theft\",\"Break and Enter\",\"Robbery\",\"Theft Over\"],\"textposition\":\"auto\",\"x\":[\"Assault\",\"Auto Theft\",\"Break and Enter\",\"Robbery\",\"Theft Over\"],\"xaxis\":\"x\",\"y\":[1,0,0,0,0],\"yaxis\":\"y\",\"type\":\"bar\"}],\"name\":\"Friday\"},{\"data\":[{\"alignmentgroup\":\"True\",\"hovertemplate\":\"DOW=Saturday<br>MCI=%{text}<br>Count=%{y}<extra></extra>\",\"legendgroup\":\"Saturday\",\"marker\":{\"color\":\"#8C564B\",\"opacity\":0.9,\"pattern\":{\"shape\":\"\"}},\"name\":\"Saturday\",\"offsetgroup\":\"Saturday\",\"orientation\":\"v\",\"showlegend\":true,\"text\":[\"Assault\",\"Auto Theft\",\"Break and Enter\",\"Robbery\",\"Theft Over\"],\"textposition\":\"auto\",\"x\":[\"Assault\",\"Auto Theft\",\"Break and Enter\",\"Robbery\",\"Theft Over\"],\"xaxis\":\"x\",\"y\":[0,0,0,0,0],\"yaxis\":\"y\",\"type\":\"bar\"}],\"name\":\"Saturday\"},{\"data\":[{\"alignmentgroup\":\"True\",\"hovertemplate\":\"DOW=Sunday<br>MCI=%{text}<br>Count=%{y}<extra></extra>\",\"legendgroup\":\"Sunday\",\"marker\":{\"color\":\"#E377C2\",\"opacity\":0.9,\"pattern\":{\"shape\":\"\"}},\"name\":\"Sunday\",\"offsetgroup\":\"Sunday\",\"orientation\":\"v\",\"showlegend\":true,\"text\":[\"Assault\",\"Auto Theft\",\"Break and Enter\",\"Robbery\",\"Theft Over\"],\"textposition\":\"auto\",\"x\":[\"Assault\",\"Auto Theft\",\"Break and Enter\",\"Robbery\",\"Theft Over\"],\"xaxis\":\"x\",\"y\":[1,0,0,0,0],\"yaxis\":\"y\",\"type\":\"bar\"}],\"name\":\"Sunday\"}]);\n",
       "                        }).then(function(){\n",
       "                            \n",
       "var gd = document.getElementById('2eae7b1e-6a20-4394-8af8-fe5c556041ae');\n",
       "var x = new MutationObserver(function (mutations, observer) {{\n",
       "        var display = window.getComputedStyle(gd).display;\n",
       "        if (!display || display === 'none') {{\n",
       "            console.log([gd, 'removed!']);\n",
       "            Plotly.purge(gd);\n",
       "            observer.disconnect();\n",
       "        }}\n",
       "}});\n",
       "\n",
       "// Listen for the removal of the full notebook cells\n",
       "var notebookContainer = gd.closest('#notebook-container');\n",
       "if (notebookContainer) {{\n",
       "    x.observe(notebookContainer, {childList: true});\n",
       "}}\n",
       "\n",
       "// Listen for the clearing of the current output cell\n",
       "var outputEl = gd.closest('.output');\n",
       "if (outputEl) {{\n",
       "    x.observe(outputEl, {childList: true});\n",
       "}}\n",
       "\n",
       "                        })                };                });            </script>        </div>"
      ]
     },
     "metadata": {},
     "output_type": "display_data"
    }
   ],
   "source": [
    "barchart4 = px.bar(\n",
    "    data_frame = df5,\n",
    "    x = \"MCI\",\n",
    "    y = \"Count\",\n",
    "    color = 'DOW',\n",
    "    text = 'MCI',\n",
    "    title = 'Malvern Major Crime Indicators',\n",
    "    width = 1400,\n",
    "    height = 720,\n",
    "    opacity = 0.9,\n",
    "    orientation = 'v',\n",
    "    barmode = 'group',\n",
    "    template = 'gridon',\n",
    "    \n",
    "    animation_frame = 'DOW',\n",
    "    range_y = [0,35],\n",
    "   \n",
    ")\n",
    "\n",
    "barchart4.layout.updatemenus[0].buttons[0].args[1]['frame']['duration'] = 1000\n",
    "barchart4.layout.updatemenus[0].buttons[0].args[1]['transition']['duration'] = 500\n",
    "\n",
    "barchart4.show()"
   ]
  },
  {
   "cell_type": "code",
   "execution_count": 59,
   "id": "8e45c212",
   "metadata": {},
   "outputs": [
    {
     "data": {
      "application/vnd.plotly.v1+json": {
       "config": {
        "plotlyServerURL": "https://plot.ly"
       },
       "data": [
        {
         "alignmentgroup": "True",
         "hovertemplate": "DOW=Monday<br>MCI=%{text}<br>Count=%{y}<extra></extra>",
         "legendgroup": "Monday",
         "marker": {
          "color": "#1F77B4",
          "opacity": 0.9,
          "pattern": {
           "shape": ""
          }
         },
         "name": "Monday",
         "offsetgroup": "Monday",
         "orientation": "v",
         "showlegend": true,
         "text": [
          "Assault",
          "Auto Theft",
          "Break and Enter",
          "Robbery",
          "Theft Over"
         ],
         "textposition": "auto",
         "type": "bar",
         "x": [
          "Assault",
          "Auto Theft",
          "Break and Enter",
          "Robbery",
          "Theft Over"
         ],
         "xaxis": "x",
         "y": [
          0,
          0,
          0,
          0,
          0
         ],
         "yaxis": "y"
        }
       ],
       "frames": [
        {
         "data": [
          {
           "alignmentgroup": "True",
           "hovertemplate": "DOW=Monday<br>MCI=%{text}<br>Count=%{y}<extra></extra>",
           "legendgroup": "Monday",
           "marker": {
            "color": "#1F77B4",
            "opacity": 0.9,
            "pattern": {
             "shape": ""
            }
           },
           "name": "Monday",
           "offsetgroup": "Monday",
           "orientation": "v",
           "showlegend": true,
           "text": [
            "Assault",
            "Auto Theft",
            "Break and Enter",
            "Robbery",
            "Theft Over"
           ],
           "textposition": "auto",
           "type": "bar",
           "x": [
            "Assault",
            "Auto Theft",
            "Break and Enter",
            "Robbery",
            "Theft Over"
           ],
           "xaxis": "x",
           "y": [
            0,
            0,
            0,
            0,
            0
           ],
           "yaxis": "y"
          }
         ],
         "name": "Monday"
        },
        {
         "data": [
          {
           "alignmentgroup": "True",
           "hovertemplate": "DOW=Tuesday<br>MCI=%{text}<br>Count=%{y}<extra></extra>",
           "legendgroup": "Tuesday",
           "marker": {
            "color": "#FF7F0E",
            "opacity": 0.9,
            "pattern": {
             "shape": ""
            }
           },
           "name": "Tuesday",
           "offsetgroup": "Tuesday",
           "orientation": "v",
           "showlegend": true,
           "text": [
            "Assault",
            "Auto Theft",
            "Break and Enter",
            "Robbery",
            "Theft Over"
           ],
           "textposition": "auto",
           "type": "bar",
           "x": [
            "Assault",
            "Auto Theft",
            "Break and Enter",
            "Robbery",
            "Theft Over"
           ],
           "xaxis": "x",
           "y": [
            1,
            0,
            0,
            0,
            0
           ],
           "yaxis": "y"
          }
         ],
         "name": "Tuesday"
        },
        {
         "data": [
          {
           "alignmentgroup": "True",
           "hovertemplate": "DOW=Wednesday<br>MCI=%{text}<br>Count=%{y}<extra></extra>",
           "legendgroup": "Wednesday",
           "marker": {
            "color": "#2CA02C",
            "opacity": 0.9,
            "pattern": {
             "shape": ""
            }
           },
           "name": "Wednesday",
           "offsetgroup": "Wednesday",
           "orientation": "v",
           "showlegend": true,
           "text": [
            "Assault",
            "Auto Theft",
            "Break and Enter",
            "Robbery",
            "Theft Over"
           ],
           "textposition": "auto",
           "type": "bar",
           "x": [
            "Assault",
            "Auto Theft",
            "Break and Enter",
            "Robbery",
            "Theft Over"
           ],
           "xaxis": "x",
           "y": [
            0,
            3,
            0,
            0,
            0
           ],
           "yaxis": "y"
          }
         ],
         "name": "Wednesday"
        },
        {
         "data": [
          {
           "alignmentgroup": "True",
           "hovertemplate": "DOW=Thursday<br>MCI=%{text}<br>Count=%{y}<extra></extra>",
           "legendgroup": "Thursday",
           "marker": {
            "color": "#D62728",
            "opacity": 0.9,
            "pattern": {
             "shape": ""
            }
           },
           "name": "Thursday",
           "offsetgroup": "Thursday",
           "orientation": "v",
           "showlegend": true,
           "text": [
            "Assault",
            "Auto Theft",
            "Break and Enter",
            "Robbery",
            "Theft Over"
           ],
           "textposition": "auto",
           "type": "bar",
           "x": [
            "Assault",
            "Auto Theft",
            "Break and Enter",
            "Robbery",
            "Theft Over"
           ],
           "xaxis": "x",
           "y": [
            0,
            1,
            0,
            0,
            0
           ],
           "yaxis": "y"
          }
         ],
         "name": "Thursday"
        },
        {
         "data": [
          {
           "alignmentgroup": "True",
           "hovertemplate": "DOW=Friday<br>MCI=%{text}<br>Count=%{y}<extra></extra>",
           "legendgroup": "Friday",
           "marker": {
            "color": "#9467BD",
            "opacity": 0.9,
            "pattern": {
             "shape": ""
            }
           },
           "name": "Friday",
           "offsetgroup": "Friday",
           "orientation": "v",
           "showlegend": true,
           "text": [
            "Assault",
            "Auto Theft",
            "Break and Enter",
            "Robbery",
            "Theft Over"
           ],
           "textposition": "auto",
           "type": "bar",
           "x": [
            "Assault",
            "Auto Theft",
            "Break and Enter",
            "Robbery",
            "Theft Over"
           ],
           "xaxis": "x",
           "y": [
            0,
            0,
            0,
            0,
            0
           ],
           "yaxis": "y"
          }
         ],
         "name": "Friday"
        },
        {
         "data": [
          {
           "alignmentgroup": "True",
           "hovertemplate": "DOW=Saturday<br>MCI=%{text}<br>Count=%{y}<extra></extra>",
           "legendgroup": "Saturday",
           "marker": {
            "color": "#8C564B",
            "opacity": 0.9,
            "pattern": {
             "shape": ""
            }
           },
           "name": "Saturday",
           "offsetgroup": "Saturday",
           "orientation": "v",
           "showlegend": true,
           "text": [
            "Assault",
            "Auto Theft",
            "Break and Enter",
            "Robbery",
            "Theft Over"
           ],
           "textposition": "auto",
           "type": "bar",
           "x": [
            "Assault",
            "Auto Theft",
            "Break and Enter",
            "Robbery",
            "Theft Over"
           ],
           "xaxis": "x",
           "y": [
            0,
            1,
            1,
            0,
            0
           ],
           "yaxis": "y"
          }
         ],
         "name": "Saturday"
        },
        {
         "data": [
          {
           "alignmentgroup": "True",
           "hovertemplate": "DOW=Sunday<br>MCI=%{text}<br>Count=%{y}<extra></extra>",
           "legendgroup": "Sunday",
           "marker": {
            "color": "#E377C2",
            "opacity": 0.9,
            "pattern": {
             "shape": ""
            }
           },
           "name": "Sunday",
           "offsetgroup": "Sunday",
           "orientation": "v",
           "showlegend": true,
           "text": [
            "Assault",
            "Auto Theft",
            "Break and Enter",
            "Robbery",
            "Theft Over"
           ],
           "textposition": "auto",
           "type": "bar",
           "x": [
            "Assault",
            "Auto Theft",
            "Break and Enter",
            "Robbery",
            "Theft Over"
           ],
           "xaxis": "x",
           "y": [
            0,
            0,
            0,
            0,
            0
           ],
           "yaxis": "y"
          }
         ],
         "name": "Sunday"
        }
       ],
       "layout": {
        "barmode": "group",
        "height": 720,
        "legend": {
         "title": {
          "text": "DOW"
         },
         "tracegroupgap": 0
        },
        "sliders": [
         {
          "active": 0,
          "currentvalue": {
           "prefix": "DOW="
          },
          "len": 0.9,
          "pad": {
           "b": 10,
           "t": 60
          },
          "steps": [
           {
            "args": [
             [
              "Monday"
             ],
             {
              "frame": {
               "duration": 0,
               "redraw": true
              },
              "fromcurrent": true,
              "mode": "immediate",
              "transition": {
               "duration": 0,
               "easing": "linear"
              }
             }
            ],
            "label": "Monday",
            "method": "animate"
           },
           {
            "args": [
             [
              "Tuesday"
             ],
             {
              "frame": {
               "duration": 0,
               "redraw": true
              },
              "fromcurrent": true,
              "mode": "immediate",
              "transition": {
               "duration": 0,
               "easing": "linear"
              }
             }
            ],
            "label": "Tuesday",
            "method": "animate"
           },
           {
            "args": [
             [
              "Wednesday"
             ],
             {
              "frame": {
               "duration": 0,
               "redraw": true
              },
              "fromcurrent": true,
              "mode": "immediate",
              "transition": {
               "duration": 0,
               "easing": "linear"
              }
             }
            ],
            "label": "Wednesday",
            "method": "animate"
           },
           {
            "args": [
             [
              "Thursday"
             ],
             {
              "frame": {
               "duration": 0,
               "redraw": true
              },
              "fromcurrent": true,
              "mode": "immediate",
              "transition": {
               "duration": 0,
               "easing": "linear"
              }
             }
            ],
            "label": "Thursday",
            "method": "animate"
           },
           {
            "args": [
             [
              "Friday"
             ],
             {
              "frame": {
               "duration": 0,
               "redraw": true
              },
              "fromcurrent": true,
              "mode": "immediate",
              "transition": {
               "duration": 0,
               "easing": "linear"
              }
             }
            ],
            "label": "Friday",
            "method": "animate"
           },
           {
            "args": [
             [
              "Saturday"
             ],
             {
              "frame": {
               "duration": 0,
               "redraw": true
              },
              "fromcurrent": true,
              "mode": "immediate",
              "transition": {
               "duration": 0,
               "easing": "linear"
              }
             }
            ],
            "label": "Saturday",
            "method": "animate"
           },
           {
            "args": [
             [
              "Sunday"
             ],
             {
              "frame": {
               "duration": 0,
               "redraw": true
              },
              "fromcurrent": true,
              "mode": "immediate",
              "transition": {
               "duration": 0,
               "easing": "linear"
              }
             }
            ],
            "label": "Sunday",
            "method": "animate"
           }
          ],
          "x": 0.1,
          "xanchor": "left",
          "y": 0,
          "yanchor": "top"
         }
        ],
        "template": {
         "data": {
          "pie": [
           {
            "automargin": true,
            "type": "pie"
           }
          ]
         },
         "layout": {
          "xaxis": {
           "showgrid": true,
           "title": {
            "standoff": 15
           }
          },
          "yaxis": {
           "showgrid": true,
           "title": {
            "standoff": 15
           }
          }
         }
        },
        "title": {
         "text": "Milliken Major Crime Indicators"
        },
        "updatemenus": [
         {
          "buttons": [
           {
            "args": [
             null,
             {
              "frame": {
               "duration": 1000,
               "redraw": true
              },
              "fromcurrent": true,
              "mode": "immediate",
              "transition": {
               "duration": 500,
               "easing": "linear"
              }
             }
            ],
            "label": "&#9654;",
            "method": "animate"
           },
           {
            "args": [
             [
              null
             ],
             {
              "frame": {
               "duration": 0,
               "redraw": true
              },
              "fromcurrent": true,
              "mode": "immediate",
              "transition": {
               "duration": 0,
               "easing": "linear"
              }
             }
            ],
            "label": "&#9724;",
            "method": "animate"
           }
          ],
          "direction": "left",
          "pad": {
           "r": 10,
           "t": 70
          },
          "showactive": false,
          "type": "buttons",
          "x": 0.1,
          "xanchor": "right",
          "y": 0,
          "yanchor": "top"
         }
        ],
        "width": 1400,
        "xaxis": {
         "anchor": "y",
         "domain": [
          0,
          1
         ],
         "title": {
          "text": "MCI"
         }
        },
        "yaxis": {
         "anchor": "x",
         "domain": [
          0,
          1
         ],
         "range": [
          0,
          35
         ],
         "title": {
          "text": "Count"
         }
        }
       }
      },
      "text/html": [
       "<div>                            <div id=\"3141e452-372a-4cd5-99f9-b73f7bebca8b\" class=\"plotly-graph-div\" style=\"height:720px; width:1400px;\"></div>            <script type=\"text/javascript\">                require([\"plotly\"], function(Plotly) {                    window.PLOTLYENV=window.PLOTLYENV || {};                                    if (document.getElementById(\"3141e452-372a-4cd5-99f9-b73f7bebca8b\")) {                    Plotly.newPlot(                        \"3141e452-372a-4cd5-99f9-b73f7bebca8b\",                        [{\"alignmentgroup\":\"True\",\"hovertemplate\":\"DOW=Monday<br>MCI=%{text}<br>Count=%{y}<extra></extra>\",\"legendgroup\":\"Monday\",\"marker\":{\"color\":\"#1F77B4\",\"opacity\":0.9,\"pattern\":{\"shape\":\"\"}},\"name\":\"Monday\",\"offsetgroup\":\"Monday\",\"orientation\":\"v\",\"showlegend\":true,\"text\":[\"Assault\",\"Auto Theft\",\"Break and Enter\",\"Robbery\",\"Theft Over\"],\"textposition\":\"auto\",\"x\":[\"Assault\",\"Auto Theft\",\"Break and Enter\",\"Robbery\",\"Theft Over\"],\"xaxis\":\"x\",\"y\":[0,0,0,0,0],\"yaxis\":\"y\",\"type\":\"bar\"}],                        {\"template\":{\"data\":{\"pie\":[{\"automargin\":true,\"type\":\"pie\"}]},\"layout\":{\"xaxis\":{\"showgrid\":true,\"title\":{\"standoff\":15}},\"yaxis\":{\"showgrid\":true,\"title\":{\"standoff\":15}}}},\"xaxis\":{\"anchor\":\"y\",\"domain\":[0.0,1.0],\"title\":{\"text\":\"MCI\"}},\"yaxis\":{\"anchor\":\"x\",\"domain\":[0.0,1.0],\"title\":{\"text\":\"Count\"},\"range\":[0,35]},\"legend\":{\"title\":{\"text\":\"DOW\"},\"tracegroupgap\":0},\"title\":{\"text\":\"Milliken Major Crime Indicators\"},\"barmode\":\"group\",\"height\":720,\"width\":1400,\"updatemenus\":[{\"buttons\":[{\"args\":[null,{\"frame\":{\"duration\":1000,\"redraw\":true},\"mode\":\"immediate\",\"fromcurrent\":true,\"transition\":{\"duration\":500,\"easing\":\"linear\"}}],\"label\":\"&#9654;\",\"method\":\"animate\"},{\"args\":[[null],{\"frame\":{\"duration\":0,\"redraw\":true},\"mode\":\"immediate\",\"fromcurrent\":true,\"transition\":{\"duration\":0,\"easing\":\"linear\"}}],\"label\":\"&#9724;\",\"method\":\"animate\"}],\"direction\":\"left\",\"pad\":{\"r\":10,\"t\":70},\"showactive\":false,\"type\":\"buttons\",\"x\":0.1,\"xanchor\":\"right\",\"y\":0,\"yanchor\":\"top\"}],\"sliders\":[{\"active\":0,\"currentvalue\":{\"prefix\":\"DOW=\"},\"len\":0.9,\"pad\":{\"b\":10,\"t\":60},\"steps\":[{\"args\":[[\"Monday\"],{\"frame\":{\"duration\":0,\"redraw\":true},\"mode\":\"immediate\",\"fromcurrent\":true,\"transition\":{\"duration\":0,\"easing\":\"linear\"}}],\"label\":\"Monday\",\"method\":\"animate\"},{\"args\":[[\"Tuesday\"],{\"frame\":{\"duration\":0,\"redraw\":true},\"mode\":\"immediate\",\"fromcurrent\":true,\"transition\":{\"duration\":0,\"easing\":\"linear\"}}],\"label\":\"Tuesday\",\"method\":\"animate\"},{\"args\":[[\"Wednesday\"],{\"frame\":{\"duration\":0,\"redraw\":true},\"mode\":\"immediate\",\"fromcurrent\":true,\"transition\":{\"duration\":0,\"easing\":\"linear\"}}],\"label\":\"Wednesday\",\"method\":\"animate\"},{\"args\":[[\"Thursday\"],{\"frame\":{\"duration\":0,\"redraw\":true},\"mode\":\"immediate\",\"fromcurrent\":true,\"transition\":{\"duration\":0,\"easing\":\"linear\"}}],\"label\":\"Thursday\",\"method\":\"animate\"},{\"args\":[[\"Friday\"],{\"frame\":{\"duration\":0,\"redraw\":true},\"mode\":\"immediate\",\"fromcurrent\":true,\"transition\":{\"duration\":0,\"easing\":\"linear\"}}],\"label\":\"Friday\",\"method\":\"animate\"},{\"args\":[[\"Saturday\"],{\"frame\":{\"duration\":0,\"redraw\":true},\"mode\":\"immediate\",\"fromcurrent\":true,\"transition\":{\"duration\":0,\"easing\":\"linear\"}}],\"label\":\"Saturday\",\"method\":\"animate\"},{\"args\":[[\"Sunday\"],{\"frame\":{\"duration\":0,\"redraw\":true},\"mode\":\"immediate\",\"fromcurrent\":true,\"transition\":{\"duration\":0,\"easing\":\"linear\"}}],\"label\":\"Sunday\",\"method\":\"animate\"}],\"x\":0.1,\"xanchor\":\"left\",\"y\":0,\"yanchor\":\"top\"}]},                        {\"responsive\": true}                    ).then(function(){\n",
       "                            Plotly.addFrames('3141e452-372a-4cd5-99f9-b73f7bebca8b', [{\"data\":[{\"alignmentgroup\":\"True\",\"hovertemplate\":\"DOW=Monday<br>MCI=%{text}<br>Count=%{y}<extra></extra>\",\"legendgroup\":\"Monday\",\"marker\":{\"color\":\"#1F77B4\",\"opacity\":0.9,\"pattern\":{\"shape\":\"\"}},\"name\":\"Monday\",\"offsetgroup\":\"Monday\",\"orientation\":\"v\",\"showlegend\":true,\"text\":[\"Assault\",\"Auto Theft\",\"Break and Enter\",\"Robbery\",\"Theft Over\"],\"textposition\":\"auto\",\"x\":[\"Assault\",\"Auto Theft\",\"Break and Enter\",\"Robbery\",\"Theft Over\"],\"xaxis\":\"x\",\"y\":[0,0,0,0,0],\"yaxis\":\"y\",\"type\":\"bar\"}],\"name\":\"Monday\"},{\"data\":[{\"alignmentgroup\":\"True\",\"hovertemplate\":\"DOW=Tuesday<br>MCI=%{text}<br>Count=%{y}<extra></extra>\",\"legendgroup\":\"Tuesday\",\"marker\":{\"color\":\"#FF7F0E\",\"opacity\":0.9,\"pattern\":{\"shape\":\"\"}},\"name\":\"Tuesday\",\"offsetgroup\":\"Tuesday\",\"orientation\":\"v\",\"showlegend\":true,\"text\":[\"Assault\",\"Auto Theft\",\"Break and Enter\",\"Robbery\",\"Theft Over\"],\"textposition\":\"auto\",\"x\":[\"Assault\",\"Auto Theft\",\"Break and Enter\",\"Robbery\",\"Theft Over\"],\"xaxis\":\"x\",\"y\":[1,0,0,0,0],\"yaxis\":\"y\",\"type\":\"bar\"}],\"name\":\"Tuesday\"},{\"data\":[{\"alignmentgroup\":\"True\",\"hovertemplate\":\"DOW=Wednesday<br>MCI=%{text}<br>Count=%{y}<extra></extra>\",\"legendgroup\":\"Wednesday\",\"marker\":{\"color\":\"#2CA02C\",\"opacity\":0.9,\"pattern\":{\"shape\":\"\"}},\"name\":\"Wednesday\",\"offsetgroup\":\"Wednesday\",\"orientation\":\"v\",\"showlegend\":true,\"text\":[\"Assault\",\"Auto Theft\",\"Break and Enter\",\"Robbery\",\"Theft Over\"],\"textposition\":\"auto\",\"x\":[\"Assault\",\"Auto Theft\",\"Break and Enter\",\"Robbery\",\"Theft Over\"],\"xaxis\":\"x\",\"y\":[0,3,0,0,0],\"yaxis\":\"y\",\"type\":\"bar\"}],\"name\":\"Wednesday\"},{\"data\":[{\"alignmentgroup\":\"True\",\"hovertemplate\":\"DOW=Thursday<br>MCI=%{text}<br>Count=%{y}<extra></extra>\",\"legendgroup\":\"Thursday\",\"marker\":{\"color\":\"#D62728\",\"opacity\":0.9,\"pattern\":{\"shape\":\"\"}},\"name\":\"Thursday\",\"offsetgroup\":\"Thursday\",\"orientation\":\"v\",\"showlegend\":true,\"text\":[\"Assault\",\"Auto Theft\",\"Break and Enter\",\"Robbery\",\"Theft Over\"],\"textposition\":\"auto\",\"x\":[\"Assault\",\"Auto Theft\",\"Break and Enter\",\"Robbery\",\"Theft Over\"],\"xaxis\":\"x\",\"y\":[0,1,0,0,0],\"yaxis\":\"y\",\"type\":\"bar\"}],\"name\":\"Thursday\"},{\"data\":[{\"alignmentgroup\":\"True\",\"hovertemplate\":\"DOW=Friday<br>MCI=%{text}<br>Count=%{y}<extra></extra>\",\"legendgroup\":\"Friday\",\"marker\":{\"color\":\"#9467BD\",\"opacity\":0.9,\"pattern\":{\"shape\":\"\"}},\"name\":\"Friday\",\"offsetgroup\":\"Friday\",\"orientation\":\"v\",\"showlegend\":true,\"text\":[\"Assault\",\"Auto Theft\",\"Break and Enter\",\"Robbery\",\"Theft Over\"],\"textposition\":\"auto\",\"x\":[\"Assault\",\"Auto Theft\",\"Break and Enter\",\"Robbery\",\"Theft Over\"],\"xaxis\":\"x\",\"y\":[0,0,0,0,0],\"yaxis\":\"y\",\"type\":\"bar\"}],\"name\":\"Friday\"},{\"data\":[{\"alignmentgroup\":\"True\",\"hovertemplate\":\"DOW=Saturday<br>MCI=%{text}<br>Count=%{y}<extra></extra>\",\"legendgroup\":\"Saturday\",\"marker\":{\"color\":\"#8C564B\",\"opacity\":0.9,\"pattern\":{\"shape\":\"\"}},\"name\":\"Saturday\",\"offsetgroup\":\"Saturday\",\"orientation\":\"v\",\"showlegend\":true,\"text\":[\"Assault\",\"Auto Theft\",\"Break and Enter\",\"Robbery\",\"Theft Over\"],\"textposition\":\"auto\",\"x\":[\"Assault\",\"Auto Theft\",\"Break and Enter\",\"Robbery\",\"Theft Over\"],\"xaxis\":\"x\",\"y\":[0,1,1,0,0],\"yaxis\":\"y\",\"type\":\"bar\"}],\"name\":\"Saturday\"},{\"data\":[{\"alignmentgroup\":\"True\",\"hovertemplate\":\"DOW=Sunday<br>MCI=%{text}<br>Count=%{y}<extra></extra>\",\"legendgroup\":\"Sunday\",\"marker\":{\"color\":\"#E377C2\",\"opacity\":0.9,\"pattern\":{\"shape\":\"\"}},\"name\":\"Sunday\",\"offsetgroup\":\"Sunday\",\"orientation\":\"v\",\"showlegend\":true,\"text\":[\"Assault\",\"Auto Theft\",\"Break and Enter\",\"Robbery\",\"Theft Over\"],\"textposition\":\"auto\",\"x\":[\"Assault\",\"Auto Theft\",\"Break and Enter\",\"Robbery\",\"Theft Over\"],\"xaxis\":\"x\",\"y\":[0,0,0,0,0],\"yaxis\":\"y\",\"type\":\"bar\"}],\"name\":\"Sunday\"}]);\n",
       "                        }).then(function(){\n",
       "                            \n",
       "var gd = document.getElementById('3141e452-372a-4cd5-99f9-b73f7bebca8b');\n",
       "var x = new MutationObserver(function (mutations, observer) {{\n",
       "        var display = window.getComputedStyle(gd).display;\n",
       "        if (!display || display === 'none') {{\n",
       "            console.log([gd, 'removed!']);\n",
       "            Plotly.purge(gd);\n",
       "            observer.disconnect();\n",
       "        }}\n",
       "}});\n",
       "\n",
       "// Listen for the removal of the full notebook cells\n",
       "var notebookContainer = gd.closest('#notebook-container');\n",
       "if (notebookContainer) {{\n",
       "    x.observe(notebookContainer, {childList: true});\n",
       "}}\n",
       "\n",
       "// Listen for the clearing of the current output cell\n",
       "var outputEl = gd.closest('.output');\n",
       "if (outputEl) {{\n",
       "    x.observe(outputEl, {childList: true});\n",
       "}}\n",
       "\n",
       "                        })                };                });            </script>        </div>"
      ]
     },
     "metadata": {},
     "output_type": "display_data"
    }
   ],
   "source": [
    "barchart5 = px.bar(\n",
    "    data_frame = df6,\n",
    "    x = \"MCI\",\n",
    "    y = \"Count\",\n",
    "    color = 'DOW',\n",
    "    text = 'MCI',\n",
    "    title = 'Milliken Major Crime Indicators',\n",
    "    width = 1400,\n",
    "    height = 720,\n",
    "    opacity = 0.9,\n",
    "    orientation = 'v',\n",
    "    barmode = 'group',\n",
    "    template = 'gridon',\n",
    "    \n",
    "    animation_frame = 'DOW',\n",
    "    range_y = [0,35],\n",
    "   \n",
    ")\n",
    "\n",
    "barchart5.layout.updatemenus[0].buttons[0].args[1]['frame']['duration'] = 1000\n",
    "barchart5.layout.updatemenus[0].buttons[0].args[1]['transition']['duration'] = 500\n",
    "\n",
    "barchart5.show()"
   ]
  },
  {
   "cell_type": "code",
   "execution_count": 60,
   "id": "1b22ba0f",
   "metadata": {},
   "outputs": [
    {
     "data": {
      "application/vnd.plotly.v1+json": {
       "config": {
        "plotlyServerURL": "https://plot.ly"
       },
       "data": [
        {
         "alignmentgroup": "True",
         "hovertemplate": "DOW=Monday<br>MCI=%{text}<br>Count=%{y}<extra></extra>",
         "legendgroup": "Monday",
         "marker": {
          "color": "#1F77B4",
          "opacity": 0.9,
          "pattern": {
           "shape": ""
          }
         },
         "name": "Monday",
         "offsetgroup": "Monday",
         "orientation": "v",
         "showlegend": true,
         "text": [
          "Assault",
          "Auto Theft",
          "Break and Enter",
          "Robbery",
          "Theft Over"
         ],
         "textposition": "auto",
         "type": "bar",
         "x": [
          "Assault",
          "Auto Theft",
          "Break and Enter",
          "Robbery",
          "Theft Over"
         ],
         "xaxis": "x",
         "y": [
          0,
          0,
          0,
          0,
          0
         ],
         "yaxis": "y"
        }
       ],
       "frames": [
        {
         "data": [
          {
           "alignmentgroup": "True",
           "hovertemplate": "DOW=Monday<br>MCI=%{text}<br>Count=%{y}<extra></extra>",
           "legendgroup": "Monday",
           "marker": {
            "color": "#1F77B4",
            "opacity": 0.9,
            "pattern": {
             "shape": ""
            }
           },
           "name": "Monday",
           "offsetgroup": "Monday",
           "orientation": "v",
           "showlegend": true,
           "text": [
            "Assault",
            "Auto Theft",
            "Break and Enter",
            "Robbery",
            "Theft Over"
           ],
           "textposition": "auto",
           "type": "bar",
           "x": [
            "Assault",
            "Auto Theft",
            "Break and Enter",
            "Robbery",
            "Theft Over"
           ],
           "xaxis": "x",
           "y": [
            0,
            0,
            0,
            0,
            0
           ],
           "yaxis": "y"
          }
         ],
         "name": "Monday"
        },
        {
         "data": [
          {
           "alignmentgroup": "True",
           "hovertemplate": "DOW=Tuesday<br>MCI=%{text}<br>Count=%{y}<extra></extra>",
           "legendgroup": "Tuesday",
           "marker": {
            "color": "#FF7F0E",
            "opacity": 0.9,
            "pattern": {
             "shape": ""
            }
           },
           "name": "Tuesday",
           "offsetgroup": "Tuesday",
           "orientation": "v",
           "showlegend": true,
           "text": [
            "Assault",
            "Auto Theft",
            "Break and Enter",
            "Robbery",
            "Theft Over"
           ],
           "textposition": "auto",
           "type": "bar",
           "x": [
            "Assault",
            "Auto Theft",
            "Break and Enter",
            "Robbery",
            "Theft Over"
           ],
           "xaxis": "x",
           "y": [
            0,
            0,
            0,
            0,
            0
           ],
           "yaxis": "y"
          }
         ],
         "name": "Tuesday"
        },
        {
         "data": [
          {
           "alignmentgroup": "True",
           "hovertemplate": "DOW=Wednesday<br>MCI=%{text}<br>Count=%{y}<extra></extra>",
           "legendgroup": "Wednesday",
           "marker": {
            "color": "#2CA02C",
            "opacity": 0.9,
            "pattern": {
             "shape": ""
            }
           },
           "name": "Wednesday",
           "offsetgroup": "Wednesday",
           "orientation": "v",
           "showlegend": true,
           "text": [
            "Assault",
            "Auto Theft",
            "Break and Enter",
            "Robbery",
            "Theft Over"
           ],
           "textposition": "auto",
           "type": "bar",
           "x": [
            "Assault",
            "Auto Theft",
            "Break and Enter",
            "Robbery",
            "Theft Over"
           ],
           "xaxis": "x",
           "y": [
            0,
            0,
            0,
            0,
            0
           ],
           "yaxis": "y"
          }
         ],
         "name": "Wednesday"
        },
        {
         "data": [
          {
           "alignmentgroup": "True",
           "hovertemplate": "DOW=Thursday<br>MCI=%{text}<br>Count=%{y}<extra></extra>",
           "legendgroup": "Thursday",
           "marker": {
            "color": "#D62728",
            "opacity": 0.9,
            "pattern": {
             "shape": ""
            }
           },
           "name": "Thursday",
           "offsetgroup": "Thursday",
           "orientation": "v",
           "showlegend": true,
           "text": [
            "Assault",
            "Auto Theft",
            "Break and Enter",
            "Robbery",
            "Theft Over"
           ],
           "textposition": "auto",
           "type": "bar",
           "x": [
            "Assault",
            "Auto Theft",
            "Break and Enter",
            "Robbery",
            "Theft Over"
           ],
           "xaxis": "x",
           "y": [
            0,
            0,
            0,
            0,
            0
           ],
           "yaxis": "y"
          }
         ],
         "name": "Thursday"
        },
        {
         "data": [
          {
           "alignmentgroup": "True",
           "hovertemplate": "DOW=Friday<br>MCI=%{text}<br>Count=%{y}<extra></extra>",
           "legendgroup": "Friday",
           "marker": {
            "color": "#9467BD",
            "opacity": 0.9,
            "pattern": {
             "shape": ""
            }
           },
           "name": "Friday",
           "offsetgroup": "Friday",
           "orientation": "v",
           "showlegend": true,
           "text": [
            "Assault",
            "Auto Theft",
            "Break and Enter",
            "Robbery",
            "Theft Over"
           ],
           "textposition": "auto",
           "type": "bar",
           "x": [
            "Assault",
            "Auto Theft",
            "Break and Enter",
            "Robbery",
            "Theft Over"
           ],
           "xaxis": "x",
           "y": [
            0,
            0,
            0,
            0,
            0
           ],
           "yaxis": "y"
          }
         ],
         "name": "Friday"
        },
        {
         "data": [
          {
           "alignmentgroup": "True",
           "hovertemplate": "DOW=Saturday<br>MCI=%{text}<br>Count=%{y}<extra></extra>",
           "legendgroup": "Saturday",
           "marker": {
            "color": "#8C564B",
            "opacity": 0.9,
            "pattern": {
             "shape": ""
            }
           },
           "name": "Saturday",
           "offsetgroup": "Saturday",
           "orientation": "v",
           "showlegend": true,
           "text": [
            "Assault",
            "Auto Theft",
            "Break and Enter",
            "Robbery",
            "Theft Over"
           ],
           "textposition": "auto",
           "type": "bar",
           "x": [
            "Assault",
            "Auto Theft",
            "Break and Enter",
            "Robbery",
            "Theft Over"
           ],
           "xaxis": "x",
           "y": [
            1,
            0,
            0,
            0,
            0
           ],
           "yaxis": "y"
          }
         ],
         "name": "Saturday"
        },
        {
         "data": [
          {
           "alignmentgroup": "True",
           "hovertemplate": "DOW=Sunday<br>MCI=%{text}<br>Count=%{y}<extra></extra>",
           "legendgroup": "Sunday",
           "marker": {
            "color": "#E377C2",
            "opacity": 0.9,
            "pattern": {
             "shape": ""
            }
           },
           "name": "Sunday",
           "offsetgroup": "Sunday",
           "orientation": "v",
           "showlegend": true,
           "text": [
            "Assault",
            "Auto Theft",
            "Break and Enter",
            "Robbery",
            "Theft Over"
           ],
           "textposition": "auto",
           "type": "bar",
           "x": [
            "Assault",
            "Auto Theft",
            "Break and Enter",
            "Robbery",
            "Theft Over"
           ],
           "xaxis": "x",
           "y": [
            0,
            0,
            0,
            0,
            0
           ],
           "yaxis": "y"
          }
         ],
         "name": "Sunday"
        }
       ],
       "layout": {
        "barmode": "group",
        "height": 720,
        "legend": {
         "title": {
          "text": "DOW"
         },
         "tracegroupgap": 0
        },
        "sliders": [
         {
          "active": 0,
          "currentvalue": {
           "prefix": "DOW="
          },
          "len": 0.9,
          "pad": {
           "b": 10,
           "t": 60
          },
          "steps": [
           {
            "args": [
             [
              "Monday"
             ],
             {
              "frame": {
               "duration": 0,
               "redraw": true
              },
              "fromcurrent": true,
              "mode": "immediate",
              "transition": {
               "duration": 0,
               "easing": "linear"
              }
             }
            ],
            "label": "Monday",
            "method": "animate"
           },
           {
            "args": [
             [
              "Tuesday"
             ],
             {
              "frame": {
               "duration": 0,
               "redraw": true
              },
              "fromcurrent": true,
              "mode": "immediate",
              "transition": {
               "duration": 0,
               "easing": "linear"
              }
             }
            ],
            "label": "Tuesday",
            "method": "animate"
           },
           {
            "args": [
             [
              "Wednesday"
             ],
             {
              "frame": {
               "duration": 0,
               "redraw": true
              },
              "fromcurrent": true,
              "mode": "immediate",
              "transition": {
               "duration": 0,
               "easing": "linear"
              }
             }
            ],
            "label": "Wednesday",
            "method": "animate"
           },
           {
            "args": [
             [
              "Thursday"
             ],
             {
              "frame": {
               "duration": 0,
               "redraw": true
              },
              "fromcurrent": true,
              "mode": "immediate",
              "transition": {
               "duration": 0,
               "easing": "linear"
              }
             }
            ],
            "label": "Thursday",
            "method": "animate"
           },
           {
            "args": [
             [
              "Friday"
             ],
             {
              "frame": {
               "duration": 0,
               "redraw": true
              },
              "fromcurrent": true,
              "mode": "immediate",
              "transition": {
               "duration": 0,
               "easing": "linear"
              }
             }
            ],
            "label": "Friday",
            "method": "animate"
           },
           {
            "args": [
             [
              "Saturday"
             ],
             {
              "frame": {
               "duration": 0,
               "redraw": true
              },
              "fromcurrent": true,
              "mode": "immediate",
              "transition": {
               "duration": 0,
               "easing": "linear"
              }
             }
            ],
            "label": "Saturday",
            "method": "animate"
           },
           {
            "args": [
             [
              "Sunday"
             ],
             {
              "frame": {
               "duration": 0,
               "redraw": true
              },
              "fromcurrent": true,
              "mode": "immediate",
              "transition": {
               "duration": 0,
               "easing": "linear"
              }
             }
            ],
            "label": "Sunday",
            "method": "animate"
           }
          ],
          "x": 0.1,
          "xanchor": "left",
          "y": 0,
          "yanchor": "top"
         }
        ],
        "template": {
         "data": {
          "pie": [
           {
            "automargin": true,
            "type": "pie"
           }
          ]
         },
         "layout": {
          "xaxis": {
           "showgrid": true,
           "title": {
            "standoff": 15
           }
          },
          "yaxis": {
           "showgrid": true,
           "title": {
            "standoff": 15
           }
          }
         }
        },
        "title": {
         "text": "NSA Major Crime Indicators"
        },
        "updatemenus": [
         {
          "buttons": [
           {
            "args": [
             null,
             {
              "frame": {
               "duration": 1000,
               "redraw": true
              },
              "fromcurrent": true,
              "mode": "immediate",
              "transition": {
               "duration": 500,
               "easing": "linear"
              }
             }
            ],
            "label": "&#9654;",
            "method": "animate"
           },
           {
            "args": [
             [
              null
             ],
             {
              "frame": {
               "duration": 0,
               "redraw": true
              },
              "fromcurrent": true,
              "mode": "immediate",
              "transition": {
               "duration": 0,
               "easing": "linear"
              }
             }
            ],
            "label": "&#9724;",
            "method": "animate"
           }
          ],
          "direction": "left",
          "pad": {
           "r": 10,
           "t": 70
          },
          "showactive": false,
          "type": "buttons",
          "x": 0.1,
          "xanchor": "right",
          "y": 0,
          "yanchor": "top"
         }
        ],
        "width": 1400,
        "xaxis": {
         "anchor": "y",
         "domain": [
          0,
          1
         ],
         "title": {
          "text": "MCI"
         }
        },
        "yaxis": {
         "anchor": "x",
         "domain": [
          0,
          1
         ],
         "range": [
          0,
          35
         ],
         "title": {
          "text": "Count"
         }
        }
       }
      },
      "text/html": [
       "<div>                            <div id=\"c20d16f0-2eeb-4e23-9364-002080d7b845\" class=\"plotly-graph-div\" style=\"height:720px; width:1400px;\"></div>            <script type=\"text/javascript\">                require([\"plotly\"], function(Plotly) {                    window.PLOTLYENV=window.PLOTLYENV || {};                                    if (document.getElementById(\"c20d16f0-2eeb-4e23-9364-002080d7b845\")) {                    Plotly.newPlot(                        \"c20d16f0-2eeb-4e23-9364-002080d7b845\",                        [{\"alignmentgroup\":\"True\",\"hovertemplate\":\"DOW=Monday<br>MCI=%{text}<br>Count=%{y}<extra></extra>\",\"legendgroup\":\"Monday\",\"marker\":{\"color\":\"#1F77B4\",\"opacity\":0.9,\"pattern\":{\"shape\":\"\"}},\"name\":\"Monday\",\"offsetgroup\":\"Monday\",\"orientation\":\"v\",\"showlegend\":true,\"text\":[\"Assault\",\"Auto Theft\",\"Break and Enter\",\"Robbery\",\"Theft Over\"],\"textposition\":\"auto\",\"x\":[\"Assault\",\"Auto Theft\",\"Break and Enter\",\"Robbery\",\"Theft Over\"],\"xaxis\":\"x\",\"y\":[0,0,0,0,0],\"yaxis\":\"y\",\"type\":\"bar\"}],                        {\"template\":{\"data\":{\"pie\":[{\"automargin\":true,\"type\":\"pie\"}]},\"layout\":{\"xaxis\":{\"showgrid\":true,\"title\":{\"standoff\":15}},\"yaxis\":{\"showgrid\":true,\"title\":{\"standoff\":15}}}},\"xaxis\":{\"anchor\":\"y\",\"domain\":[0.0,1.0],\"title\":{\"text\":\"MCI\"}},\"yaxis\":{\"anchor\":\"x\",\"domain\":[0.0,1.0],\"title\":{\"text\":\"Count\"},\"range\":[0,35]},\"legend\":{\"title\":{\"text\":\"DOW\"},\"tracegroupgap\":0},\"title\":{\"text\":\"NSA Major Crime Indicators\"},\"barmode\":\"group\",\"height\":720,\"width\":1400,\"updatemenus\":[{\"buttons\":[{\"args\":[null,{\"frame\":{\"duration\":1000,\"redraw\":true},\"mode\":\"immediate\",\"fromcurrent\":true,\"transition\":{\"duration\":500,\"easing\":\"linear\"}}],\"label\":\"&#9654;\",\"method\":\"animate\"},{\"args\":[[null],{\"frame\":{\"duration\":0,\"redraw\":true},\"mode\":\"immediate\",\"fromcurrent\":true,\"transition\":{\"duration\":0,\"easing\":\"linear\"}}],\"label\":\"&#9724;\",\"method\":\"animate\"}],\"direction\":\"left\",\"pad\":{\"r\":10,\"t\":70},\"showactive\":false,\"type\":\"buttons\",\"x\":0.1,\"xanchor\":\"right\",\"y\":0,\"yanchor\":\"top\"}],\"sliders\":[{\"active\":0,\"currentvalue\":{\"prefix\":\"DOW=\"},\"len\":0.9,\"pad\":{\"b\":10,\"t\":60},\"steps\":[{\"args\":[[\"Monday\"],{\"frame\":{\"duration\":0,\"redraw\":true},\"mode\":\"immediate\",\"fromcurrent\":true,\"transition\":{\"duration\":0,\"easing\":\"linear\"}}],\"label\":\"Monday\",\"method\":\"animate\"},{\"args\":[[\"Tuesday\"],{\"frame\":{\"duration\":0,\"redraw\":true},\"mode\":\"immediate\",\"fromcurrent\":true,\"transition\":{\"duration\":0,\"easing\":\"linear\"}}],\"label\":\"Tuesday\",\"method\":\"animate\"},{\"args\":[[\"Wednesday\"],{\"frame\":{\"duration\":0,\"redraw\":true},\"mode\":\"immediate\",\"fromcurrent\":true,\"transition\":{\"duration\":0,\"easing\":\"linear\"}}],\"label\":\"Wednesday\",\"method\":\"animate\"},{\"args\":[[\"Thursday\"],{\"frame\":{\"duration\":0,\"redraw\":true},\"mode\":\"immediate\",\"fromcurrent\":true,\"transition\":{\"duration\":0,\"easing\":\"linear\"}}],\"label\":\"Thursday\",\"method\":\"animate\"},{\"args\":[[\"Friday\"],{\"frame\":{\"duration\":0,\"redraw\":true},\"mode\":\"immediate\",\"fromcurrent\":true,\"transition\":{\"duration\":0,\"easing\":\"linear\"}}],\"label\":\"Friday\",\"method\":\"animate\"},{\"args\":[[\"Saturday\"],{\"frame\":{\"duration\":0,\"redraw\":true},\"mode\":\"immediate\",\"fromcurrent\":true,\"transition\":{\"duration\":0,\"easing\":\"linear\"}}],\"label\":\"Saturday\",\"method\":\"animate\"},{\"args\":[[\"Sunday\"],{\"frame\":{\"duration\":0,\"redraw\":true},\"mode\":\"immediate\",\"fromcurrent\":true,\"transition\":{\"duration\":0,\"easing\":\"linear\"}}],\"label\":\"Sunday\",\"method\":\"animate\"}],\"x\":0.1,\"xanchor\":\"left\",\"y\":0,\"yanchor\":\"top\"}]},                        {\"responsive\": true}                    ).then(function(){\n",
       "                            Plotly.addFrames('c20d16f0-2eeb-4e23-9364-002080d7b845', [{\"data\":[{\"alignmentgroup\":\"True\",\"hovertemplate\":\"DOW=Monday<br>MCI=%{text}<br>Count=%{y}<extra></extra>\",\"legendgroup\":\"Monday\",\"marker\":{\"color\":\"#1F77B4\",\"opacity\":0.9,\"pattern\":{\"shape\":\"\"}},\"name\":\"Monday\",\"offsetgroup\":\"Monday\",\"orientation\":\"v\",\"showlegend\":true,\"text\":[\"Assault\",\"Auto Theft\",\"Break and Enter\",\"Robbery\",\"Theft Over\"],\"textposition\":\"auto\",\"x\":[\"Assault\",\"Auto Theft\",\"Break and Enter\",\"Robbery\",\"Theft Over\"],\"xaxis\":\"x\",\"y\":[0,0,0,0,0],\"yaxis\":\"y\",\"type\":\"bar\"}],\"name\":\"Monday\"},{\"data\":[{\"alignmentgroup\":\"True\",\"hovertemplate\":\"DOW=Tuesday<br>MCI=%{text}<br>Count=%{y}<extra></extra>\",\"legendgroup\":\"Tuesday\",\"marker\":{\"color\":\"#FF7F0E\",\"opacity\":0.9,\"pattern\":{\"shape\":\"\"}},\"name\":\"Tuesday\",\"offsetgroup\":\"Tuesday\",\"orientation\":\"v\",\"showlegend\":true,\"text\":[\"Assault\",\"Auto Theft\",\"Break and Enter\",\"Robbery\",\"Theft Over\"],\"textposition\":\"auto\",\"x\":[\"Assault\",\"Auto Theft\",\"Break and Enter\",\"Robbery\",\"Theft Over\"],\"xaxis\":\"x\",\"y\":[0,0,0,0,0],\"yaxis\":\"y\",\"type\":\"bar\"}],\"name\":\"Tuesday\"},{\"data\":[{\"alignmentgroup\":\"True\",\"hovertemplate\":\"DOW=Wednesday<br>MCI=%{text}<br>Count=%{y}<extra></extra>\",\"legendgroup\":\"Wednesday\",\"marker\":{\"color\":\"#2CA02C\",\"opacity\":0.9,\"pattern\":{\"shape\":\"\"}},\"name\":\"Wednesday\",\"offsetgroup\":\"Wednesday\",\"orientation\":\"v\",\"showlegend\":true,\"text\":[\"Assault\",\"Auto Theft\",\"Break and Enter\",\"Robbery\",\"Theft Over\"],\"textposition\":\"auto\",\"x\":[\"Assault\",\"Auto Theft\",\"Break and Enter\",\"Robbery\",\"Theft Over\"],\"xaxis\":\"x\",\"y\":[0,0,0,0,0],\"yaxis\":\"y\",\"type\":\"bar\"}],\"name\":\"Wednesday\"},{\"data\":[{\"alignmentgroup\":\"True\",\"hovertemplate\":\"DOW=Thursday<br>MCI=%{text}<br>Count=%{y}<extra></extra>\",\"legendgroup\":\"Thursday\",\"marker\":{\"color\":\"#D62728\",\"opacity\":0.9,\"pattern\":{\"shape\":\"\"}},\"name\":\"Thursday\",\"offsetgroup\":\"Thursday\",\"orientation\":\"v\",\"showlegend\":true,\"text\":[\"Assault\",\"Auto Theft\",\"Break and Enter\",\"Robbery\",\"Theft Over\"],\"textposition\":\"auto\",\"x\":[\"Assault\",\"Auto Theft\",\"Break and Enter\",\"Robbery\",\"Theft Over\"],\"xaxis\":\"x\",\"y\":[0,0,0,0,0],\"yaxis\":\"y\",\"type\":\"bar\"}],\"name\":\"Thursday\"},{\"data\":[{\"alignmentgroup\":\"True\",\"hovertemplate\":\"DOW=Friday<br>MCI=%{text}<br>Count=%{y}<extra></extra>\",\"legendgroup\":\"Friday\",\"marker\":{\"color\":\"#9467BD\",\"opacity\":0.9,\"pattern\":{\"shape\":\"\"}},\"name\":\"Friday\",\"offsetgroup\":\"Friday\",\"orientation\":\"v\",\"showlegend\":true,\"text\":[\"Assault\",\"Auto Theft\",\"Break and Enter\",\"Robbery\",\"Theft Over\"],\"textposition\":\"auto\",\"x\":[\"Assault\",\"Auto Theft\",\"Break and Enter\",\"Robbery\",\"Theft Over\"],\"xaxis\":\"x\",\"y\":[0,0,0,0,0],\"yaxis\":\"y\",\"type\":\"bar\"}],\"name\":\"Friday\"},{\"data\":[{\"alignmentgroup\":\"True\",\"hovertemplate\":\"DOW=Saturday<br>MCI=%{text}<br>Count=%{y}<extra></extra>\",\"legendgroup\":\"Saturday\",\"marker\":{\"color\":\"#8C564B\",\"opacity\":0.9,\"pattern\":{\"shape\":\"\"}},\"name\":\"Saturday\",\"offsetgroup\":\"Saturday\",\"orientation\":\"v\",\"showlegend\":true,\"text\":[\"Assault\",\"Auto Theft\",\"Break and Enter\",\"Robbery\",\"Theft Over\"],\"textposition\":\"auto\",\"x\":[\"Assault\",\"Auto Theft\",\"Break and Enter\",\"Robbery\",\"Theft Over\"],\"xaxis\":\"x\",\"y\":[1,0,0,0,0],\"yaxis\":\"y\",\"type\":\"bar\"}],\"name\":\"Saturday\"},{\"data\":[{\"alignmentgroup\":\"True\",\"hovertemplate\":\"DOW=Sunday<br>MCI=%{text}<br>Count=%{y}<extra></extra>\",\"legendgroup\":\"Sunday\",\"marker\":{\"color\":\"#E377C2\",\"opacity\":0.9,\"pattern\":{\"shape\":\"\"}},\"name\":\"Sunday\",\"offsetgroup\":\"Sunday\",\"orientation\":\"v\",\"showlegend\":true,\"text\":[\"Assault\",\"Auto Theft\",\"Break and Enter\",\"Robbery\",\"Theft Over\"],\"textposition\":\"auto\",\"x\":[\"Assault\",\"Auto Theft\",\"Break and Enter\",\"Robbery\",\"Theft Over\"],\"xaxis\":\"x\",\"y\":[0,0,0,0,0],\"yaxis\":\"y\",\"type\":\"bar\"}],\"name\":\"Sunday\"}]);\n",
       "                        }).then(function(){\n",
       "                            \n",
       "var gd = document.getElementById('c20d16f0-2eeb-4e23-9364-002080d7b845');\n",
       "var x = new MutationObserver(function (mutations, observer) {{\n",
       "        var display = window.getComputedStyle(gd).display;\n",
       "        if (!display || display === 'none') {{\n",
       "            console.log([gd, 'removed!']);\n",
       "            Plotly.purge(gd);\n",
       "            observer.disconnect();\n",
       "        }}\n",
       "}});\n",
       "\n",
       "// Listen for the removal of the full notebook cells\n",
       "var notebookContainer = gd.closest('#notebook-container');\n",
       "if (notebookContainer) {{\n",
       "    x.observe(notebookContainer, {childList: true});\n",
       "}}\n",
       "\n",
       "// Listen for the clearing of the current output cell\n",
       "var outputEl = gd.closest('.output');\n",
       "if (outputEl) {{\n",
       "    x.observe(outputEl, {childList: true});\n",
       "}}\n",
       "\n",
       "                        })                };                });            </script>        </div>"
      ]
     },
     "metadata": {},
     "output_type": "display_data"
    }
   ],
   "source": [
    "barchart6 = px.bar(\n",
    "    data_frame = df7,\n",
    "    x = \"MCI\",\n",
    "    y = \"Count\",\n",
    "    color = 'DOW',\n",
    "    text = 'MCI',\n",
    "    title = 'NSA Major Crime Indicators',\n",
    "    width = 1400,\n",
    "    height = 720,\n",
    "    opacity = 0.9,\n",
    "    orientation = 'v',\n",
    "    barmode = 'group',\n",
    "    template = 'gridon',\n",
    "    \n",
    "    animation_frame = 'DOW',\n",
    "    range_y = [0,35],\n",
    "   \n",
    ")\n",
    "\n",
    "barchart6.layout.updatemenus[0].buttons[0].args[1]['frame']['duration'] = 1000\n",
    "barchart6.layout.updatemenus[0].buttons[0].args[1]['transition']['duration'] = 500\n",
    "\n",
    "barchart6.show()"
   ]
  },
  {
   "cell_type": "code",
   "execution_count": 61,
   "id": "6085362c",
   "metadata": {},
   "outputs": [
    {
     "data": {
      "application/vnd.plotly.v1+json": {
       "config": {
        "plotlyServerURL": "https://plot.ly"
       },
       "data": [
        {
         "alignmentgroup": "True",
         "hovertemplate": "DOW=Monday<br>MCI=%{text}<br>Count=%{y}<extra></extra>",
         "legendgroup": "Monday",
         "marker": {
          "color": "#1F77B4",
          "opacity": 0.9,
          "pattern": {
           "shape": ""
          }
         },
         "name": "Monday",
         "offsetgroup": "Monday",
         "orientation": "v",
         "showlegend": true,
         "text": [
          "Assault",
          "Auto Theft",
          "Break and Enter",
          "Robbery",
          "Theft Over"
         ],
         "textposition": "auto",
         "type": "bar",
         "x": [
          "Assault",
          "Auto Theft",
          "Break and Enter",
          "Robbery",
          "Theft Over"
         ],
         "xaxis": "x",
         "y": [
          0,
          0,
          0,
          0,
          0
         ],
         "yaxis": "y"
        }
       ],
       "frames": [
        {
         "data": [
          {
           "alignmentgroup": "True",
           "hovertemplate": "DOW=Monday<br>MCI=%{text}<br>Count=%{y}<extra></extra>",
           "legendgroup": "Monday",
           "marker": {
            "color": "#1F77B4",
            "opacity": 0.9,
            "pattern": {
             "shape": ""
            }
           },
           "name": "Monday",
           "offsetgroup": "Monday",
           "orientation": "v",
           "showlegend": true,
           "text": [
            "Assault",
            "Auto Theft",
            "Break and Enter",
            "Robbery",
            "Theft Over"
           ],
           "textposition": "auto",
           "type": "bar",
           "x": [
            "Assault",
            "Auto Theft",
            "Break and Enter",
            "Robbery",
            "Theft Over"
           ],
           "xaxis": "x",
           "y": [
            0,
            0,
            0,
            0,
            0
           ],
           "yaxis": "y"
          }
         ],
         "name": "Monday"
        },
        {
         "data": [
          {
           "alignmentgroup": "True",
           "hovertemplate": "DOW=Tuesday<br>MCI=%{text}<br>Count=%{y}<extra></extra>",
           "legendgroup": "Tuesday",
           "marker": {
            "color": "#FF7F0E",
            "opacity": 0.9,
            "pattern": {
             "shape": ""
            }
           },
           "name": "Tuesday",
           "offsetgroup": "Tuesday",
           "orientation": "v",
           "showlegend": true,
           "text": [
            "Assault",
            "Auto Theft",
            "Break and Enter",
            "Robbery",
            "Theft Over"
           ],
           "textposition": "auto",
           "type": "bar",
           "x": [
            "Assault",
            "Auto Theft",
            "Break and Enter",
            "Robbery",
            "Theft Over"
           ],
           "xaxis": "x",
           "y": [
            1,
            0,
            0,
            0,
            0
           ],
           "yaxis": "y"
          }
         ],
         "name": "Tuesday"
        },
        {
         "data": [
          {
           "alignmentgroup": "True",
           "hovertemplate": "DOW=Wednesday<br>MCI=%{text}<br>Count=%{y}<extra></extra>",
           "legendgroup": "Wednesday",
           "marker": {
            "color": "#2CA02C",
            "opacity": 0.9,
            "pattern": {
             "shape": ""
            }
           },
           "name": "Wednesday",
           "offsetgroup": "Wednesday",
           "orientation": "v",
           "showlegend": true,
           "text": [
            "Assault",
            "Auto Theft",
            "Break and Enter",
            "Robbery",
            "Theft Over"
           ],
           "textposition": "auto",
           "type": "bar",
           "x": [
            "Assault",
            "Auto Theft",
            "Break and Enter",
            "Robbery",
            "Theft Over"
           ],
           "xaxis": "x",
           "y": [
            0,
            1,
            1,
            0,
            0
           ],
           "yaxis": "y"
          }
         ],
         "name": "Wednesday"
        },
        {
         "data": [
          {
           "alignmentgroup": "True",
           "hovertemplate": "DOW=Thursday<br>MCI=%{text}<br>Count=%{y}<extra></extra>",
           "legendgroup": "Thursday",
           "marker": {
            "color": "#D62728",
            "opacity": 0.9,
            "pattern": {
             "shape": ""
            }
           },
           "name": "Thursday",
           "offsetgroup": "Thursday",
           "orientation": "v",
           "showlegend": true,
           "text": [
            "Assault",
            "Auto Theft",
            "Break and Enter",
            "Robbery",
            "Theft Over"
           ],
           "textposition": "auto",
           "type": "bar",
           "x": [
            "Assault",
            "Auto Theft",
            "Break and Enter",
            "Robbery",
            "Theft Over"
           ],
           "xaxis": "x",
           "y": [
            1,
            2,
            0,
            0,
            0
           ],
           "yaxis": "y"
          }
         ],
         "name": "Thursday"
        },
        {
         "data": [
          {
           "alignmentgroup": "True",
           "hovertemplate": "DOW=Friday<br>MCI=%{text}<br>Count=%{y}<extra></extra>",
           "legendgroup": "Friday",
           "marker": {
            "color": "#9467BD",
            "opacity": 0.9,
            "pattern": {
             "shape": ""
            }
           },
           "name": "Friday",
           "offsetgroup": "Friday",
           "orientation": "v",
           "showlegend": true,
           "text": [
            "Assault",
            "Auto Theft",
            "Break and Enter",
            "Robbery",
            "Theft Over"
           ],
           "textposition": "auto",
           "type": "bar",
           "x": [
            "Assault",
            "Auto Theft",
            "Break and Enter",
            "Robbery",
            "Theft Over"
           ],
           "xaxis": "x",
           "y": [
            1,
            1,
            0,
            0,
            0
           ],
           "yaxis": "y"
          }
         ],
         "name": "Friday"
        },
        {
         "data": [
          {
           "alignmentgroup": "True",
           "hovertemplate": "DOW=Saturday<br>MCI=%{text}<br>Count=%{y}<extra></extra>",
           "legendgroup": "Saturday",
           "marker": {
            "color": "#8C564B",
            "opacity": 0.9,
            "pattern": {
             "shape": ""
            }
           },
           "name": "Saturday",
           "offsetgroup": "Saturday",
           "orientation": "v",
           "showlegend": true,
           "text": [
            "Assault",
            "Auto Theft",
            "Break and Enter",
            "Robbery",
            "Theft Over"
           ],
           "textposition": "auto",
           "type": "bar",
           "x": [
            "Assault",
            "Auto Theft",
            "Break and Enter",
            "Robbery",
            "Theft Over"
           ],
           "xaxis": "x",
           "y": [
            0,
            1,
            0,
            0,
            0
           ],
           "yaxis": "y"
          }
         ],
         "name": "Saturday"
        },
        {
         "data": [
          {
           "alignmentgroup": "True",
           "hovertemplate": "DOW=Sunday<br>MCI=%{text}<br>Count=%{y}<extra></extra>",
           "legendgroup": "Sunday",
           "marker": {
            "color": "#E377C2",
            "opacity": 0.9,
            "pattern": {
             "shape": ""
            }
           },
           "name": "Sunday",
           "offsetgroup": "Sunday",
           "orientation": "v",
           "showlegend": true,
           "text": [
            "Assault",
            "Auto Theft",
            "Break and Enter",
            "Robbery",
            "Theft Over"
           ],
           "textposition": "auto",
           "type": "bar",
           "x": [
            "Assault",
            "Auto Theft",
            "Break and Enter",
            "Robbery",
            "Theft Over"
           ],
           "xaxis": "x",
           "y": [
            0,
            1,
            0,
            0,
            0
           ],
           "yaxis": "y"
          }
         ],
         "name": "Sunday"
        }
       ],
       "layout": {
        "barmode": "group",
        "height": 720,
        "legend": {
         "title": {
          "text": "DOW"
         },
         "tracegroupgap": 0
        },
        "sliders": [
         {
          "active": 0,
          "currentvalue": {
           "prefix": "DOW="
          },
          "len": 0.9,
          "pad": {
           "b": 10,
           "t": 60
          },
          "steps": [
           {
            "args": [
             [
              "Monday"
             ],
             {
              "frame": {
               "duration": 0,
               "redraw": true
              },
              "fromcurrent": true,
              "mode": "immediate",
              "transition": {
               "duration": 0,
               "easing": "linear"
              }
             }
            ],
            "label": "Monday",
            "method": "animate"
           },
           {
            "args": [
             [
              "Tuesday"
             ],
             {
              "frame": {
               "duration": 0,
               "redraw": true
              },
              "fromcurrent": true,
              "mode": "immediate",
              "transition": {
               "duration": 0,
               "easing": "linear"
              }
             }
            ],
            "label": "Tuesday",
            "method": "animate"
           },
           {
            "args": [
             [
              "Wednesday"
             ],
             {
              "frame": {
               "duration": 0,
               "redraw": true
              },
              "fromcurrent": true,
              "mode": "immediate",
              "transition": {
               "duration": 0,
               "easing": "linear"
              }
             }
            ],
            "label": "Wednesday",
            "method": "animate"
           },
           {
            "args": [
             [
              "Thursday"
             ],
             {
              "frame": {
               "duration": 0,
               "redraw": true
              },
              "fromcurrent": true,
              "mode": "immediate",
              "transition": {
               "duration": 0,
               "easing": "linear"
              }
             }
            ],
            "label": "Thursday",
            "method": "animate"
           },
           {
            "args": [
             [
              "Friday"
             ],
             {
              "frame": {
               "duration": 0,
               "redraw": true
              },
              "fromcurrent": true,
              "mode": "immediate",
              "transition": {
               "duration": 0,
               "easing": "linear"
              }
             }
            ],
            "label": "Friday",
            "method": "animate"
           },
           {
            "args": [
             [
              "Saturday"
             ],
             {
              "frame": {
               "duration": 0,
               "redraw": true
              },
              "fromcurrent": true,
              "mode": "immediate",
              "transition": {
               "duration": 0,
               "easing": "linear"
              }
             }
            ],
            "label": "Saturday",
            "method": "animate"
           },
           {
            "args": [
             [
              "Sunday"
             ],
             {
              "frame": {
               "duration": 0,
               "redraw": true
              },
              "fromcurrent": true,
              "mode": "immediate",
              "transition": {
               "duration": 0,
               "easing": "linear"
              }
             }
            ],
            "label": "Sunday",
            "method": "animate"
           }
          ],
          "x": 0.1,
          "xanchor": "left",
          "y": 0,
          "yanchor": "top"
         }
        ],
        "template": {
         "data": {
          "pie": [
           {
            "automargin": true,
            "type": "pie"
           }
          ]
         },
         "layout": {
          "xaxis": {
           "showgrid": true,
           "title": {
            "standoff": 15
           }
          },
          "yaxis": {
           "showgrid": true,
           "title": {
            "standoff": 15
           }
          }
         }
        },
        "title": {
         "text": "Rouge Major Crime Indicators"
        },
        "updatemenus": [
         {
          "buttons": [
           {
            "args": [
             null,
             {
              "frame": {
               "duration": 1000,
               "redraw": true
              },
              "fromcurrent": true,
              "mode": "immediate",
              "transition": {
               "duration": 500,
               "easing": "linear"
              }
             }
            ],
            "label": "&#9654;",
            "method": "animate"
           },
           {
            "args": [
             [
              null
             ],
             {
              "frame": {
               "duration": 0,
               "redraw": true
              },
              "fromcurrent": true,
              "mode": "immediate",
              "transition": {
               "duration": 0,
               "easing": "linear"
              }
             }
            ],
            "label": "&#9724;",
            "method": "animate"
           }
          ],
          "direction": "left",
          "pad": {
           "r": 10,
           "t": 70
          },
          "showactive": false,
          "type": "buttons",
          "x": 0.1,
          "xanchor": "right",
          "y": 0,
          "yanchor": "top"
         }
        ],
        "width": 1400,
        "xaxis": {
         "anchor": "y",
         "domain": [
          0,
          1
         ],
         "title": {
          "text": "MCI"
         }
        },
        "yaxis": {
         "anchor": "x",
         "domain": [
          0,
          1
         ],
         "range": [
          0,
          35
         ],
         "title": {
          "text": "Count"
         }
        }
       }
      },
      "text/html": [
       "<div>                            <div id=\"a7b2a8c2-cc9b-465a-91d5-80a08f426d4e\" class=\"plotly-graph-div\" style=\"height:720px; width:1400px;\"></div>            <script type=\"text/javascript\">                require([\"plotly\"], function(Plotly) {                    window.PLOTLYENV=window.PLOTLYENV || {};                                    if (document.getElementById(\"a7b2a8c2-cc9b-465a-91d5-80a08f426d4e\")) {                    Plotly.newPlot(                        \"a7b2a8c2-cc9b-465a-91d5-80a08f426d4e\",                        [{\"alignmentgroup\":\"True\",\"hovertemplate\":\"DOW=Monday<br>MCI=%{text}<br>Count=%{y}<extra></extra>\",\"legendgroup\":\"Monday\",\"marker\":{\"color\":\"#1F77B4\",\"opacity\":0.9,\"pattern\":{\"shape\":\"\"}},\"name\":\"Monday\",\"offsetgroup\":\"Monday\",\"orientation\":\"v\",\"showlegend\":true,\"text\":[\"Assault\",\"Auto Theft\",\"Break and Enter\",\"Robbery\",\"Theft Over\"],\"textposition\":\"auto\",\"x\":[\"Assault\",\"Auto Theft\",\"Break and Enter\",\"Robbery\",\"Theft Over\"],\"xaxis\":\"x\",\"y\":[0,0,0,0,0],\"yaxis\":\"y\",\"type\":\"bar\"}],                        {\"template\":{\"data\":{\"pie\":[{\"automargin\":true,\"type\":\"pie\"}]},\"layout\":{\"xaxis\":{\"showgrid\":true,\"title\":{\"standoff\":15}},\"yaxis\":{\"showgrid\":true,\"title\":{\"standoff\":15}}}},\"xaxis\":{\"anchor\":\"y\",\"domain\":[0.0,1.0],\"title\":{\"text\":\"MCI\"}},\"yaxis\":{\"anchor\":\"x\",\"domain\":[0.0,1.0],\"title\":{\"text\":\"Count\"},\"range\":[0,35]},\"legend\":{\"title\":{\"text\":\"DOW\"},\"tracegroupgap\":0},\"title\":{\"text\":\"Rouge Major Crime Indicators\"},\"barmode\":\"group\",\"height\":720,\"width\":1400,\"updatemenus\":[{\"buttons\":[{\"args\":[null,{\"frame\":{\"duration\":1000,\"redraw\":true},\"mode\":\"immediate\",\"fromcurrent\":true,\"transition\":{\"duration\":500,\"easing\":\"linear\"}}],\"label\":\"&#9654;\",\"method\":\"animate\"},{\"args\":[[null],{\"frame\":{\"duration\":0,\"redraw\":true},\"mode\":\"immediate\",\"fromcurrent\":true,\"transition\":{\"duration\":0,\"easing\":\"linear\"}}],\"label\":\"&#9724;\",\"method\":\"animate\"}],\"direction\":\"left\",\"pad\":{\"r\":10,\"t\":70},\"showactive\":false,\"type\":\"buttons\",\"x\":0.1,\"xanchor\":\"right\",\"y\":0,\"yanchor\":\"top\"}],\"sliders\":[{\"active\":0,\"currentvalue\":{\"prefix\":\"DOW=\"},\"len\":0.9,\"pad\":{\"b\":10,\"t\":60},\"steps\":[{\"args\":[[\"Monday\"],{\"frame\":{\"duration\":0,\"redraw\":true},\"mode\":\"immediate\",\"fromcurrent\":true,\"transition\":{\"duration\":0,\"easing\":\"linear\"}}],\"label\":\"Monday\",\"method\":\"animate\"},{\"args\":[[\"Tuesday\"],{\"frame\":{\"duration\":0,\"redraw\":true},\"mode\":\"immediate\",\"fromcurrent\":true,\"transition\":{\"duration\":0,\"easing\":\"linear\"}}],\"label\":\"Tuesday\",\"method\":\"animate\"},{\"args\":[[\"Wednesday\"],{\"frame\":{\"duration\":0,\"redraw\":true},\"mode\":\"immediate\",\"fromcurrent\":true,\"transition\":{\"duration\":0,\"easing\":\"linear\"}}],\"label\":\"Wednesday\",\"method\":\"animate\"},{\"args\":[[\"Thursday\"],{\"frame\":{\"duration\":0,\"redraw\":true},\"mode\":\"immediate\",\"fromcurrent\":true,\"transition\":{\"duration\":0,\"easing\":\"linear\"}}],\"label\":\"Thursday\",\"method\":\"animate\"},{\"args\":[[\"Friday\"],{\"frame\":{\"duration\":0,\"redraw\":true},\"mode\":\"immediate\",\"fromcurrent\":true,\"transition\":{\"duration\":0,\"easing\":\"linear\"}}],\"label\":\"Friday\",\"method\":\"animate\"},{\"args\":[[\"Saturday\"],{\"frame\":{\"duration\":0,\"redraw\":true},\"mode\":\"immediate\",\"fromcurrent\":true,\"transition\":{\"duration\":0,\"easing\":\"linear\"}}],\"label\":\"Saturday\",\"method\":\"animate\"},{\"args\":[[\"Sunday\"],{\"frame\":{\"duration\":0,\"redraw\":true},\"mode\":\"immediate\",\"fromcurrent\":true,\"transition\":{\"duration\":0,\"easing\":\"linear\"}}],\"label\":\"Sunday\",\"method\":\"animate\"}],\"x\":0.1,\"xanchor\":\"left\",\"y\":0,\"yanchor\":\"top\"}]},                        {\"responsive\": true}                    ).then(function(){\n",
       "                            Plotly.addFrames('a7b2a8c2-cc9b-465a-91d5-80a08f426d4e', [{\"data\":[{\"alignmentgroup\":\"True\",\"hovertemplate\":\"DOW=Monday<br>MCI=%{text}<br>Count=%{y}<extra></extra>\",\"legendgroup\":\"Monday\",\"marker\":{\"color\":\"#1F77B4\",\"opacity\":0.9,\"pattern\":{\"shape\":\"\"}},\"name\":\"Monday\",\"offsetgroup\":\"Monday\",\"orientation\":\"v\",\"showlegend\":true,\"text\":[\"Assault\",\"Auto Theft\",\"Break and Enter\",\"Robbery\",\"Theft Over\"],\"textposition\":\"auto\",\"x\":[\"Assault\",\"Auto Theft\",\"Break and Enter\",\"Robbery\",\"Theft Over\"],\"xaxis\":\"x\",\"y\":[0,0,0,0,0],\"yaxis\":\"y\",\"type\":\"bar\"}],\"name\":\"Monday\"},{\"data\":[{\"alignmentgroup\":\"True\",\"hovertemplate\":\"DOW=Tuesday<br>MCI=%{text}<br>Count=%{y}<extra></extra>\",\"legendgroup\":\"Tuesday\",\"marker\":{\"color\":\"#FF7F0E\",\"opacity\":0.9,\"pattern\":{\"shape\":\"\"}},\"name\":\"Tuesday\",\"offsetgroup\":\"Tuesday\",\"orientation\":\"v\",\"showlegend\":true,\"text\":[\"Assault\",\"Auto Theft\",\"Break and Enter\",\"Robbery\",\"Theft Over\"],\"textposition\":\"auto\",\"x\":[\"Assault\",\"Auto Theft\",\"Break and Enter\",\"Robbery\",\"Theft Over\"],\"xaxis\":\"x\",\"y\":[1,0,0,0,0],\"yaxis\":\"y\",\"type\":\"bar\"}],\"name\":\"Tuesday\"},{\"data\":[{\"alignmentgroup\":\"True\",\"hovertemplate\":\"DOW=Wednesday<br>MCI=%{text}<br>Count=%{y}<extra></extra>\",\"legendgroup\":\"Wednesday\",\"marker\":{\"color\":\"#2CA02C\",\"opacity\":0.9,\"pattern\":{\"shape\":\"\"}},\"name\":\"Wednesday\",\"offsetgroup\":\"Wednesday\",\"orientation\":\"v\",\"showlegend\":true,\"text\":[\"Assault\",\"Auto Theft\",\"Break and Enter\",\"Robbery\",\"Theft Over\"],\"textposition\":\"auto\",\"x\":[\"Assault\",\"Auto Theft\",\"Break and Enter\",\"Robbery\",\"Theft Over\"],\"xaxis\":\"x\",\"y\":[0,1,1,0,0],\"yaxis\":\"y\",\"type\":\"bar\"}],\"name\":\"Wednesday\"},{\"data\":[{\"alignmentgroup\":\"True\",\"hovertemplate\":\"DOW=Thursday<br>MCI=%{text}<br>Count=%{y}<extra></extra>\",\"legendgroup\":\"Thursday\",\"marker\":{\"color\":\"#D62728\",\"opacity\":0.9,\"pattern\":{\"shape\":\"\"}},\"name\":\"Thursday\",\"offsetgroup\":\"Thursday\",\"orientation\":\"v\",\"showlegend\":true,\"text\":[\"Assault\",\"Auto Theft\",\"Break and Enter\",\"Robbery\",\"Theft Over\"],\"textposition\":\"auto\",\"x\":[\"Assault\",\"Auto Theft\",\"Break and Enter\",\"Robbery\",\"Theft Over\"],\"xaxis\":\"x\",\"y\":[1,2,0,0,0],\"yaxis\":\"y\",\"type\":\"bar\"}],\"name\":\"Thursday\"},{\"data\":[{\"alignmentgroup\":\"True\",\"hovertemplate\":\"DOW=Friday<br>MCI=%{text}<br>Count=%{y}<extra></extra>\",\"legendgroup\":\"Friday\",\"marker\":{\"color\":\"#9467BD\",\"opacity\":0.9,\"pattern\":{\"shape\":\"\"}},\"name\":\"Friday\",\"offsetgroup\":\"Friday\",\"orientation\":\"v\",\"showlegend\":true,\"text\":[\"Assault\",\"Auto Theft\",\"Break and Enter\",\"Robbery\",\"Theft Over\"],\"textposition\":\"auto\",\"x\":[\"Assault\",\"Auto Theft\",\"Break and Enter\",\"Robbery\",\"Theft Over\"],\"xaxis\":\"x\",\"y\":[1,1,0,0,0],\"yaxis\":\"y\",\"type\":\"bar\"}],\"name\":\"Friday\"},{\"data\":[{\"alignmentgroup\":\"True\",\"hovertemplate\":\"DOW=Saturday<br>MCI=%{text}<br>Count=%{y}<extra></extra>\",\"legendgroup\":\"Saturday\",\"marker\":{\"color\":\"#8C564B\",\"opacity\":0.9,\"pattern\":{\"shape\":\"\"}},\"name\":\"Saturday\",\"offsetgroup\":\"Saturday\",\"orientation\":\"v\",\"showlegend\":true,\"text\":[\"Assault\",\"Auto Theft\",\"Break and Enter\",\"Robbery\",\"Theft Over\"],\"textposition\":\"auto\",\"x\":[\"Assault\",\"Auto Theft\",\"Break and Enter\",\"Robbery\",\"Theft Over\"],\"xaxis\":\"x\",\"y\":[0,1,0,0,0],\"yaxis\":\"y\",\"type\":\"bar\"}],\"name\":\"Saturday\"},{\"data\":[{\"alignmentgroup\":\"True\",\"hovertemplate\":\"DOW=Sunday<br>MCI=%{text}<br>Count=%{y}<extra></extra>\",\"legendgroup\":\"Sunday\",\"marker\":{\"color\":\"#E377C2\",\"opacity\":0.9,\"pattern\":{\"shape\":\"\"}},\"name\":\"Sunday\",\"offsetgroup\":\"Sunday\",\"orientation\":\"v\",\"showlegend\":true,\"text\":[\"Assault\",\"Auto Theft\",\"Break and Enter\",\"Robbery\",\"Theft Over\"],\"textposition\":\"auto\",\"x\":[\"Assault\",\"Auto Theft\",\"Break and Enter\",\"Robbery\",\"Theft Over\"],\"xaxis\":\"x\",\"y\":[0,1,0,0,0],\"yaxis\":\"y\",\"type\":\"bar\"}],\"name\":\"Sunday\"}]);\n",
       "                        }).then(function(){\n",
       "                            \n",
       "var gd = document.getElementById('a7b2a8c2-cc9b-465a-91d5-80a08f426d4e');\n",
       "var x = new MutationObserver(function (mutations, observer) {{\n",
       "        var display = window.getComputedStyle(gd).display;\n",
       "        if (!display || display === 'none') {{\n",
       "            console.log([gd, 'removed!']);\n",
       "            Plotly.purge(gd);\n",
       "            observer.disconnect();\n",
       "        }}\n",
       "}});\n",
       "\n",
       "// Listen for the removal of the full notebook cells\n",
       "var notebookContainer = gd.closest('#notebook-container');\n",
       "if (notebookContainer) {{\n",
       "    x.observe(notebookContainer, {childList: true});\n",
       "}}\n",
       "\n",
       "// Listen for the clearing of the current output cell\n",
       "var outputEl = gd.closest('.output');\n",
       "if (outputEl) {{\n",
       "    x.observe(outputEl, {childList: true});\n",
       "}}\n",
       "\n",
       "                        })                };                });            </script>        </div>"
      ]
     },
     "metadata": {},
     "output_type": "display_data"
    }
   ],
   "source": [
    "barchart7 = px.bar(\n",
    "    data_frame = df8,\n",
    "    x = \"MCI\",\n",
    "    y = \"Count\",\n",
    "    color = 'DOW',\n",
    "    text = 'MCI',\n",
    "    title = 'Rouge Major Crime Indicators',\n",
    "    width = 1400,\n",
    "    height = 720,\n",
    "    opacity = 0.9,\n",
    "    orientation = 'v',\n",
    "    barmode = 'group',\n",
    "    template = 'gridon',\n",
    "    \n",
    "    animation_frame = 'DOW',\n",
    "    range_y = [0,35],\n",
    "   \n",
    ")\n",
    "\n",
    "barchart7.layout.updatemenus[0].buttons[0].args[1]['frame']['duration'] = 1000\n",
    "barchart7.layout.updatemenus[0].buttons[0].args[1]['transition']['duration'] = 500\n",
    "\n",
    "barchart7.show()"
   ]
  },
  {
   "cell_type": "code",
   "execution_count": 62,
   "id": "6fb9f4de",
   "metadata": {},
   "outputs": [
    {
     "data": {
      "application/vnd.plotly.v1+json": {
       "config": {
        "plotlyServerURL": "https://plot.ly"
       },
       "data": [
        {
         "alignmentgroup": "True",
         "hovertemplate": "DOW=Monday<br>MCI=%{text}<br>Count=%{y}<extra></extra>",
         "legendgroup": "Monday",
         "marker": {
          "color": "#1F77B4",
          "opacity": 0.9,
          "pattern": {
           "shape": ""
          }
         },
         "name": "Monday",
         "offsetgroup": "Monday",
         "orientation": "v",
         "showlegend": true,
         "text": [
          "Assault",
          "Auto Theft",
          "Break and Enter",
          "Robbery",
          "Theft Over"
         ],
         "textposition": "auto",
         "type": "bar",
         "x": [
          "Assault",
          "Auto Theft",
          "Break and Enter",
          "Robbery",
          "Theft Over"
         ],
         "xaxis": "x",
         "y": [
          0,
          0,
          1,
          0,
          0
         ],
         "yaxis": "y"
        }
       ],
       "frames": [
        {
         "data": [
          {
           "alignmentgroup": "True",
           "hovertemplate": "DOW=Monday<br>MCI=%{text}<br>Count=%{y}<extra></extra>",
           "legendgroup": "Monday",
           "marker": {
            "color": "#1F77B4",
            "opacity": 0.9,
            "pattern": {
             "shape": ""
            }
           },
           "name": "Monday",
           "offsetgroup": "Monday",
           "orientation": "v",
           "showlegend": true,
           "text": [
            "Assault",
            "Auto Theft",
            "Break and Enter",
            "Robbery",
            "Theft Over"
           ],
           "textposition": "auto",
           "type": "bar",
           "x": [
            "Assault",
            "Auto Theft",
            "Break and Enter",
            "Robbery",
            "Theft Over"
           ],
           "xaxis": "x",
           "y": [
            0,
            0,
            1,
            0,
            0
           ],
           "yaxis": "y"
          }
         ],
         "name": "Monday"
        },
        {
         "data": [
          {
           "alignmentgroup": "True",
           "hovertemplate": "DOW=Tuesday<br>MCI=%{text}<br>Count=%{y}<extra></extra>",
           "legendgroup": "Tuesday",
           "marker": {
            "color": "#FF7F0E",
            "opacity": 0.9,
            "pattern": {
             "shape": ""
            }
           },
           "name": "Tuesday",
           "offsetgroup": "Tuesday",
           "orientation": "v",
           "showlegend": true,
           "text": [
            "Assault",
            "Auto Theft",
            "Break and Enter",
            "Robbery",
            "Theft Over"
           ],
           "textposition": "auto",
           "type": "bar",
           "x": [
            "Assault",
            "Auto Theft",
            "Break and Enter",
            "Robbery",
            "Theft Over"
           ],
           "xaxis": "x",
           "y": [
            1,
            0,
            0,
            0,
            0
           ],
           "yaxis": "y"
          }
         ],
         "name": "Tuesday"
        },
        {
         "data": [
          {
           "alignmentgroup": "True",
           "hovertemplate": "DOW=Wednesday<br>MCI=%{text}<br>Count=%{y}<extra></extra>",
           "legendgroup": "Wednesday",
           "marker": {
            "color": "#2CA02C",
            "opacity": 0.9,
            "pattern": {
             "shape": ""
            }
           },
           "name": "Wednesday",
           "offsetgroup": "Wednesday",
           "orientation": "v",
           "showlegend": true,
           "text": [
            "Assault",
            "Auto Theft",
            "Break and Enter",
            "Robbery",
            "Theft Over"
           ],
           "textposition": "auto",
           "type": "bar",
           "x": [
            "Assault",
            "Auto Theft",
            "Break and Enter",
            "Robbery",
            "Theft Over"
           ],
           "xaxis": "x",
           "y": [
            1,
            0,
            0,
            0,
            0
           ],
           "yaxis": "y"
          }
         ],
         "name": "Wednesday"
        },
        {
         "data": [
          {
           "alignmentgroup": "True",
           "hovertemplate": "DOW=Thursday<br>MCI=%{text}<br>Count=%{y}<extra></extra>",
           "legendgroup": "Thursday",
           "marker": {
            "color": "#D62728",
            "opacity": 0.9,
            "pattern": {
             "shape": ""
            }
           },
           "name": "Thursday",
           "offsetgroup": "Thursday",
           "orientation": "v",
           "showlegend": true,
           "text": [
            "Assault",
            "Auto Theft",
            "Break and Enter",
            "Robbery",
            "Theft Over"
           ],
           "textposition": "auto",
           "type": "bar",
           "x": [
            "Assault",
            "Auto Theft",
            "Break and Enter",
            "Robbery",
            "Theft Over"
           ],
           "xaxis": "x",
           "y": [
            1,
            0,
            0,
            0,
            0
           ],
           "yaxis": "y"
          }
         ],
         "name": "Thursday"
        },
        {
         "data": [
          {
           "alignmentgroup": "True",
           "hovertemplate": "DOW=Friday<br>MCI=%{text}<br>Count=%{y}<extra></extra>",
           "legendgroup": "Friday",
           "marker": {
            "color": "#9467BD",
            "opacity": 0.9,
            "pattern": {
             "shape": ""
            }
           },
           "name": "Friday",
           "offsetgroup": "Friday",
           "orientation": "v",
           "showlegend": true,
           "text": [
            "Assault",
            "Auto Theft",
            "Break and Enter",
            "Robbery",
            "Theft Over"
           ],
           "textposition": "auto",
           "type": "bar",
           "x": [
            "Assault",
            "Auto Theft",
            "Break and Enter",
            "Robbery",
            "Theft Over"
           ],
           "xaxis": "x",
           "y": [
            1,
            0,
            0,
            0,
            0
           ],
           "yaxis": "y"
          }
         ],
         "name": "Friday"
        },
        {
         "data": [
          {
           "alignmentgroup": "True",
           "hovertemplate": "DOW=Saturday<br>MCI=%{text}<br>Count=%{y}<extra></extra>",
           "legendgroup": "Saturday",
           "marker": {
            "color": "#8C564B",
            "opacity": 0.9,
            "pattern": {
             "shape": ""
            }
           },
           "name": "Saturday",
           "offsetgroup": "Saturday",
           "orientation": "v",
           "showlegend": true,
           "text": [
            "Assault",
            "Auto Theft",
            "Break and Enter",
            "Robbery",
            "Theft Over"
           ],
           "textposition": "auto",
           "type": "bar",
           "x": [
            "Assault",
            "Auto Theft",
            "Break and Enter",
            "Robbery",
            "Theft Over"
           ],
           "xaxis": "x",
           "y": [
            0,
            0,
            1,
            0,
            0
           ],
           "yaxis": "y"
          }
         ],
         "name": "Saturday"
        },
        {
         "data": [
          {
           "alignmentgroup": "True",
           "hovertemplate": "DOW=Sunday<br>MCI=%{text}<br>Count=%{y}<extra></extra>",
           "legendgroup": "Sunday",
           "marker": {
            "color": "#E377C2",
            "opacity": 0.9,
            "pattern": {
             "shape": ""
            }
           },
           "name": "Sunday",
           "offsetgroup": "Sunday",
           "orientation": "v",
           "showlegend": true,
           "text": [
            "Assault",
            "Auto Theft",
            "Break and Enter",
            "Robbery",
            "Theft Over"
           ],
           "textposition": "auto",
           "type": "bar",
           "x": [
            "Assault",
            "Auto Theft",
            "Break and Enter",
            "Robbery",
            "Theft Over"
           ],
           "xaxis": "x",
           "y": [
            1,
            0,
            0,
            2,
            0
           ],
           "yaxis": "y"
          }
         ],
         "name": "Sunday"
        }
       ],
       "layout": {
        "barmode": "group",
        "height": 720,
        "legend": {
         "title": {
          "text": "DOW"
         },
         "tracegroupgap": 0
        },
        "sliders": [
         {
          "active": 0,
          "currentvalue": {
           "prefix": "DOW="
          },
          "len": 0.9,
          "pad": {
           "b": 10,
           "t": 60
          },
          "steps": [
           {
            "args": [
             [
              "Monday"
             ],
             {
              "frame": {
               "duration": 0,
               "redraw": true
              },
              "fromcurrent": true,
              "mode": "immediate",
              "transition": {
               "duration": 0,
               "easing": "linear"
              }
             }
            ],
            "label": "Monday",
            "method": "animate"
           },
           {
            "args": [
             [
              "Tuesday"
             ],
             {
              "frame": {
               "duration": 0,
               "redraw": true
              },
              "fromcurrent": true,
              "mode": "immediate",
              "transition": {
               "duration": 0,
               "easing": "linear"
              }
             }
            ],
            "label": "Tuesday",
            "method": "animate"
           },
           {
            "args": [
             [
              "Wednesday"
             ],
             {
              "frame": {
               "duration": 0,
               "redraw": true
              },
              "fromcurrent": true,
              "mode": "immediate",
              "transition": {
               "duration": 0,
               "easing": "linear"
              }
             }
            ],
            "label": "Wednesday",
            "method": "animate"
           },
           {
            "args": [
             [
              "Thursday"
             ],
             {
              "frame": {
               "duration": 0,
               "redraw": true
              },
              "fromcurrent": true,
              "mode": "immediate",
              "transition": {
               "duration": 0,
               "easing": "linear"
              }
             }
            ],
            "label": "Thursday",
            "method": "animate"
           },
           {
            "args": [
             [
              "Friday"
             ],
             {
              "frame": {
               "duration": 0,
               "redraw": true
              },
              "fromcurrent": true,
              "mode": "immediate",
              "transition": {
               "duration": 0,
               "easing": "linear"
              }
             }
            ],
            "label": "Friday",
            "method": "animate"
           },
           {
            "args": [
             [
              "Saturday"
             ],
             {
              "frame": {
               "duration": 0,
               "redraw": true
              },
              "fromcurrent": true,
              "mode": "immediate",
              "transition": {
               "duration": 0,
               "easing": "linear"
              }
             }
            ],
            "label": "Saturday",
            "method": "animate"
           },
           {
            "args": [
             [
              "Sunday"
             ],
             {
              "frame": {
               "duration": 0,
               "redraw": true
              },
              "fromcurrent": true,
              "mode": "immediate",
              "transition": {
               "duration": 0,
               "easing": "linear"
              }
             }
            ],
            "label": "Sunday",
            "method": "animate"
           }
          ],
          "x": 0.1,
          "xanchor": "left",
          "y": 0,
          "yanchor": "top"
         }
        ],
        "template": {
         "data": {
          "pie": [
           {
            "automargin": true,
            "type": "pie"
           }
          ]
         },
         "layout": {
          "xaxis": {
           "showgrid": true,
           "title": {
            "standoff": 15
           }
          },
          "yaxis": {
           "showgrid": true,
           "title": {
            "standoff": 15
           }
          }
         }
        },
        "title": {
         "text": "Steeles Major Crime Indicators"
        },
        "updatemenus": [
         {
          "buttons": [
           {
            "args": [
             null,
             {
              "frame": {
               "duration": 1000,
               "redraw": true
              },
              "fromcurrent": true,
              "mode": "immediate",
              "transition": {
               "duration": 500,
               "easing": "linear"
              }
             }
            ],
            "label": "&#9654;",
            "method": "animate"
           },
           {
            "args": [
             [
              null
             ],
             {
              "frame": {
               "duration": 0,
               "redraw": true
              },
              "fromcurrent": true,
              "mode": "immediate",
              "transition": {
               "duration": 0,
               "easing": "linear"
              }
             }
            ],
            "label": "&#9724;",
            "method": "animate"
           }
          ],
          "direction": "left",
          "pad": {
           "r": 10,
           "t": 70
          },
          "showactive": false,
          "type": "buttons",
          "x": 0.1,
          "xanchor": "right",
          "y": 0,
          "yanchor": "top"
         }
        ],
        "width": 1400,
        "xaxis": {
         "anchor": "y",
         "domain": [
          0,
          1
         ],
         "title": {
          "text": "MCI"
         }
        },
        "yaxis": {
         "anchor": "x",
         "domain": [
          0,
          1
         ],
         "range": [
          0,
          35
         ],
         "title": {
          "text": "Count"
         }
        }
       }
      },
      "text/html": [
       "<div>                            <div id=\"198f0503-c39c-474d-8607-2b7459264bd9\" class=\"plotly-graph-div\" style=\"height:720px; width:1400px;\"></div>            <script type=\"text/javascript\">                require([\"plotly\"], function(Plotly) {                    window.PLOTLYENV=window.PLOTLYENV || {};                                    if (document.getElementById(\"198f0503-c39c-474d-8607-2b7459264bd9\")) {                    Plotly.newPlot(                        \"198f0503-c39c-474d-8607-2b7459264bd9\",                        [{\"alignmentgroup\":\"True\",\"hovertemplate\":\"DOW=Monday<br>MCI=%{text}<br>Count=%{y}<extra></extra>\",\"legendgroup\":\"Monday\",\"marker\":{\"color\":\"#1F77B4\",\"opacity\":0.9,\"pattern\":{\"shape\":\"\"}},\"name\":\"Monday\",\"offsetgroup\":\"Monday\",\"orientation\":\"v\",\"showlegend\":true,\"text\":[\"Assault\",\"Auto Theft\",\"Break and Enter\",\"Robbery\",\"Theft Over\"],\"textposition\":\"auto\",\"x\":[\"Assault\",\"Auto Theft\",\"Break and Enter\",\"Robbery\",\"Theft Over\"],\"xaxis\":\"x\",\"y\":[0,0,1,0,0],\"yaxis\":\"y\",\"type\":\"bar\"}],                        {\"template\":{\"data\":{\"pie\":[{\"automargin\":true,\"type\":\"pie\"}]},\"layout\":{\"xaxis\":{\"showgrid\":true,\"title\":{\"standoff\":15}},\"yaxis\":{\"showgrid\":true,\"title\":{\"standoff\":15}}}},\"xaxis\":{\"anchor\":\"y\",\"domain\":[0.0,1.0],\"title\":{\"text\":\"MCI\"}},\"yaxis\":{\"anchor\":\"x\",\"domain\":[0.0,1.0],\"title\":{\"text\":\"Count\"},\"range\":[0,35]},\"legend\":{\"title\":{\"text\":\"DOW\"},\"tracegroupgap\":0},\"title\":{\"text\":\"Steeles Major Crime Indicators\"},\"barmode\":\"group\",\"height\":720,\"width\":1400,\"updatemenus\":[{\"buttons\":[{\"args\":[null,{\"frame\":{\"duration\":1000,\"redraw\":true},\"mode\":\"immediate\",\"fromcurrent\":true,\"transition\":{\"duration\":500,\"easing\":\"linear\"}}],\"label\":\"&#9654;\",\"method\":\"animate\"},{\"args\":[[null],{\"frame\":{\"duration\":0,\"redraw\":true},\"mode\":\"immediate\",\"fromcurrent\":true,\"transition\":{\"duration\":0,\"easing\":\"linear\"}}],\"label\":\"&#9724;\",\"method\":\"animate\"}],\"direction\":\"left\",\"pad\":{\"r\":10,\"t\":70},\"showactive\":false,\"type\":\"buttons\",\"x\":0.1,\"xanchor\":\"right\",\"y\":0,\"yanchor\":\"top\"}],\"sliders\":[{\"active\":0,\"currentvalue\":{\"prefix\":\"DOW=\"},\"len\":0.9,\"pad\":{\"b\":10,\"t\":60},\"steps\":[{\"args\":[[\"Monday\"],{\"frame\":{\"duration\":0,\"redraw\":true},\"mode\":\"immediate\",\"fromcurrent\":true,\"transition\":{\"duration\":0,\"easing\":\"linear\"}}],\"label\":\"Monday\",\"method\":\"animate\"},{\"args\":[[\"Tuesday\"],{\"frame\":{\"duration\":0,\"redraw\":true},\"mode\":\"immediate\",\"fromcurrent\":true,\"transition\":{\"duration\":0,\"easing\":\"linear\"}}],\"label\":\"Tuesday\",\"method\":\"animate\"},{\"args\":[[\"Wednesday\"],{\"frame\":{\"duration\":0,\"redraw\":true},\"mode\":\"immediate\",\"fromcurrent\":true,\"transition\":{\"duration\":0,\"easing\":\"linear\"}}],\"label\":\"Wednesday\",\"method\":\"animate\"},{\"args\":[[\"Thursday\"],{\"frame\":{\"duration\":0,\"redraw\":true},\"mode\":\"immediate\",\"fromcurrent\":true,\"transition\":{\"duration\":0,\"easing\":\"linear\"}}],\"label\":\"Thursday\",\"method\":\"animate\"},{\"args\":[[\"Friday\"],{\"frame\":{\"duration\":0,\"redraw\":true},\"mode\":\"immediate\",\"fromcurrent\":true,\"transition\":{\"duration\":0,\"easing\":\"linear\"}}],\"label\":\"Friday\",\"method\":\"animate\"},{\"args\":[[\"Saturday\"],{\"frame\":{\"duration\":0,\"redraw\":true},\"mode\":\"immediate\",\"fromcurrent\":true,\"transition\":{\"duration\":0,\"easing\":\"linear\"}}],\"label\":\"Saturday\",\"method\":\"animate\"},{\"args\":[[\"Sunday\"],{\"frame\":{\"duration\":0,\"redraw\":true},\"mode\":\"immediate\",\"fromcurrent\":true,\"transition\":{\"duration\":0,\"easing\":\"linear\"}}],\"label\":\"Sunday\",\"method\":\"animate\"}],\"x\":0.1,\"xanchor\":\"left\",\"y\":0,\"yanchor\":\"top\"}]},                        {\"responsive\": true}                    ).then(function(){\n",
       "                            Plotly.addFrames('198f0503-c39c-474d-8607-2b7459264bd9', [{\"data\":[{\"alignmentgroup\":\"True\",\"hovertemplate\":\"DOW=Monday<br>MCI=%{text}<br>Count=%{y}<extra></extra>\",\"legendgroup\":\"Monday\",\"marker\":{\"color\":\"#1F77B4\",\"opacity\":0.9,\"pattern\":{\"shape\":\"\"}},\"name\":\"Monday\",\"offsetgroup\":\"Monday\",\"orientation\":\"v\",\"showlegend\":true,\"text\":[\"Assault\",\"Auto Theft\",\"Break and Enter\",\"Robbery\",\"Theft Over\"],\"textposition\":\"auto\",\"x\":[\"Assault\",\"Auto Theft\",\"Break and Enter\",\"Robbery\",\"Theft Over\"],\"xaxis\":\"x\",\"y\":[0,0,1,0,0],\"yaxis\":\"y\",\"type\":\"bar\"}],\"name\":\"Monday\"},{\"data\":[{\"alignmentgroup\":\"True\",\"hovertemplate\":\"DOW=Tuesday<br>MCI=%{text}<br>Count=%{y}<extra></extra>\",\"legendgroup\":\"Tuesday\",\"marker\":{\"color\":\"#FF7F0E\",\"opacity\":0.9,\"pattern\":{\"shape\":\"\"}},\"name\":\"Tuesday\",\"offsetgroup\":\"Tuesday\",\"orientation\":\"v\",\"showlegend\":true,\"text\":[\"Assault\",\"Auto Theft\",\"Break and Enter\",\"Robbery\",\"Theft Over\"],\"textposition\":\"auto\",\"x\":[\"Assault\",\"Auto Theft\",\"Break and Enter\",\"Robbery\",\"Theft Over\"],\"xaxis\":\"x\",\"y\":[1,0,0,0,0],\"yaxis\":\"y\",\"type\":\"bar\"}],\"name\":\"Tuesday\"},{\"data\":[{\"alignmentgroup\":\"True\",\"hovertemplate\":\"DOW=Wednesday<br>MCI=%{text}<br>Count=%{y}<extra></extra>\",\"legendgroup\":\"Wednesday\",\"marker\":{\"color\":\"#2CA02C\",\"opacity\":0.9,\"pattern\":{\"shape\":\"\"}},\"name\":\"Wednesday\",\"offsetgroup\":\"Wednesday\",\"orientation\":\"v\",\"showlegend\":true,\"text\":[\"Assault\",\"Auto Theft\",\"Break and Enter\",\"Robbery\",\"Theft Over\"],\"textposition\":\"auto\",\"x\":[\"Assault\",\"Auto Theft\",\"Break and Enter\",\"Robbery\",\"Theft Over\"],\"xaxis\":\"x\",\"y\":[1,0,0,0,0],\"yaxis\":\"y\",\"type\":\"bar\"}],\"name\":\"Wednesday\"},{\"data\":[{\"alignmentgroup\":\"True\",\"hovertemplate\":\"DOW=Thursday<br>MCI=%{text}<br>Count=%{y}<extra></extra>\",\"legendgroup\":\"Thursday\",\"marker\":{\"color\":\"#D62728\",\"opacity\":0.9,\"pattern\":{\"shape\":\"\"}},\"name\":\"Thursday\",\"offsetgroup\":\"Thursday\",\"orientation\":\"v\",\"showlegend\":true,\"text\":[\"Assault\",\"Auto Theft\",\"Break and Enter\",\"Robbery\",\"Theft Over\"],\"textposition\":\"auto\",\"x\":[\"Assault\",\"Auto Theft\",\"Break and Enter\",\"Robbery\",\"Theft Over\"],\"xaxis\":\"x\",\"y\":[1,0,0,0,0],\"yaxis\":\"y\",\"type\":\"bar\"}],\"name\":\"Thursday\"},{\"data\":[{\"alignmentgroup\":\"True\",\"hovertemplate\":\"DOW=Friday<br>MCI=%{text}<br>Count=%{y}<extra></extra>\",\"legendgroup\":\"Friday\",\"marker\":{\"color\":\"#9467BD\",\"opacity\":0.9,\"pattern\":{\"shape\":\"\"}},\"name\":\"Friday\",\"offsetgroup\":\"Friday\",\"orientation\":\"v\",\"showlegend\":true,\"text\":[\"Assault\",\"Auto Theft\",\"Break and Enter\",\"Robbery\",\"Theft Over\"],\"textposition\":\"auto\",\"x\":[\"Assault\",\"Auto Theft\",\"Break and Enter\",\"Robbery\",\"Theft Over\"],\"xaxis\":\"x\",\"y\":[1,0,0,0,0],\"yaxis\":\"y\",\"type\":\"bar\"}],\"name\":\"Friday\"},{\"data\":[{\"alignmentgroup\":\"True\",\"hovertemplate\":\"DOW=Saturday<br>MCI=%{text}<br>Count=%{y}<extra></extra>\",\"legendgroup\":\"Saturday\",\"marker\":{\"color\":\"#8C564B\",\"opacity\":0.9,\"pattern\":{\"shape\":\"\"}},\"name\":\"Saturday\",\"offsetgroup\":\"Saturday\",\"orientation\":\"v\",\"showlegend\":true,\"text\":[\"Assault\",\"Auto Theft\",\"Break and Enter\",\"Robbery\",\"Theft Over\"],\"textposition\":\"auto\",\"x\":[\"Assault\",\"Auto Theft\",\"Break and Enter\",\"Robbery\",\"Theft Over\"],\"xaxis\":\"x\",\"y\":[0,0,1,0,0],\"yaxis\":\"y\",\"type\":\"bar\"}],\"name\":\"Saturday\"},{\"data\":[{\"alignmentgroup\":\"True\",\"hovertemplate\":\"DOW=Sunday<br>MCI=%{text}<br>Count=%{y}<extra></extra>\",\"legendgroup\":\"Sunday\",\"marker\":{\"color\":\"#E377C2\",\"opacity\":0.9,\"pattern\":{\"shape\":\"\"}},\"name\":\"Sunday\",\"offsetgroup\":\"Sunday\",\"orientation\":\"v\",\"showlegend\":true,\"text\":[\"Assault\",\"Auto Theft\",\"Break and Enter\",\"Robbery\",\"Theft Over\"],\"textposition\":\"auto\",\"x\":[\"Assault\",\"Auto Theft\",\"Break and Enter\",\"Robbery\",\"Theft Over\"],\"xaxis\":\"x\",\"y\":[1,0,0,2,0],\"yaxis\":\"y\",\"type\":\"bar\"}],\"name\":\"Sunday\"}]);\n",
       "                        }).then(function(){\n",
       "                            \n",
       "var gd = document.getElementById('198f0503-c39c-474d-8607-2b7459264bd9');\n",
       "var x = new MutationObserver(function (mutations, observer) {{\n",
       "        var display = window.getComputedStyle(gd).display;\n",
       "        if (!display || display === 'none') {{\n",
       "            console.log([gd, 'removed!']);\n",
       "            Plotly.purge(gd);\n",
       "            observer.disconnect();\n",
       "        }}\n",
       "}});\n",
       "\n",
       "// Listen for the removal of the full notebook cells\n",
       "var notebookContainer = gd.closest('#notebook-container');\n",
       "if (notebookContainer) {{\n",
       "    x.observe(notebookContainer, {childList: true});\n",
       "}}\n",
       "\n",
       "// Listen for the clearing of the current output cell\n",
       "var outputEl = gd.closest('.output');\n",
       "if (outputEl) {{\n",
       "    x.observe(outputEl, {childList: true});\n",
       "}}\n",
       "\n",
       "                        })                };                });            </script>        </div>"
      ]
     },
     "metadata": {},
     "output_type": "display_data"
    }
   ],
   "source": [
    "barchart8 = px.bar(\n",
    "    data_frame = df9,\n",
    "    x = \"MCI\",\n",
    "    y = \"Count\",\n",
    "    color = 'DOW',\n",
    "    text = 'MCI',\n",
    "    title = 'Steeles Major Crime Indicators',\n",
    "    width = 1400,\n",
    "    height = 720,\n",
    "    opacity = 0.9,\n",
    "    orientation = 'v',\n",
    "    barmode = 'group',\n",
    "    template = 'gridon',\n",
    "    \n",
    "    animation_frame = 'DOW',\n",
    "    range_y = [0,35],\n",
    "   \n",
    ")\n",
    "\n",
    "barchart8.layout.updatemenus[0].buttons[0].args[1]['frame']['duration'] = 1000\n",
    "barchart8.layout.updatemenus[0].buttons[0].args[1]['transition']['duration'] = 500\n",
    "\n",
    "barchart8.show()"
   ]
  },
  {
   "cell_type": "code",
   "execution_count": 63,
   "id": "510af76f",
   "metadata": {
    "scrolled": true
   },
   "outputs": [
    {
     "data": {
      "application/vnd.plotly.v1+json": {
       "config": {
        "plotlyServerURL": "https://plot.ly"
       },
       "data": [
        {
         "alignmentgroup": "True",
         "hovertemplate": "DOW=Monday<br>MCI=%{text}<br>Count=%{y}<extra></extra>",
         "legendgroup": "Monday",
         "marker": {
          "color": "#1F77B4",
          "opacity": 0.9,
          "pattern": {
           "shape": ""
          }
         },
         "name": "Monday",
         "offsetgroup": "Monday",
         "orientation": "v",
         "showlegend": true,
         "text": [
          "Assault",
          "Auto Theft",
          "Break and Enter",
          "Robbery",
          "Theft Over"
         ],
         "textposition": "auto",
         "type": "bar",
         "x": [
          "Assault",
          "Auto Theft",
          "Break and Enter",
          "Robbery",
          "Theft Over"
         ],
         "xaxis": "x",
         "y": [
          0,
          0,
          0,
          0,
          0
         ],
         "yaxis": "y"
        }
       ],
       "frames": [
        {
         "data": [
          {
           "alignmentgroup": "True",
           "hovertemplate": "DOW=Monday<br>MCI=%{text}<br>Count=%{y}<extra></extra>",
           "legendgroup": "Monday",
           "marker": {
            "color": "#1F77B4",
            "opacity": 0.9,
            "pattern": {
             "shape": ""
            }
           },
           "name": "Monday",
           "offsetgroup": "Monday",
           "orientation": "v",
           "showlegend": true,
           "text": [
            "Assault",
            "Auto Theft",
            "Break and Enter",
            "Robbery",
            "Theft Over"
           ],
           "textposition": "auto",
           "type": "bar",
           "x": [
            "Assault",
            "Auto Theft",
            "Break and Enter",
            "Robbery",
            "Theft Over"
           ],
           "xaxis": "x",
           "y": [
            0,
            0,
            0,
            0,
            0
           ],
           "yaxis": "y"
          }
         ],
         "name": "Monday"
        },
        {
         "data": [
          {
           "alignmentgroup": "True",
           "hovertemplate": "DOW=Tuesday<br>MCI=%{text}<br>Count=%{y}<extra></extra>",
           "legendgroup": "Tuesday",
           "marker": {
            "color": "#FF7F0E",
            "opacity": 0.9,
            "pattern": {
             "shape": ""
            }
           },
           "name": "Tuesday",
           "offsetgroup": "Tuesday",
           "orientation": "v",
           "showlegend": true,
           "text": [
            "Assault",
            "Auto Theft",
            "Break and Enter",
            "Robbery",
            "Theft Over"
           ],
           "textposition": "auto",
           "type": "bar",
           "x": [
            "Assault",
            "Auto Theft",
            "Break and Enter",
            "Robbery",
            "Theft Over"
           ],
           "xaxis": "x",
           "y": [
            0,
            0,
            0,
            0,
            0
           ],
           "yaxis": "y"
          }
         ],
         "name": "Tuesday"
        },
        {
         "data": [
          {
           "alignmentgroup": "True",
           "hovertemplate": "DOW=Wednesday<br>MCI=%{text}<br>Count=%{y}<extra></extra>",
           "legendgroup": "Wednesday",
           "marker": {
            "color": "#2CA02C",
            "opacity": 0.9,
            "pattern": {
             "shape": ""
            }
           },
           "name": "Wednesday",
           "offsetgroup": "Wednesday",
           "orientation": "v",
           "showlegend": true,
           "text": [
            "Assault",
            "Auto Theft",
            "Break and Enter",
            "Robbery",
            "Theft Over"
           ],
           "textposition": "auto",
           "type": "bar",
           "x": [
            "Assault",
            "Auto Theft",
            "Break and Enter",
            "Robbery",
            "Theft Over"
           ],
           "xaxis": "x",
           "y": [
            1,
            0,
            0,
            0,
            0
           ],
           "yaxis": "y"
          }
         ],
         "name": "Wednesday"
        },
        {
         "data": [
          {
           "alignmentgroup": "True",
           "hovertemplate": "DOW=Thursday<br>MCI=%{text}<br>Count=%{y}<extra></extra>",
           "legendgroup": "Thursday",
           "marker": {
            "color": "#D62728",
            "opacity": 0.9,
            "pattern": {
             "shape": ""
            }
           },
           "name": "Thursday",
           "offsetgroup": "Thursday",
           "orientation": "v",
           "showlegend": true,
           "text": [
            "Assault",
            "Auto Theft",
            "Break and Enter",
            "Robbery",
            "Theft Over"
           ],
           "textposition": "auto",
           "type": "bar",
           "x": [
            "Assault",
            "Auto Theft",
            "Break and Enter",
            "Robbery",
            "Theft Over"
           ],
           "xaxis": "x",
           "y": [
            0,
            0,
            0,
            0,
            0
           ],
           "yaxis": "y"
          }
         ],
         "name": "Thursday"
        },
        {
         "data": [
          {
           "alignmentgroup": "True",
           "hovertemplate": "DOW=Friday<br>MCI=%{text}<br>Count=%{y}<extra></extra>",
           "legendgroup": "Friday",
           "marker": {
            "color": "#9467BD",
            "opacity": 0.9,
            "pattern": {
             "shape": ""
            }
           },
           "name": "Friday",
           "offsetgroup": "Friday",
           "orientation": "v",
           "showlegend": true,
           "text": [
            "Assault",
            "Auto Theft",
            "Break and Enter",
            "Robbery",
            "Theft Over"
           ],
           "textposition": "auto",
           "type": "bar",
           "x": [
            "Assault",
            "Auto Theft",
            "Break and Enter",
            "Robbery",
            "Theft Over"
           ],
           "xaxis": "x",
           "y": [
            0,
            1,
            0,
            0,
            0
           ],
           "yaxis": "y"
          }
         ],
         "name": "Friday"
        },
        {
         "data": [
          {
           "alignmentgroup": "True",
           "hovertemplate": "DOW=Saturday<br>MCI=%{text}<br>Count=%{y}<extra></extra>",
           "legendgroup": "Saturday",
           "marker": {
            "color": "#8C564B",
            "opacity": 0.9,
            "pattern": {
             "shape": ""
            }
           },
           "name": "Saturday",
           "offsetgroup": "Saturday",
           "orientation": "v",
           "showlegend": true,
           "text": [
            "Assault",
            "Auto Theft",
            "Break and Enter",
            "Robbery",
            "Theft Over"
           ],
           "textposition": "auto",
           "type": "bar",
           "x": [
            "Assault",
            "Auto Theft",
            "Break and Enter",
            "Robbery",
            "Theft Over"
           ],
           "xaxis": "x",
           "y": [
            0,
            0,
            0,
            0,
            0
           ],
           "yaxis": "y"
          }
         ],
         "name": "Saturday"
        },
        {
         "data": [
          {
           "alignmentgroup": "True",
           "hovertemplate": "DOW=Sunday<br>MCI=%{text}<br>Count=%{y}<extra></extra>",
           "legendgroup": "Sunday",
           "marker": {
            "color": "#E377C2",
            "opacity": 0.9,
            "pattern": {
             "shape": ""
            }
           },
           "name": "Sunday",
           "offsetgroup": "Sunday",
           "orientation": "v",
           "showlegend": true,
           "text": [
            "Assault",
            "Auto Theft",
            "Break and Enter",
            "Robbery",
            "Theft Over"
           ],
           "textposition": "auto",
           "type": "bar",
           "x": [
            "Assault",
            "Auto Theft",
            "Break and Enter",
            "Robbery",
            "Theft Over"
           ],
           "xaxis": "x",
           "y": [
            1,
            1,
            0,
            0,
            0
           ],
           "yaxis": "y"
          }
         ],
         "name": "Sunday"
        }
       ],
       "layout": {
        "barmode": "group",
        "height": 720,
        "legend": {
         "title": {
          "text": "DOW"
         },
         "tracegroupgap": 0
        },
        "sliders": [
         {
          "active": 0,
          "currentvalue": {
           "prefix": "DOW="
          },
          "len": 0.9,
          "pad": {
           "b": 10,
           "t": 60
          },
          "steps": [
           {
            "args": [
             [
              "Monday"
             ],
             {
              "frame": {
               "duration": 0,
               "redraw": true
              },
              "fromcurrent": true,
              "mode": "immediate",
              "transition": {
               "duration": 0,
               "easing": "linear"
              }
             }
            ],
            "label": "Monday",
            "method": "animate"
           },
           {
            "args": [
             [
              "Tuesday"
             ],
             {
              "frame": {
               "duration": 0,
               "redraw": true
              },
              "fromcurrent": true,
              "mode": "immediate",
              "transition": {
               "duration": 0,
               "easing": "linear"
              }
             }
            ],
            "label": "Tuesday",
            "method": "animate"
           },
           {
            "args": [
             [
              "Wednesday"
             ],
             {
              "frame": {
               "duration": 0,
               "redraw": true
              },
              "fromcurrent": true,
              "mode": "immediate",
              "transition": {
               "duration": 0,
               "easing": "linear"
              }
             }
            ],
            "label": "Wednesday",
            "method": "animate"
           },
           {
            "args": [
             [
              "Thursday"
             ],
             {
              "frame": {
               "duration": 0,
               "redraw": true
              },
              "fromcurrent": true,
              "mode": "immediate",
              "transition": {
               "duration": 0,
               "easing": "linear"
              }
             }
            ],
            "label": "Thursday",
            "method": "animate"
           },
           {
            "args": [
             [
              "Friday"
             ],
             {
              "frame": {
               "duration": 0,
               "redraw": true
              },
              "fromcurrent": true,
              "mode": "immediate",
              "transition": {
               "duration": 0,
               "easing": "linear"
              }
             }
            ],
            "label": "Friday",
            "method": "animate"
           },
           {
            "args": [
             [
              "Saturday"
             ],
             {
              "frame": {
               "duration": 0,
               "redraw": true
              },
              "fromcurrent": true,
              "mode": "immediate",
              "transition": {
               "duration": 0,
               "easing": "linear"
              }
             }
            ],
            "label": "Saturday",
            "method": "animate"
           },
           {
            "args": [
             [
              "Sunday"
             ],
             {
              "frame": {
               "duration": 0,
               "redraw": true
              },
              "fromcurrent": true,
              "mode": "immediate",
              "transition": {
               "duration": 0,
               "easing": "linear"
              }
             }
            ],
            "label": "Sunday",
            "method": "animate"
           }
          ],
          "x": 0.1,
          "xanchor": "left",
          "y": 0,
          "yanchor": "top"
         }
        ],
        "template": {
         "data": {
          "pie": [
           {
            "automargin": true,
            "type": "pie"
           }
          ]
         },
         "layout": {
          "xaxis": {
           "showgrid": true,
           "title": {
            "standoff": 15
           }
          },
          "yaxis": {
           "showgrid": true,
           "title": {
            "standoff": 15
           }
          }
         }
        },
        "title": {
         "text": "Tam OShanter-Sullivan Major Crime Indicators"
        },
        "updatemenus": [
         {
          "buttons": [
           {
            "args": [
             null,
             {
              "frame": {
               "duration": 1000,
               "redraw": true
              },
              "fromcurrent": true,
              "mode": "immediate",
              "transition": {
               "duration": 500,
               "easing": "linear"
              }
             }
            ],
            "label": "&#9654;",
            "method": "animate"
           },
           {
            "args": [
             [
              null
             ],
             {
              "frame": {
               "duration": 0,
               "redraw": true
              },
              "fromcurrent": true,
              "mode": "immediate",
              "transition": {
               "duration": 0,
               "easing": "linear"
              }
             }
            ],
            "label": "&#9724;",
            "method": "animate"
           }
          ],
          "direction": "left",
          "pad": {
           "r": 10,
           "t": 70
          },
          "showactive": false,
          "type": "buttons",
          "x": 0.1,
          "xanchor": "right",
          "y": 0,
          "yanchor": "top"
         }
        ],
        "width": 1400,
        "xaxis": {
         "anchor": "y",
         "domain": [
          0,
          1
         ],
         "title": {
          "text": "MCI"
         }
        },
        "yaxis": {
         "anchor": "x",
         "domain": [
          0,
          1
         ],
         "range": [
          0,
          35
         ],
         "title": {
          "text": "Count"
         }
        }
       }
      },
      "text/html": [
       "<div>                            <div id=\"f5b466f4-ef30-43be-acc8-a38d875ce450\" class=\"plotly-graph-div\" style=\"height:720px; width:1400px;\"></div>            <script type=\"text/javascript\">                require([\"plotly\"], function(Plotly) {                    window.PLOTLYENV=window.PLOTLYENV || {};                                    if (document.getElementById(\"f5b466f4-ef30-43be-acc8-a38d875ce450\")) {                    Plotly.newPlot(                        \"f5b466f4-ef30-43be-acc8-a38d875ce450\",                        [{\"alignmentgroup\":\"True\",\"hovertemplate\":\"DOW=Monday<br>MCI=%{text}<br>Count=%{y}<extra></extra>\",\"legendgroup\":\"Monday\",\"marker\":{\"color\":\"#1F77B4\",\"opacity\":0.9,\"pattern\":{\"shape\":\"\"}},\"name\":\"Monday\",\"offsetgroup\":\"Monday\",\"orientation\":\"v\",\"showlegend\":true,\"text\":[\"Assault\",\"Auto Theft\",\"Break and Enter\",\"Robbery\",\"Theft Over\"],\"textposition\":\"auto\",\"x\":[\"Assault\",\"Auto Theft\",\"Break and Enter\",\"Robbery\",\"Theft Over\"],\"xaxis\":\"x\",\"y\":[0,0,0,0,0],\"yaxis\":\"y\",\"type\":\"bar\"}],                        {\"template\":{\"data\":{\"pie\":[{\"automargin\":true,\"type\":\"pie\"}]},\"layout\":{\"xaxis\":{\"showgrid\":true,\"title\":{\"standoff\":15}},\"yaxis\":{\"showgrid\":true,\"title\":{\"standoff\":15}}}},\"xaxis\":{\"anchor\":\"y\",\"domain\":[0.0,1.0],\"title\":{\"text\":\"MCI\"}},\"yaxis\":{\"anchor\":\"x\",\"domain\":[0.0,1.0],\"title\":{\"text\":\"Count\"},\"range\":[0,35]},\"legend\":{\"title\":{\"text\":\"DOW\"},\"tracegroupgap\":0},\"title\":{\"text\":\"Tam OShanter-Sullivan Major Crime Indicators\"},\"barmode\":\"group\",\"height\":720,\"width\":1400,\"updatemenus\":[{\"buttons\":[{\"args\":[null,{\"frame\":{\"duration\":1000,\"redraw\":true},\"mode\":\"immediate\",\"fromcurrent\":true,\"transition\":{\"duration\":500,\"easing\":\"linear\"}}],\"label\":\"&#9654;\",\"method\":\"animate\"},{\"args\":[[null],{\"frame\":{\"duration\":0,\"redraw\":true},\"mode\":\"immediate\",\"fromcurrent\":true,\"transition\":{\"duration\":0,\"easing\":\"linear\"}}],\"label\":\"&#9724;\",\"method\":\"animate\"}],\"direction\":\"left\",\"pad\":{\"r\":10,\"t\":70},\"showactive\":false,\"type\":\"buttons\",\"x\":0.1,\"xanchor\":\"right\",\"y\":0,\"yanchor\":\"top\"}],\"sliders\":[{\"active\":0,\"currentvalue\":{\"prefix\":\"DOW=\"},\"len\":0.9,\"pad\":{\"b\":10,\"t\":60},\"steps\":[{\"args\":[[\"Monday\"],{\"frame\":{\"duration\":0,\"redraw\":true},\"mode\":\"immediate\",\"fromcurrent\":true,\"transition\":{\"duration\":0,\"easing\":\"linear\"}}],\"label\":\"Monday\",\"method\":\"animate\"},{\"args\":[[\"Tuesday\"],{\"frame\":{\"duration\":0,\"redraw\":true},\"mode\":\"immediate\",\"fromcurrent\":true,\"transition\":{\"duration\":0,\"easing\":\"linear\"}}],\"label\":\"Tuesday\",\"method\":\"animate\"},{\"args\":[[\"Wednesday\"],{\"frame\":{\"duration\":0,\"redraw\":true},\"mode\":\"immediate\",\"fromcurrent\":true,\"transition\":{\"duration\":0,\"easing\":\"linear\"}}],\"label\":\"Wednesday\",\"method\":\"animate\"},{\"args\":[[\"Thursday\"],{\"frame\":{\"duration\":0,\"redraw\":true},\"mode\":\"immediate\",\"fromcurrent\":true,\"transition\":{\"duration\":0,\"easing\":\"linear\"}}],\"label\":\"Thursday\",\"method\":\"animate\"},{\"args\":[[\"Friday\"],{\"frame\":{\"duration\":0,\"redraw\":true},\"mode\":\"immediate\",\"fromcurrent\":true,\"transition\":{\"duration\":0,\"easing\":\"linear\"}}],\"label\":\"Friday\",\"method\":\"animate\"},{\"args\":[[\"Saturday\"],{\"frame\":{\"duration\":0,\"redraw\":true},\"mode\":\"immediate\",\"fromcurrent\":true,\"transition\":{\"duration\":0,\"easing\":\"linear\"}}],\"label\":\"Saturday\",\"method\":\"animate\"},{\"args\":[[\"Sunday\"],{\"frame\":{\"duration\":0,\"redraw\":true},\"mode\":\"immediate\",\"fromcurrent\":true,\"transition\":{\"duration\":0,\"easing\":\"linear\"}}],\"label\":\"Sunday\",\"method\":\"animate\"}],\"x\":0.1,\"xanchor\":\"left\",\"y\":0,\"yanchor\":\"top\"}]},                        {\"responsive\": true}                    ).then(function(){\n",
       "                            Plotly.addFrames('f5b466f4-ef30-43be-acc8-a38d875ce450', [{\"data\":[{\"alignmentgroup\":\"True\",\"hovertemplate\":\"DOW=Monday<br>MCI=%{text}<br>Count=%{y}<extra></extra>\",\"legendgroup\":\"Monday\",\"marker\":{\"color\":\"#1F77B4\",\"opacity\":0.9,\"pattern\":{\"shape\":\"\"}},\"name\":\"Monday\",\"offsetgroup\":\"Monday\",\"orientation\":\"v\",\"showlegend\":true,\"text\":[\"Assault\",\"Auto Theft\",\"Break and Enter\",\"Robbery\",\"Theft Over\"],\"textposition\":\"auto\",\"x\":[\"Assault\",\"Auto Theft\",\"Break and Enter\",\"Robbery\",\"Theft Over\"],\"xaxis\":\"x\",\"y\":[0,0,0,0,0],\"yaxis\":\"y\",\"type\":\"bar\"}],\"name\":\"Monday\"},{\"data\":[{\"alignmentgroup\":\"True\",\"hovertemplate\":\"DOW=Tuesday<br>MCI=%{text}<br>Count=%{y}<extra></extra>\",\"legendgroup\":\"Tuesday\",\"marker\":{\"color\":\"#FF7F0E\",\"opacity\":0.9,\"pattern\":{\"shape\":\"\"}},\"name\":\"Tuesday\",\"offsetgroup\":\"Tuesday\",\"orientation\":\"v\",\"showlegend\":true,\"text\":[\"Assault\",\"Auto Theft\",\"Break and Enter\",\"Robbery\",\"Theft Over\"],\"textposition\":\"auto\",\"x\":[\"Assault\",\"Auto Theft\",\"Break and Enter\",\"Robbery\",\"Theft Over\"],\"xaxis\":\"x\",\"y\":[0,0,0,0,0],\"yaxis\":\"y\",\"type\":\"bar\"}],\"name\":\"Tuesday\"},{\"data\":[{\"alignmentgroup\":\"True\",\"hovertemplate\":\"DOW=Wednesday<br>MCI=%{text}<br>Count=%{y}<extra></extra>\",\"legendgroup\":\"Wednesday\",\"marker\":{\"color\":\"#2CA02C\",\"opacity\":0.9,\"pattern\":{\"shape\":\"\"}},\"name\":\"Wednesday\",\"offsetgroup\":\"Wednesday\",\"orientation\":\"v\",\"showlegend\":true,\"text\":[\"Assault\",\"Auto Theft\",\"Break and Enter\",\"Robbery\",\"Theft Over\"],\"textposition\":\"auto\",\"x\":[\"Assault\",\"Auto Theft\",\"Break and Enter\",\"Robbery\",\"Theft Over\"],\"xaxis\":\"x\",\"y\":[1,0,0,0,0],\"yaxis\":\"y\",\"type\":\"bar\"}],\"name\":\"Wednesday\"},{\"data\":[{\"alignmentgroup\":\"True\",\"hovertemplate\":\"DOW=Thursday<br>MCI=%{text}<br>Count=%{y}<extra></extra>\",\"legendgroup\":\"Thursday\",\"marker\":{\"color\":\"#D62728\",\"opacity\":0.9,\"pattern\":{\"shape\":\"\"}},\"name\":\"Thursday\",\"offsetgroup\":\"Thursday\",\"orientation\":\"v\",\"showlegend\":true,\"text\":[\"Assault\",\"Auto Theft\",\"Break and Enter\",\"Robbery\",\"Theft Over\"],\"textposition\":\"auto\",\"x\":[\"Assault\",\"Auto Theft\",\"Break and Enter\",\"Robbery\",\"Theft Over\"],\"xaxis\":\"x\",\"y\":[0,0,0,0,0],\"yaxis\":\"y\",\"type\":\"bar\"}],\"name\":\"Thursday\"},{\"data\":[{\"alignmentgroup\":\"True\",\"hovertemplate\":\"DOW=Friday<br>MCI=%{text}<br>Count=%{y}<extra></extra>\",\"legendgroup\":\"Friday\",\"marker\":{\"color\":\"#9467BD\",\"opacity\":0.9,\"pattern\":{\"shape\":\"\"}},\"name\":\"Friday\",\"offsetgroup\":\"Friday\",\"orientation\":\"v\",\"showlegend\":true,\"text\":[\"Assault\",\"Auto Theft\",\"Break and Enter\",\"Robbery\",\"Theft Over\"],\"textposition\":\"auto\",\"x\":[\"Assault\",\"Auto Theft\",\"Break and Enter\",\"Robbery\",\"Theft Over\"],\"xaxis\":\"x\",\"y\":[0,1,0,0,0],\"yaxis\":\"y\",\"type\":\"bar\"}],\"name\":\"Friday\"},{\"data\":[{\"alignmentgroup\":\"True\",\"hovertemplate\":\"DOW=Saturday<br>MCI=%{text}<br>Count=%{y}<extra></extra>\",\"legendgroup\":\"Saturday\",\"marker\":{\"color\":\"#8C564B\",\"opacity\":0.9,\"pattern\":{\"shape\":\"\"}},\"name\":\"Saturday\",\"offsetgroup\":\"Saturday\",\"orientation\":\"v\",\"showlegend\":true,\"text\":[\"Assault\",\"Auto Theft\",\"Break and Enter\",\"Robbery\",\"Theft Over\"],\"textposition\":\"auto\",\"x\":[\"Assault\",\"Auto Theft\",\"Break and Enter\",\"Robbery\",\"Theft Over\"],\"xaxis\":\"x\",\"y\":[0,0,0,0,0],\"yaxis\":\"y\",\"type\":\"bar\"}],\"name\":\"Saturday\"},{\"data\":[{\"alignmentgroup\":\"True\",\"hovertemplate\":\"DOW=Sunday<br>MCI=%{text}<br>Count=%{y}<extra></extra>\",\"legendgroup\":\"Sunday\",\"marker\":{\"color\":\"#E377C2\",\"opacity\":0.9,\"pattern\":{\"shape\":\"\"}},\"name\":\"Sunday\",\"offsetgroup\":\"Sunday\",\"orientation\":\"v\",\"showlegend\":true,\"text\":[\"Assault\",\"Auto Theft\",\"Break and Enter\",\"Robbery\",\"Theft Over\"],\"textposition\":\"auto\",\"x\":[\"Assault\",\"Auto Theft\",\"Break and Enter\",\"Robbery\",\"Theft Over\"],\"xaxis\":\"x\",\"y\":[1,1,0,0,0],\"yaxis\":\"y\",\"type\":\"bar\"}],\"name\":\"Sunday\"}]);\n",
       "                        }).then(function(){\n",
       "                            \n",
       "var gd = document.getElementById('f5b466f4-ef30-43be-acc8-a38d875ce450');\n",
       "var x = new MutationObserver(function (mutations, observer) {{\n",
       "        var display = window.getComputedStyle(gd).display;\n",
       "        if (!display || display === 'none') {{\n",
       "            console.log([gd, 'removed!']);\n",
       "            Plotly.purge(gd);\n",
       "            observer.disconnect();\n",
       "        }}\n",
       "}});\n",
       "\n",
       "// Listen for the removal of the full notebook cells\n",
       "var notebookContainer = gd.closest('#notebook-container');\n",
       "if (notebookContainer) {{\n",
       "    x.observe(notebookContainer, {childList: true});\n",
       "}}\n",
       "\n",
       "// Listen for the clearing of the current output cell\n",
       "var outputEl = gd.closest('.output');\n",
       "if (outputEl) {{\n",
       "    x.observe(outputEl, {childList: true});\n",
       "}}\n",
       "\n",
       "                        })                };                });            </script>        </div>"
      ]
     },
     "metadata": {},
     "output_type": "display_data"
    }
   ],
   "source": [
    "barchart9 = px.bar(\n",
    "    data_frame = df10,\n",
    "    x = \"MCI\",\n",
    "    y = \"Count\",\n",
    "    color = 'DOW',\n",
    "    text = 'MCI',\n",
    "    title = 'Tam OShanter-Sullivan Major Crime Indicators',\n",
    "    width = 1400,\n",
    "    height = 720,\n",
    "    opacity = 0.9,\n",
    "    orientation = 'v',\n",
    "    barmode = 'group',\n",
    "    template = 'gridon',\n",
    "    \n",
    "    animation_frame = 'DOW',\n",
    "    range_y = [0,35],\n",
    "   \n",
    ")\n",
    "\n",
    "barchart9.layout.updatemenus[0].buttons[0].args[1]['frame']['duration'] = 1000\n",
    "barchart9.layout.updatemenus[0].buttons[0].args[1]['transition']['duration'] = 500\n",
    "\n",
    "barchart9.show()"
   ]
  },
  {
   "cell_type": "markdown",
   "id": "a3746f8a",
   "metadata": {},
   "source": [
    "# Create scatter charts to visualize the neighbourhoods and their respective Major Crime Indicators counts for each of the weeks analyzed"
   ]
  },
  {
   "cell_type": "code",
   "execution_count": 69,
   "id": "7748672a",
   "metadata": {},
   "outputs": [
    {
     "data": {
      "application/vnd.plotly.v1+json": {
       "config": {
        "plotlyServerURL": "https://plot.ly"
       },
       "data": [
        {
         "hovertemplate": "MCI Count=%{marker.color}<br>Neighbourhood=%{y}<extra></extra>",
         "legendgroup": "",
         "marker": {
          "color": [
           3,
           5,
           3,
           10,
           1,
           8,
           6,
           2
          ],
          "coloraxis": "coloraxis",
          "opacity": 0.9,
          "symbol": "circle"
         },
         "mode": "markers",
         "name": "",
         "orientation": "v",
         "showlegend": false,
         "type": "scatter",
         "x": [
          3,
          5,
          3,
          10,
          1,
          8,
          6,
          2
         ],
         "xaxis": "x",
         "y": [
          "Agincourt North",
          "Agincourt South-Malvern West",
          "Lamoreaux",
          "Malvern",
          "Milliken",
          "Rouge",
          "Steeles",
          "Tam Oshanter-Sullivan"
         ],
         "yaxis": "y"
        }
       ],
       "layout": {
        "coloraxis": {
         "colorbar": {
          "title": {
           "text": "MCI Count"
          }
         },
         "colorscale": [
          [
           0,
           "#0d0887"
          ],
          [
           0.1111111111111111,
           "#46039f"
          ],
          [
           0.2222222222222222,
           "#7201a8"
          ],
          [
           0.3333333333333333,
           "#9c179e"
          ],
          [
           0.4444444444444444,
           "#bd3786"
          ],
          [
           0.5555555555555556,
           "#d8576b"
          ],
          [
           0.6666666666666666,
           "#ed7953"
          ],
          [
           0.7777777777777778,
           "#fb9f3a"
          ],
          [
           0.8888888888888888,
           "#fdca26"
          ],
          [
           1,
           "#f0f921"
          ]
         ]
        },
        "legend": {
         "tracegroupgap": 0
        },
        "template": {
         "data": {
          "bar": [
           {
            "error_x": {
             "color": "#2a3f5f"
            },
            "error_y": {
             "color": "#2a3f5f"
            },
            "marker": {
             "line": {
              "color": "#E5ECF6",
              "width": 0.5
             },
             "pattern": {
              "fillmode": "overlay",
              "size": 10,
              "solidity": 0.2
             }
            },
            "type": "bar"
           }
          ],
          "barpolar": [
           {
            "marker": {
             "line": {
              "color": "#E5ECF6",
              "width": 0.5
             },
             "pattern": {
              "fillmode": "overlay",
              "size": 10,
              "solidity": 0.2
             }
            },
            "type": "barpolar"
           }
          ],
          "carpet": [
           {
            "aaxis": {
             "endlinecolor": "#2a3f5f",
             "gridcolor": "white",
             "linecolor": "white",
             "minorgridcolor": "white",
             "startlinecolor": "#2a3f5f"
            },
            "baxis": {
             "endlinecolor": "#2a3f5f",
             "gridcolor": "white",
             "linecolor": "white",
             "minorgridcolor": "white",
             "startlinecolor": "#2a3f5f"
            },
            "type": "carpet"
           }
          ],
          "choropleth": [
           {
            "colorbar": {
             "outlinewidth": 0,
             "ticks": ""
            },
            "type": "choropleth"
           }
          ],
          "contour": [
           {
            "colorbar": {
             "outlinewidth": 0,
             "ticks": ""
            },
            "colorscale": [
             [
              0,
              "#0d0887"
             ],
             [
              0.1111111111111111,
              "#46039f"
             ],
             [
              0.2222222222222222,
              "#7201a8"
             ],
             [
              0.3333333333333333,
              "#9c179e"
             ],
             [
              0.4444444444444444,
              "#bd3786"
             ],
             [
              0.5555555555555556,
              "#d8576b"
             ],
             [
              0.6666666666666666,
              "#ed7953"
             ],
             [
              0.7777777777777778,
              "#fb9f3a"
             ],
             [
              0.8888888888888888,
              "#fdca26"
             ],
             [
              1,
              "#f0f921"
             ]
            ],
            "type": "contour"
           }
          ],
          "contourcarpet": [
           {
            "colorbar": {
             "outlinewidth": 0,
             "ticks": ""
            },
            "type": "contourcarpet"
           }
          ],
          "heatmap": [
           {
            "colorbar": {
             "outlinewidth": 0,
             "ticks": ""
            },
            "colorscale": [
             [
              0,
              "#0d0887"
             ],
             [
              0.1111111111111111,
              "#46039f"
             ],
             [
              0.2222222222222222,
              "#7201a8"
             ],
             [
              0.3333333333333333,
              "#9c179e"
             ],
             [
              0.4444444444444444,
              "#bd3786"
             ],
             [
              0.5555555555555556,
              "#d8576b"
             ],
             [
              0.6666666666666666,
              "#ed7953"
             ],
             [
              0.7777777777777778,
              "#fb9f3a"
             ],
             [
              0.8888888888888888,
              "#fdca26"
             ],
             [
              1,
              "#f0f921"
             ]
            ],
            "type": "heatmap"
           }
          ],
          "heatmapgl": [
           {
            "colorbar": {
             "outlinewidth": 0,
             "ticks": ""
            },
            "colorscale": [
             [
              0,
              "#0d0887"
             ],
             [
              0.1111111111111111,
              "#46039f"
             ],
             [
              0.2222222222222222,
              "#7201a8"
             ],
             [
              0.3333333333333333,
              "#9c179e"
             ],
             [
              0.4444444444444444,
              "#bd3786"
             ],
             [
              0.5555555555555556,
              "#d8576b"
             ],
             [
              0.6666666666666666,
              "#ed7953"
             ],
             [
              0.7777777777777778,
              "#fb9f3a"
             ],
             [
              0.8888888888888888,
              "#fdca26"
             ],
             [
              1,
              "#f0f921"
             ]
            ],
            "type": "heatmapgl"
           }
          ],
          "histogram": [
           {
            "marker": {
             "pattern": {
              "fillmode": "overlay",
              "size": 10,
              "solidity": 0.2
             }
            },
            "type": "histogram"
           }
          ],
          "histogram2d": [
           {
            "colorbar": {
             "outlinewidth": 0,
             "ticks": ""
            },
            "colorscale": [
             [
              0,
              "#0d0887"
             ],
             [
              0.1111111111111111,
              "#46039f"
             ],
             [
              0.2222222222222222,
              "#7201a8"
             ],
             [
              0.3333333333333333,
              "#9c179e"
             ],
             [
              0.4444444444444444,
              "#bd3786"
             ],
             [
              0.5555555555555556,
              "#d8576b"
             ],
             [
              0.6666666666666666,
              "#ed7953"
             ],
             [
              0.7777777777777778,
              "#fb9f3a"
             ],
             [
              0.8888888888888888,
              "#fdca26"
             ],
             [
              1,
              "#f0f921"
             ]
            ],
            "type": "histogram2d"
           }
          ],
          "histogram2dcontour": [
           {
            "colorbar": {
             "outlinewidth": 0,
             "ticks": ""
            },
            "colorscale": [
             [
              0,
              "#0d0887"
             ],
             [
              0.1111111111111111,
              "#46039f"
             ],
             [
              0.2222222222222222,
              "#7201a8"
             ],
             [
              0.3333333333333333,
              "#9c179e"
             ],
             [
              0.4444444444444444,
              "#bd3786"
             ],
             [
              0.5555555555555556,
              "#d8576b"
             ],
             [
              0.6666666666666666,
              "#ed7953"
             ],
             [
              0.7777777777777778,
              "#fb9f3a"
             ],
             [
              0.8888888888888888,
              "#fdca26"
             ],
             [
              1,
              "#f0f921"
             ]
            ],
            "type": "histogram2dcontour"
           }
          ],
          "mesh3d": [
           {
            "colorbar": {
             "outlinewidth": 0,
             "ticks": ""
            },
            "type": "mesh3d"
           }
          ],
          "parcoords": [
           {
            "line": {
             "colorbar": {
              "outlinewidth": 0,
              "ticks": ""
             }
            },
            "type": "parcoords"
           }
          ],
          "pie": [
           {
            "automargin": true,
            "type": "pie"
           }
          ],
          "scatter": [
           {
            "fillpattern": {
             "fillmode": "overlay",
             "size": 10,
             "solidity": 0.2
            },
            "type": "scatter"
           }
          ],
          "scatter3d": [
           {
            "line": {
             "colorbar": {
              "outlinewidth": 0,
              "ticks": ""
             }
            },
            "marker": {
             "colorbar": {
              "outlinewidth": 0,
              "ticks": ""
             }
            },
            "type": "scatter3d"
           }
          ],
          "scattercarpet": [
           {
            "marker": {
             "colorbar": {
              "outlinewidth": 0,
              "ticks": ""
             }
            },
            "type": "scattercarpet"
           }
          ],
          "scattergeo": [
           {
            "marker": {
             "colorbar": {
              "outlinewidth": 0,
              "ticks": ""
             }
            },
            "type": "scattergeo"
           }
          ],
          "scattergl": [
           {
            "marker": {
             "colorbar": {
              "outlinewidth": 0,
              "ticks": ""
             }
            },
            "type": "scattergl"
           }
          ],
          "scattermapbox": [
           {
            "marker": {
             "colorbar": {
              "outlinewidth": 0,
              "ticks": ""
             }
            },
            "type": "scattermapbox"
           }
          ],
          "scatterpolar": [
           {
            "marker": {
             "colorbar": {
              "outlinewidth": 0,
              "ticks": ""
             }
            },
            "type": "scatterpolar"
           }
          ],
          "scatterpolargl": [
           {
            "marker": {
             "colorbar": {
              "outlinewidth": 0,
              "ticks": ""
             }
            },
            "type": "scatterpolargl"
           }
          ],
          "scatterternary": [
           {
            "marker": {
             "colorbar": {
              "outlinewidth": 0,
              "ticks": ""
             }
            },
            "type": "scatterternary"
           }
          ],
          "surface": [
           {
            "colorbar": {
             "outlinewidth": 0,
             "ticks": ""
            },
            "colorscale": [
             [
              0,
              "#0d0887"
             ],
             [
              0.1111111111111111,
              "#46039f"
             ],
             [
              0.2222222222222222,
              "#7201a8"
             ],
             [
              0.3333333333333333,
              "#9c179e"
             ],
             [
              0.4444444444444444,
              "#bd3786"
             ],
             [
              0.5555555555555556,
              "#d8576b"
             ],
             [
              0.6666666666666666,
              "#ed7953"
             ],
             [
              0.7777777777777778,
              "#fb9f3a"
             ],
             [
              0.8888888888888888,
              "#fdca26"
             ],
             [
              1,
              "#f0f921"
             ]
            ],
            "type": "surface"
           }
          ],
          "table": [
           {
            "cells": {
             "fill": {
              "color": "#EBF0F8"
             },
             "line": {
              "color": "white"
             }
            },
            "header": {
             "fill": {
              "color": "#C8D4E3"
             },
             "line": {
              "color": "white"
             }
            },
            "type": "table"
           }
          ]
         },
         "layout": {
          "annotationdefaults": {
           "arrowcolor": "#2a3f5f",
           "arrowhead": 0,
           "arrowwidth": 1
          },
          "autotypenumbers": "strict",
          "coloraxis": {
           "colorbar": {
            "outlinewidth": 0,
            "ticks": ""
           }
          },
          "colorscale": {
           "diverging": [
            [
             0,
             "#8e0152"
            ],
            [
             0.1,
             "#c51b7d"
            ],
            [
             0.2,
             "#de77ae"
            ],
            [
             0.3,
             "#f1b6da"
            ],
            [
             0.4,
             "#fde0ef"
            ],
            [
             0.5,
             "#f7f7f7"
            ],
            [
             0.6,
             "#e6f5d0"
            ],
            [
             0.7,
             "#b8e186"
            ],
            [
             0.8,
             "#7fbc41"
            ],
            [
             0.9,
             "#4d9221"
            ],
            [
             1,
             "#276419"
            ]
           ],
           "sequential": [
            [
             0,
             "#0d0887"
            ],
            [
             0.1111111111111111,
             "#46039f"
            ],
            [
             0.2222222222222222,
             "#7201a8"
            ],
            [
             0.3333333333333333,
             "#9c179e"
            ],
            [
             0.4444444444444444,
             "#bd3786"
            ],
            [
             0.5555555555555556,
             "#d8576b"
            ],
            [
             0.6666666666666666,
             "#ed7953"
            ],
            [
             0.7777777777777778,
             "#fb9f3a"
            ],
            [
             0.8888888888888888,
             "#fdca26"
            ],
            [
             1,
             "#f0f921"
            ]
           ],
           "sequentialminus": [
            [
             0,
             "#0d0887"
            ],
            [
             0.1111111111111111,
             "#46039f"
            ],
            [
             0.2222222222222222,
             "#7201a8"
            ],
            [
             0.3333333333333333,
             "#9c179e"
            ],
            [
             0.4444444444444444,
             "#bd3786"
            ],
            [
             0.5555555555555556,
             "#d8576b"
            ],
            [
             0.6666666666666666,
             "#ed7953"
            ],
            [
             0.7777777777777778,
             "#fb9f3a"
            ],
            [
             0.8888888888888888,
             "#fdca26"
            ],
            [
             1,
             "#f0f921"
            ]
           ]
          },
          "colorway": [
           "#636efa",
           "#EF553B",
           "#00cc96",
           "#ab63fa",
           "#FFA15A",
           "#19d3f3",
           "#FF6692",
           "#B6E880",
           "#FF97FF",
           "#FECB52"
          ],
          "font": {
           "color": "#2a3f5f"
          },
          "geo": {
           "bgcolor": "white",
           "lakecolor": "white",
           "landcolor": "#E5ECF6",
           "showlakes": true,
           "showland": true,
           "subunitcolor": "white"
          },
          "hoverlabel": {
           "align": "left"
          },
          "hovermode": "closest",
          "mapbox": {
           "style": "light"
          },
          "paper_bgcolor": "white",
          "plot_bgcolor": "#E5ECF6",
          "polar": {
           "angularaxis": {
            "gridcolor": "white",
            "linecolor": "white",
            "ticks": ""
           },
           "bgcolor": "#E5ECF6",
           "radialaxis": {
            "gridcolor": "white",
            "linecolor": "white",
            "ticks": ""
           }
          },
          "scene": {
           "xaxis": {
            "backgroundcolor": "#E5ECF6",
            "gridcolor": "white",
            "gridwidth": 2,
            "linecolor": "white",
            "showbackground": true,
            "ticks": "",
            "zerolinecolor": "white"
           },
           "yaxis": {
            "backgroundcolor": "#E5ECF6",
            "gridcolor": "white",
            "gridwidth": 2,
            "linecolor": "white",
            "showbackground": true,
            "ticks": "",
            "zerolinecolor": "white"
           },
           "zaxis": {
            "backgroundcolor": "#E5ECF6",
            "gridcolor": "white",
            "gridwidth": 2,
            "linecolor": "white",
            "showbackground": true,
            "ticks": "",
            "zerolinecolor": "white"
           }
          },
          "shapedefaults": {
           "line": {
            "color": "#2a3f5f"
           }
          },
          "ternary": {
           "aaxis": {
            "gridcolor": "white",
            "linecolor": "white",
            "ticks": ""
           },
           "baxis": {
            "gridcolor": "white",
            "linecolor": "white",
            "ticks": ""
           },
           "bgcolor": "#E5ECF6",
           "caxis": {
            "gridcolor": "white",
            "linecolor": "white",
            "ticks": ""
           }
          },
          "title": {
           "x": 0.05
          },
          "xaxis": {
           "automargin": true,
           "gridcolor": "white",
           "linecolor": "white",
           "ticks": "",
           "title": {
            "standoff": 15
           },
           "zerolinecolor": "white",
           "zerolinewidth": 2
          },
          "yaxis": {
           "automargin": true,
           "gridcolor": "white",
           "linecolor": "white",
           "ticks": "",
           "title": {
            "standoff": 15
           },
           "zerolinecolor": "white",
           "zerolinewidth": 2
          }
         }
        },
        "title": {
         "text": "11-OCT-2021 To 17-OCT-2021 Major Crime Indicators Count Per Neighbourhood"
        },
        "xaxis": {
         "anchor": "y",
         "domain": [
          0,
          1
         ],
         "title": {
          "text": "MCI Count"
         }
        },
        "yaxis": {
         "anchor": "x",
         "domain": [
          0,
          1
         ],
         "title": {
          "text": "Neighbourhood"
         }
        }
       }
      },
      "text/html": [
       "<div>                            <div id=\"92d1bd3d-1821-4592-a507-e6cea0ee6eaa\" class=\"plotly-graph-div\" style=\"height:525px; width:100%;\"></div>            <script type=\"text/javascript\">                require([\"plotly\"], function(Plotly) {                    window.PLOTLYENV=window.PLOTLYENV || {};                                    if (document.getElementById(\"92d1bd3d-1821-4592-a507-e6cea0ee6eaa\")) {                    Plotly.newPlot(                        \"92d1bd3d-1821-4592-a507-e6cea0ee6eaa\",                        [{\"hovertemplate\":\"MCI Count=%{marker.color}<br>Neighbourhood=%{y}<extra></extra>\",\"legendgroup\":\"\",\"marker\":{\"color\":[3,5,3,10,1,8,6,2],\"coloraxis\":\"coloraxis\",\"opacity\":0.9,\"symbol\":\"circle\"},\"mode\":\"markers\",\"name\":\"\",\"orientation\":\"v\",\"showlegend\":false,\"x\":[3,5,3,10,1,8,6,2],\"xaxis\":\"x\",\"y\":[\"Agincourt North\",\"Agincourt South-Malvern West\",\"Lamoreaux\",\"Malvern\",\"Milliken\",\"Rouge\",\"Steeles\",\"Tam Oshanter-Sullivan\"],\"yaxis\":\"y\",\"type\":\"scatter\"}],                        {\"template\":{\"data\":{\"histogram2dcontour\":[{\"type\":\"histogram2dcontour\",\"colorbar\":{\"outlinewidth\":0,\"ticks\":\"\"},\"colorscale\":[[0.0,\"#0d0887\"],[0.1111111111111111,\"#46039f\"],[0.2222222222222222,\"#7201a8\"],[0.3333333333333333,\"#9c179e\"],[0.4444444444444444,\"#bd3786\"],[0.5555555555555556,\"#d8576b\"],[0.6666666666666666,\"#ed7953\"],[0.7777777777777778,\"#fb9f3a\"],[0.8888888888888888,\"#fdca26\"],[1.0,\"#f0f921\"]]}],\"choropleth\":[{\"type\":\"choropleth\",\"colorbar\":{\"outlinewidth\":0,\"ticks\":\"\"}}],\"histogram2d\":[{\"type\":\"histogram2d\",\"colorbar\":{\"outlinewidth\":0,\"ticks\":\"\"},\"colorscale\":[[0.0,\"#0d0887\"],[0.1111111111111111,\"#46039f\"],[0.2222222222222222,\"#7201a8\"],[0.3333333333333333,\"#9c179e\"],[0.4444444444444444,\"#bd3786\"],[0.5555555555555556,\"#d8576b\"],[0.6666666666666666,\"#ed7953\"],[0.7777777777777778,\"#fb9f3a\"],[0.8888888888888888,\"#fdca26\"],[1.0,\"#f0f921\"]]}],\"heatmap\":[{\"type\":\"heatmap\",\"colorbar\":{\"outlinewidth\":0,\"ticks\":\"\"},\"colorscale\":[[0.0,\"#0d0887\"],[0.1111111111111111,\"#46039f\"],[0.2222222222222222,\"#7201a8\"],[0.3333333333333333,\"#9c179e\"],[0.4444444444444444,\"#bd3786\"],[0.5555555555555556,\"#d8576b\"],[0.6666666666666666,\"#ed7953\"],[0.7777777777777778,\"#fb9f3a\"],[0.8888888888888888,\"#fdca26\"],[1.0,\"#f0f921\"]]}],\"heatmapgl\":[{\"type\":\"heatmapgl\",\"colorbar\":{\"outlinewidth\":0,\"ticks\":\"\"},\"colorscale\":[[0.0,\"#0d0887\"],[0.1111111111111111,\"#46039f\"],[0.2222222222222222,\"#7201a8\"],[0.3333333333333333,\"#9c179e\"],[0.4444444444444444,\"#bd3786\"],[0.5555555555555556,\"#d8576b\"],[0.6666666666666666,\"#ed7953\"],[0.7777777777777778,\"#fb9f3a\"],[0.8888888888888888,\"#fdca26\"],[1.0,\"#f0f921\"]]}],\"contourcarpet\":[{\"type\":\"contourcarpet\",\"colorbar\":{\"outlinewidth\":0,\"ticks\":\"\"}}],\"contour\":[{\"type\":\"contour\",\"colorbar\":{\"outlinewidth\":0,\"ticks\":\"\"},\"colorscale\":[[0.0,\"#0d0887\"],[0.1111111111111111,\"#46039f\"],[0.2222222222222222,\"#7201a8\"],[0.3333333333333333,\"#9c179e\"],[0.4444444444444444,\"#bd3786\"],[0.5555555555555556,\"#d8576b\"],[0.6666666666666666,\"#ed7953\"],[0.7777777777777778,\"#fb9f3a\"],[0.8888888888888888,\"#fdca26\"],[1.0,\"#f0f921\"]]}],\"surface\":[{\"type\":\"surface\",\"colorbar\":{\"outlinewidth\":0,\"ticks\":\"\"},\"colorscale\":[[0.0,\"#0d0887\"],[0.1111111111111111,\"#46039f\"],[0.2222222222222222,\"#7201a8\"],[0.3333333333333333,\"#9c179e\"],[0.4444444444444444,\"#bd3786\"],[0.5555555555555556,\"#d8576b\"],[0.6666666666666666,\"#ed7953\"],[0.7777777777777778,\"#fb9f3a\"],[0.8888888888888888,\"#fdca26\"],[1.0,\"#f0f921\"]]}],\"mesh3d\":[{\"type\":\"mesh3d\",\"colorbar\":{\"outlinewidth\":0,\"ticks\":\"\"}}],\"scatter\":[{\"fillpattern\":{\"fillmode\":\"overlay\",\"size\":10,\"solidity\":0.2},\"type\":\"scatter\"}],\"parcoords\":[{\"type\":\"parcoords\",\"line\":{\"colorbar\":{\"outlinewidth\":0,\"ticks\":\"\"}}}],\"scatterpolargl\":[{\"type\":\"scatterpolargl\",\"marker\":{\"colorbar\":{\"outlinewidth\":0,\"ticks\":\"\"}}}],\"bar\":[{\"error_x\":{\"color\":\"#2a3f5f\"},\"error_y\":{\"color\":\"#2a3f5f\"},\"marker\":{\"line\":{\"color\":\"#E5ECF6\",\"width\":0.5},\"pattern\":{\"fillmode\":\"overlay\",\"size\":10,\"solidity\":0.2}},\"type\":\"bar\"}],\"scattergeo\":[{\"type\":\"scattergeo\",\"marker\":{\"colorbar\":{\"outlinewidth\":0,\"ticks\":\"\"}}}],\"scatterpolar\":[{\"type\":\"scatterpolar\",\"marker\":{\"colorbar\":{\"outlinewidth\":0,\"ticks\":\"\"}}}],\"histogram\":[{\"marker\":{\"pattern\":{\"fillmode\":\"overlay\",\"size\":10,\"solidity\":0.2}},\"type\":\"histogram\"}],\"scattergl\":[{\"type\":\"scattergl\",\"marker\":{\"colorbar\":{\"outlinewidth\":0,\"ticks\":\"\"}}}],\"scatter3d\":[{\"type\":\"scatter3d\",\"line\":{\"colorbar\":{\"outlinewidth\":0,\"ticks\":\"\"}},\"marker\":{\"colorbar\":{\"outlinewidth\":0,\"ticks\":\"\"}}}],\"scattermapbox\":[{\"type\":\"scattermapbox\",\"marker\":{\"colorbar\":{\"outlinewidth\":0,\"ticks\":\"\"}}}],\"scatterternary\":[{\"type\":\"scatterternary\",\"marker\":{\"colorbar\":{\"outlinewidth\":0,\"ticks\":\"\"}}}],\"scattercarpet\":[{\"type\":\"scattercarpet\",\"marker\":{\"colorbar\":{\"outlinewidth\":0,\"ticks\":\"\"}}}],\"carpet\":[{\"aaxis\":{\"endlinecolor\":\"#2a3f5f\",\"gridcolor\":\"white\",\"linecolor\":\"white\",\"minorgridcolor\":\"white\",\"startlinecolor\":\"#2a3f5f\"},\"baxis\":{\"endlinecolor\":\"#2a3f5f\",\"gridcolor\":\"white\",\"linecolor\":\"white\",\"minorgridcolor\":\"white\",\"startlinecolor\":\"#2a3f5f\"},\"type\":\"carpet\"}],\"table\":[{\"cells\":{\"fill\":{\"color\":\"#EBF0F8\"},\"line\":{\"color\":\"white\"}},\"header\":{\"fill\":{\"color\":\"#C8D4E3\"},\"line\":{\"color\":\"white\"}},\"type\":\"table\"}],\"barpolar\":[{\"marker\":{\"line\":{\"color\":\"#E5ECF6\",\"width\":0.5},\"pattern\":{\"fillmode\":\"overlay\",\"size\":10,\"solidity\":0.2}},\"type\":\"barpolar\"}],\"pie\":[{\"automargin\":true,\"type\":\"pie\"}]},\"layout\":{\"autotypenumbers\":\"strict\",\"colorway\":[\"#636efa\",\"#EF553B\",\"#00cc96\",\"#ab63fa\",\"#FFA15A\",\"#19d3f3\",\"#FF6692\",\"#B6E880\",\"#FF97FF\",\"#FECB52\"],\"font\":{\"color\":\"#2a3f5f\"},\"hovermode\":\"closest\",\"hoverlabel\":{\"align\":\"left\"},\"paper_bgcolor\":\"white\",\"plot_bgcolor\":\"#E5ECF6\",\"polar\":{\"bgcolor\":\"#E5ECF6\",\"angularaxis\":{\"gridcolor\":\"white\",\"linecolor\":\"white\",\"ticks\":\"\"},\"radialaxis\":{\"gridcolor\":\"white\",\"linecolor\":\"white\",\"ticks\":\"\"}},\"ternary\":{\"bgcolor\":\"#E5ECF6\",\"aaxis\":{\"gridcolor\":\"white\",\"linecolor\":\"white\",\"ticks\":\"\"},\"baxis\":{\"gridcolor\":\"white\",\"linecolor\":\"white\",\"ticks\":\"\"},\"caxis\":{\"gridcolor\":\"white\",\"linecolor\":\"white\",\"ticks\":\"\"}},\"coloraxis\":{\"colorbar\":{\"outlinewidth\":0,\"ticks\":\"\"}},\"colorscale\":{\"sequential\":[[0.0,\"#0d0887\"],[0.1111111111111111,\"#46039f\"],[0.2222222222222222,\"#7201a8\"],[0.3333333333333333,\"#9c179e\"],[0.4444444444444444,\"#bd3786\"],[0.5555555555555556,\"#d8576b\"],[0.6666666666666666,\"#ed7953\"],[0.7777777777777778,\"#fb9f3a\"],[0.8888888888888888,\"#fdca26\"],[1.0,\"#f0f921\"]],\"sequentialminus\":[[0.0,\"#0d0887\"],[0.1111111111111111,\"#46039f\"],[0.2222222222222222,\"#7201a8\"],[0.3333333333333333,\"#9c179e\"],[0.4444444444444444,\"#bd3786\"],[0.5555555555555556,\"#d8576b\"],[0.6666666666666666,\"#ed7953\"],[0.7777777777777778,\"#fb9f3a\"],[0.8888888888888888,\"#fdca26\"],[1.0,\"#f0f921\"]],\"diverging\":[[0,\"#8e0152\"],[0.1,\"#c51b7d\"],[0.2,\"#de77ae\"],[0.3,\"#f1b6da\"],[0.4,\"#fde0ef\"],[0.5,\"#f7f7f7\"],[0.6,\"#e6f5d0\"],[0.7,\"#b8e186\"],[0.8,\"#7fbc41\"],[0.9,\"#4d9221\"],[1,\"#276419\"]]},\"xaxis\":{\"gridcolor\":\"white\",\"linecolor\":\"white\",\"ticks\":\"\",\"title\":{\"standoff\":15},\"zerolinecolor\":\"white\",\"automargin\":true,\"zerolinewidth\":2},\"yaxis\":{\"gridcolor\":\"white\",\"linecolor\":\"white\",\"ticks\":\"\",\"title\":{\"standoff\":15},\"zerolinecolor\":\"white\",\"automargin\":true,\"zerolinewidth\":2},\"scene\":{\"xaxis\":{\"backgroundcolor\":\"#E5ECF6\",\"gridcolor\":\"white\",\"linecolor\":\"white\",\"showbackground\":true,\"ticks\":\"\",\"zerolinecolor\":\"white\",\"gridwidth\":2},\"yaxis\":{\"backgroundcolor\":\"#E5ECF6\",\"gridcolor\":\"white\",\"linecolor\":\"white\",\"showbackground\":true,\"ticks\":\"\",\"zerolinecolor\":\"white\",\"gridwidth\":2},\"zaxis\":{\"backgroundcolor\":\"#E5ECF6\",\"gridcolor\":\"white\",\"linecolor\":\"white\",\"showbackground\":true,\"ticks\":\"\",\"zerolinecolor\":\"white\",\"gridwidth\":2}},\"shapedefaults\":{\"line\":{\"color\":\"#2a3f5f\"}},\"annotationdefaults\":{\"arrowcolor\":\"#2a3f5f\",\"arrowhead\":0,\"arrowwidth\":1},\"geo\":{\"bgcolor\":\"white\",\"landcolor\":\"#E5ECF6\",\"subunitcolor\":\"white\",\"showland\":true,\"showlakes\":true,\"lakecolor\":\"white\"},\"title\":{\"x\":0.05},\"mapbox\":{\"style\":\"light\"}}},\"xaxis\":{\"anchor\":\"y\",\"domain\":[0.0,1.0],\"title\":{\"text\":\"MCI Count\"}},\"yaxis\":{\"anchor\":\"x\",\"domain\":[0.0,1.0],\"title\":{\"text\":\"Neighbourhood\"}},\"coloraxis\":{\"colorbar\":{\"title\":{\"text\":\"MCI Count\"}},\"colorscale\":[[0.0,\"#0d0887\"],[0.1111111111111111,\"#46039f\"],[0.2222222222222222,\"#7201a8\"],[0.3333333333333333,\"#9c179e\"],[0.4444444444444444,\"#bd3786\"],[0.5555555555555556,\"#d8576b\"],[0.6666666666666666,\"#ed7953\"],[0.7777777777777778,\"#fb9f3a\"],[0.8888888888888888,\"#fdca26\"],[1.0,\"#f0f921\"]]},\"legend\":{\"tracegroupgap\":0},\"title\":{\"text\":\"11-OCT-2021 To 17-OCT-2021 Major Crime Indicators Count Per Neighbourhood\"}},                        {\"responsive\": true}                    ).then(function(){\n",
       "                            \n",
       "var gd = document.getElementById('92d1bd3d-1821-4592-a507-e6cea0ee6eaa');\n",
       "var x = new MutationObserver(function (mutations, observer) {{\n",
       "        var display = window.getComputedStyle(gd).display;\n",
       "        if (!display || display === 'none') {{\n",
       "            console.log([gd, 'removed!']);\n",
       "            Plotly.purge(gd);\n",
       "            observer.disconnect();\n",
       "        }}\n",
       "}});\n",
       "\n",
       "// Listen for the removal of the full notebook cells\n",
       "var notebookContainer = gd.closest('#notebook-container');\n",
       "if (notebookContainer) {{\n",
       "    x.observe(notebookContainer, {childList: true});\n",
       "}}\n",
       "\n",
       "// Listen for the clearing of the current output cell\n",
       "var outputEl = gd.closest('.output');\n",
       "if (outputEl) {{\n",
       "    x.observe(outputEl, {childList: true});\n",
       "}}\n",
       "\n",
       "                        })                };                });            </script>        </div>"
      ]
     },
     "metadata": {},
     "output_type": "display_data"
    }
   ],
   "source": [
    "scatterchart1 = px.scatter(\n",
    "    data_frame = df11,\n",
    "    x = 'MCI Count',\n",
    "    y = 'Neighbourhood',\n",
    "    color = 'MCI Count',\n",
    "    opacity = 0.9,\n",
    "    orientation = 'v',\n",
    "    title = '11-OCT-2021 To 17-OCT-2021 Major Crime Indicators Count Per Neighbourhood'\n",
    ")\n",
    "\n",
    "scatterchart1.show()"
   ]
  },
  {
   "cell_type": "code",
   "execution_count": 68,
   "id": "17053fa1",
   "metadata": {
    "scrolled": true
   },
   "outputs": [
    {
     "data": {
      "application/vnd.plotly.v1+json": {
       "config": {
        "plotlyServerURL": "https://plot.ly"
       },
       "data": [
        {
         "hovertemplate": "MCI Count=%{marker.color}<br>Neighbourhood=%{y}<extra></extra>",
         "legendgroup": "",
         "marker": {
          "color": [
           2,
           4,
           6,
           6,
           6,
           1,
           3,
           3,
           2
          ],
          "coloraxis": "coloraxis",
          "opacity": 0.9,
          "symbol": "circle"
         },
         "mode": "markers",
         "name": "",
         "orientation": "v",
         "showlegend": false,
         "type": "scatter",
         "x": [
          2,
          4,
          6,
          6,
          6,
          1,
          3,
          3,
          2
         ],
         "xaxis": "x",
         "y": [
          "Agincourt North",
          "Agincourt South-Malvern West",
          "Lamoreaux",
          "Malvern",
          "Milliken",
          "NSA",
          "Rouge",
          "Steeles",
          "Tam Oshanter-Sullivan"
         ],
         "yaxis": "y"
        }
       ],
       "layout": {
        "coloraxis": {
         "colorbar": {
          "title": {
           "text": "MCI Count"
          }
         },
         "colorscale": [
          [
           0,
           "#0d0887"
          ],
          [
           0.1111111111111111,
           "#46039f"
          ],
          [
           0.2222222222222222,
           "#7201a8"
          ],
          [
           0.3333333333333333,
           "#9c179e"
          ],
          [
           0.4444444444444444,
           "#bd3786"
          ],
          [
           0.5555555555555556,
           "#d8576b"
          ],
          [
           0.6666666666666666,
           "#ed7953"
          ],
          [
           0.7777777777777778,
           "#fb9f3a"
          ],
          [
           0.8888888888888888,
           "#fdca26"
          ],
          [
           1,
           "#f0f921"
          ]
         ]
        },
        "legend": {
         "tracegroupgap": 0
        },
        "template": {
         "data": {
          "bar": [
           {
            "error_x": {
             "color": "#2a3f5f"
            },
            "error_y": {
             "color": "#2a3f5f"
            },
            "marker": {
             "line": {
              "color": "#E5ECF6",
              "width": 0.5
             },
             "pattern": {
              "fillmode": "overlay",
              "size": 10,
              "solidity": 0.2
             }
            },
            "type": "bar"
           }
          ],
          "barpolar": [
           {
            "marker": {
             "line": {
              "color": "#E5ECF6",
              "width": 0.5
             },
             "pattern": {
              "fillmode": "overlay",
              "size": 10,
              "solidity": 0.2
             }
            },
            "type": "barpolar"
           }
          ],
          "carpet": [
           {
            "aaxis": {
             "endlinecolor": "#2a3f5f",
             "gridcolor": "white",
             "linecolor": "white",
             "minorgridcolor": "white",
             "startlinecolor": "#2a3f5f"
            },
            "baxis": {
             "endlinecolor": "#2a3f5f",
             "gridcolor": "white",
             "linecolor": "white",
             "minorgridcolor": "white",
             "startlinecolor": "#2a3f5f"
            },
            "type": "carpet"
           }
          ],
          "choropleth": [
           {
            "colorbar": {
             "outlinewidth": 0,
             "ticks": ""
            },
            "type": "choropleth"
           }
          ],
          "contour": [
           {
            "colorbar": {
             "outlinewidth": 0,
             "ticks": ""
            },
            "colorscale": [
             [
              0,
              "#0d0887"
             ],
             [
              0.1111111111111111,
              "#46039f"
             ],
             [
              0.2222222222222222,
              "#7201a8"
             ],
             [
              0.3333333333333333,
              "#9c179e"
             ],
             [
              0.4444444444444444,
              "#bd3786"
             ],
             [
              0.5555555555555556,
              "#d8576b"
             ],
             [
              0.6666666666666666,
              "#ed7953"
             ],
             [
              0.7777777777777778,
              "#fb9f3a"
             ],
             [
              0.8888888888888888,
              "#fdca26"
             ],
             [
              1,
              "#f0f921"
             ]
            ],
            "type": "contour"
           }
          ],
          "contourcarpet": [
           {
            "colorbar": {
             "outlinewidth": 0,
             "ticks": ""
            },
            "type": "contourcarpet"
           }
          ],
          "heatmap": [
           {
            "colorbar": {
             "outlinewidth": 0,
             "ticks": ""
            },
            "colorscale": [
             [
              0,
              "#0d0887"
             ],
             [
              0.1111111111111111,
              "#46039f"
             ],
             [
              0.2222222222222222,
              "#7201a8"
             ],
             [
              0.3333333333333333,
              "#9c179e"
             ],
             [
              0.4444444444444444,
              "#bd3786"
             ],
             [
              0.5555555555555556,
              "#d8576b"
             ],
             [
              0.6666666666666666,
              "#ed7953"
             ],
             [
              0.7777777777777778,
              "#fb9f3a"
             ],
             [
              0.8888888888888888,
              "#fdca26"
             ],
             [
              1,
              "#f0f921"
             ]
            ],
            "type": "heatmap"
           }
          ],
          "heatmapgl": [
           {
            "colorbar": {
             "outlinewidth": 0,
             "ticks": ""
            },
            "colorscale": [
             [
              0,
              "#0d0887"
             ],
             [
              0.1111111111111111,
              "#46039f"
             ],
             [
              0.2222222222222222,
              "#7201a8"
             ],
             [
              0.3333333333333333,
              "#9c179e"
             ],
             [
              0.4444444444444444,
              "#bd3786"
             ],
             [
              0.5555555555555556,
              "#d8576b"
             ],
             [
              0.6666666666666666,
              "#ed7953"
             ],
             [
              0.7777777777777778,
              "#fb9f3a"
             ],
             [
              0.8888888888888888,
              "#fdca26"
             ],
             [
              1,
              "#f0f921"
             ]
            ],
            "type": "heatmapgl"
           }
          ],
          "histogram": [
           {
            "marker": {
             "pattern": {
              "fillmode": "overlay",
              "size": 10,
              "solidity": 0.2
             }
            },
            "type": "histogram"
           }
          ],
          "histogram2d": [
           {
            "colorbar": {
             "outlinewidth": 0,
             "ticks": ""
            },
            "colorscale": [
             [
              0,
              "#0d0887"
             ],
             [
              0.1111111111111111,
              "#46039f"
             ],
             [
              0.2222222222222222,
              "#7201a8"
             ],
             [
              0.3333333333333333,
              "#9c179e"
             ],
             [
              0.4444444444444444,
              "#bd3786"
             ],
             [
              0.5555555555555556,
              "#d8576b"
             ],
             [
              0.6666666666666666,
              "#ed7953"
             ],
             [
              0.7777777777777778,
              "#fb9f3a"
             ],
             [
              0.8888888888888888,
              "#fdca26"
             ],
             [
              1,
              "#f0f921"
             ]
            ],
            "type": "histogram2d"
           }
          ],
          "histogram2dcontour": [
           {
            "colorbar": {
             "outlinewidth": 0,
             "ticks": ""
            },
            "colorscale": [
             [
              0,
              "#0d0887"
             ],
             [
              0.1111111111111111,
              "#46039f"
             ],
             [
              0.2222222222222222,
              "#7201a8"
             ],
             [
              0.3333333333333333,
              "#9c179e"
             ],
             [
              0.4444444444444444,
              "#bd3786"
             ],
             [
              0.5555555555555556,
              "#d8576b"
             ],
             [
              0.6666666666666666,
              "#ed7953"
             ],
             [
              0.7777777777777778,
              "#fb9f3a"
             ],
             [
              0.8888888888888888,
              "#fdca26"
             ],
             [
              1,
              "#f0f921"
             ]
            ],
            "type": "histogram2dcontour"
           }
          ],
          "mesh3d": [
           {
            "colorbar": {
             "outlinewidth": 0,
             "ticks": ""
            },
            "type": "mesh3d"
           }
          ],
          "parcoords": [
           {
            "line": {
             "colorbar": {
              "outlinewidth": 0,
              "ticks": ""
             }
            },
            "type": "parcoords"
           }
          ],
          "pie": [
           {
            "automargin": true,
            "type": "pie"
           }
          ],
          "scatter": [
           {
            "fillpattern": {
             "fillmode": "overlay",
             "size": 10,
             "solidity": 0.2
            },
            "type": "scatter"
           }
          ],
          "scatter3d": [
           {
            "line": {
             "colorbar": {
              "outlinewidth": 0,
              "ticks": ""
             }
            },
            "marker": {
             "colorbar": {
              "outlinewidth": 0,
              "ticks": ""
             }
            },
            "type": "scatter3d"
           }
          ],
          "scattercarpet": [
           {
            "marker": {
             "colorbar": {
              "outlinewidth": 0,
              "ticks": ""
             }
            },
            "type": "scattercarpet"
           }
          ],
          "scattergeo": [
           {
            "marker": {
             "colorbar": {
              "outlinewidth": 0,
              "ticks": ""
             }
            },
            "type": "scattergeo"
           }
          ],
          "scattergl": [
           {
            "marker": {
             "colorbar": {
              "outlinewidth": 0,
              "ticks": ""
             }
            },
            "type": "scattergl"
           }
          ],
          "scattermapbox": [
           {
            "marker": {
             "colorbar": {
              "outlinewidth": 0,
              "ticks": ""
             }
            },
            "type": "scattermapbox"
           }
          ],
          "scatterpolar": [
           {
            "marker": {
             "colorbar": {
              "outlinewidth": 0,
              "ticks": ""
             }
            },
            "type": "scatterpolar"
           }
          ],
          "scatterpolargl": [
           {
            "marker": {
             "colorbar": {
              "outlinewidth": 0,
              "ticks": ""
             }
            },
            "type": "scatterpolargl"
           }
          ],
          "scatterternary": [
           {
            "marker": {
             "colorbar": {
              "outlinewidth": 0,
              "ticks": ""
             }
            },
            "type": "scatterternary"
           }
          ],
          "surface": [
           {
            "colorbar": {
             "outlinewidth": 0,
             "ticks": ""
            },
            "colorscale": [
             [
              0,
              "#0d0887"
             ],
             [
              0.1111111111111111,
              "#46039f"
             ],
             [
              0.2222222222222222,
              "#7201a8"
             ],
             [
              0.3333333333333333,
              "#9c179e"
             ],
             [
              0.4444444444444444,
              "#bd3786"
             ],
             [
              0.5555555555555556,
              "#d8576b"
             ],
             [
              0.6666666666666666,
              "#ed7953"
             ],
             [
              0.7777777777777778,
              "#fb9f3a"
             ],
             [
              0.8888888888888888,
              "#fdca26"
             ],
             [
              1,
              "#f0f921"
             ]
            ],
            "type": "surface"
           }
          ],
          "table": [
           {
            "cells": {
             "fill": {
              "color": "#EBF0F8"
             },
             "line": {
              "color": "white"
             }
            },
            "header": {
             "fill": {
              "color": "#C8D4E3"
             },
             "line": {
              "color": "white"
             }
            },
            "type": "table"
           }
          ]
         },
         "layout": {
          "annotationdefaults": {
           "arrowcolor": "#2a3f5f",
           "arrowhead": 0,
           "arrowwidth": 1
          },
          "autotypenumbers": "strict",
          "coloraxis": {
           "colorbar": {
            "outlinewidth": 0,
            "ticks": ""
           }
          },
          "colorscale": {
           "diverging": [
            [
             0,
             "#8e0152"
            ],
            [
             0.1,
             "#c51b7d"
            ],
            [
             0.2,
             "#de77ae"
            ],
            [
             0.3,
             "#f1b6da"
            ],
            [
             0.4,
             "#fde0ef"
            ],
            [
             0.5,
             "#f7f7f7"
            ],
            [
             0.6,
             "#e6f5d0"
            ],
            [
             0.7,
             "#b8e186"
            ],
            [
             0.8,
             "#7fbc41"
            ],
            [
             0.9,
             "#4d9221"
            ],
            [
             1,
             "#276419"
            ]
           ],
           "sequential": [
            [
             0,
             "#0d0887"
            ],
            [
             0.1111111111111111,
             "#46039f"
            ],
            [
             0.2222222222222222,
             "#7201a8"
            ],
            [
             0.3333333333333333,
             "#9c179e"
            ],
            [
             0.4444444444444444,
             "#bd3786"
            ],
            [
             0.5555555555555556,
             "#d8576b"
            ],
            [
             0.6666666666666666,
             "#ed7953"
            ],
            [
             0.7777777777777778,
             "#fb9f3a"
            ],
            [
             0.8888888888888888,
             "#fdca26"
            ],
            [
             1,
             "#f0f921"
            ]
           ],
           "sequentialminus": [
            [
             0,
             "#0d0887"
            ],
            [
             0.1111111111111111,
             "#46039f"
            ],
            [
             0.2222222222222222,
             "#7201a8"
            ],
            [
             0.3333333333333333,
             "#9c179e"
            ],
            [
             0.4444444444444444,
             "#bd3786"
            ],
            [
             0.5555555555555556,
             "#d8576b"
            ],
            [
             0.6666666666666666,
             "#ed7953"
            ],
            [
             0.7777777777777778,
             "#fb9f3a"
            ],
            [
             0.8888888888888888,
             "#fdca26"
            ],
            [
             1,
             "#f0f921"
            ]
           ]
          },
          "colorway": [
           "#636efa",
           "#EF553B",
           "#00cc96",
           "#ab63fa",
           "#FFA15A",
           "#19d3f3",
           "#FF6692",
           "#B6E880",
           "#FF97FF",
           "#FECB52"
          ],
          "font": {
           "color": "#2a3f5f"
          },
          "geo": {
           "bgcolor": "white",
           "lakecolor": "white",
           "landcolor": "#E5ECF6",
           "showlakes": true,
           "showland": true,
           "subunitcolor": "white"
          },
          "hoverlabel": {
           "align": "left"
          },
          "hovermode": "closest",
          "mapbox": {
           "style": "light"
          },
          "paper_bgcolor": "white",
          "plot_bgcolor": "#E5ECF6",
          "polar": {
           "angularaxis": {
            "gridcolor": "white",
            "linecolor": "white",
            "ticks": ""
           },
           "bgcolor": "#E5ECF6",
           "radialaxis": {
            "gridcolor": "white",
            "linecolor": "white",
            "ticks": ""
           }
          },
          "scene": {
           "xaxis": {
            "backgroundcolor": "#E5ECF6",
            "gridcolor": "white",
            "gridwidth": 2,
            "linecolor": "white",
            "showbackground": true,
            "ticks": "",
            "zerolinecolor": "white"
           },
           "yaxis": {
            "backgroundcolor": "#E5ECF6",
            "gridcolor": "white",
            "gridwidth": 2,
            "linecolor": "white",
            "showbackground": true,
            "ticks": "",
            "zerolinecolor": "white"
           },
           "zaxis": {
            "backgroundcolor": "#E5ECF6",
            "gridcolor": "white",
            "gridwidth": 2,
            "linecolor": "white",
            "showbackground": true,
            "ticks": "",
            "zerolinecolor": "white"
           }
          },
          "shapedefaults": {
           "line": {
            "color": "#2a3f5f"
           }
          },
          "ternary": {
           "aaxis": {
            "gridcolor": "white",
            "linecolor": "white",
            "ticks": ""
           },
           "baxis": {
            "gridcolor": "white",
            "linecolor": "white",
            "ticks": ""
           },
           "bgcolor": "#E5ECF6",
           "caxis": {
            "gridcolor": "white",
            "linecolor": "white",
            "ticks": ""
           }
          },
          "title": {
           "x": 0.05
          },
          "xaxis": {
           "automargin": true,
           "gridcolor": "white",
           "linecolor": "white",
           "ticks": "",
           "title": {
            "standoff": 15
           },
           "zerolinecolor": "white",
           "zerolinewidth": 2
          },
          "yaxis": {
           "automargin": true,
           "gridcolor": "white",
           "linecolor": "white",
           "ticks": "",
           "title": {
            "standoff": 15
           },
           "zerolinecolor": "white",
           "zerolinewidth": 2
          }
         }
        },
        "title": {
         "text": "18-OCT-2021 To 24-OCT-2021 Major Crime Indicators Count Per Neighbourhood"
        },
        "xaxis": {
         "anchor": "y",
         "domain": [
          0,
          1
         ],
         "title": {
          "text": "MCI Count"
         }
        },
        "yaxis": {
         "anchor": "x",
         "domain": [
          0,
          1
         ],
         "title": {
          "text": "Neighbourhood"
         }
        }
       }
      },
      "text/html": [
       "<div>                            <div id=\"fe46c192-f4a1-4e88-9bd1-5b1cdbe343d8\" class=\"plotly-graph-div\" style=\"height:525px; width:100%;\"></div>            <script type=\"text/javascript\">                require([\"plotly\"], function(Plotly) {                    window.PLOTLYENV=window.PLOTLYENV || {};                                    if (document.getElementById(\"fe46c192-f4a1-4e88-9bd1-5b1cdbe343d8\")) {                    Plotly.newPlot(                        \"fe46c192-f4a1-4e88-9bd1-5b1cdbe343d8\",                        [{\"hovertemplate\":\"MCI Count=%{marker.color}<br>Neighbourhood=%{y}<extra></extra>\",\"legendgroup\":\"\",\"marker\":{\"color\":[2,4,6,6,6,1,3,3,2],\"coloraxis\":\"coloraxis\",\"opacity\":0.9,\"symbol\":\"circle\"},\"mode\":\"markers\",\"name\":\"\",\"orientation\":\"v\",\"showlegend\":false,\"x\":[2,4,6,6,6,1,3,3,2],\"xaxis\":\"x\",\"y\":[\"Agincourt North\",\"Agincourt South-Malvern West\",\"Lamoreaux\",\"Malvern\",\"Milliken\",\"NSA\",\"Rouge\",\"Steeles\",\"Tam Oshanter-Sullivan\"],\"yaxis\":\"y\",\"type\":\"scatter\"}],                        {\"template\":{\"data\":{\"histogram2dcontour\":[{\"type\":\"histogram2dcontour\",\"colorbar\":{\"outlinewidth\":0,\"ticks\":\"\"},\"colorscale\":[[0.0,\"#0d0887\"],[0.1111111111111111,\"#46039f\"],[0.2222222222222222,\"#7201a8\"],[0.3333333333333333,\"#9c179e\"],[0.4444444444444444,\"#bd3786\"],[0.5555555555555556,\"#d8576b\"],[0.6666666666666666,\"#ed7953\"],[0.7777777777777778,\"#fb9f3a\"],[0.8888888888888888,\"#fdca26\"],[1.0,\"#f0f921\"]]}],\"choropleth\":[{\"type\":\"choropleth\",\"colorbar\":{\"outlinewidth\":0,\"ticks\":\"\"}}],\"histogram2d\":[{\"type\":\"histogram2d\",\"colorbar\":{\"outlinewidth\":0,\"ticks\":\"\"},\"colorscale\":[[0.0,\"#0d0887\"],[0.1111111111111111,\"#46039f\"],[0.2222222222222222,\"#7201a8\"],[0.3333333333333333,\"#9c179e\"],[0.4444444444444444,\"#bd3786\"],[0.5555555555555556,\"#d8576b\"],[0.6666666666666666,\"#ed7953\"],[0.7777777777777778,\"#fb9f3a\"],[0.8888888888888888,\"#fdca26\"],[1.0,\"#f0f921\"]]}],\"heatmap\":[{\"type\":\"heatmap\",\"colorbar\":{\"outlinewidth\":0,\"ticks\":\"\"},\"colorscale\":[[0.0,\"#0d0887\"],[0.1111111111111111,\"#46039f\"],[0.2222222222222222,\"#7201a8\"],[0.3333333333333333,\"#9c179e\"],[0.4444444444444444,\"#bd3786\"],[0.5555555555555556,\"#d8576b\"],[0.6666666666666666,\"#ed7953\"],[0.7777777777777778,\"#fb9f3a\"],[0.8888888888888888,\"#fdca26\"],[1.0,\"#f0f921\"]]}],\"heatmapgl\":[{\"type\":\"heatmapgl\",\"colorbar\":{\"outlinewidth\":0,\"ticks\":\"\"},\"colorscale\":[[0.0,\"#0d0887\"],[0.1111111111111111,\"#46039f\"],[0.2222222222222222,\"#7201a8\"],[0.3333333333333333,\"#9c179e\"],[0.4444444444444444,\"#bd3786\"],[0.5555555555555556,\"#d8576b\"],[0.6666666666666666,\"#ed7953\"],[0.7777777777777778,\"#fb9f3a\"],[0.8888888888888888,\"#fdca26\"],[1.0,\"#f0f921\"]]}],\"contourcarpet\":[{\"type\":\"contourcarpet\",\"colorbar\":{\"outlinewidth\":0,\"ticks\":\"\"}}],\"contour\":[{\"type\":\"contour\",\"colorbar\":{\"outlinewidth\":0,\"ticks\":\"\"},\"colorscale\":[[0.0,\"#0d0887\"],[0.1111111111111111,\"#46039f\"],[0.2222222222222222,\"#7201a8\"],[0.3333333333333333,\"#9c179e\"],[0.4444444444444444,\"#bd3786\"],[0.5555555555555556,\"#d8576b\"],[0.6666666666666666,\"#ed7953\"],[0.7777777777777778,\"#fb9f3a\"],[0.8888888888888888,\"#fdca26\"],[1.0,\"#f0f921\"]]}],\"surface\":[{\"type\":\"surface\",\"colorbar\":{\"outlinewidth\":0,\"ticks\":\"\"},\"colorscale\":[[0.0,\"#0d0887\"],[0.1111111111111111,\"#46039f\"],[0.2222222222222222,\"#7201a8\"],[0.3333333333333333,\"#9c179e\"],[0.4444444444444444,\"#bd3786\"],[0.5555555555555556,\"#d8576b\"],[0.6666666666666666,\"#ed7953\"],[0.7777777777777778,\"#fb9f3a\"],[0.8888888888888888,\"#fdca26\"],[1.0,\"#f0f921\"]]}],\"mesh3d\":[{\"type\":\"mesh3d\",\"colorbar\":{\"outlinewidth\":0,\"ticks\":\"\"}}],\"scatter\":[{\"fillpattern\":{\"fillmode\":\"overlay\",\"size\":10,\"solidity\":0.2},\"type\":\"scatter\"}],\"parcoords\":[{\"type\":\"parcoords\",\"line\":{\"colorbar\":{\"outlinewidth\":0,\"ticks\":\"\"}}}],\"scatterpolargl\":[{\"type\":\"scatterpolargl\",\"marker\":{\"colorbar\":{\"outlinewidth\":0,\"ticks\":\"\"}}}],\"bar\":[{\"error_x\":{\"color\":\"#2a3f5f\"},\"error_y\":{\"color\":\"#2a3f5f\"},\"marker\":{\"line\":{\"color\":\"#E5ECF6\",\"width\":0.5},\"pattern\":{\"fillmode\":\"overlay\",\"size\":10,\"solidity\":0.2}},\"type\":\"bar\"}],\"scattergeo\":[{\"type\":\"scattergeo\",\"marker\":{\"colorbar\":{\"outlinewidth\":0,\"ticks\":\"\"}}}],\"scatterpolar\":[{\"type\":\"scatterpolar\",\"marker\":{\"colorbar\":{\"outlinewidth\":0,\"ticks\":\"\"}}}],\"histogram\":[{\"marker\":{\"pattern\":{\"fillmode\":\"overlay\",\"size\":10,\"solidity\":0.2}},\"type\":\"histogram\"}],\"scattergl\":[{\"type\":\"scattergl\",\"marker\":{\"colorbar\":{\"outlinewidth\":0,\"ticks\":\"\"}}}],\"scatter3d\":[{\"type\":\"scatter3d\",\"line\":{\"colorbar\":{\"outlinewidth\":0,\"ticks\":\"\"}},\"marker\":{\"colorbar\":{\"outlinewidth\":0,\"ticks\":\"\"}}}],\"scattermapbox\":[{\"type\":\"scattermapbox\",\"marker\":{\"colorbar\":{\"outlinewidth\":0,\"ticks\":\"\"}}}],\"scatterternary\":[{\"type\":\"scatterternary\",\"marker\":{\"colorbar\":{\"outlinewidth\":0,\"ticks\":\"\"}}}],\"scattercarpet\":[{\"type\":\"scattercarpet\",\"marker\":{\"colorbar\":{\"outlinewidth\":0,\"ticks\":\"\"}}}],\"carpet\":[{\"aaxis\":{\"endlinecolor\":\"#2a3f5f\",\"gridcolor\":\"white\",\"linecolor\":\"white\",\"minorgridcolor\":\"white\",\"startlinecolor\":\"#2a3f5f\"},\"baxis\":{\"endlinecolor\":\"#2a3f5f\",\"gridcolor\":\"white\",\"linecolor\":\"white\",\"minorgridcolor\":\"white\",\"startlinecolor\":\"#2a3f5f\"},\"type\":\"carpet\"}],\"table\":[{\"cells\":{\"fill\":{\"color\":\"#EBF0F8\"},\"line\":{\"color\":\"white\"}},\"header\":{\"fill\":{\"color\":\"#C8D4E3\"},\"line\":{\"color\":\"white\"}},\"type\":\"table\"}],\"barpolar\":[{\"marker\":{\"line\":{\"color\":\"#E5ECF6\",\"width\":0.5},\"pattern\":{\"fillmode\":\"overlay\",\"size\":10,\"solidity\":0.2}},\"type\":\"barpolar\"}],\"pie\":[{\"automargin\":true,\"type\":\"pie\"}]},\"layout\":{\"autotypenumbers\":\"strict\",\"colorway\":[\"#636efa\",\"#EF553B\",\"#00cc96\",\"#ab63fa\",\"#FFA15A\",\"#19d3f3\",\"#FF6692\",\"#B6E880\",\"#FF97FF\",\"#FECB52\"],\"font\":{\"color\":\"#2a3f5f\"},\"hovermode\":\"closest\",\"hoverlabel\":{\"align\":\"left\"},\"paper_bgcolor\":\"white\",\"plot_bgcolor\":\"#E5ECF6\",\"polar\":{\"bgcolor\":\"#E5ECF6\",\"angularaxis\":{\"gridcolor\":\"white\",\"linecolor\":\"white\",\"ticks\":\"\"},\"radialaxis\":{\"gridcolor\":\"white\",\"linecolor\":\"white\",\"ticks\":\"\"}},\"ternary\":{\"bgcolor\":\"#E5ECF6\",\"aaxis\":{\"gridcolor\":\"white\",\"linecolor\":\"white\",\"ticks\":\"\"},\"baxis\":{\"gridcolor\":\"white\",\"linecolor\":\"white\",\"ticks\":\"\"},\"caxis\":{\"gridcolor\":\"white\",\"linecolor\":\"white\",\"ticks\":\"\"}},\"coloraxis\":{\"colorbar\":{\"outlinewidth\":0,\"ticks\":\"\"}},\"colorscale\":{\"sequential\":[[0.0,\"#0d0887\"],[0.1111111111111111,\"#46039f\"],[0.2222222222222222,\"#7201a8\"],[0.3333333333333333,\"#9c179e\"],[0.4444444444444444,\"#bd3786\"],[0.5555555555555556,\"#d8576b\"],[0.6666666666666666,\"#ed7953\"],[0.7777777777777778,\"#fb9f3a\"],[0.8888888888888888,\"#fdca26\"],[1.0,\"#f0f921\"]],\"sequentialminus\":[[0.0,\"#0d0887\"],[0.1111111111111111,\"#46039f\"],[0.2222222222222222,\"#7201a8\"],[0.3333333333333333,\"#9c179e\"],[0.4444444444444444,\"#bd3786\"],[0.5555555555555556,\"#d8576b\"],[0.6666666666666666,\"#ed7953\"],[0.7777777777777778,\"#fb9f3a\"],[0.8888888888888888,\"#fdca26\"],[1.0,\"#f0f921\"]],\"diverging\":[[0,\"#8e0152\"],[0.1,\"#c51b7d\"],[0.2,\"#de77ae\"],[0.3,\"#f1b6da\"],[0.4,\"#fde0ef\"],[0.5,\"#f7f7f7\"],[0.6,\"#e6f5d0\"],[0.7,\"#b8e186\"],[0.8,\"#7fbc41\"],[0.9,\"#4d9221\"],[1,\"#276419\"]]},\"xaxis\":{\"gridcolor\":\"white\",\"linecolor\":\"white\",\"ticks\":\"\",\"title\":{\"standoff\":15},\"zerolinecolor\":\"white\",\"automargin\":true,\"zerolinewidth\":2},\"yaxis\":{\"gridcolor\":\"white\",\"linecolor\":\"white\",\"ticks\":\"\",\"title\":{\"standoff\":15},\"zerolinecolor\":\"white\",\"automargin\":true,\"zerolinewidth\":2},\"scene\":{\"xaxis\":{\"backgroundcolor\":\"#E5ECF6\",\"gridcolor\":\"white\",\"linecolor\":\"white\",\"showbackground\":true,\"ticks\":\"\",\"zerolinecolor\":\"white\",\"gridwidth\":2},\"yaxis\":{\"backgroundcolor\":\"#E5ECF6\",\"gridcolor\":\"white\",\"linecolor\":\"white\",\"showbackground\":true,\"ticks\":\"\",\"zerolinecolor\":\"white\",\"gridwidth\":2},\"zaxis\":{\"backgroundcolor\":\"#E5ECF6\",\"gridcolor\":\"white\",\"linecolor\":\"white\",\"showbackground\":true,\"ticks\":\"\",\"zerolinecolor\":\"white\",\"gridwidth\":2}},\"shapedefaults\":{\"line\":{\"color\":\"#2a3f5f\"}},\"annotationdefaults\":{\"arrowcolor\":\"#2a3f5f\",\"arrowhead\":0,\"arrowwidth\":1},\"geo\":{\"bgcolor\":\"white\",\"landcolor\":\"#E5ECF6\",\"subunitcolor\":\"white\",\"showland\":true,\"showlakes\":true,\"lakecolor\":\"white\"},\"title\":{\"x\":0.05},\"mapbox\":{\"style\":\"light\"}}},\"xaxis\":{\"anchor\":\"y\",\"domain\":[0.0,1.0],\"title\":{\"text\":\"MCI Count\"}},\"yaxis\":{\"anchor\":\"x\",\"domain\":[0.0,1.0],\"title\":{\"text\":\"Neighbourhood\"}},\"coloraxis\":{\"colorbar\":{\"title\":{\"text\":\"MCI Count\"}},\"colorscale\":[[0.0,\"#0d0887\"],[0.1111111111111111,\"#46039f\"],[0.2222222222222222,\"#7201a8\"],[0.3333333333333333,\"#9c179e\"],[0.4444444444444444,\"#bd3786\"],[0.5555555555555556,\"#d8576b\"],[0.6666666666666666,\"#ed7953\"],[0.7777777777777778,\"#fb9f3a\"],[0.8888888888888888,\"#fdca26\"],[1.0,\"#f0f921\"]]},\"legend\":{\"tracegroupgap\":0},\"title\":{\"text\":\"18-OCT-2021 To 24-OCT-2021 Major Crime Indicators Count Per Neighbourhood\"}},                        {\"responsive\": true}                    ).then(function(){\n",
       "                            \n",
       "var gd = document.getElementById('fe46c192-f4a1-4e88-9bd1-5b1cdbe343d8');\n",
       "var x = new MutationObserver(function (mutations, observer) {{\n",
       "        var display = window.getComputedStyle(gd).display;\n",
       "        if (!display || display === 'none') {{\n",
       "            console.log([gd, 'removed!']);\n",
       "            Plotly.purge(gd);\n",
       "            observer.disconnect();\n",
       "        }}\n",
       "}});\n",
       "\n",
       "// Listen for the removal of the full notebook cells\n",
       "var notebookContainer = gd.closest('#notebook-container');\n",
       "if (notebookContainer) {{\n",
       "    x.observe(notebookContainer, {childList: true});\n",
       "}}\n",
       "\n",
       "// Listen for the clearing of the current output cell\n",
       "var outputEl = gd.closest('.output');\n",
       "if (outputEl) {{\n",
       "    x.observe(outputEl, {childList: true});\n",
       "}}\n",
       "\n",
       "                        })                };                });            </script>        </div>"
      ]
     },
     "metadata": {},
     "output_type": "display_data"
    }
   ],
   "source": [
    "scatterchart2 = px.scatter(\n",
    "    data_frame = df12,\n",
    "    x = 'MCI Count',\n",
    "    y = 'Neighbourhood',\n",
    "    color = 'MCI Count',\n",
    "    opacity = 0.9,\n",
    "    orientation = 'v',\n",
    "    title = '18-OCT-2021 To 24-OCT-2021 Major Crime Indicators Count Per Neighbourhood'\n",
    ")\n",
    "\n",
    "scatterchart2.show()"
   ]
  },
  {
   "cell_type": "markdown",
   "id": "a5ecb5f0",
   "metadata": {},
   "source": [
    "# Create pie charts to visualize the totals of the Major Crime Indicators of Division 42 in each of the weeks analyzed"
   ]
  },
  {
   "cell_type": "code",
   "execution_count": 70,
   "id": "1bcd983d",
   "metadata": {},
   "outputs": [
    {
     "data": {
      "application/vnd.plotly.v1+json": {
       "config": {
        "plotlyServerURL": "https://plot.ly"
       },
       "data": [
        {
         "domain": {
          "x": [
           0,
           1
          ],
          "y": [
           0,
           1
          ]
         },
         "hovertemplate": "MCI=%{label}<br>MCI Count=%{value}<extra></extra>",
         "labels": [
          "Assault",
          "Auto Theft",
          "Break and Enter",
          "Robbery",
          "Theft Over"
         ],
         "legendgroup": "",
         "name": "",
         "showlegend": true,
         "type": "pie",
         "values": [
          15,
          15,
          4,
          4,
          0
         ]
        }
       ],
       "layout": {
        "legend": {
         "tracegroupgap": 0
        },
        "template": {
         "data": {
          "bar": [
           {
            "error_x": {
             "color": "#2a3f5f"
            },
            "error_y": {
             "color": "#2a3f5f"
            },
            "marker": {
             "line": {
              "color": "#E5ECF6",
              "width": 0.5
             },
             "pattern": {
              "fillmode": "overlay",
              "size": 10,
              "solidity": 0.2
             }
            },
            "type": "bar"
           }
          ],
          "barpolar": [
           {
            "marker": {
             "line": {
              "color": "#E5ECF6",
              "width": 0.5
             },
             "pattern": {
              "fillmode": "overlay",
              "size": 10,
              "solidity": 0.2
             }
            },
            "type": "barpolar"
           }
          ],
          "carpet": [
           {
            "aaxis": {
             "endlinecolor": "#2a3f5f",
             "gridcolor": "white",
             "linecolor": "white",
             "minorgridcolor": "white",
             "startlinecolor": "#2a3f5f"
            },
            "baxis": {
             "endlinecolor": "#2a3f5f",
             "gridcolor": "white",
             "linecolor": "white",
             "minorgridcolor": "white",
             "startlinecolor": "#2a3f5f"
            },
            "type": "carpet"
           }
          ],
          "choropleth": [
           {
            "colorbar": {
             "outlinewidth": 0,
             "ticks": ""
            },
            "type": "choropleth"
           }
          ],
          "contour": [
           {
            "colorbar": {
             "outlinewidth": 0,
             "ticks": ""
            },
            "colorscale": [
             [
              0,
              "#0d0887"
             ],
             [
              0.1111111111111111,
              "#46039f"
             ],
             [
              0.2222222222222222,
              "#7201a8"
             ],
             [
              0.3333333333333333,
              "#9c179e"
             ],
             [
              0.4444444444444444,
              "#bd3786"
             ],
             [
              0.5555555555555556,
              "#d8576b"
             ],
             [
              0.6666666666666666,
              "#ed7953"
             ],
             [
              0.7777777777777778,
              "#fb9f3a"
             ],
             [
              0.8888888888888888,
              "#fdca26"
             ],
             [
              1,
              "#f0f921"
             ]
            ],
            "type": "contour"
           }
          ],
          "contourcarpet": [
           {
            "colorbar": {
             "outlinewidth": 0,
             "ticks": ""
            },
            "type": "contourcarpet"
           }
          ],
          "heatmap": [
           {
            "colorbar": {
             "outlinewidth": 0,
             "ticks": ""
            },
            "colorscale": [
             [
              0,
              "#0d0887"
             ],
             [
              0.1111111111111111,
              "#46039f"
             ],
             [
              0.2222222222222222,
              "#7201a8"
             ],
             [
              0.3333333333333333,
              "#9c179e"
             ],
             [
              0.4444444444444444,
              "#bd3786"
             ],
             [
              0.5555555555555556,
              "#d8576b"
             ],
             [
              0.6666666666666666,
              "#ed7953"
             ],
             [
              0.7777777777777778,
              "#fb9f3a"
             ],
             [
              0.8888888888888888,
              "#fdca26"
             ],
             [
              1,
              "#f0f921"
             ]
            ],
            "type": "heatmap"
           }
          ],
          "heatmapgl": [
           {
            "colorbar": {
             "outlinewidth": 0,
             "ticks": ""
            },
            "colorscale": [
             [
              0,
              "#0d0887"
             ],
             [
              0.1111111111111111,
              "#46039f"
             ],
             [
              0.2222222222222222,
              "#7201a8"
             ],
             [
              0.3333333333333333,
              "#9c179e"
             ],
             [
              0.4444444444444444,
              "#bd3786"
             ],
             [
              0.5555555555555556,
              "#d8576b"
             ],
             [
              0.6666666666666666,
              "#ed7953"
             ],
             [
              0.7777777777777778,
              "#fb9f3a"
             ],
             [
              0.8888888888888888,
              "#fdca26"
             ],
             [
              1,
              "#f0f921"
             ]
            ],
            "type": "heatmapgl"
           }
          ],
          "histogram": [
           {
            "marker": {
             "pattern": {
              "fillmode": "overlay",
              "size": 10,
              "solidity": 0.2
             }
            },
            "type": "histogram"
           }
          ],
          "histogram2d": [
           {
            "colorbar": {
             "outlinewidth": 0,
             "ticks": ""
            },
            "colorscale": [
             [
              0,
              "#0d0887"
             ],
             [
              0.1111111111111111,
              "#46039f"
             ],
             [
              0.2222222222222222,
              "#7201a8"
             ],
             [
              0.3333333333333333,
              "#9c179e"
             ],
             [
              0.4444444444444444,
              "#bd3786"
             ],
             [
              0.5555555555555556,
              "#d8576b"
             ],
             [
              0.6666666666666666,
              "#ed7953"
             ],
             [
              0.7777777777777778,
              "#fb9f3a"
             ],
             [
              0.8888888888888888,
              "#fdca26"
             ],
             [
              1,
              "#f0f921"
             ]
            ],
            "type": "histogram2d"
           }
          ],
          "histogram2dcontour": [
           {
            "colorbar": {
             "outlinewidth": 0,
             "ticks": ""
            },
            "colorscale": [
             [
              0,
              "#0d0887"
             ],
             [
              0.1111111111111111,
              "#46039f"
             ],
             [
              0.2222222222222222,
              "#7201a8"
             ],
             [
              0.3333333333333333,
              "#9c179e"
             ],
             [
              0.4444444444444444,
              "#bd3786"
             ],
             [
              0.5555555555555556,
              "#d8576b"
             ],
             [
              0.6666666666666666,
              "#ed7953"
             ],
             [
              0.7777777777777778,
              "#fb9f3a"
             ],
             [
              0.8888888888888888,
              "#fdca26"
             ],
             [
              1,
              "#f0f921"
             ]
            ],
            "type": "histogram2dcontour"
           }
          ],
          "mesh3d": [
           {
            "colorbar": {
             "outlinewidth": 0,
             "ticks": ""
            },
            "type": "mesh3d"
           }
          ],
          "parcoords": [
           {
            "line": {
             "colorbar": {
              "outlinewidth": 0,
              "ticks": ""
             }
            },
            "type": "parcoords"
           }
          ],
          "pie": [
           {
            "automargin": true,
            "type": "pie"
           }
          ],
          "scatter": [
           {
            "fillpattern": {
             "fillmode": "overlay",
             "size": 10,
             "solidity": 0.2
            },
            "type": "scatter"
           }
          ],
          "scatter3d": [
           {
            "line": {
             "colorbar": {
              "outlinewidth": 0,
              "ticks": ""
             }
            },
            "marker": {
             "colorbar": {
              "outlinewidth": 0,
              "ticks": ""
             }
            },
            "type": "scatter3d"
           }
          ],
          "scattercarpet": [
           {
            "marker": {
             "colorbar": {
              "outlinewidth": 0,
              "ticks": ""
             }
            },
            "type": "scattercarpet"
           }
          ],
          "scattergeo": [
           {
            "marker": {
             "colorbar": {
              "outlinewidth": 0,
              "ticks": ""
             }
            },
            "type": "scattergeo"
           }
          ],
          "scattergl": [
           {
            "marker": {
             "colorbar": {
              "outlinewidth": 0,
              "ticks": ""
             }
            },
            "type": "scattergl"
           }
          ],
          "scattermapbox": [
           {
            "marker": {
             "colorbar": {
              "outlinewidth": 0,
              "ticks": ""
             }
            },
            "type": "scattermapbox"
           }
          ],
          "scatterpolar": [
           {
            "marker": {
             "colorbar": {
              "outlinewidth": 0,
              "ticks": ""
             }
            },
            "type": "scatterpolar"
           }
          ],
          "scatterpolargl": [
           {
            "marker": {
             "colorbar": {
              "outlinewidth": 0,
              "ticks": ""
             }
            },
            "type": "scatterpolargl"
           }
          ],
          "scatterternary": [
           {
            "marker": {
             "colorbar": {
              "outlinewidth": 0,
              "ticks": ""
             }
            },
            "type": "scatterternary"
           }
          ],
          "surface": [
           {
            "colorbar": {
             "outlinewidth": 0,
             "ticks": ""
            },
            "colorscale": [
             [
              0,
              "#0d0887"
             ],
             [
              0.1111111111111111,
              "#46039f"
             ],
             [
              0.2222222222222222,
              "#7201a8"
             ],
             [
              0.3333333333333333,
              "#9c179e"
             ],
             [
              0.4444444444444444,
              "#bd3786"
             ],
             [
              0.5555555555555556,
              "#d8576b"
             ],
             [
              0.6666666666666666,
              "#ed7953"
             ],
             [
              0.7777777777777778,
              "#fb9f3a"
             ],
             [
              0.8888888888888888,
              "#fdca26"
             ],
             [
              1,
              "#f0f921"
             ]
            ],
            "type": "surface"
           }
          ],
          "table": [
           {
            "cells": {
             "fill": {
              "color": "#EBF0F8"
             },
             "line": {
              "color": "white"
             }
            },
            "header": {
             "fill": {
              "color": "#C8D4E3"
             },
             "line": {
              "color": "white"
             }
            },
            "type": "table"
           }
          ]
         },
         "layout": {
          "annotationdefaults": {
           "arrowcolor": "#2a3f5f",
           "arrowhead": 0,
           "arrowwidth": 1
          },
          "autotypenumbers": "strict",
          "coloraxis": {
           "colorbar": {
            "outlinewidth": 0,
            "ticks": ""
           }
          },
          "colorscale": {
           "diverging": [
            [
             0,
             "#8e0152"
            ],
            [
             0.1,
             "#c51b7d"
            ],
            [
             0.2,
             "#de77ae"
            ],
            [
             0.3,
             "#f1b6da"
            ],
            [
             0.4,
             "#fde0ef"
            ],
            [
             0.5,
             "#f7f7f7"
            ],
            [
             0.6,
             "#e6f5d0"
            ],
            [
             0.7,
             "#b8e186"
            ],
            [
             0.8,
             "#7fbc41"
            ],
            [
             0.9,
             "#4d9221"
            ],
            [
             1,
             "#276419"
            ]
           ],
           "sequential": [
            [
             0,
             "#0d0887"
            ],
            [
             0.1111111111111111,
             "#46039f"
            ],
            [
             0.2222222222222222,
             "#7201a8"
            ],
            [
             0.3333333333333333,
             "#9c179e"
            ],
            [
             0.4444444444444444,
             "#bd3786"
            ],
            [
             0.5555555555555556,
             "#d8576b"
            ],
            [
             0.6666666666666666,
             "#ed7953"
            ],
            [
             0.7777777777777778,
             "#fb9f3a"
            ],
            [
             0.8888888888888888,
             "#fdca26"
            ],
            [
             1,
             "#f0f921"
            ]
           ],
           "sequentialminus": [
            [
             0,
             "#0d0887"
            ],
            [
             0.1111111111111111,
             "#46039f"
            ],
            [
             0.2222222222222222,
             "#7201a8"
            ],
            [
             0.3333333333333333,
             "#9c179e"
            ],
            [
             0.4444444444444444,
             "#bd3786"
            ],
            [
             0.5555555555555556,
             "#d8576b"
            ],
            [
             0.6666666666666666,
             "#ed7953"
            ],
            [
             0.7777777777777778,
             "#fb9f3a"
            ],
            [
             0.8888888888888888,
             "#fdca26"
            ],
            [
             1,
             "#f0f921"
            ]
           ]
          },
          "colorway": [
           "#636efa",
           "#EF553B",
           "#00cc96",
           "#ab63fa",
           "#FFA15A",
           "#19d3f3",
           "#FF6692",
           "#B6E880",
           "#FF97FF",
           "#FECB52"
          ],
          "font": {
           "color": "#2a3f5f"
          },
          "geo": {
           "bgcolor": "white",
           "lakecolor": "white",
           "landcolor": "#E5ECF6",
           "showlakes": true,
           "showland": true,
           "subunitcolor": "white"
          },
          "hoverlabel": {
           "align": "left"
          },
          "hovermode": "closest",
          "mapbox": {
           "style": "light"
          },
          "paper_bgcolor": "white",
          "plot_bgcolor": "#E5ECF6",
          "polar": {
           "angularaxis": {
            "gridcolor": "white",
            "linecolor": "white",
            "ticks": ""
           },
           "bgcolor": "#E5ECF6",
           "radialaxis": {
            "gridcolor": "white",
            "linecolor": "white",
            "ticks": ""
           }
          },
          "scene": {
           "xaxis": {
            "backgroundcolor": "#E5ECF6",
            "gridcolor": "white",
            "gridwidth": 2,
            "linecolor": "white",
            "showbackground": true,
            "ticks": "",
            "zerolinecolor": "white"
           },
           "yaxis": {
            "backgroundcolor": "#E5ECF6",
            "gridcolor": "white",
            "gridwidth": 2,
            "linecolor": "white",
            "showbackground": true,
            "ticks": "",
            "zerolinecolor": "white"
           },
           "zaxis": {
            "backgroundcolor": "#E5ECF6",
            "gridcolor": "white",
            "gridwidth": 2,
            "linecolor": "white",
            "showbackground": true,
            "ticks": "",
            "zerolinecolor": "white"
           }
          },
          "shapedefaults": {
           "line": {
            "color": "#2a3f5f"
           }
          },
          "ternary": {
           "aaxis": {
            "gridcolor": "white",
            "linecolor": "white",
            "ticks": ""
           },
           "baxis": {
            "gridcolor": "white",
            "linecolor": "white",
            "ticks": ""
           },
           "bgcolor": "#E5ECF6",
           "caxis": {
            "gridcolor": "white",
            "linecolor": "white",
            "ticks": ""
           }
          },
          "title": {
           "x": 0.05
          },
          "xaxis": {
           "automargin": true,
           "gridcolor": "white",
           "linecolor": "white",
           "ticks": "",
           "title": {
            "standoff": 15
           },
           "zerolinecolor": "white",
           "zerolinewidth": 2
          },
          "yaxis": {
           "automargin": true,
           "gridcolor": "white",
           "linecolor": "white",
           "ticks": "",
           "title": {
            "standoff": 15
           },
           "zerolinecolor": "white",
           "zerolinewidth": 2
          }
         }
        },
        "title": {
         "text": "11-OCT-2021 TO 17-OCT-2021 Major Crime Indicators"
        }
       }
      },
      "text/html": [
       "<div>                            <div id=\"c219e4fa-0bec-46c7-8914-93cb6335a1e8\" class=\"plotly-graph-div\" style=\"height:525px; width:100%;\"></div>            <script type=\"text/javascript\">                require([\"plotly\"], function(Plotly) {                    window.PLOTLYENV=window.PLOTLYENV || {};                                    if (document.getElementById(\"c219e4fa-0bec-46c7-8914-93cb6335a1e8\")) {                    Plotly.newPlot(                        \"c219e4fa-0bec-46c7-8914-93cb6335a1e8\",                        [{\"domain\":{\"x\":[0.0,1.0],\"y\":[0.0,1.0]},\"hovertemplate\":\"MCI=%{label}<br>MCI Count=%{value}<extra></extra>\",\"labels\":[\"Assault\",\"Auto Theft\",\"Break and Enter\",\"Robbery\",\"Theft Over\"],\"legendgroup\":\"\",\"name\":\"\",\"showlegend\":true,\"values\":[15,15,4,4,0],\"type\":\"pie\"}],                        {\"template\":{\"data\":{\"histogram2dcontour\":[{\"type\":\"histogram2dcontour\",\"colorbar\":{\"outlinewidth\":0,\"ticks\":\"\"},\"colorscale\":[[0.0,\"#0d0887\"],[0.1111111111111111,\"#46039f\"],[0.2222222222222222,\"#7201a8\"],[0.3333333333333333,\"#9c179e\"],[0.4444444444444444,\"#bd3786\"],[0.5555555555555556,\"#d8576b\"],[0.6666666666666666,\"#ed7953\"],[0.7777777777777778,\"#fb9f3a\"],[0.8888888888888888,\"#fdca26\"],[1.0,\"#f0f921\"]]}],\"choropleth\":[{\"type\":\"choropleth\",\"colorbar\":{\"outlinewidth\":0,\"ticks\":\"\"}}],\"histogram2d\":[{\"type\":\"histogram2d\",\"colorbar\":{\"outlinewidth\":0,\"ticks\":\"\"},\"colorscale\":[[0.0,\"#0d0887\"],[0.1111111111111111,\"#46039f\"],[0.2222222222222222,\"#7201a8\"],[0.3333333333333333,\"#9c179e\"],[0.4444444444444444,\"#bd3786\"],[0.5555555555555556,\"#d8576b\"],[0.6666666666666666,\"#ed7953\"],[0.7777777777777778,\"#fb9f3a\"],[0.8888888888888888,\"#fdca26\"],[1.0,\"#f0f921\"]]}],\"heatmap\":[{\"type\":\"heatmap\",\"colorbar\":{\"outlinewidth\":0,\"ticks\":\"\"},\"colorscale\":[[0.0,\"#0d0887\"],[0.1111111111111111,\"#46039f\"],[0.2222222222222222,\"#7201a8\"],[0.3333333333333333,\"#9c179e\"],[0.4444444444444444,\"#bd3786\"],[0.5555555555555556,\"#d8576b\"],[0.6666666666666666,\"#ed7953\"],[0.7777777777777778,\"#fb9f3a\"],[0.8888888888888888,\"#fdca26\"],[1.0,\"#f0f921\"]]}],\"heatmapgl\":[{\"type\":\"heatmapgl\",\"colorbar\":{\"outlinewidth\":0,\"ticks\":\"\"},\"colorscale\":[[0.0,\"#0d0887\"],[0.1111111111111111,\"#46039f\"],[0.2222222222222222,\"#7201a8\"],[0.3333333333333333,\"#9c179e\"],[0.4444444444444444,\"#bd3786\"],[0.5555555555555556,\"#d8576b\"],[0.6666666666666666,\"#ed7953\"],[0.7777777777777778,\"#fb9f3a\"],[0.8888888888888888,\"#fdca26\"],[1.0,\"#f0f921\"]]}],\"contourcarpet\":[{\"type\":\"contourcarpet\",\"colorbar\":{\"outlinewidth\":0,\"ticks\":\"\"}}],\"contour\":[{\"type\":\"contour\",\"colorbar\":{\"outlinewidth\":0,\"ticks\":\"\"},\"colorscale\":[[0.0,\"#0d0887\"],[0.1111111111111111,\"#46039f\"],[0.2222222222222222,\"#7201a8\"],[0.3333333333333333,\"#9c179e\"],[0.4444444444444444,\"#bd3786\"],[0.5555555555555556,\"#d8576b\"],[0.6666666666666666,\"#ed7953\"],[0.7777777777777778,\"#fb9f3a\"],[0.8888888888888888,\"#fdca26\"],[1.0,\"#f0f921\"]]}],\"surface\":[{\"type\":\"surface\",\"colorbar\":{\"outlinewidth\":0,\"ticks\":\"\"},\"colorscale\":[[0.0,\"#0d0887\"],[0.1111111111111111,\"#46039f\"],[0.2222222222222222,\"#7201a8\"],[0.3333333333333333,\"#9c179e\"],[0.4444444444444444,\"#bd3786\"],[0.5555555555555556,\"#d8576b\"],[0.6666666666666666,\"#ed7953\"],[0.7777777777777778,\"#fb9f3a\"],[0.8888888888888888,\"#fdca26\"],[1.0,\"#f0f921\"]]}],\"mesh3d\":[{\"type\":\"mesh3d\",\"colorbar\":{\"outlinewidth\":0,\"ticks\":\"\"}}],\"scatter\":[{\"fillpattern\":{\"fillmode\":\"overlay\",\"size\":10,\"solidity\":0.2},\"type\":\"scatter\"}],\"parcoords\":[{\"type\":\"parcoords\",\"line\":{\"colorbar\":{\"outlinewidth\":0,\"ticks\":\"\"}}}],\"scatterpolargl\":[{\"type\":\"scatterpolargl\",\"marker\":{\"colorbar\":{\"outlinewidth\":0,\"ticks\":\"\"}}}],\"bar\":[{\"error_x\":{\"color\":\"#2a3f5f\"},\"error_y\":{\"color\":\"#2a3f5f\"},\"marker\":{\"line\":{\"color\":\"#E5ECF6\",\"width\":0.5},\"pattern\":{\"fillmode\":\"overlay\",\"size\":10,\"solidity\":0.2}},\"type\":\"bar\"}],\"scattergeo\":[{\"type\":\"scattergeo\",\"marker\":{\"colorbar\":{\"outlinewidth\":0,\"ticks\":\"\"}}}],\"scatterpolar\":[{\"type\":\"scatterpolar\",\"marker\":{\"colorbar\":{\"outlinewidth\":0,\"ticks\":\"\"}}}],\"histogram\":[{\"marker\":{\"pattern\":{\"fillmode\":\"overlay\",\"size\":10,\"solidity\":0.2}},\"type\":\"histogram\"}],\"scattergl\":[{\"type\":\"scattergl\",\"marker\":{\"colorbar\":{\"outlinewidth\":0,\"ticks\":\"\"}}}],\"scatter3d\":[{\"type\":\"scatter3d\",\"line\":{\"colorbar\":{\"outlinewidth\":0,\"ticks\":\"\"}},\"marker\":{\"colorbar\":{\"outlinewidth\":0,\"ticks\":\"\"}}}],\"scattermapbox\":[{\"type\":\"scattermapbox\",\"marker\":{\"colorbar\":{\"outlinewidth\":0,\"ticks\":\"\"}}}],\"scatterternary\":[{\"type\":\"scatterternary\",\"marker\":{\"colorbar\":{\"outlinewidth\":0,\"ticks\":\"\"}}}],\"scattercarpet\":[{\"type\":\"scattercarpet\",\"marker\":{\"colorbar\":{\"outlinewidth\":0,\"ticks\":\"\"}}}],\"carpet\":[{\"aaxis\":{\"endlinecolor\":\"#2a3f5f\",\"gridcolor\":\"white\",\"linecolor\":\"white\",\"minorgridcolor\":\"white\",\"startlinecolor\":\"#2a3f5f\"},\"baxis\":{\"endlinecolor\":\"#2a3f5f\",\"gridcolor\":\"white\",\"linecolor\":\"white\",\"minorgridcolor\":\"white\",\"startlinecolor\":\"#2a3f5f\"},\"type\":\"carpet\"}],\"table\":[{\"cells\":{\"fill\":{\"color\":\"#EBF0F8\"},\"line\":{\"color\":\"white\"}},\"header\":{\"fill\":{\"color\":\"#C8D4E3\"},\"line\":{\"color\":\"white\"}},\"type\":\"table\"}],\"barpolar\":[{\"marker\":{\"line\":{\"color\":\"#E5ECF6\",\"width\":0.5},\"pattern\":{\"fillmode\":\"overlay\",\"size\":10,\"solidity\":0.2}},\"type\":\"barpolar\"}],\"pie\":[{\"automargin\":true,\"type\":\"pie\"}]},\"layout\":{\"autotypenumbers\":\"strict\",\"colorway\":[\"#636efa\",\"#EF553B\",\"#00cc96\",\"#ab63fa\",\"#FFA15A\",\"#19d3f3\",\"#FF6692\",\"#B6E880\",\"#FF97FF\",\"#FECB52\"],\"font\":{\"color\":\"#2a3f5f\"},\"hovermode\":\"closest\",\"hoverlabel\":{\"align\":\"left\"},\"paper_bgcolor\":\"white\",\"plot_bgcolor\":\"#E5ECF6\",\"polar\":{\"bgcolor\":\"#E5ECF6\",\"angularaxis\":{\"gridcolor\":\"white\",\"linecolor\":\"white\",\"ticks\":\"\"},\"radialaxis\":{\"gridcolor\":\"white\",\"linecolor\":\"white\",\"ticks\":\"\"}},\"ternary\":{\"bgcolor\":\"#E5ECF6\",\"aaxis\":{\"gridcolor\":\"white\",\"linecolor\":\"white\",\"ticks\":\"\"},\"baxis\":{\"gridcolor\":\"white\",\"linecolor\":\"white\",\"ticks\":\"\"},\"caxis\":{\"gridcolor\":\"white\",\"linecolor\":\"white\",\"ticks\":\"\"}},\"coloraxis\":{\"colorbar\":{\"outlinewidth\":0,\"ticks\":\"\"}},\"colorscale\":{\"sequential\":[[0.0,\"#0d0887\"],[0.1111111111111111,\"#46039f\"],[0.2222222222222222,\"#7201a8\"],[0.3333333333333333,\"#9c179e\"],[0.4444444444444444,\"#bd3786\"],[0.5555555555555556,\"#d8576b\"],[0.6666666666666666,\"#ed7953\"],[0.7777777777777778,\"#fb9f3a\"],[0.8888888888888888,\"#fdca26\"],[1.0,\"#f0f921\"]],\"sequentialminus\":[[0.0,\"#0d0887\"],[0.1111111111111111,\"#46039f\"],[0.2222222222222222,\"#7201a8\"],[0.3333333333333333,\"#9c179e\"],[0.4444444444444444,\"#bd3786\"],[0.5555555555555556,\"#d8576b\"],[0.6666666666666666,\"#ed7953\"],[0.7777777777777778,\"#fb9f3a\"],[0.8888888888888888,\"#fdca26\"],[1.0,\"#f0f921\"]],\"diverging\":[[0,\"#8e0152\"],[0.1,\"#c51b7d\"],[0.2,\"#de77ae\"],[0.3,\"#f1b6da\"],[0.4,\"#fde0ef\"],[0.5,\"#f7f7f7\"],[0.6,\"#e6f5d0\"],[0.7,\"#b8e186\"],[0.8,\"#7fbc41\"],[0.9,\"#4d9221\"],[1,\"#276419\"]]},\"xaxis\":{\"gridcolor\":\"white\",\"linecolor\":\"white\",\"ticks\":\"\",\"title\":{\"standoff\":15},\"zerolinecolor\":\"white\",\"automargin\":true,\"zerolinewidth\":2},\"yaxis\":{\"gridcolor\":\"white\",\"linecolor\":\"white\",\"ticks\":\"\",\"title\":{\"standoff\":15},\"zerolinecolor\":\"white\",\"automargin\":true,\"zerolinewidth\":2},\"scene\":{\"xaxis\":{\"backgroundcolor\":\"#E5ECF6\",\"gridcolor\":\"white\",\"linecolor\":\"white\",\"showbackground\":true,\"ticks\":\"\",\"zerolinecolor\":\"white\",\"gridwidth\":2},\"yaxis\":{\"backgroundcolor\":\"#E5ECF6\",\"gridcolor\":\"white\",\"linecolor\":\"white\",\"showbackground\":true,\"ticks\":\"\",\"zerolinecolor\":\"white\",\"gridwidth\":2},\"zaxis\":{\"backgroundcolor\":\"#E5ECF6\",\"gridcolor\":\"white\",\"linecolor\":\"white\",\"showbackground\":true,\"ticks\":\"\",\"zerolinecolor\":\"white\",\"gridwidth\":2}},\"shapedefaults\":{\"line\":{\"color\":\"#2a3f5f\"}},\"annotationdefaults\":{\"arrowcolor\":\"#2a3f5f\",\"arrowhead\":0,\"arrowwidth\":1},\"geo\":{\"bgcolor\":\"white\",\"landcolor\":\"#E5ECF6\",\"subunitcolor\":\"white\",\"showland\":true,\"showlakes\":true,\"lakecolor\":\"white\"},\"title\":{\"x\":0.05},\"mapbox\":{\"style\":\"light\"}}},\"legend\":{\"tracegroupgap\":0},\"title\":{\"text\":\"11-OCT-2021 TO 17-OCT-2021 Major Crime Indicators\"}},                        {\"responsive\": true}                    ).then(function(){\n",
       "                            \n",
       "var gd = document.getElementById('c219e4fa-0bec-46c7-8914-93cb6335a1e8');\n",
       "var x = new MutationObserver(function (mutations, observer) {{\n",
       "        var display = window.getComputedStyle(gd).display;\n",
       "        if (!display || display === 'none') {{\n",
       "            console.log([gd, 'removed!']);\n",
       "            Plotly.purge(gd);\n",
       "            observer.disconnect();\n",
       "        }}\n",
       "}});\n",
       "\n",
       "// Listen for the removal of the full notebook cells\n",
       "var notebookContainer = gd.closest('#notebook-container');\n",
       "if (notebookContainer) {{\n",
       "    x.observe(notebookContainer, {childList: true});\n",
       "}}\n",
       "\n",
       "// Listen for the clearing of the current output cell\n",
       "var outputEl = gd.closest('.output');\n",
       "if (outputEl) {{\n",
       "    x.observe(outputEl, {childList: true});\n",
       "}}\n",
       "\n",
       "                        })                };                });            </script>        </div>"
      ]
     },
     "metadata": {},
     "output_type": "display_data"
    }
   ],
   "source": [
    "piechart1 = px.pie(\n",
    "    df13, values = 'MCI Count',\n",
    "    names = 'MCI',\n",
    "    title = '11-OCT-2021 TO 17-OCT-2021 Major Crime Indicators'\n",
    ")\n",
    "\n",
    "piechart1.show()"
   ]
  },
  {
   "cell_type": "code",
   "execution_count": 71,
   "id": "8cd63efc",
   "metadata": {
    "scrolled": true
   },
   "outputs": [
    {
     "data": {
      "application/vnd.plotly.v1+json": {
       "config": {
        "plotlyServerURL": "https://plot.ly"
       },
       "data": [
        {
         "domain": {
          "x": [
           0,
           1
          ],
          "y": [
           0,
           1
          ]
         },
         "hovertemplate": "MCI=%{label}<br>MCI Count=%{value}<extra></extra>",
         "labels": [
          "Assault",
          "Auto Theft",
          "Break and Enter",
          "Robbery",
          "Theft Over"
         ],
         "legendgroup": "",
         "name": "",
         "showlegend": true,
         "type": "pie",
         "values": [
          18,
          11,
          2,
          2,
          0
         ]
        }
       ],
       "layout": {
        "legend": {
         "tracegroupgap": 0
        },
        "template": {
         "data": {
          "bar": [
           {
            "error_x": {
             "color": "#2a3f5f"
            },
            "error_y": {
             "color": "#2a3f5f"
            },
            "marker": {
             "line": {
              "color": "#E5ECF6",
              "width": 0.5
             },
             "pattern": {
              "fillmode": "overlay",
              "size": 10,
              "solidity": 0.2
             }
            },
            "type": "bar"
           }
          ],
          "barpolar": [
           {
            "marker": {
             "line": {
              "color": "#E5ECF6",
              "width": 0.5
             },
             "pattern": {
              "fillmode": "overlay",
              "size": 10,
              "solidity": 0.2
             }
            },
            "type": "barpolar"
           }
          ],
          "carpet": [
           {
            "aaxis": {
             "endlinecolor": "#2a3f5f",
             "gridcolor": "white",
             "linecolor": "white",
             "minorgridcolor": "white",
             "startlinecolor": "#2a3f5f"
            },
            "baxis": {
             "endlinecolor": "#2a3f5f",
             "gridcolor": "white",
             "linecolor": "white",
             "minorgridcolor": "white",
             "startlinecolor": "#2a3f5f"
            },
            "type": "carpet"
           }
          ],
          "choropleth": [
           {
            "colorbar": {
             "outlinewidth": 0,
             "ticks": ""
            },
            "type": "choropleth"
           }
          ],
          "contour": [
           {
            "colorbar": {
             "outlinewidth": 0,
             "ticks": ""
            },
            "colorscale": [
             [
              0,
              "#0d0887"
             ],
             [
              0.1111111111111111,
              "#46039f"
             ],
             [
              0.2222222222222222,
              "#7201a8"
             ],
             [
              0.3333333333333333,
              "#9c179e"
             ],
             [
              0.4444444444444444,
              "#bd3786"
             ],
             [
              0.5555555555555556,
              "#d8576b"
             ],
             [
              0.6666666666666666,
              "#ed7953"
             ],
             [
              0.7777777777777778,
              "#fb9f3a"
             ],
             [
              0.8888888888888888,
              "#fdca26"
             ],
             [
              1,
              "#f0f921"
             ]
            ],
            "type": "contour"
           }
          ],
          "contourcarpet": [
           {
            "colorbar": {
             "outlinewidth": 0,
             "ticks": ""
            },
            "type": "contourcarpet"
           }
          ],
          "heatmap": [
           {
            "colorbar": {
             "outlinewidth": 0,
             "ticks": ""
            },
            "colorscale": [
             [
              0,
              "#0d0887"
             ],
             [
              0.1111111111111111,
              "#46039f"
             ],
             [
              0.2222222222222222,
              "#7201a8"
             ],
             [
              0.3333333333333333,
              "#9c179e"
             ],
             [
              0.4444444444444444,
              "#bd3786"
             ],
             [
              0.5555555555555556,
              "#d8576b"
             ],
             [
              0.6666666666666666,
              "#ed7953"
             ],
             [
              0.7777777777777778,
              "#fb9f3a"
             ],
             [
              0.8888888888888888,
              "#fdca26"
             ],
             [
              1,
              "#f0f921"
             ]
            ],
            "type": "heatmap"
           }
          ],
          "heatmapgl": [
           {
            "colorbar": {
             "outlinewidth": 0,
             "ticks": ""
            },
            "colorscale": [
             [
              0,
              "#0d0887"
             ],
             [
              0.1111111111111111,
              "#46039f"
             ],
             [
              0.2222222222222222,
              "#7201a8"
             ],
             [
              0.3333333333333333,
              "#9c179e"
             ],
             [
              0.4444444444444444,
              "#bd3786"
             ],
             [
              0.5555555555555556,
              "#d8576b"
             ],
             [
              0.6666666666666666,
              "#ed7953"
             ],
             [
              0.7777777777777778,
              "#fb9f3a"
             ],
             [
              0.8888888888888888,
              "#fdca26"
             ],
             [
              1,
              "#f0f921"
             ]
            ],
            "type": "heatmapgl"
           }
          ],
          "histogram": [
           {
            "marker": {
             "pattern": {
              "fillmode": "overlay",
              "size": 10,
              "solidity": 0.2
             }
            },
            "type": "histogram"
           }
          ],
          "histogram2d": [
           {
            "colorbar": {
             "outlinewidth": 0,
             "ticks": ""
            },
            "colorscale": [
             [
              0,
              "#0d0887"
             ],
             [
              0.1111111111111111,
              "#46039f"
             ],
             [
              0.2222222222222222,
              "#7201a8"
             ],
             [
              0.3333333333333333,
              "#9c179e"
             ],
             [
              0.4444444444444444,
              "#bd3786"
             ],
             [
              0.5555555555555556,
              "#d8576b"
             ],
             [
              0.6666666666666666,
              "#ed7953"
             ],
             [
              0.7777777777777778,
              "#fb9f3a"
             ],
             [
              0.8888888888888888,
              "#fdca26"
             ],
             [
              1,
              "#f0f921"
             ]
            ],
            "type": "histogram2d"
           }
          ],
          "histogram2dcontour": [
           {
            "colorbar": {
             "outlinewidth": 0,
             "ticks": ""
            },
            "colorscale": [
             [
              0,
              "#0d0887"
             ],
             [
              0.1111111111111111,
              "#46039f"
             ],
             [
              0.2222222222222222,
              "#7201a8"
             ],
             [
              0.3333333333333333,
              "#9c179e"
             ],
             [
              0.4444444444444444,
              "#bd3786"
             ],
             [
              0.5555555555555556,
              "#d8576b"
             ],
             [
              0.6666666666666666,
              "#ed7953"
             ],
             [
              0.7777777777777778,
              "#fb9f3a"
             ],
             [
              0.8888888888888888,
              "#fdca26"
             ],
             [
              1,
              "#f0f921"
             ]
            ],
            "type": "histogram2dcontour"
           }
          ],
          "mesh3d": [
           {
            "colorbar": {
             "outlinewidth": 0,
             "ticks": ""
            },
            "type": "mesh3d"
           }
          ],
          "parcoords": [
           {
            "line": {
             "colorbar": {
              "outlinewidth": 0,
              "ticks": ""
             }
            },
            "type": "parcoords"
           }
          ],
          "pie": [
           {
            "automargin": true,
            "type": "pie"
           }
          ],
          "scatter": [
           {
            "fillpattern": {
             "fillmode": "overlay",
             "size": 10,
             "solidity": 0.2
            },
            "type": "scatter"
           }
          ],
          "scatter3d": [
           {
            "line": {
             "colorbar": {
              "outlinewidth": 0,
              "ticks": ""
             }
            },
            "marker": {
             "colorbar": {
              "outlinewidth": 0,
              "ticks": ""
             }
            },
            "type": "scatter3d"
           }
          ],
          "scattercarpet": [
           {
            "marker": {
             "colorbar": {
              "outlinewidth": 0,
              "ticks": ""
             }
            },
            "type": "scattercarpet"
           }
          ],
          "scattergeo": [
           {
            "marker": {
             "colorbar": {
              "outlinewidth": 0,
              "ticks": ""
             }
            },
            "type": "scattergeo"
           }
          ],
          "scattergl": [
           {
            "marker": {
             "colorbar": {
              "outlinewidth": 0,
              "ticks": ""
             }
            },
            "type": "scattergl"
           }
          ],
          "scattermapbox": [
           {
            "marker": {
             "colorbar": {
              "outlinewidth": 0,
              "ticks": ""
             }
            },
            "type": "scattermapbox"
           }
          ],
          "scatterpolar": [
           {
            "marker": {
             "colorbar": {
              "outlinewidth": 0,
              "ticks": ""
             }
            },
            "type": "scatterpolar"
           }
          ],
          "scatterpolargl": [
           {
            "marker": {
             "colorbar": {
              "outlinewidth": 0,
              "ticks": ""
             }
            },
            "type": "scatterpolargl"
           }
          ],
          "scatterternary": [
           {
            "marker": {
             "colorbar": {
              "outlinewidth": 0,
              "ticks": ""
             }
            },
            "type": "scatterternary"
           }
          ],
          "surface": [
           {
            "colorbar": {
             "outlinewidth": 0,
             "ticks": ""
            },
            "colorscale": [
             [
              0,
              "#0d0887"
             ],
             [
              0.1111111111111111,
              "#46039f"
             ],
             [
              0.2222222222222222,
              "#7201a8"
             ],
             [
              0.3333333333333333,
              "#9c179e"
             ],
             [
              0.4444444444444444,
              "#bd3786"
             ],
             [
              0.5555555555555556,
              "#d8576b"
             ],
             [
              0.6666666666666666,
              "#ed7953"
             ],
             [
              0.7777777777777778,
              "#fb9f3a"
             ],
             [
              0.8888888888888888,
              "#fdca26"
             ],
             [
              1,
              "#f0f921"
             ]
            ],
            "type": "surface"
           }
          ],
          "table": [
           {
            "cells": {
             "fill": {
              "color": "#EBF0F8"
             },
             "line": {
              "color": "white"
             }
            },
            "header": {
             "fill": {
              "color": "#C8D4E3"
             },
             "line": {
              "color": "white"
             }
            },
            "type": "table"
           }
          ]
         },
         "layout": {
          "annotationdefaults": {
           "arrowcolor": "#2a3f5f",
           "arrowhead": 0,
           "arrowwidth": 1
          },
          "autotypenumbers": "strict",
          "coloraxis": {
           "colorbar": {
            "outlinewidth": 0,
            "ticks": ""
           }
          },
          "colorscale": {
           "diverging": [
            [
             0,
             "#8e0152"
            ],
            [
             0.1,
             "#c51b7d"
            ],
            [
             0.2,
             "#de77ae"
            ],
            [
             0.3,
             "#f1b6da"
            ],
            [
             0.4,
             "#fde0ef"
            ],
            [
             0.5,
             "#f7f7f7"
            ],
            [
             0.6,
             "#e6f5d0"
            ],
            [
             0.7,
             "#b8e186"
            ],
            [
             0.8,
             "#7fbc41"
            ],
            [
             0.9,
             "#4d9221"
            ],
            [
             1,
             "#276419"
            ]
           ],
           "sequential": [
            [
             0,
             "#0d0887"
            ],
            [
             0.1111111111111111,
             "#46039f"
            ],
            [
             0.2222222222222222,
             "#7201a8"
            ],
            [
             0.3333333333333333,
             "#9c179e"
            ],
            [
             0.4444444444444444,
             "#bd3786"
            ],
            [
             0.5555555555555556,
             "#d8576b"
            ],
            [
             0.6666666666666666,
             "#ed7953"
            ],
            [
             0.7777777777777778,
             "#fb9f3a"
            ],
            [
             0.8888888888888888,
             "#fdca26"
            ],
            [
             1,
             "#f0f921"
            ]
           ],
           "sequentialminus": [
            [
             0,
             "#0d0887"
            ],
            [
             0.1111111111111111,
             "#46039f"
            ],
            [
             0.2222222222222222,
             "#7201a8"
            ],
            [
             0.3333333333333333,
             "#9c179e"
            ],
            [
             0.4444444444444444,
             "#bd3786"
            ],
            [
             0.5555555555555556,
             "#d8576b"
            ],
            [
             0.6666666666666666,
             "#ed7953"
            ],
            [
             0.7777777777777778,
             "#fb9f3a"
            ],
            [
             0.8888888888888888,
             "#fdca26"
            ],
            [
             1,
             "#f0f921"
            ]
           ]
          },
          "colorway": [
           "#636efa",
           "#EF553B",
           "#00cc96",
           "#ab63fa",
           "#FFA15A",
           "#19d3f3",
           "#FF6692",
           "#B6E880",
           "#FF97FF",
           "#FECB52"
          ],
          "font": {
           "color": "#2a3f5f"
          },
          "geo": {
           "bgcolor": "white",
           "lakecolor": "white",
           "landcolor": "#E5ECF6",
           "showlakes": true,
           "showland": true,
           "subunitcolor": "white"
          },
          "hoverlabel": {
           "align": "left"
          },
          "hovermode": "closest",
          "mapbox": {
           "style": "light"
          },
          "paper_bgcolor": "white",
          "plot_bgcolor": "#E5ECF6",
          "polar": {
           "angularaxis": {
            "gridcolor": "white",
            "linecolor": "white",
            "ticks": ""
           },
           "bgcolor": "#E5ECF6",
           "radialaxis": {
            "gridcolor": "white",
            "linecolor": "white",
            "ticks": ""
           }
          },
          "scene": {
           "xaxis": {
            "backgroundcolor": "#E5ECF6",
            "gridcolor": "white",
            "gridwidth": 2,
            "linecolor": "white",
            "showbackground": true,
            "ticks": "",
            "zerolinecolor": "white"
           },
           "yaxis": {
            "backgroundcolor": "#E5ECF6",
            "gridcolor": "white",
            "gridwidth": 2,
            "linecolor": "white",
            "showbackground": true,
            "ticks": "",
            "zerolinecolor": "white"
           },
           "zaxis": {
            "backgroundcolor": "#E5ECF6",
            "gridcolor": "white",
            "gridwidth": 2,
            "linecolor": "white",
            "showbackground": true,
            "ticks": "",
            "zerolinecolor": "white"
           }
          },
          "shapedefaults": {
           "line": {
            "color": "#2a3f5f"
           }
          },
          "ternary": {
           "aaxis": {
            "gridcolor": "white",
            "linecolor": "white",
            "ticks": ""
           },
           "baxis": {
            "gridcolor": "white",
            "linecolor": "white",
            "ticks": ""
           },
           "bgcolor": "#E5ECF6",
           "caxis": {
            "gridcolor": "white",
            "linecolor": "white",
            "ticks": ""
           }
          },
          "title": {
           "x": 0.05
          },
          "xaxis": {
           "automargin": true,
           "gridcolor": "white",
           "linecolor": "white",
           "ticks": "",
           "title": {
            "standoff": 15
           },
           "zerolinecolor": "white",
           "zerolinewidth": 2
          },
          "yaxis": {
           "automargin": true,
           "gridcolor": "white",
           "linecolor": "white",
           "ticks": "",
           "title": {
            "standoff": 15
           },
           "zerolinecolor": "white",
           "zerolinewidth": 2
          }
         }
        },
        "title": {
         "text": "18-OCT-2021 TO 24-OCT-2021 Major Crime Indicators"
        }
       }
      },
      "text/html": [
       "<div>                            <div id=\"d66db3c7-f6c5-4931-ab98-19a3f2efb606\" class=\"plotly-graph-div\" style=\"height:525px; width:100%;\"></div>            <script type=\"text/javascript\">                require([\"plotly\"], function(Plotly) {                    window.PLOTLYENV=window.PLOTLYENV || {};                                    if (document.getElementById(\"d66db3c7-f6c5-4931-ab98-19a3f2efb606\")) {                    Plotly.newPlot(                        \"d66db3c7-f6c5-4931-ab98-19a3f2efb606\",                        [{\"domain\":{\"x\":[0.0,1.0],\"y\":[0.0,1.0]},\"hovertemplate\":\"MCI=%{label}<br>MCI Count=%{value}<extra></extra>\",\"labels\":[\"Assault\",\"Auto Theft\",\"Break and Enter\",\"Robbery\",\"Theft Over\"],\"legendgroup\":\"\",\"name\":\"\",\"showlegend\":true,\"values\":[18,11,2,2,0],\"type\":\"pie\"}],                        {\"template\":{\"data\":{\"histogram2dcontour\":[{\"type\":\"histogram2dcontour\",\"colorbar\":{\"outlinewidth\":0,\"ticks\":\"\"},\"colorscale\":[[0.0,\"#0d0887\"],[0.1111111111111111,\"#46039f\"],[0.2222222222222222,\"#7201a8\"],[0.3333333333333333,\"#9c179e\"],[0.4444444444444444,\"#bd3786\"],[0.5555555555555556,\"#d8576b\"],[0.6666666666666666,\"#ed7953\"],[0.7777777777777778,\"#fb9f3a\"],[0.8888888888888888,\"#fdca26\"],[1.0,\"#f0f921\"]]}],\"choropleth\":[{\"type\":\"choropleth\",\"colorbar\":{\"outlinewidth\":0,\"ticks\":\"\"}}],\"histogram2d\":[{\"type\":\"histogram2d\",\"colorbar\":{\"outlinewidth\":0,\"ticks\":\"\"},\"colorscale\":[[0.0,\"#0d0887\"],[0.1111111111111111,\"#46039f\"],[0.2222222222222222,\"#7201a8\"],[0.3333333333333333,\"#9c179e\"],[0.4444444444444444,\"#bd3786\"],[0.5555555555555556,\"#d8576b\"],[0.6666666666666666,\"#ed7953\"],[0.7777777777777778,\"#fb9f3a\"],[0.8888888888888888,\"#fdca26\"],[1.0,\"#f0f921\"]]}],\"heatmap\":[{\"type\":\"heatmap\",\"colorbar\":{\"outlinewidth\":0,\"ticks\":\"\"},\"colorscale\":[[0.0,\"#0d0887\"],[0.1111111111111111,\"#46039f\"],[0.2222222222222222,\"#7201a8\"],[0.3333333333333333,\"#9c179e\"],[0.4444444444444444,\"#bd3786\"],[0.5555555555555556,\"#d8576b\"],[0.6666666666666666,\"#ed7953\"],[0.7777777777777778,\"#fb9f3a\"],[0.8888888888888888,\"#fdca26\"],[1.0,\"#f0f921\"]]}],\"heatmapgl\":[{\"type\":\"heatmapgl\",\"colorbar\":{\"outlinewidth\":0,\"ticks\":\"\"},\"colorscale\":[[0.0,\"#0d0887\"],[0.1111111111111111,\"#46039f\"],[0.2222222222222222,\"#7201a8\"],[0.3333333333333333,\"#9c179e\"],[0.4444444444444444,\"#bd3786\"],[0.5555555555555556,\"#d8576b\"],[0.6666666666666666,\"#ed7953\"],[0.7777777777777778,\"#fb9f3a\"],[0.8888888888888888,\"#fdca26\"],[1.0,\"#f0f921\"]]}],\"contourcarpet\":[{\"type\":\"contourcarpet\",\"colorbar\":{\"outlinewidth\":0,\"ticks\":\"\"}}],\"contour\":[{\"type\":\"contour\",\"colorbar\":{\"outlinewidth\":0,\"ticks\":\"\"},\"colorscale\":[[0.0,\"#0d0887\"],[0.1111111111111111,\"#46039f\"],[0.2222222222222222,\"#7201a8\"],[0.3333333333333333,\"#9c179e\"],[0.4444444444444444,\"#bd3786\"],[0.5555555555555556,\"#d8576b\"],[0.6666666666666666,\"#ed7953\"],[0.7777777777777778,\"#fb9f3a\"],[0.8888888888888888,\"#fdca26\"],[1.0,\"#f0f921\"]]}],\"surface\":[{\"type\":\"surface\",\"colorbar\":{\"outlinewidth\":0,\"ticks\":\"\"},\"colorscale\":[[0.0,\"#0d0887\"],[0.1111111111111111,\"#46039f\"],[0.2222222222222222,\"#7201a8\"],[0.3333333333333333,\"#9c179e\"],[0.4444444444444444,\"#bd3786\"],[0.5555555555555556,\"#d8576b\"],[0.6666666666666666,\"#ed7953\"],[0.7777777777777778,\"#fb9f3a\"],[0.8888888888888888,\"#fdca26\"],[1.0,\"#f0f921\"]]}],\"mesh3d\":[{\"type\":\"mesh3d\",\"colorbar\":{\"outlinewidth\":0,\"ticks\":\"\"}}],\"scatter\":[{\"fillpattern\":{\"fillmode\":\"overlay\",\"size\":10,\"solidity\":0.2},\"type\":\"scatter\"}],\"parcoords\":[{\"type\":\"parcoords\",\"line\":{\"colorbar\":{\"outlinewidth\":0,\"ticks\":\"\"}}}],\"scatterpolargl\":[{\"type\":\"scatterpolargl\",\"marker\":{\"colorbar\":{\"outlinewidth\":0,\"ticks\":\"\"}}}],\"bar\":[{\"error_x\":{\"color\":\"#2a3f5f\"},\"error_y\":{\"color\":\"#2a3f5f\"},\"marker\":{\"line\":{\"color\":\"#E5ECF6\",\"width\":0.5},\"pattern\":{\"fillmode\":\"overlay\",\"size\":10,\"solidity\":0.2}},\"type\":\"bar\"}],\"scattergeo\":[{\"type\":\"scattergeo\",\"marker\":{\"colorbar\":{\"outlinewidth\":0,\"ticks\":\"\"}}}],\"scatterpolar\":[{\"type\":\"scatterpolar\",\"marker\":{\"colorbar\":{\"outlinewidth\":0,\"ticks\":\"\"}}}],\"histogram\":[{\"marker\":{\"pattern\":{\"fillmode\":\"overlay\",\"size\":10,\"solidity\":0.2}},\"type\":\"histogram\"}],\"scattergl\":[{\"type\":\"scattergl\",\"marker\":{\"colorbar\":{\"outlinewidth\":0,\"ticks\":\"\"}}}],\"scatter3d\":[{\"type\":\"scatter3d\",\"line\":{\"colorbar\":{\"outlinewidth\":0,\"ticks\":\"\"}},\"marker\":{\"colorbar\":{\"outlinewidth\":0,\"ticks\":\"\"}}}],\"scattermapbox\":[{\"type\":\"scattermapbox\",\"marker\":{\"colorbar\":{\"outlinewidth\":0,\"ticks\":\"\"}}}],\"scatterternary\":[{\"type\":\"scatterternary\",\"marker\":{\"colorbar\":{\"outlinewidth\":0,\"ticks\":\"\"}}}],\"scattercarpet\":[{\"type\":\"scattercarpet\",\"marker\":{\"colorbar\":{\"outlinewidth\":0,\"ticks\":\"\"}}}],\"carpet\":[{\"aaxis\":{\"endlinecolor\":\"#2a3f5f\",\"gridcolor\":\"white\",\"linecolor\":\"white\",\"minorgridcolor\":\"white\",\"startlinecolor\":\"#2a3f5f\"},\"baxis\":{\"endlinecolor\":\"#2a3f5f\",\"gridcolor\":\"white\",\"linecolor\":\"white\",\"minorgridcolor\":\"white\",\"startlinecolor\":\"#2a3f5f\"},\"type\":\"carpet\"}],\"table\":[{\"cells\":{\"fill\":{\"color\":\"#EBF0F8\"},\"line\":{\"color\":\"white\"}},\"header\":{\"fill\":{\"color\":\"#C8D4E3\"},\"line\":{\"color\":\"white\"}},\"type\":\"table\"}],\"barpolar\":[{\"marker\":{\"line\":{\"color\":\"#E5ECF6\",\"width\":0.5},\"pattern\":{\"fillmode\":\"overlay\",\"size\":10,\"solidity\":0.2}},\"type\":\"barpolar\"}],\"pie\":[{\"automargin\":true,\"type\":\"pie\"}]},\"layout\":{\"autotypenumbers\":\"strict\",\"colorway\":[\"#636efa\",\"#EF553B\",\"#00cc96\",\"#ab63fa\",\"#FFA15A\",\"#19d3f3\",\"#FF6692\",\"#B6E880\",\"#FF97FF\",\"#FECB52\"],\"font\":{\"color\":\"#2a3f5f\"},\"hovermode\":\"closest\",\"hoverlabel\":{\"align\":\"left\"},\"paper_bgcolor\":\"white\",\"plot_bgcolor\":\"#E5ECF6\",\"polar\":{\"bgcolor\":\"#E5ECF6\",\"angularaxis\":{\"gridcolor\":\"white\",\"linecolor\":\"white\",\"ticks\":\"\"},\"radialaxis\":{\"gridcolor\":\"white\",\"linecolor\":\"white\",\"ticks\":\"\"}},\"ternary\":{\"bgcolor\":\"#E5ECF6\",\"aaxis\":{\"gridcolor\":\"white\",\"linecolor\":\"white\",\"ticks\":\"\"},\"baxis\":{\"gridcolor\":\"white\",\"linecolor\":\"white\",\"ticks\":\"\"},\"caxis\":{\"gridcolor\":\"white\",\"linecolor\":\"white\",\"ticks\":\"\"}},\"coloraxis\":{\"colorbar\":{\"outlinewidth\":0,\"ticks\":\"\"}},\"colorscale\":{\"sequential\":[[0.0,\"#0d0887\"],[0.1111111111111111,\"#46039f\"],[0.2222222222222222,\"#7201a8\"],[0.3333333333333333,\"#9c179e\"],[0.4444444444444444,\"#bd3786\"],[0.5555555555555556,\"#d8576b\"],[0.6666666666666666,\"#ed7953\"],[0.7777777777777778,\"#fb9f3a\"],[0.8888888888888888,\"#fdca26\"],[1.0,\"#f0f921\"]],\"sequentialminus\":[[0.0,\"#0d0887\"],[0.1111111111111111,\"#46039f\"],[0.2222222222222222,\"#7201a8\"],[0.3333333333333333,\"#9c179e\"],[0.4444444444444444,\"#bd3786\"],[0.5555555555555556,\"#d8576b\"],[0.6666666666666666,\"#ed7953\"],[0.7777777777777778,\"#fb9f3a\"],[0.8888888888888888,\"#fdca26\"],[1.0,\"#f0f921\"]],\"diverging\":[[0,\"#8e0152\"],[0.1,\"#c51b7d\"],[0.2,\"#de77ae\"],[0.3,\"#f1b6da\"],[0.4,\"#fde0ef\"],[0.5,\"#f7f7f7\"],[0.6,\"#e6f5d0\"],[0.7,\"#b8e186\"],[0.8,\"#7fbc41\"],[0.9,\"#4d9221\"],[1,\"#276419\"]]},\"xaxis\":{\"gridcolor\":\"white\",\"linecolor\":\"white\",\"ticks\":\"\",\"title\":{\"standoff\":15},\"zerolinecolor\":\"white\",\"automargin\":true,\"zerolinewidth\":2},\"yaxis\":{\"gridcolor\":\"white\",\"linecolor\":\"white\",\"ticks\":\"\",\"title\":{\"standoff\":15},\"zerolinecolor\":\"white\",\"automargin\":true,\"zerolinewidth\":2},\"scene\":{\"xaxis\":{\"backgroundcolor\":\"#E5ECF6\",\"gridcolor\":\"white\",\"linecolor\":\"white\",\"showbackground\":true,\"ticks\":\"\",\"zerolinecolor\":\"white\",\"gridwidth\":2},\"yaxis\":{\"backgroundcolor\":\"#E5ECF6\",\"gridcolor\":\"white\",\"linecolor\":\"white\",\"showbackground\":true,\"ticks\":\"\",\"zerolinecolor\":\"white\",\"gridwidth\":2},\"zaxis\":{\"backgroundcolor\":\"#E5ECF6\",\"gridcolor\":\"white\",\"linecolor\":\"white\",\"showbackground\":true,\"ticks\":\"\",\"zerolinecolor\":\"white\",\"gridwidth\":2}},\"shapedefaults\":{\"line\":{\"color\":\"#2a3f5f\"}},\"annotationdefaults\":{\"arrowcolor\":\"#2a3f5f\",\"arrowhead\":0,\"arrowwidth\":1},\"geo\":{\"bgcolor\":\"white\",\"landcolor\":\"#E5ECF6\",\"subunitcolor\":\"white\",\"showland\":true,\"showlakes\":true,\"lakecolor\":\"white\"},\"title\":{\"x\":0.05},\"mapbox\":{\"style\":\"light\"}}},\"legend\":{\"tracegroupgap\":0},\"title\":{\"text\":\"18-OCT-2021 TO 24-OCT-2021 Major Crime Indicators\"}},                        {\"responsive\": true}                    ).then(function(){\n",
       "                            \n",
       "var gd = document.getElementById('d66db3c7-f6c5-4931-ab98-19a3f2efb606');\n",
       "var x = new MutationObserver(function (mutations, observer) {{\n",
       "        var display = window.getComputedStyle(gd).display;\n",
       "        if (!display || display === 'none') {{\n",
       "            console.log([gd, 'removed!']);\n",
       "            Plotly.purge(gd);\n",
       "            observer.disconnect();\n",
       "        }}\n",
       "}});\n",
       "\n",
       "// Listen for the removal of the full notebook cells\n",
       "var notebookContainer = gd.closest('#notebook-container');\n",
       "if (notebookContainer) {{\n",
       "    x.observe(notebookContainer, {childList: true});\n",
       "}}\n",
       "\n",
       "// Listen for the clearing of the current output cell\n",
       "var outputEl = gd.closest('.output');\n",
       "if (outputEl) {{\n",
       "    x.observe(outputEl, {childList: true});\n",
       "}}\n",
       "\n",
       "                        })                };                });            </script>        </div>"
      ]
     },
     "metadata": {},
     "output_type": "display_data"
    }
   ],
   "source": [
    "piechart2 = px.pie(\n",
    "    df14, values = 'MCI Count',\n",
    "    names = 'MCI',\n",
    "    title = '18-OCT-2021 TO 24-OCT-2021 Major Crime Indicators'\n",
    ")\n",
    "\n",
    "piechart2.show()"
   ]
  },
  {
   "cell_type": "markdown",
   "id": "4109713f",
   "metadata": {},
   "source": [
    "# Save the visuals to the local machine"
   ]
  },
  {
   "cell_type": "code",
   "execution_count": 72,
   "id": "b4aacbfc",
   "metadata": {},
   "outputs": [],
   "source": [
    "barchart1.write_html(r\"C:\\Users\\16476\\Desktop\\AgincourtNorth.html\")\n",
    "barchart2.write_html(r\"C:\\Users\\16476\\Desktop\\ASMW.html\")\n",
    "barchart3.write_html(r\"C:\\Users\\16476\\Desktop\\LAmoreaux.html\")\n",
    "barchart4.write_html(r\"C:\\Users\\16476\\Desktop\\Malvern.html\")\n",
    "barchart5.write_html(r\"C:\\Users\\16476\\Desktop\\Milliken.html\")\n",
    "barchart6.write_html(r\"C:\\Users\\16476\\Desktop\\NSA.html\")\n",
    "barchart7.write_html(r\"C:\\Users\\16476\\Desktop\\Rouge.html\")\n",
    "barchart8.write_html(r\"C:\\Users\\16476\\Desktop\\Steeles.html\")\n",
    "barchart9.write_html(r\"C:\\Users\\16476\\Desktop\\TamOS.html\")\n",
    "scatterchart1.write_html(r\"C:\\Users\\16476\\Desktop\\ScatW1.html\")\n",
    "scatterchart2.write_html(r\"C:\\Users\\16476\\Desktop\\ScatW2.html\")\n",
    "piechart1.write_html(r\"C:\\Users\\16476\\Desktop\\PieW1.html\")\n",
    "piechart2.write_html(r\"C:\\Users\\16476\\Desktop\\PieW2.html\")"
   ]
  },
  {
   "cell_type": "markdown",
   "id": "79b13d04",
   "metadata": {},
   "source": [
    "# Add the visuals to the map plotting with specified coordinates for which the visuals are associated with"
   ]
  },
  {
   "cell_type": "code",
   "execution_count": 74,
   "id": "e53e7a0d",
   "metadata": {},
   "outputs": [],
   "source": [
    "html_AgincourtNorth=\"\"\"\n",
    "     <iframe src=\\\"./AgincourtNorth.html\"\\\" width=\"1450\" height=\"750\" frameborder=\"0\">\n",
    "    \"\"\"\n",
    "marker = folium.Marker(\n",
    "    location = [43.80411504789512, -79.26371533243339],\n",
    "    icon = folium.Icon(color = \"black\", icon = \"cloud\"),\n",
    "    tooltip = \"Agincourt North MCI Count\",\n",
    "    popup = folium.Popup(folium.Html(html_AgincourtNorth, script = True)),\n",
    ").add_to(mapa)"
   ]
  },
  {
   "cell_type": "code",
   "execution_count": 75,
   "id": "77c25b9b",
   "metadata": {},
   "outputs": [],
   "source": [
    "html_ASMW=\"\"\"\n",
    "     <iframe src=\\\"./ASMW.html\"\\\" width=\"1450\" height=\"750\" frameborder=\"0\">\n",
    "    \"\"\"\n",
    "marker = folium.Marker(\n",
    "    location = [43.78380193666915, -79.26676116025985],\n",
    "    icon = folium.Icon(color = \"black\", icon = \"cloud\"),\n",
    "    tooltip = \"Agincourt South-Malvern West MCI Count\",\n",
    "    popup = folium.Popup(folium.Html(html_ASMW, script = True)),\n",
    ").add_to(mapa)"
   ]
  },
  {
   "cell_type": "code",
   "execution_count": 76,
   "id": "93a2f054",
   "metadata": {},
   "outputs": [],
   "source": [
    "html_LAmoreaux=\"\"\"\n",
    "     <iframe src=\\\"./LAmoreaux.html\"\\\" width=\"1450\" height=\"750\" frameborder=\"0\">\n",
    "    \"\"\"\n",
    "marker = folium.Marker(\n",
    "    location = [43.79650624432601, -79.31598754361777],\n",
    "    icon = folium.Icon(color = \"black\", icon = \"cloud\"),\n",
    "    tooltip = \"LAmoreaux MCI Count\",\n",
    "    popup = folium.Popup(folium.Html(html_LAmoreaux, script = True)),\n",
    ").add_to(mapa)"
   ]
  },
  {
   "cell_type": "code",
   "execution_count": 77,
   "id": "cd3c7492",
   "metadata": {},
   "outputs": [],
   "source": [
    "html_Malvern=\"\"\"\n",
    "     <iframe src=\\\"./Malvern.html\"\\\" width=\"1450\" height=\"750\" frameborder=\"0\">\n",
    "    \"\"\"\n",
    "marker = folium.Marker(\n",
    "    location = [43.809240431674496, -79.22130026945231],\n",
    "    icon = folium.Icon(color = \"black\", icon = \"cloud\"),\n",
    "    tooltip = \"Malvern MCI Count\",\n",
    "    popup = folium.Popup(folium.Html(html_Malvern, script = True)),\n",
    ").add_to(mapa)"
   ]
  },
  {
   "cell_type": "code",
   "execution_count": 78,
   "id": "dfb46550",
   "metadata": {},
   "outputs": [],
   "source": [
    "html_Milliken=\"\"\"\n",
    "     <iframe src=\\\"./Milliken.html\"\\\" width=\"1450\" height=\"750\" frameborder=\"0\">\n",
    "    \"\"\"\n",
    "marker = folium.Marker(\n",
    "    location = [43.82731658384058, -79.2651162338124],\n",
    "    icon = folium.Icon(color = \"black\", icon = \"cloud\"),\n",
    "    tooltip = \"Milliken MCI Count\",\n",
    "    popup = folium.Popup(folium.Html(html_Milliken, script = True)),\n",
    ").add_to(mapa)"
   ]
  },
  {
   "cell_type": "code",
   "execution_count": 79,
   "id": "548013ca",
   "metadata": {},
   "outputs": [],
   "source": [
    "html_NSA=\"\"\"\n",
    "     <iframe src=\\\"./NSA.html\"\\\" width=\"1450\" height=\"750\" frameborder=\"0\">\n",
    "    \"\"\"\n",
    "marker = folium.Marker(\n",
    "    location = [43.77626772009122, -79.22217278645743],\n",
    "    icon = folium.Icon(color = \"black\", icon = \"cloud\"),\n",
    "    tooltip = \"NSA MCI Count\",\n",
    "    popup = folium.Popup(folium.Html(html_NSA, script = True)),\n",
    ").add_to(mapa)"
   ]
  },
  {
   "cell_type": "code",
   "execution_count": 80,
   "id": "dc465b7a",
   "metadata": {},
   "outputs": [],
   "source": [
    "html_Rouge=\"\"\"\n",
    "     <iframe src=\\\"./Rouge.html\"\\\" width=\"1450\" height=\"750\" frameborder=\"0\">\n",
    "    \"\"\"\n",
    "marker = folium.Marker(\n",
    "    location = [43.80489499025297, -79.1659057178211],\n",
    "    icon = folium.Icon(color = \"black\", icon = \"cloud\"),\n",
    "    tooltip = \"Rouge MCI Count\",\n",
    "    popup = folium.Popup(folium.Html(html_Rouge, script = True)),\n",
    ").add_to(mapa)"
   ]
  },
  {
   "cell_type": "code",
   "execution_count": 81,
   "id": "13609a49",
   "metadata": {},
   "outputs": [],
   "source": [
    "html_Steeles=\"\"\"\n",
    "     <iframe src=\\\"./Steeles.html\"\\\" width=\"1450\" height=\"750\" frameborder=\"0\">\n",
    "    \"\"\"\n",
    "marker = folium.Marker(\n",
    "    location = [43.81207912112939, -79.32477003295682],\n",
    "    icon = folium.Icon(color = \"black\", icon = \"cloud\"),\n",
    "    tooltip = \"Steeles MCI Count\",\n",
    "    popup = folium.Popup(folium.Html(html_Steeles, script = True)),\n",
    ").add_to(mapa)"
   ]
  },
  {
   "cell_type": "code",
   "execution_count": 82,
   "id": "e4b19a18",
   "metadata": {},
   "outputs": [],
   "source": [
    "html_TamOShanterSullivan=\"\"\"\n",
    "     <iframe src=\\\"./TamOS.html\"\\\" width=\"1450\" height=\"750\" frameborder=\"0\">\n",
    "    \"\"\"\n",
    "marker = folium.Marker(\n",
    "    location = [43.78097639862107, -79.29755025405375],\n",
    "    icon = folium.Icon(color = \"black\", icon = \"cloud\"),\n",
    "    tooltip = \"Tam OShanter-Sullivan MCI Count\",\n",
    "    popup = folium.Popup(folium.Html(html_TamOShanterSullivan, script = True)),\n",
    ").add_to(mapa)"
   ]
  },
  {
   "cell_type": "code",
   "execution_count": 83,
   "id": "c88e73f4",
   "metadata": {},
   "outputs": [],
   "source": [
    "html_ScatterChartW1=\"\"\"\n",
    "     <iframe src=\\\"./ScatW1.html\"\\\" width=\"1450\" height=\"750\" frameborder=\"0\">\n",
    "    \"\"\"\n",
    "marker = folium.Marker(\n",
    "    location = [43.775504395943145, -79.26755707323719],\n",
    "    icon = folium.Icon(color = \"black\", icon = \"cloud\"),\n",
    "    tooltip = \"Division 42 Neighbourhoods' MCI Count Week 1\",\n",
    "    popup = folium.Popup(folium.Html(html_ScatterChartW1, script = True)),\n",
    ").add_to(mapa)"
   ]
  },
  {
   "cell_type": "code",
   "execution_count": 84,
   "id": "7d5545ef",
   "metadata": {},
   "outputs": [],
   "source": [
    "html_ScatterChartW2=\"\"\"\n",
    "     <iframe src=\\\"./ScatW2.html\"\\\" width=\"1450\" height=\"750\" frameborder=\"0\">\n",
    "    \"\"\"\n",
    "marker = folium.Marker(\n",
    "    location = [43.796750374310214, -79.37928020015691],\n",
    "    icon = folium.Icon(color = \"black\", icon = \"cloud\"),\n",
    "    tooltip = \"Division 42 Neighbourhoods' MCI Count Week 2\",\n",
    "    popup = folium.Popup(folium.Html(html_ScatterChartW2, script = True)),\n",
    ").add_to(mapa)"
   ]
  },
  {
   "cell_type": "code",
   "execution_count": 85,
   "id": "94475c7c",
   "metadata": {},
   "outputs": [],
   "source": [
    "html_PieCharttW1=\"\"\"\n",
    "     <iframe src=\\\"./PieW1.html\"\\\" width=\"1450\" height=\"750\" frameborder=\"0\">\n",
    "    \"\"\"\n",
    "marker = folium.Marker(\n",
    "    location = [43.76499599408392, -79.38039971929724],\n",
    "    icon = folium.Icon(color = \"black\", icon = \"cloud\"),\n",
    "    tooltip = \"Division 42 MCI Count Week 1\",\n",
    "    popup = folium.Popup(folium.Html(html_PieCharttW1, script = True)),\n",
    ").add_to(mapa)"
   ]
  },
  {
   "cell_type": "code",
   "execution_count": 86,
   "id": "0f43a098",
   "metadata": {},
   "outputs": [],
   "source": [
    "html_PieCharttW2=\"\"\"\n",
    "     <iframe src=\\\"./PieW2.html\"\\\" width=\"1450\" height=\"750\" frameborder=\"0\">\n",
    "    \"\"\"\n",
    "marker = folium.Marker(\n",
    "    location = [43.75663535005627, -79.40444238227293],\n",
    "    icon = folium.Icon(color = \"black\", icon = \"cloud\"),\n",
    "    tooltip = \"Division 42 MCI Count Week 2\",\n",
    "    popup = folium.Popup(folium.Html(html_PieCharttW2, script = True)),\n",
    ").add_to(mapa)"
   ]
  },
  {
   "cell_type": "markdown",
   "id": "61c1d847",
   "metadata": {},
   "source": [
    "# Save the map to the local machine"
   ]
  },
  {
   "cell_type": "code",
   "execution_count": 94,
   "id": "58894b30",
   "metadata": {},
   "outputs": [],
   "source": [
    "mapa.save(\".\\CrimeAnalysisWeeklyReport.html\")"
   ]
  }
 ],
 "metadata": {
  "kernelspec": {
   "display_name": "Python 3 (ipykernel)",
   "language": "python",
   "name": "python3"
  },
  "language_info": {
   "codemirror_mode": {
    "name": "ipython",
    "version": 3
   },
   "file_extension": ".py",
   "mimetype": "text/x-python",
   "name": "python",
   "nbconvert_exporter": "python",
   "pygments_lexer": "ipython3",
   "version": "3.9.7"
  }
 },
 "nbformat": 4,
 "nbformat_minor": 5
}
